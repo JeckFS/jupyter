{
 "cells": [
  {
   "cell_type": "markdown",
   "metadata": {},
   "source": [
    ">* 进程不一定是Tcl进程，也可以是shell，或者其他进程。\n",
    "* 进程间通过文件I/O命令通信。"
   ]
  },
  {
   "cell_type": "markdown",
   "metadata": {},
   "source": [
    "# exec调用子进程"
   ]
  },
  {
   "cell_type": "markdown",
   "metadata": {},
   "source": [
    "模式：`exec 程序名 程序所需的参数`<br>\n",
    "按照这种方式，他可以执行shell程序。<br>\n",
    "如exec rm main.o<br>\n",
    "***\n",
    "若exec最后一个参数是‘&’，相应的子进程会在后台运行。exec会立即返回，而不等待子进程完成。它返回管线中所有进程的进程号的列表。<br>\n",
    "对于命令`exec rm *.o`是不正确的，它会把*.o作为一个参数原封不动的传给rm，而rm找不到文件‘*.o’所以会报错。正确的做法是`exec rm {*}[glob *.o]`<br>\n",
    "**{*}列表名**的作用是将列表的元素分别作为独立的变量。\n",
    "***\n",
    "exec首先查找名称为第一个参数的可执行文件。如果该名称包含‘/’或者以‘-’开头exec查找由该名称指定的单独文件。其他情况下，exec在环境变量PATH提供的所有目录中查找指定的可执行文件。exec使用它找到的第一个可执行文件。"
   ]
  },
  {
   "cell_type": "markdown",
   "metadata": {},
   "source": [
    "## exec返回值"
   ]
  },
  {
   "cell_type": "markdown",
   "metadata": {},
   "source": [
    "所有子进程的标准输出信息都是exec的返回值。若最后一个是换行符，则exec会丢弃它。`-keepnewline`作为第一个参数给exec，可以保留这个换行符。"
   ]
  },
  {
   "cell_type": "markdown",
   "metadata": {},
   "source": [
    "## exec重定向"
   ]
  },
  {
   "cell_type": "markdown",
   "metadata": {},
   "source": [
    "<img src='images/1.png'>"
   ]
  },
  {
   "cell_type": "markdown",
   "metadata": {},
   "source": [
    "例子：<br>\n",
    "`exec cat << \"test data!\" > foo`：\"test data!\"一方面输出到文件foo中，另一方面作为cat的参数，执行cat程序。<br>\n",
    "`exec ls << pwd > foo`：同理，只是把\"test data!\"换成了命令pwd，它会把当前目录的所有文件列出，然后存入foo文件。<br>"
   ]
  },
  {
   "cell_type": "markdown",
   "metadata": {},
   "source": [
    "## exec调用进程管线"
   ]
  },
  {
   "cell_type": "markdown",
   "metadata": {},
   "source": [
    "例子：<br>\n",
    "`exec grep ^puts shell_prog/10.sh | wc`：筛选出shell_prog/10.sh中开头时puts的行，然后通过管线计算输出的大小等相关信息。"
   ]
  }
 ],
 "metadata": {
  "kernelspec": {
   "display_name": "Python 3",
   "language": "python",
   "name": "python3"
  },
  "language_info": {
   "codemirror_mode": {
    "name": "ipython",
    "version": 3
   },
   "file_extension": ".py",
   "mimetype": "text/x-python",
   "name": "python",
   "nbconvert_exporter": "python",
   "pygments_lexer": "ipython3",
   "version": "3.6.8"
  },
  "toc": {
   "base_numbering": 1,
   "nav_menu": {},
   "number_sections": true,
   "sideBar": true,
   "skip_h1_title": false,
   "title_cell": "Table of Contents",
   "title_sidebar": "Contents",
   "toc_cell": false,
   "toc_position": {},
   "toc_section_display": true,
   "toc_window_display": false
  }
 },
 "nbformat": 4,
 "nbformat_minor": 2
}
