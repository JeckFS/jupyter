{
 "cells": [
  {
   "cell_type": "markdown",
   "metadata": {},
   "source": [
    "# 字典"
   ]
  },
  {
   "cell_type": "markdown",
   "metadata": {},
   "source": [
    "## 字典结构与dict get命令"
   ]
  },
  {
   "cell_type": "markdown",
   "metadata": {},
   "source": [
    "字典是类似有偶数个元素的列表，其中奇数位置的元素作为key(互不相同)，其后的偶数位置元素作为value。"
   ]
  },
  {
   "cell_type": "code",
   "execution_count": 1,
   "metadata": {
    "ExecuteTime": {
     "end_time": "2019-08-14T04:16:42.628079Z",
     "start_time": "2019-08-14T04:16:42.626217Z"
    }
   },
   "outputs": [
    {
     "name": "stdout",
     "output_type": "stream",
     "text": [
      "Joe\n"
     ]
    }
   ],
   "source": [
    "set example {firstname Joe surname Schmoe title Mr}\n",
    "puts [dict get $example firstname]"
   ]
  },
  {
   "cell_type": "code",
   "execution_count": 2,
   "metadata": {
    "ExecuteTime": {
     "end_time": "2019-08-14T04:17:04.906932Z",
     "start_time": "2019-08-14T04:17:04.905253Z"
    }
   },
   "outputs": [
    {
     "name": "stdout",
     "output_type": "stream",
     "text": [
      "the easy life\n",
      "motherhood and apple pie\n"
     ]
    }
   ],
   "source": [
    "set prefers {\n",
    "    Joe {the easy life}\n",
    "    Jeremy {fast cars}\n",
    "    {Uncle Sam} {motherhood and apple pie}\n",
    "}\n",
    "puts [dict get $prefers Joe]\n",
    "puts [dict get $prefers {Uncle Sam}]"
   ]
  },
  {
   "cell_type": "code",
   "execution_count": 3,
   "metadata": {
    "ExecuteTime": {
     "end_time": "2019-08-14T04:17:22.256655Z",
     "start_time": "2019-08-14T04:17:22.254817Z"
    }
   },
   "outputs": [
    {
     "name": "stdout",
     "output_type": "stream",
     "text": [
      "Ann\n"
     ]
    }
   ],
   "source": [
    "set employees {\n",
    "    0001 {\n",
    "        firstname Joe\n",
    "        surname Schmoe\n",
    "        title Mr\n",
    "    }\n",
    "    1234 {\n",
    "        firstname Ann\n",
    "        initial E\n",
    "        surname Huan\n",
    "        title Miss\n",
    "    }\n",
    "}\n",
    "puts [dict get $employees 1234 firstname]"
   ]
  },
  {
   "cell_type": "markdown",
   "metadata": {},
   "source": [
    "**小结**：`dict get 字典变量 key1 key2 ...`，按照嵌套的层级结构取出key对应的value"
   ]
  },
  {
   "cell_type": "markdown",
   "metadata": {},
   "source": [
    "## 创建和更新字典"
   ]
  },
  {
   "cell_type": "markdown",
   "metadata": {},
   "source": [
    ">字典中的key的顺序是固定的。\n",
    "\n",
    "\n",
    "字典创建：`dict create`"
   ]
  },
  {
   "cell_type": "markdown",
   "metadata": {},
   "source": [
    "字典更新：`dict set; dict replace`<br>\n",
    "`set example [dict create firstname Ann initial E surname Huan]`<br>\n",
    "* `dict replace $example initial Y`：更新已存在key的value。`$example`的值并没有改变，要想改变的话需要使用set命令重新为example赋值，即`set example [dict replace $example initial Y]`<br>\n",
    "* `dict replace $example title Mrs surname Boddie`：添加一个键值对。添加的项数必须是偶数，组成键值对的形式。<br>\n",
    "* `dict remove $example initial`：删除关键字initial，关键字可以不存在，也可以是多个。<br>"
   ]
  },
  {
   "cell_type": "code",
   "execution_count": 4,
   "metadata": {
    "ExecuteTime": {
     "end_time": "2019-08-14T04:17:54.423781Z",
     "start_time": "2019-08-14T04:17:54.421984Z"
    }
   },
   "outputs": [
    {
     "name": "stdout",
     "output_type": "stream",
     "text": [
      "firstname Ann initial E surname Huan\n",
      "firstname Ann initial Y surname Huan\n",
      "firstname Ann initial E surname Boddie title Mrs\n",
      "surname Huan\n"
     ]
    }
   ],
   "source": [
    "set example [dict create firstname Ann initial E surname Huan]\n",
    "puts $example\n",
    "puts [dict replace $example initial Y]\n",
    "puts [dict replace $example title Mrs surname Boddie]\n",
    "puts [dict remove $example initial firstname key]"
   ]
  },
  {
   "cell_type": "markdown",
   "metadata": {},
   "source": [
    "合并字典：`dict merge`\n",
    ">参数是两个或多个字典变量。若几个字典变量存在相同的key，合并后的字典中该key对应的value是按照参数顺序最后一个字典变量出现的value。"
   ]
  },
  {
   "cell_type": "code",
   "execution_count": 5,
   "metadata": {
    "ExecuteTime": {
     "end_time": "2019-08-14T04:18:17.909462Z",
     "start_time": "2019-08-14T04:18:17.907651Z"
    }
   },
   "outputs": [
    {
     "name": "stdout",
     "output_type": "stream",
     "text": [
      "foreground blue background black highlight red underline True\n"
     ]
    }
   ],
   "source": [
    "set color1 {foreground white background black}\n",
    "set color2 {highlight red foreground green}\n",
    "set color3 {foreground blue underline True}\n",
    "puts [dict merge $color1 $color2 $color3]"
   ]
  },
  {
   "cell_type": "markdown",
   "metadata": {},
   "source": [
    "`dict set`：添加关键字，改变关键字的映射。**它与dict replace的区别是，它会写回原来的变量，而dict replace需要重新赋值。**<br>\n",
    "`dict unset`：删除关键字。"
   ]
  },
  {
   "cell_type": "code",
   "execution_count": 6,
   "metadata": {
    "ExecuteTime": {
     "end_time": "2019-08-14T04:18:35.707442Z",
     "start_time": "2019-08-14T04:18:35.705683Z"
    }
   },
   "outputs": [
    {
     "name": "stdout",
     "output_type": "stream",
     "text": [
      "firstname Ann initial E surname Huan title Miss\n",
      "firstname Ann initial E surname Huan title Mrs\n",
      "firstname Ann initial E surname Boddie title Mrs\n",
      "firstname Ann surname Boddie title Mrs\n"
     ]
    }
   ],
   "source": [
    "set example [dict create firstname Ann initial E surname Huan title Miss]\n",
    "puts $example\n",
    "dict set example title Mrs\n",
    "puts $example\n",
    "dict set example surname Boddie\n",
    "puts $example \n",
    "dict unset example initial\n",
    "puts $example"
   ]
  },
  {
   "cell_type": "markdown",
   "metadata": {},
   "source": [
    "## 检测字典"
   ]
  },
  {
   "cell_type": "markdown",
   "metadata": {},
   "source": [
    "`dict size`：返回字典的key-value的个数<br>\n",
    "`dict exists`：检测是否存在某个key<br>\n",
    "`dict keys`：以列表的形式返回所有的key<br>\n",
    "`dict values`：以列表的形式返回所有的value<br>\n",
    "`dict for`：遍历字典。<br>"
   ]
  },
  {
   "cell_type": "code",
   "execution_count": 7,
   "metadata": {
    "ExecuteTime": {
     "end_time": "2019-08-14T04:18:52.986944Z",
     "start_time": "2019-08-14T04:18:52.985303Z"
    }
   },
   "outputs": [
    {
     "name": "stdout",
     "output_type": "stream",
     "text": [
      "3\n",
      "1,0\n",
      "firstname surname title\n",
      "Ann Huan Miss\n",
      "firstname: Ann\n",
      "surname: Huan\n",
      "title: Miss\n"
     ]
    }
   ],
   "source": [
    "set example [dict create firstname Ann surname Huan title Miss]\n",
    "puts [dict size $example]\n",
    "puts [dict exists $example firstname],[dict exists $example sex]\n",
    "puts [dict keys $example]\n",
    "puts [dict values $example]\n",
    "dict for {key value} $example {\n",
    "    puts [format \"%s: %s\" $key $value]\n",
    "}"
   ]
  },
  {
   "cell_type": "markdown",
   "metadata": {},
   "source": [
    "## 更新字典中的value值"
   ]
  },
  {
   "cell_type": "markdown",
   "metadata": {},
   "source": [
    "`dict append`：在原来的值后面添加一个或多个字符串<br>\n",
    "`dict lappend`：以元素的形式添加"
   ]
  },
  {
   "cell_type": "code",
   "execution_count": 8,
   "metadata": {
    "ExecuteTime": {
     "end_time": "2019-08-14T04:19:09.288357Z",
     "start_time": "2019-08-14T04:19:09.286323Z"
    }
   },
   "outputs": [
    {
     "name": "stdout",
     "output_type": "stream",
     "text": [
      "firstname Annie surname Huan title Miss\n",
      "firstname AnnieJoeJohn surname Huan title Miss\n"
     ]
    }
   ],
   "source": [
    "set example {firstname Ann surname Huan title Miss}\n",
    "dict append example firstname ie\n",
    "puts $example\n",
    "dict append example firstname Joe John\n",
    "puts $example"
   ]
  },
  {
   "cell_type": "code",
   "execution_count": 9,
   "metadata": {
    "ExecuteTime": {
     "end_time": "2019-08-14T04:19:18.392045Z",
     "start_time": "2019-08-14T04:19:18.390262Z"
    }
   },
   "outputs": [
    {
     "name": "stdout",
     "output_type": "stream",
     "text": [
      "fruit apple veg carrot\n",
      "fruit {apple orange} veg carrot\n",
      "fruit {apple orange} veg {carrot cabbage beans}\n"
     ]
    }
   ],
   "source": [
    "set shopping {fruit apple veg carrot}\n",
    "puts $shopping\n",
    "dict lappend shopping fruit orange\n",
    "puts $shopping\n",
    "dict lappend shopping veg cabbage beans\n",
    "puts $shopping"
   ]
  },
  {
   "cell_type": "markdown",
   "metadata": {},
   "source": [
    "****"
   ]
  },
  {
   "cell_type": "markdown",
   "metadata": {},
   "source": [
    "`dict incr`：它会为每个key生成一个整数的value，incr一下value就+1。主要用于统计文本中单词的个数。"
   ]
  },
  {
   "cell_type": "code",
   "execution_count": 10,
   "metadata": {
    "ExecuteTime": {
     "end_time": "2019-08-14T04:19:38.049946Z",
     "start_time": "2019-08-14T04:19:38.048021Z"
    }
   },
   "outputs": [
    {
     "name": "stdout",
     "output_type": "stream",
     "text": []
    },
    {
     "name": "stderr",
     "output_type": "stream",
     "text": [
      "expected integer but got \"Ann\""
     ]
    }
   ],
   "source": [
    "set example {firstname Ann surname Huan}\n",
    "dict for {key value} $example {\n",
    "    dict incr example $key\n",
    "}\n",
    "puts $examplee"
   ]
  },
  {
   "cell_type": "code",
   "execution_count": 11,
   "metadata": {
    "ExecuteTime": {
     "end_time": "2019-08-14T04:20:11.523300Z",
     "start_time": "2019-08-14T04:20:11.521136Z"
    }
   },
   "outputs": [
    {
     "name": "stdout",
     "output_type": "stream",
     "text": [
      "this 1 day 2 is 1 a 1 happy 2\n"
     ]
    }
   ],
   "source": [
    "proc count {text} {\n",
    "    set frequencies {}\n",
    "    foreach word [split $text] {\n",
    "        if {$word eq \" \"} continue\n",
    "        dict incr frequencies [string tolower $word]\n",
    "    }\n",
    "    return $frequencies\n",
    "}\n",
    "puts [count \"this day is a happy happy day\"]"
   ]
  },
  {
   "cell_type": "code",
   "execution_count": 12,
   "metadata": {
    "ExecuteTime": {
     "end_time": "2019-08-14T04:20:23.346375Z",
     "start_time": "2019-08-14T04:20:23.344139Z"
    }
   },
   "outputs": [
    {
     "name": "stdout",
     "output_type": "stream",
     "text": [
      "this\n",
      "day\n",
      "is\n",
      "a\n",
      "\n",
      "happy\n",
      "happy\n",
      "day\n"
     ]
    }
   ],
   "source": [
    "set s \"this day is a  happy happy day\"\n",
    "foreach v [split $s] {\n",
    "    puts $v\n",
    "}"
   ]
  },
  {
   "cell_type": "markdown",
   "metadata": {},
   "source": [
    "****"
   ]
  },
  {
   "cell_type": "markdown",
   "metadata": {},
   "source": [
    "`dict update`：字典更新集大成者。它可以索引出一个或多个key-value值，通过这个key-value进而达到对字典的修改。另外，更新只发生在dict update命令块结束的时候。"
   ]
  },
  {
   "cell_type": "code",
   "execution_count": 13,
   "metadata": {
    "ExecuteTime": {
     "end_time": "2019-08-14T04:20:41.582500Z",
     "start_time": "2019-08-14T04:20:41.580725Z"
    }
   },
   "outputs": [
    {
     "name": "stdout",
     "output_type": "stream",
     "text": [
      "Ann, Huan\n"
     ]
    }
   ],
   "source": [
    "set example {firstname Ann surname Huan}\n",
    "dict update example firstname v1 surname v2 {\n",
    "    puts \"$v1, $v2\"\n",
    "}"
   ]
  },
  {
   "cell_type": "code",
   "execution_count": 14,
   "metadata": {
    "ExecuteTime": {
     "end_time": "2019-08-14T04:20:53.045397Z",
     "start_time": "2019-08-14T04:20:53.043499Z"
    }
   },
   "outputs": [
    {
     "name": "stdout",
     "output_type": "stream",
     "text": [
      "firstname Ann surname Huan initial E\n",
      "firstname Ann surname Huan\n"
     ]
    }
   ],
   "source": [
    "set example {firstname Ann surname Huan initial E}\n",
    "dict update example firstname v1 surname v2 initial v3 {\n",
    "    # 删除关键字initial\n",
    "    unset v3\n",
    "    puts $example\n",
    "}\n",
    "puts $example"
   ]
  },
  {
   "cell_type": "markdown",
   "metadata": {},
   "source": [
    "## 使用嵌套字典"
   ]
  },
  {
   "cell_type": "markdown",
   "metadata": {},
   "source": [
    "支持嵌套字典的命令：`dict get, dict exists, dict set, dict unset, dict with`"
   ]
  },
  {
   "cell_type": "markdown",
   "metadata": {},
   "source": [
    "`dict get $字典变量 key1 key2 ...`<br>\n",
    "`dict exists $字典变量 key1 key2 ...`: 检查key1,key2...是否存在，路径中的各级关键字都应当是字典，否则报错。<br>\n",
    "`dict set`：沿着必要的路径创建字典<br>\n",
    "`dict unset`：删除路径中最里层的关键字。<br>"
   ]
  },
  {
   "cell_type": "code",
   "execution_count": 15,
   "metadata": {
    "ExecuteTime": {
     "end_time": "2019-08-14T04:21:27.948001Z",
     "start_time": "2019-08-14T04:21:27.946004Z"
    }
   },
   "outputs": [
    {
     "name": "stdout",
     "output_type": "stream",
     "text": [
      "firstname Ann surname Huan\n",
      "firstname Ann surname Huan address {street {Ordinary Way}}\n",
      "firstname Ann surname Huan address {}\n",
      "firstname Ann surname Huan address {home {school {stinghua {class No1}}}}\n"
     ]
    }
   ],
   "source": [
    "set example {firstname Ann surname Huan}\n",
    "puts $example \n",
    "dict set example address street {Ordinary Way}\n",
    "puts $example\n",
    "dict unset example address street\n",
    "puts $example\n",
    "\n",
    "set example {firstname Ann surname Huan}\n",
    "dict set example address home school stinghua class No1\n",
    "puts $example"
   ]
  },
  {
   "cell_type": "markdown",
   "metadata": {},
   "source": [
    "****"
   ]
  },
  {
   "cell_type": "markdown",
   "metadata": {},
   "source": [
    "`dict with`：允许把字典“打开”到变量。"
   ]
  },
  {
   "cell_type": "code",
   "execution_count": 16,
   "metadata": {
    "ExecuteTime": {
     "end_time": "2019-08-14T04:21:56.624738Z",
     "start_time": "2019-08-14T04:21:56.623182Z"
    }
   },
   "outputs": [
    {
     "name": "stdout",
     "output_type": "stream",
     "text": [
      "comedians: laurel&hardy morecambe&wise\n",
      "laurel&hardy morecambe&wise {steven martin}\n",
      "alpha, bravo, charlie\n",
      "cow has baby calf\n",
      "sheep has baby lamb\n",
      "pig has baby piglet\n",
      "goose has baby gosling\n"
     ]
    }
   ],
   "source": [
    "set example {\n",
    "    A {\n",
    "        alphabet {a alpha b bravo c charlie}\n",
    "        animals {cow calf sheep lamb pig ? goose ?}\n",
    "    }\n",
    "    C {\n",
    "        comedians {laurel&hardy morecambe&wise}\n",
    "    }\n",
    "}\n",
    "dict with example C {\n",
    "    puts \"comedians: $comedians\"\n",
    "    lappend comedians \"steven martin\"\n",
    "}\n",
    "puts [dict get $example C comedians]\n",
    "dict with example A alphabet {\n",
    "    puts \"$a, $b, $c\"\n",
    "}\n",
    "dict with example A animals {\n",
    "    set pig piglet\n",
    "    set goose gosling\n",
    "}\n",
    "dict with example A {\n",
    "    dict for {key value} $animals {\n",
    "        puts \"$key has baby $value\"\n",
    "    }\n",
    "}"
   ]
  }
 ],
 "metadata": {
  "kernelspec": {
   "display_name": "Tcl",
   "language": "Tcl",
   "name": "tcl"
  },
  "language_info": {
   "codemirror_mode": {
    "name": "text/x-tcl",
    "version": 2
   },
   "file_extension": ".tcl",
   "mimetype": "text/x-tcl",
   "name": "Tcl"
  },
  "toc": {
   "base_numbering": 1,
   "nav_menu": {},
   "number_sections": true,
   "sideBar": true,
   "skip_h1_title": false,
   "title_cell": "Table of Contents",
   "title_sidebar": "Contents",
   "toc_cell": false,
   "toc_position": {},
   "toc_section_display": true,
   "toc_window_display": false
  }
 },
 "nbformat": 4,
 "nbformat_minor": 2
}
