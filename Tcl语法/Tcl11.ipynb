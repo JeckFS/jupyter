{
 "cells": [
  {
   "cell_type": "markdown",
   "metadata": {},
   "source": [
    "> [参考教程](https://www.yiibai.com/tcl/tcl_arrays.html#article-start)"
   ]
  },
  {
   "cell_type": "markdown",
   "metadata": {},
   "source": [
    "# 基本语法"
   ]
  },
  {
   "cell_type": "markdown",
   "metadata": {},
   "source": [
    "## 多行注释"
   ]
  },
  {
   "cell_type": "code",
   "execution_count": 1,
   "metadata": {
    "ExecuteTime": {
     "end_time": "2019-08-14T04:24:27.889661Z",
     "start_time": "2019-08-14T04:24:27.885037Z"
    }
   },
   "outputs": [
    {
     "name": "stdout",
     "output_type": "stream",
     "text": [
      "Hello world\n",
      "if 1\n",
      "if 2\n",
      "if -1\n"
     ]
    }
   ],
   "source": [
    "if 0 {\n",
    "    my first program in Tcl program\n",
    "    Its very simple\n",
    "}\n",
    "puts \"Hello world\"\n",
    "\n",
    "if 1 {\n",
    "    puts \"if 1\"\n",
    "}\n",
    "if 2 {\n",
    "    puts \"if 2\"\n",
    "}\n",
    "if -1 {\n",
    "    puts \"if -1\"\n",
    "}"
   ]
  },
  {
   "cell_type": "markdown",
   "metadata": {},
   "source": [
    "## Tcl命令"
   ]
  },
  {
   "cell_type": "markdown",
   "metadata": {},
   "source": [
    "* 为了使含有空格的字符串组合成一个单一参数，应使用“”，或{}\n",
    "* 命令的语法<br>\n",
    "`command_name arg1 arg2\n",
    "如 puts \"hello world\"\n",
    "含有两个参数puts stdout \"hello world\"：stdout使程序在标准输出设备中打印`"
   ]
  },
  {
   "cell_type": "markdown",
   "metadata": {},
   "source": [
    "### 命令替代：[]"
   ]
  },
  {
   "cell_type": "markdown",
   "metadata": {},
   "source": [
    "`puts [expr 1 + 6 + 9]`\n",
    "结果为 16"
   ]
  },
  {
   "cell_type": "markdown",
   "metadata": {},
   "source": [
    "### 变量替代"
   ]
  },
  {
   "cell_type": "markdown",
   "metadata": {},
   "source": [
    "`set a 3\n",
    "puts $a`"
   ]
  },
  {
   "cell_type": "markdown",
   "metadata": {},
   "source": [
    "### 反斜杠替代（转义）"
   ]
  },
  {
   "cell_type": "markdown",
   "metadata": {},
   "source": [
    "`puts \"hello\\nworld\"`"
   ]
  },
  {
   "cell_type": "markdown",
   "metadata": {},
   "source": [
    "# Tcl数据类型"
   ]
  },
  {
   "cell_type": "markdown",
   "metadata": {},
   "source": [
    "## 列表"
   ]
  },
  {
   "cell_type": "code",
   "execution_count": 2,
   "metadata": {
    "ExecuteTime": {
     "end_time": "2019-08-14T04:25:48.843941Z",
     "start_time": "2019-08-14T04:25:48.842275Z"
    }
   },
   "outputs": [
    {
     "name": "stdout",
     "output_type": "stream",
     "text": [
      "blue\n",
      "green\n"
     ]
    }
   ],
   "source": [
    "set var {red green blue}\n",
    "puts [lindex $var 2]\n",
    "set var \"red green blue\"\n",
    "puts [lindex $var 1]"
   ]
  },
  {
   "cell_type": "code",
   "execution_count": 3,
   "metadata": {
    "ExecuteTime": {
     "end_time": "2019-08-14T04:26:03.113306Z",
     "start_time": "2019-08-14T04:26:03.111295Z"
    }
   },
   "outputs": [
    {
     "name": "stdout",
     "output_type": "stream",
     "text": [
      "追加列表内容：\n",
      "列表长度：2\n",
      "列表长度：4\n",
      "列表索引：orange\n",
      "列表索引：red\n",
      "列表插入：orange red black white green blue\n",
      "列表元素更换：orange grey yellow\n",
      "更换具体元素：123 blue black white yellow\n",
      "取出第2个元素：blue\n",
      "列表元素排序：black blue orange white yellow\n"
     ]
    }
   ],
   "source": [
    "puts \"追加列表内容：\"\n",
    "set list \"orange red\"\n",
    "puts 列表长度：[llength $list]\n",
    "lappend list \"green\"\n",
    "lappend list \"blue\"\n",
    "puts 列表长度：[llength $list]\n",
    "puts 列表索引：[lindex $list 0]\n",
    "puts 列表索引：[lindex $list 1]\n",
    "puts 列表插入：[linsert $list 2 black white]\n",
    "\n",
    "set li {orange blue black white yellow}\n",
    "puts 列表元素更换：[lreplace $li 1 3 grey]\n",
    "puts 更换具体元素：[lset li 0 123]\n",
    "\n",
    "set ll {orange blue black white yellow}\n",
    "lassign $li 2 elem\n",
    "puts 取出第2个元素：$elem\n",
    "\n",
    "puts 列表元素排序：[lsort $ll]"
   ]
  },
  {
   "cell_type": "markdown",
   "metadata": {},
   "source": [
    "<font color='#0000df' size=5>只有通过{}建立的列表，linsert才会正常工作</font>"
   ]
  },
  {
   "cell_type": "markdown",
   "metadata": {},
   "source": [
    "## 关联数组"
   ]
  },
  {
   "cell_type": "markdown",
   "metadata": {},
   "source": [
    ">通常是键值对"
   ]
  },
  {
   "cell_type": "code",
   "execution_count": 4,
   "metadata": {
    "ExecuteTime": {
     "end_time": "2019-08-14T04:26:22.898860Z",
     "start_time": "2019-08-14T04:26:22.896577Z"
    }
   },
   "outputs": [
    {
     "name": "stdout",
     "output_type": "stream",
     "text": [
      "80, 100\n"
     ]
    }
   ],
   "source": [
    "set var1(english) 80\n",
    "set var1(math) 100\n",
    "puts \"$var1(english), $var1(math)\""
   ]
  },
  {
   "cell_type": "markdown",
   "metadata": {},
   "source": [
    "## 句柄"
   ]
  },
  {
   "cell_type": "markdown",
   "metadata": {},
   "source": [
    ">用于表示文件，网络请求的处理，串行端口通信，套接字或I / O设备等其他通道"
   ]
  },
  {
   "cell_type": "markdown",
   "metadata": {},
   "source": [
    "## 字典"
   ]
  },
  {
   "cell_type": "markdown",
   "metadata": {},
   "source": [
    "### 字典的创建"
   ]
  },
  {
   "cell_type": "code",
   "execution_count": 5,
   "metadata": {
    "ExecuteTime": {
     "end_time": "2019-08-14T04:26:45.529242Z",
     "start_time": "2019-08-14T04:26:45.527180Z"
    }
   },
   "outputs": [
    {
     "name": "stdout",
     "output_type": "stream",
     "text": [
      "小明 男\n",
      "张三 男 小花 女\n"
     ]
    }
   ],
   "source": [
    "dict set dictname1 小明 男\n",
    "puts $dictname1\n",
    "\n",
    "set dictname2 [dict create 张三 男 小花 女]\n",
    "puts $dictname2"
   ]
  },
  {
   "cell_type": "markdown",
   "metadata": {},
   "source": [
    "### 字典的大小"
   ]
  },
  {
   "cell_type": "code",
   "execution_count": 6,
   "metadata": {
    "ExecuteTime": {
     "end_time": "2019-08-14T04:26:58.537897Z",
     "start_time": "2019-08-14T04:26:58.535765Z"
    }
   },
   "outputs": [
    {
     "name": "stdout",
     "output_type": "stream",
     "text": [
      "2\n"
     ]
    }
   ],
   "source": [
    "set dictname [dict create 张三 男 小花 女]\n",
    "puts [dict size $dictname]"
   ]
  },
  {
   "cell_type": "markdown",
   "metadata": {},
   "source": [
    "### 字典的迭代"
   ]
  },
  {
   "cell_type": "code",
   "execution_count": 7,
   "metadata": {
    "ExecuteTime": {
     "end_time": "2019-08-14T04:27:13.011783Z",
     "start_time": "2019-08-14T04:27:13.010070Z"
    }
   },
   "outputs": [
    {
     "name": "stdout",
     "output_type": "stream",
     "text": [
      "男\n",
      "女\n"
     ]
    }
   ],
   "source": [
    "set dictname [dict create 张三 男 小花 女]\n",
    "foreach key [dict keys $dictname] {\n",
    "    set value [dict get $dictname $key]\n",
    "    puts $value\n",
    "}"
   ]
  },
  {
   "cell_type": "markdown",
   "metadata": {},
   "source": [
    "### 根据key获取value"
   ]
  },
  {
   "cell_type": "code",
   "execution_count": 8,
   "metadata": {
    "ExecuteTime": {
     "end_time": "2019-08-14T04:27:27.145159Z",
     "start_time": "2019-08-14T04:27:27.143604Z"
    }
   },
   "outputs": [
    {
     "name": "stdout",
     "output_type": "stream",
     "text": [
      "男\n"
     ]
    }
   ],
   "source": [
    "set dictname [dict create 小明 男 小花 女]\n",
    "puts [dict get $dictname 小明]"
   ]
  },
  {
   "cell_type": "markdown",
   "metadata": {},
   "source": [
    "### 获取字典中的所有key"
   ]
  },
  {
   "cell_type": "code",
   "execution_count": 9,
   "metadata": {
    "ExecuteTime": {
     "end_time": "2019-08-14T04:27:40.890050Z",
     "start_time": "2019-08-14T04:27:40.888379Z"
    }
   },
   "outputs": [
    {
     "name": "stdout",
     "output_type": "stream",
     "text": [
      "小明 小花\n"
     ]
    }
   ],
   "source": [
    "set dictname [dict create 小明 男 小花 女]\n",
    "set keys [dict keys $dictname]\n",
    "puts $keys"
   ]
  },
  {
   "cell_type": "markdown",
   "metadata": {},
   "source": [
    "### 获取字典中的所有value"
   ]
  },
  {
   "cell_type": "code",
   "execution_count": 10,
   "metadata": {
    "ExecuteTime": {
     "end_time": "2019-08-14T04:27:55.607970Z",
     "start_time": "2019-08-14T04:27:55.605438Z"
    }
   },
   "outputs": [
    {
     "name": "stdout",
     "output_type": "stream",
     "text": [
      "男 女\n"
     ]
    }
   ],
   "source": [
    "set dictname [dict create 小明 男 小花 女]\n",
    "set values [dict values $dictname]\n",
    "puts $values"
   ]
  },
  {
   "cell_type": "markdown",
   "metadata": {},
   "source": [
    "### 判断字典中是否存在某个key"
   ]
  },
  {
   "cell_type": "code",
   "execution_count": 11,
   "metadata": {
    "ExecuteTime": {
     "end_time": "2019-08-14T04:28:10.128722Z",
     "start_time": "2019-08-14T04:28:10.126932Z"
    }
   },
   "outputs": [
    {
     "name": "stdout",
     "output_type": "stream",
     "text": [
      "1\n",
      "0\n"
     ]
    }
   ],
   "source": [
    "set dictname [dict create 小明 男 小花 女]\n",
    "puts [dict exists $dictname 小明]\n",
    "puts [dict exists $dictname 小华]"
   ]
  },
  {
   "cell_type": "markdown",
   "metadata": {},
   "source": [
    "# Tcl变量"
   ]
  },
  {
   "cell_type": "markdown",
   "metadata": {},
   "source": [
    "### 变量命名"
   ]
  },
  {
   "cell_type": "code",
   "execution_count": 14,
   "metadata": {
    "ExecuteTime": {
     "end_time": "2019-08-14T04:28:58.016898Z",
     "start_time": "2019-08-14T04:28:58.014947Z"
    }
   },
   "outputs": [
    {
     "name": "stdout",
     "output_type": "stream",
     "text": [
      "10, test\n"
     ]
    }
   ],
   "source": [
    "unset var1\n",
    "set var1 10\n",
    "set {var 2} test\n",
    "puts \"$var1, ${var 2}\""
   ]
  },
  {
   "cell_type": "markdown",
   "metadata": {},
   "source": [
    "### 数据类型动态转换"
   ]
  },
  {
   "cell_type": "code",
   "execution_count": 15,
   "metadata": {
    "ExecuteTime": {
     "end_time": "2019-08-14T04:29:15.193940Z",
     "start_time": "2019-08-14T04:29:15.189173Z"
    }
   },
   "outputs": [
    {
     "name": "stdout",
     "output_type": "stream",
     "text": [
      "10\n",
      "30\n"
     ]
    }
   ],
   "source": [
    "set var1 \"10\"\n",
    "puts $var1\n",
    "set sum [expr $var1 + 20]\n",
    "puts $sum"
   ]
  },
  {
   "cell_type": "markdown",
   "metadata": {},
   "source": [
    "### 数学运算"
   ]
  },
  {
   "cell_type": "code",
   "execution_count": 16,
   "metadata": {
    "ExecuteTime": {
     "end_time": "2019-08-14T04:29:33.127124Z",
     "start_time": "2019-08-14T04:29:33.122345Z"
    }
   },
   "outputs": [
    {
     "name": "stdout",
     "output_type": "stream",
     "text": [
      "0\n",
      "0.5\n",
      "0.5\n"
     ]
    }
   ],
   "source": [
    "set var \"1\"\n",
    "set result [expr $var / 2]\n",
    "puts $result\n",
    "\n",
    "set result [expr $var / 2.0]\n",
    "puts $result\n",
    "\n",
    "set var \"1.0\"\n",
    "set result [expr $var / 2]\n",
    "puts $result"
   ]
  },
  {
   "cell_type": "code",
   "execution_count": 17,
   "metadata": {
    "ExecuteTime": {
     "end_time": "2019-08-14T04:29:47.072529Z",
     "start_time": "2019-08-14T04:29:47.068342Z"
    }
   },
   "outputs": [
    {
     "name": "stdout",
     "output_type": "stream",
     "text": [
      "0.5\n",
      "0.33333\n"
     ]
    }
   ],
   "source": [
    "set var \"1\"\n",
    "#控制精度\n",
    "set tcl_precision 5 \n",
    "set result [expr $var / 2.0]\n",
    "puts $result\n",
    "\n",
    "set result [expr 1 / 3.0]\n",
    "puts $result"
   ]
  },
  {
   "cell_type": "markdown",
   "metadata": {},
   "source": [
    "# Tcl运算符"
   ]
  },
  {
   "cell_type": "markdown",
   "metadata": {},
   "source": [
    "## 逻辑运算符"
   ]
  },
  {
   "cell_type": "markdown",
   "metadata": {},
   "source": [
    ">&&, ||, !"
   ]
  },
  {
   "cell_type": "markdown",
   "metadata": {},
   "source": [
    "## 按位运算符"
   ]
  },
  {
   "cell_type": "markdown",
   "metadata": {},
   "source": [
    ">&, |, ^, <<, >>"
   ]
  },
  {
   "cell_type": "markdown",
   "metadata": {},
   "source": [
    "## 三元运算符"
   ]
  },
  {
   "cell_type": "markdown",
   "metadata": {},
   "source": [
    ">？："
   ]
  },
  {
   "cell_type": "markdown",
   "metadata": {},
   "source": [
    "# 循环"
   ]
  },
  {
   "cell_type": "markdown",
   "metadata": {},
   "source": [
    "> 可以使用break与continue"
   ]
  },
  {
   "cell_type": "markdown",
   "metadata": {},
   "source": [
    "## while"
   ]
  },
  {
   "cell_type": "code",
   "execution_count": 18,
   "metadata": {
    "ExecuteTime": {
     "end_time": "2019-08-14T04:30:18.193105Z",
     "start_time": "2019-08-14T04:30:18.191472Z"
    }
   },
   "outputs": [
    {
     "name": "stdout",
     "output_type": "stream",
     "text": [
      "1\n",
      "2\n",
      "3\n",
      "4\n",
      "5\n",
      "6\n",
      "7\n",
      "8\n",
      "9\n"
     ]
    }
   ],
   "source": [
    "set a 1\n",
    "while { $a < 10 } {\n",
    "    puts $a\n",
    "    # incr表示自增1\n",
    "    incr a\n",
    "}"
   ]
  },
  {
   "cell_type": "markdown",
   "metadata": {},
   "source": [
    "## for"
   ]
  },
  {
   "cell_type": "code",
   "execution_count": 19,
   "metadata": {
    "ExecuteTime": {
     "end_time": "2019-08-14T04:30:31.925965Z",
     "start_time": "2019-08-14T04:30:31.924020Z"
    }
   },
   "outputs": [
    {
     "name": "stdout",
     "output_type": "stream",
     "text": [
      "1\n",
      "3\n",
      "5\n",
      "7\n",
      "9\n"
     ]
    }
   ],
   "source": [
    "for {set a 1} {$a < 10} {incr a 2} {\n",
    "    puts $a\n",
    "}"
   ]
  },
  {
   "cell_type": "markdown",
   "metadata": {},
   "source": [
    "# 数组"
   ]
  },
  {
   "cell_type": "code",
   "execution_count": 20,
   "metadata": {
    "ExecuteTime": {
     "end_time": "2019-08-14T04:30:50.402370Z",
     "start_time": "2019-08-14T04:30:50.397136Z"
    }
   },
   "outputs": [
    {
     "name": "stdout",
     "output_type": "stream",
     "text": [
      "Tcl, C Language\n",
      "数组大小为：2\n",
      "\n",
      "数组迭代:\n",
      "arr1(0) : Tcl\n",
      "arr1(1) : C Language\n",
      "\n",
      "关联数组：\n",
      "Dave, 14\n",
      "\n",
      "数组索引：\n",
      "0 1\n",
      "Age Name\n",
      "\n",
      "关联数组的迭代:\n",
      "arr2(Age): 14\n",
      "arr2(Name): Dave\n"
     ]
    }
   ],
   "source": [
    "set arr1(0) Tcl\n",
    "set arr1(1) \"C Language\"\n",
    "puts \"$arr1(0), $arr1(1)\"\n",
    "puts 数组大小为：[array size arr1]\n",
    "puts \\n数组迭代:\n",
    "for {set index 0} {$index<[array size arr1]} {incr index} {\n",
    "    puts \"arr1($index) : $arr1($index)\"\n",
    "}\n",
    "\n",
    "puts \"\\n关联数组：\"\n",
    "set arr2(Name) \"Dave\"\n",
    "set arr2(Age) 14\n",
    "puts \"$arr2(Name), $arr2(Age)\"\n",
    "\n",
    "puts \"\\n数组索引：\"\n",
    "puts [array names arr1]\n",
    "puts [array names arr2]\n",
    "\n",
    "puts \"\\n关联数组的迭代:\"\n",
    "foreach index [array names arr2] {\n",
    "    puts \"arr2($index): $arr2($index)\"\n",
    "}"
   ]
  },
  {
   "cell_type": "markdown",
   "metadata": {},
   "source": [
    "# 字符串"
   ]
  },
  {
   "cell_type": "markdown",
   "metadata": {},
   "source": [
    "|方法|描述|\n",
    "|:---:|:---|\n",
    "|compare s1 s2|按字典序比较，相等0，s1在s2之前-1，否则1|\n",
    "|first s1 s2|返回s1出现在s2中的位置|\n",
    "|index s1 n|返回字符串s1的n位置字符|\n",
    "|last s1 s2|返回s1在s2出现的最后一次，找不到返回-1|\n",
    "|wordend s1 n|返回s1的长度，n为任意整数|\n",
    "|wordstart s1 n|返回s1最后一个单词的位置，n为任意整数|\n",
    "|length s|返回串s的长度|\n",
    "|||\n",
    "|||\n",
    "|toupper s|将s中所有的字母大写|\n",
    "|tolower s|将s中所有字母小写|\n",
    "|||\n",
    "|||\n",
    "|trimright s1 s2|从s1中删除后缀s2|\n",
    "|trimleft s1 s2|从s1中删除前缀s2|\n",
    "|trim s1 s2|删除s1前缀s2,后缀s2|\n",
    "|||\n",
    "|||\n",
    "|match pattern s|pattern并不是正则表达式，已知的是\\*代替任意多个字符|\n"
   ]
  },
  {
   "cell_type": "code",
   "execution_count": 21,
   "metadata": {
    "ExecuteTime": {
     "end_time": "2019-08-14T04:31:15.520032Z",
     "start_time": "2019-08-14T04:31:15.517982Z"
    }
   },
   "outputs": [
    {
     "name": "stdout",
     "output_type": "stream",
     "text": [
      "compare:1\n",
      "index: \n",
      "last:3\n",
      "wordend: 43\n",
      "wordend: 2\n",
      "wordstart: 41\n",
      "wordstart: 0\n",
      "first: 3\n",
      "length: 43\n",
      "length: 2\n",
      "toupper: W ORABCD I'M A SO12455TU 45 DENT. HEIHEI OR\n",
      "toupper: RA\n",
      "trimright: w orabcd I'm a so12455tu 45 dent.\n",
      "trimleft: rabcd I'm a so12455tu 45 dent. heihei or\n",
      "trimright: ******hello world\n",
      "trimleft : hello world********\n",
      "trim: hello world\n",
      "match: 1\n"
     ]
    }
   ],
   "source": [
    "set s1 \"w orabcd I'm a so12455tu 45 dent. heihei or\"\n",
    "set s2 \"ra\"\n",
    "\n",
    "set result [string compare $s1 $s2]\n",
    "puts \"compare:$result\"\n",
    "\n",
    "set result [string index  $s1 1]\n",
    "puts \"index:$result\"\n",
    "\n",
    "puts \"last:[string last $s2 $s1]\"\n",
    "\n",
    "puts \"wordend: [string wordend $s1 150]\"\n",
    "puts \"wordend: [string wordend $s2 150]\"\n",
    "\n",
    "puts \"wordstart: [string wordstart $s1 100]\"\n",
    "puts \"wordstart: [string wordstart $s2 100]\"\n",
    "\n",
    "puts \"first: [string first $s2 $s1]\"\n",
    "\n",
    "puts \"length: [string length $s1]\"\n",
    "puts \"length: [string length $s2]\"\n",
    "\n",
    "puts \"toupper: [string toupper $s1]\"\n",
    "puts \"toupper: [string toupper $s2]\"\n",
    "\n",
    "set s \"******hello world********\"\n",
    "puts \"trimright: [string trimright $s1 {heihei or}]\"\n",
    "puts \"trimleft: [string trimleft $s1 {w o}]\"\n",
    "puts \"trimright: [string trimright $s *]\"\n",
    "puts \"trimleft : [string trimleft $s *]\"\n",
    "puts \"trim: [string trim $s *]\"\n",
    "\n",
    "puts \"match: [string match {w*} $s1]\""
   ]
  },
  {
   "cell_type": "markdown",
   "metadata": {},
   "source": [
    "* 字符串拼接：<br>\n",
    "append s1 s2，注意s1不能写成变量形式\n",
    "* 格式化输出:<br>\n"
   ]
  },
  {
   "cell_type": "code",
   "execution_count": 22,
   "metadata": {
    "ExecuteTime": {
     "end_time": "2019-08-14T04:31:33.743516Z",
     "start_time": "2019-08-14T04:31:33.741768Z"
    }
   },
   "outputs": [
    {
     "name": "stdout",
     "output_type": "stream",
     "text": [
      "Hello World\n",
      "\n",
      "格式化输出:\n",
      "43.500000\n",
      "4.350000e+01\n",
      "4 tuts\n",
      "Tcl Language\n",
      "28\n"
     ]
    }
   ],
   "source": [
    "set s \"Hello\"\n",
    "append s \" World\"\n",
    "puts $s\n",
    "\n",
    "puts \\n格式化输出:\n",
    "puts [format \"%f\" 43.5]\n",
    "puts [format \"%e\" 43.5]\n",
    "puts [format \"%d %s\" 4 tuts]\n",
    "puts [format \"%s\" \"Tcl Language\"]\n",
    "puts [format \"%x\" 40]"
   ]
  },
  {
   "cell_type": "markdown",
   "metadata": {},
   "source": [
    "# Tcl过程"
   ]
  },
  {
   "cell_type": "markdown",
   "metadata": {},
   "source": [
    "> * 相当与C语言中的函数<br>\n",
    "> * Tcl支持递归"
   ]
  },
  {
   "cell_type": "code",
   "execution_count": 23,
   "metadata": {
    "ExecuteTime": {
     "end_time": "2019-08-14T04:31:49.402954Z",
     "start_time": "2019-08-14T04:31:49.401091Z"
    }
   },
   "outputs": [
    {
     "name": "stdout",
     "output_type": "stream",
     "text": [
      "40\n"
     ]
    }
   ],
   "source": [
    "proc add {a b} {\n",
    "    return [expr $a + $b]\n",
    "}\n",
    "\n",
    "puts [add 10 30]"
   ]
  },
  {
   "cell_type": "code",
   "execution_count": 24,
   "metadata": {
    "ExecuteTime": {
     "end_time": "2019-08-14T04:31:59.037863Z",
     "start_time": "2019-08-14T04:31:59.033395Z"
    }
   },
   "outputs": [
    {
     "name": "stdout",
     "output_type": "stream",
     "text": [
      "20\n"
     ]
    }
   ],
   "source": [
    "proc avg {numbers} {\n",
    "    set sum 0\n",
    "    foreach num $numbers {\n",
    "        set sum [expr $sum + $num]\n",
    "    }\n",
    "    return [expr $sum / [llength $numbers]]\n",
    "}\n",
    "puts [avg {10 20 30}]"
   ]
  },
  {
   "cell_type": "markdown",
   "metadata": {},
   "source": [
    "注意上个程序第7行，使用了两个[]"
   ]
  },
  {
   "cell_type": "code",
   "execution_count": 25,
   "metadata": {
    "ExecuteTime": {
     "end_time": "2019-08-14T04:32:21.583962Z",
     "start_time": "2019-08-14T04:32:21.581939Z"
    }
   },
   "outputs": [
    {
     "name": "stdout",
     "output_type": "stream",
     "text": [
      "30\n",
      "110\n"
     ]
    }
   ],
   "source": [
    "# 使用默认参数\n",
    "proc add {a {b 100}} {\n",
    "    return [expr $a + $b]\n",
    "}\n",
    "\n",
    "puts [add 10 20]\n",
    "puts [add 10]"
   ]
  },
  {
   "cell_type": "markdown",
   "metadata": {},
   "source": [
    "# Tcl 文件I/O"
   ]
  },
  {
   "cell_type": "markdown",
   "metadata": {},
   "source": [
    "|模式|描述|\n",
    "|:---:|:---|\n",
    "|r|读取已存在文件|\n",
    "|w|写入文件，不存在就创建一个然后写入；若存在原来内容将被清空|\n",
    "|a|追加已存在文件|\n",
    "|r+|读取和写入已存在文件|\n",
    "|w+|若文件存在，则文件首先被清空，写入后，可以读取出来；文件不存在会创建文件|\n",
    "|a+|文件指针会在最后，允许读取和写入|"
   ]
  },
  {
   "cell_type": "markdown",
   "metadata": {},
   "source": [
    "## 文件操作"
   ]
  },
  {
   "cell_type": "markdown",
   "metadata": {},
   "source": [
    "* `open fileName accessMode`：打开文件<br>\n",
    "* `close fileName`：关闭文件<br>\n",
    "* `puts $fileName write-content`：写入文件<br>\n",
    "* `set file_data [read $fp]`:读取文件<br>\n",
    "\n",
    "\n",
    "* `set length [file size $fp]`:查询文件长度<br>\n",
    "* `seek $fp 0`:移动文件指针"
   ]
  },
  {
   "cell_type": "markdown",
   "metadata": {},
   "source": [
    "<font color='#ac0000' size=5>更多内容参见[链接](https://www.cnblogs.com/clnchanpin/p/6886038.html)</font>"
   ]
  },
  {
   "cell_type": "code",
   "execution_count": 26,
   "metadata": {
    "ExecuteTime": {
     "end_time": "2019-08-14T04:32:53.283623Z",
     "start_time": "2019-08-14T04:32:53.281741Z"
    }
   },
   "outputs": [
    {
     "name": "stdout",
     "output_type": "stream",
     "text": [
      "28.sh\n",
      "new data\n",
      "new data\n",
      "\n"
     ]
    }
   ],
   "source": [
    "# r模式\n",
    "set fp [open shell_prog/t.txt r]\n",
    "puts [read $fp]\n",
    "close $fp"
   ]
  },
  {
   "cell_type": "code",
   "execution_count": 28,
   "metadata": {
    "ExecuteTime": {
     "end_time": "2019-08-14T04:33:13.680861Z",
     "start_time": "2019-08-14T04:33:13.679040Z"
    }
   },
   "outputs": [
    {
     "name": "stdout",
     "output_type": "stream",
     "text": [
      "this is new data!\n",
      "\n"
     ]
    }
   ],
   "source": [
    "# w模式\n",
    "set fp [open shell_prog/t.txt w]\n",
    "puts $fp \"this is new data!\"\n",
    "close $fp\n",
    "\n",
    "set fp [open shell_prog/t.txt r]\n",
    "puts [read $fp]\n",
    "close $fp"
   ]
  },
  {
   "cell_type": "code",
   "execution_count": 29,
   "metadata": {
    "ExecuteTime": {
     "end_time": "2019-08-14T04:33:27.853382Z",
     "start_time": "2019-08-14T04:33:27.849072Z"
    }
   },
   "outputs": [
    {
     "name": "stdout",
     "output_type": "stream",
     "text": [
      "this is new data!\n",
      "this is a new data line.\n",
      "this is a new data line.\n",
      "\n"
     ]
    }
   ],
   "source": [
    "# a模式\n",
    "set fp [open shell_prog/t.txt a]\n",
    "puts $fp \"this is a new data line.\"\n",
    "close $fp\n",
    "\n",
    "set fp [open shell_prog/t.txt r]\n",
    "puts [read $fp]\n",
    "close $fp"
   ]
  },
  {
   "cell_type": "code",
   "execution_count": 30,
   "metadata": {
    "ExecuteTime": {
     "end_time": "2019-08-14T04:33:47.416611Z",
     "start_time": "2019-08-14T04:33:47.414144Z"
    }
   },
   "outputs": [
    {
     "name": "stdout",
     "output_type": "stream",
     "text": [
      "读取写入后的内容-->is a new data line.\n",
      "this is a new data line.\n",
      "\n"
     ]
    }
   ],
   "source": [
    "# r+模式\n",
    "# 当发生读操作后，其文件指针将会移动到读取位置\n",
    "# 其后续的写入和读取都会从文件指针位置开始\n",
    "set fp [open shell_prog/t.txt r+]\n",
    "#puts 读取-->[read $fp]\n",
    "puts $fp \"this is 27.sh written!\"\n",
    "puts 读取写入后的内容-->[read $fp]\n",
    "close $fp"
   ]
  },
  {
   "cell_type": "code",
   "execution_count": 31,
   "metadata": {
    "ExecuteTime": {
     "end_time": "2019-08-14T04:34:03.179380Z",
     "start_time": "2019-08-14T04:34:03.175453Z"
    }
   },
   "outputs": [
    {
     "name": "stdout",
     "output_type": "stream",
     "text": [
      "文件内容：\n",
      "\n",
      "写入后：\n",
      "28.sh\n",
      "\n"
     ]
    }
   ],
   "source": [
    "# w+模式\n",
    "set fp [open shell_prog/ttt.txt w+]\n",
    "puts 文件内容：\n",
    "seek $fp 0\n",
    "puts [read $fp]\n",
    "\n",
    "puts $fp \"28.sh\"\n",
    "seek $fp 0\n",
    "puts 写入后：\n",
    "puts [read $fp]"
   ]
  },
  {
   "cell_type": "code",
   "execution_count": 32,
   "metadata": {
    "ExecuteTime": {
     "end_time": "2019-08-14T04:34:19.189421Z",
     "start_time": "2019-08-14T04:34:19.184646Z"
    }
   },
   "outputs": [
    {
     "name": "stdout",
     "output_type": "stream",
     "text": [
      "读取：\n",
      "读取:this is 27.sh written!\n",
      "is a new data line.\n",
      "this is a new data line.\n",
      "new data\n",
      "\n",
      "this is 27.sh written!\n",
      "is a new data line.\n",
      "this is a new data line.\n",
      "new data\n",
      "new data\n",
      "\n"
     ]
    }
   ],
   "source": [
    "# a+模式\n",
    "set fp [open shell_prog/t.txt a+]\n",
    "puts 读取：[read $fp]\n",
    "\n",
    "seek $fp 0\n",
    "puts 读取:[read $fp]\n",
    "\n",
    "puts $fp \"new data\"\n",
    "seek $fp 0\n",
    "puts [read $fp]"
   ]
  }
 ],
 "metadata": {
  "kernelspec": {
   "display_name": "Tcl",
   "language": "Tcl",
   "name": "tcl"
  },
  "language_info": {
   "codemirror_mode": {
    "name": "text/x-tcl",
    "version": 2
   },
   "file_extension": ".tcl",
   "mimetype": "text/x-tcl",
   "name": "Tcl"
  },
  "toc": {
   "base_numbering": 1,
   "nav_menu": {},
   "number_sections": true,
   "sideBar": true,
   "skip_h1_title": false,
   "title_cell": "Table of Contents",
   "title_sidebar": "Contents",
   "toc_cell": false,
   "toc_position": {},
   "toc_section_display": true,
   "toc_window_display": false
  }
 },
 "nbformat": 4,
 "nbformat_minor": 2
}
