{
 "cells": [
  {
   "cell_type": "markdown",
   "metadata": {},
   "source": [
    "# 在命名空间中处理Tcl脚本"
   ]
  },
  {
   "cell_type": "markdown",
   "metadata": {
    "ExecuteTime": {
     "end_time": "2019-08-13T12:44:11.015226Z",
     "start_time": "2019-08-13T12:44:11.013203Z"
    }
   },
   "source": [
    "## namespace eval"
   ]
  },
  {
   "cell_type": "markdown",
   "metadata": {},
   "source": [
    "作用：在指定的命名空间中处理Tcl脚本，并返回脚本结果。若指定的命名空间不存在，则创建该命名空间。**注意，若命令在指定的命名空间中找不到，则在全局命名空间中找。**"
   ]
  },
  {
   "cell_type": "code",
   "execution_count": 20,
   "metadata": {
    "ExecuteTime": {
     "end_time": "2019-08-13T12:52:39.447449Z",
     "start_time": "2019-08-13T12:52:39.445689Z"
    }
   },
   "outputs": [
    {
     "name": "stdout",
     "output_type": "stream",
     "text": []
    }
   ],
   "source": [
    "proc whoAmI {} {\n",
    "    return \"global command\"\n",
    "}\n",
    "namespace eval ns {\n",
    "    proc whoAmI {} {\n",
    "        return \"namespace command\"\n",
    "    }\n",
    "}"
   ]
  },
  {
   "cell_type": "code",
   "execution_count": 5,
   "metadata": {
    "ExecuteTime": {
     "end_time": "2019-08-13T12:47:07.191940Z",
     "start_time": "2019-08-13T12:47:07.189966Z"
    }
   },
   "outputs": [
    {
     "name": "stdout",
     "output_type": "stream",
     "text": [
      "global command"
     ]
    }
   ],
   "source": [
    "whoAmI"
   ]
  },
  {
   "cell_type": "code",
   "execution_count": 6,
   "metadata": {
    "ExecuteTime": {
     "end_time": "2019-08-13T12:47:19.939157Z",
     "start_time": "2019-08-13T12:47:19.937164Z"
    }
   },
   "outputs": [
    {
     "name": "stdout",
     "output_type": "stream",
     "text": [
      "namespace command"
     ]
    }
   ],
   "source": [
    "ns::whoAmI"
   ]
  },
  {
   "cell_type": "code",
   "execution_count": 21,
   "metadata": {
    "ExecuteTime": {
     "end_time": "2019-08-13T12:52:43.601379Z",
     "start_time": "2019-08-13T12:52:43.599323Z"
    }
   },
   "outputs": [
    {
     "name": "stdout",
     "output_type": "stream",
     "text": [
      "namespace command"
     ]
    }
   ],
   "source": [
    "namespace eval ns {\n",
    "    whoAmI\n",
    "}"
   ]
  },
  {
   "cell_type": "markdown",
   "metadata": {},
   "source": [
    "## namespace delete"
   ]
  },
  {
   "cell_type": "markdown",
   "metadata": {},
   "source": [
    "作用：删除命名空间。"
   ]
  },
  {
   "cell_type": "code",
   "execution_count": 22,
   "metadata": {
    "ExecuteTime": {
     "end_time": "2019-08-13T12:52:46.098856Z",
     "start_time": "2019-08-13T12:52:46.096397Z"
    }
   },
   "outputs": [
    {
     "name": "stdout",
     "output_type": "stream",
     "text": [
      "namespace command\n"
     ]
    },
    {
     "name": "stderr",
     "output_type": "stream",
     "text": [
      "invalid command name \"ns::whoAmI\""
     ]
    }
   ],
   "source": [
    "# 接上节\n",
    "puts [ns::whoAmI]\n",
    "namespace delete ns\n",
    "puts [ns::whoAmI]"
   ]
  },
  {
   "cell_type": "markdown",
   "metadata": {},
   "source": [
    "## variable"
   ]
  },
  {
   "cell_type": "markdown",
   "metadata": {},
   "source": [
    "作用：设置或访问命名空间中的变量。"
   ]
  },
  {
   "cell_type": "code",
   "execution_count": 25,
   "metadata": {
    "ExecuteTime": {
     "end_time": "2019-08-13T12:57:11.456175Z",
     "start_time": "2019-08-13T12:57:11.454158Z"
    }
   },
   "outputs": [
    {
     "name": "stdout",
     "output_type": "stream",
     "text": []
    }
   ],
   "source": [
    "namespace eval counter {\n",
    "    # 在counter命名空间中定义一个变量\n",
    "    variable num 10\n",
    "    \n",
    "    proc next {} {\n",
    "        # 使得counter命名空间中的num变量在proc过程中可访问\n",
    "        variable num\n",
    "        return [incr num]\n",
    "    }\n",
    "    \n",
    "    proc reset {} {\n",
    "        variable num\n",
    "        set num 0\n",
    "    }\n",
    "}"
   ]
  },
  {
   "cell_type": "code",
   "execution_count": 26,
   "metadata": {
    "ExecuteTime": {
     "end_time": "2019-08-13T12:57:14.972519Z",
     "start_time": "2019-08-13T12:57:14.970774Z"
    }
   },
   "outputs": [
    {
     "name": "stdout",
     "output_type": "stream",
     "text": [
      "11"
     ]
    }
   ],
   "source": [
    "counter::next"
   ]
  },
  {
   "cell_type": "code",
   "execution_count": 27,
   "metadata": {
    "ExecuteTime": {
     "end_time": "2019-08-13T12:57:22.393361Z",
     "start_time": "2019-08-13T12:57:22.391752Z"
    }
   },
   "outputs": [
    {
     "name": "stdout",
     "output_type": "stream",
     "text": [
      "12"
     ]
    }
   ],
   "source": [
    "counter::next"
   ]
  },
  {
   "cell_type": "code",
   "execution_count": 28,
   "metadata": {
    "ExecuteTime": {
     "end_time": "2019-08-13T12:57:42.180300Z",
     "start_time": "2019-08-13T12:57:42.178340Z"
    }
   },
   "outputs": [
    {
     "name": "stdout",
     "output_type": "stream",
     "text": [
      "0"
     ]
    }
   ],
   "source": [
    "counter::reset"
   ]
  },
  {
   "cell_type": "code",
   "execution_count": 30,
   "metadata": {
    "ExecuteTime": {
     "end_time": "2019-08-13T12:57:58.608698Z",
     "start_time": "2019-08-13T12:57:58.606773Z"
    }
   },
   "outputs": [
    {
     "name": "stdout",
     "output_type": "stream",
     "text": [
      "1"
     ]
    }
   ],
   "source": [
    "counter::next"
   ]
  },
  {
   "cell_type": "markdown",
   "metadata": {},
   "source": [
    "**有趣的发现：**\n",
    "命名空间的过程中创建的变量在全命名空间都能访问的到。"
   ]
  },
  {
   "cell_type": "code",
   "execution_count": 1,
   "metadata": {
    "ExecuteTime": {
     "end_time": "2019-08-13T13:11:33.396457Z",
     "start_time": "2019-08-13T13:11:33.394355Z"
    }
   },
   "outputs": [
    {
     "name": "stdout",
     "output_type": "stream",
     "text": []
    }
   ],
   "source": [
    "namespace eval counter {\n",
    "    proc next {} {\n",
    "        variable num\n",
    "        return [incr num]\n",
    "    }\n",
    "    \n",
    "    proc reset {} {\n",
    "        variable num\n",
    "        set num 0\n",
    "    }\n",
    "}"
   ]
  },
  {
   "cell_type": "code",
   "execution_count": 2,
   "metadata": {
    "ExecuteTime": {
     "end_time": "2019-08-13T13:11:36.118937Z",
     "start_time": "2019-08-13T13:11:36.117136Z"
    }
   },
   "outputs": [
    {
     "name": "stdout",
     "output_type": "stream",
     "text": [
      "1\n",
      "2\n",
      "3\n",
      "4\n",
      "0\n",
      "1\n",
      "2\n",
      "3\n",
      "4\n"
     ]
    }
   ],
   "source": [
    "puts [counter::next]\n",
    "puts [counter::next]\n",
    "puts [counter::next]\n",
    "puts [counter::next]\n",
    "\n",
    "puts [counter::reset]\n",
    "\n",
    "puts [counter::next]\n",
    "puts [counter::next]\n",
    "puts [counter::next]\n",
    "puts [counter::next]"
   ]
  },
  {
   "cell_type": "markdown",
   "metadata": {
    "ExecuteTime": {
     "end_time": "2019-08-13T13:11:09.148993Z",
     "start_time": "2019-08-13T13:11:09.147387Z"
    }
   },
   "source": [
    "**variable不能初始化数组的值，但可以使过程访问数组。即过程中通过variable创建的变量具有全局意义。**"
   ]
  },
  {
   "cell_type": "code",
   "execution_count": 1,
   "metadata": {
    "ExecuteTime": {
     "end_time": "2019-08-13T13:22:51.710276Z",
     "start_time": "2019-08-13T13:22:51.703827Z"
    }
   },
   "outputs": [
    {
     "name": "stdout",
     "output_type": "stream",
     "text": [
      "1\n",
      "1\n",
      "2\n",
      "1\n",
      "apple banana orange\n",
      "2\n"
     ]
    }
   ],
   "source": [
    "namespace eval catalog {\n",
    "    variable entries\n",
    "    array set entries {}\n",
    "    \n",
    "    proc add {item} {\n",
    "        variable entries\n",
    "        incr entries($item)\n",
    "    }\n",
    "    \n",
    "    proc getEntries {} {\n",
    "        variable entries\n",
    "        return [lsort [array names entries]]\n",
    "    }\n",
    "    \n",
    "    proc countInstances {item} {\n",
    "        variable entries\n",
    "        return $entries($item)\n",
    "    }\n",
    "}\n",
    "puts [catalog::add apple]\n",
    "puts [catalog::add orange]\n",
    "puts [catalog::add apple]\n",
    "puts [catalog::add banana]\n",
    "puts [catalog::getEntries]\n",
    "puts [catalog::countInstances apple]"
   ]
  },
  {
   "cell_type": "code",
   "execution_count": 1,
   "metadata": {
    "ExecuteTime": {
     "end_time": "2019-08-13T13:21:52.253776Z",
     "start_time": "2019-08-13T13:21:52.250687Z"
    }
   },
   "outputs": [
    {
     "name": "stdout",
     "output_type": "stream",
     "text": [
      "1\n",
      "1\n",
      "2\n",
      "1\n",
      "apple banana orange\n",
      "2\n"
     ]
    }
   ],
   "source": [
    "namespace eval catalog {\n",
    "    #variable entries\n",
    "    array set entries {}\n",
    "    \n",
    "    proc add {item} {\n",
    "        variable entries\n",
    "        incr entries($item)\n",
    "    }\n",
    "    \n",
    "    proc getEntries {} {\n",
    "        variable entries\n",
    "        return [lsort [array names entries]]\n",
    "    }\n",
    "    \n",
    "    proc countInstances {item} {\n",
    "        variable entries\n",
    "        return $entries($item)\n",
    "    }\n",
    "}\n",
    "puts [catalog::add apple]\n",
    "puts [catalog::add orange]\n",
    "puts [catalog::add apple]\n",
    "puts [catalog::add banana]\n",
    "puts [catalog::getEntries]\n",
    "puts [catalog::countInstances apple]"
   ]
  },
  {
   "cell_type": "markdown",
   "metadata": {},
   "source": [
    "## namespace code"
   ]
  },
  {
   "cell_type": "markdown",
   "metadata": {},
   "source": [
    "作用：生成处理回调的脚本。如组件的-command选项，after，trace命令，lsort的-command选项。该命令会把与脚本相关的代码打包在一起，确保它是在当前命名空间中处理的，而不是在它的调用者的命名空间中处理。"
   ]
  },
  {
   "cell_type": "code",
   "execution_count": 3,
   "metadata": {
    "ExecuteTime": {
     "end_time": "2019-08-13T13:41:42.418399Z",
     "start_time": "2019-08-13T13:41:42.408810Z"
    }
   },
   "outputs": [
    {
     "name": "stdout",
     "output_type": "stream",
     "text": []
    },
    {
     "name": "stderr",
     "output_type": "stream",
     "text": [
      "invalid command name \"file58\""
     ]
    }
   ],
   "source": [
    "namespace eval catalog {\n",
    "    proc save {file} {\n",
    "        variable entries\n",
    "        set f [open $file w]\n",
    "        puts $f [list array set ::catalog::entries] [array get entries]\n",
    "        close $f\n",
    "    }\n",
    "    \n",
    "    proc autocommit {interval file} {\n",
    "        after $interval [namespace code [list autocommit $interval $file]]\n",
    "        save $file\n",
    "    }\n",
    "    \n",
    "    # Save to catalogDB.tcl every 10 seconds\n",
    "    autocommit 10000 catalogDB.tcl\n",
    "}"
   ]
  },
  {
   "cell_type": "markdown",
   "metadata": {},
   "source": [
    "# 操作限定名称"
   ]
  },
  {
   "cell_type": "markdown",
   "metadata": {},
   "source": [
    "**限定名称**：绝对限定名称(::alpha::beta::gamma)和相对限定名称(alpha::beta)。\n"
   ]
  },
  {
   "cell_type": "markdown",
   "metadata": {},
   "source": [
    "## namespace qualifiers"
   ]
  },
  {
   "cell_type": "markdown",
   "metadata": {},
   "source": [
    "作用：获取限定名称的路径(头)"
   ]
  },
  {
   "cell_type": "markdown",
   "metadata": {},
   "source": [
    "## namespace tail"
   ]
  },
  {
   "cell_type": "markdown",
   "metadata": {},
   "source": [
    "作用：获取限定名称的尾"
   ]
  },
  {
   "cell_type": "code",
   "execution_count": 7,
   "metadata": {
    "ExecuteTime": {
     "end_time": "2019-08-14T05:20:57.859217Z",
     "start_time": "2019-08-14T05:20:57.857634Z"
    }
   },
   "outputs": [
    {
     "name": "stdout",
     "output_type": "stream",
     "text": [
      "alpha\n",
      "::alpha::beta\n",
      "\n",
      "beta\n",
      "gamma\n",
      "delta\n"
     ]
    }
   ],
   "source": [
    "puts [namespace qualifiers alpha::beta]\n",
    "puts [namespace qualifiers ::alpha::beta::gamma]\n",
    "puts [namespace qualifiers delta]\n",
    "puts [namespace tail alpha::beta]\n",
    "puts [namespace tail ::alpha::beta::gamma]\n",
    "puts [namespace tail delta]"
   ]
  },
  {
   "cell_type": "markdown",
   "metadata": {},
   "source": [
    "***"
   ]
  },
  {
   "cell_type": "markdown",
   "metadata": {},
   "source": [
    "**限定名称中使用变量名替换**："
   ]
  },
  {
   "cell_type": "code",
   "execution_count": 8,
   "metadata": {
    "ExecuteTime": {
     "end_time": "2019-08-14T05:25:19.788138Z",
     "start_time": "2019-08-14T05:25:19.786183Z"
    }
   },
   "outputs": [
    {
     "name": "stdout",
     "output_type": "stream",
     "text": []
    },
    {
     "name": "stderr",
     "output_type": "stream",
     "text": [
      "can't read \"theNS::gamma\": no such variable"
     ]
    }
   ],
   "source": [
    "set theNS ::alpha::beta\n",
    "set theCommand $theNS::gamma"
   ]
  },
  {
   "cell_type": "code",
   "execution_count": 9,
   "metadata": {
    "ExecuteTime": {
     "end_time": "2019-08-14T05:25:45.648728Z",
     "start_time": "2019-08-14T05:25:45.647106Z"
    }
   },
   "outputs": [
    {
     "name": "stdout",
     "output_type": "stream",
     "text": [
      "::alpha::beta::gamma"
     ]
    }
   ],
   "source": [
    "set theCommand ${theNS}::gamma"
   ]
  },
  {
   "cell_type": "markdown",
   "metadata": {},
   "source": [
    "# 在命名空间中导出和导入"
   ]
  },
  {
   "cell_type": "markdown",
   "metadata": {},
   "source": [
    "## namespace export与namespace import"
   ]
  },
  {
   "cell_type": "code",
   "execution_count": 2,
   "metadata": {
    "ExecuteTime": {
     "end_time": "2019-08-14T05:33:36.799182Z",
     "start_time": "2019-08-14T05:33:36.797471Z"
    }
   },
   "outputs": [
    {
     "name": "stdout",
     "output_type": "stream",
     "text": [
      "alpha beta cahrlie"
     ]
    }
   ],
   "source": [
    "namespace eval src {\n",
    "    proc a {} {return \"alpha\"}\n",
    "    proc b {} {return \"beta\"}\n",
    "    proc etc {} {return \"...\"}\n",
    "    namespace export a b\n",
    "}\n",
    "namespace eval dst {\n",
    "    namespace import ::src::*\n",
    "    proc c {} {return \"cahrlie\"}\n",
    "    expr {\"[a] [b] [c]\"}\n",
    "}"
   ]
  },
  {
   "cell_type": "code",
   "execution_count": 3,
   "metadata": {
    "ExecuteTime": {
     "end_time": "2019-08-14T05:33:38.375201Z",
     "start_time": "2019-08-14T05:33:38.373488Z"
    }
   },
   "outputs": [
    {
     "name": "stdout",
     "output_type": "stream",
     "text": [
      "gamma alpha beta"
     ]
    }
   ],
   "source": [
    "namespace eval src {\n",
    "    proc d {} {return \"gamma\"}\n",
    "}\n",
    "expr {\"[src::d] [src::a] [src::b]\"}"
   ]
  },
  {
   "cell_type": "markdown",
   "metadata": {},
   "source": [
    "***"
   ]
  },
  {
   "cell_type": "code",
   "execution_count": 1,
   "metadata": {
    "ExecuteTime": {
     "end_time": "2019-08-14T06:24:37.108117Z",
     "start_time": "2019-08-14T06:24:37.097324Z"
    }
   },
   "outputs": [
    {
     "name": "stdout",
     "output_type": "stream",
     "text": []
    },
    {
     "name": "stderr",
     "output_type": "stream",
     "text": [
      "can't import command \"a\": already exists"
     ]
    }
   ],
   "source": [
    "namespace eval src {\n",
    "    proc a {} {return \"src->a\"}\n",
    "    proc b {} {return \"src->b\"}\n",
    "    namespace export a b\n",
    "}\n",
    "namespace eval dst {\n",
    "    proc a {} {return \"dst->a\"}\n",
    "    namespace import ::src::*\n",
    "    expr {\"[a] [b]\"}\n",
    "}"
   ]
  },
  {
   "cell_type": "code",
   "execution_count": 3,
   "metadata": {
    "ExecuteTime": {
     "end_time": "2019-08-14T05:46:53.834636Z",
     "start_time": "2019-08-14T05:46:53.832617Z"
    }
   },
   "outputs": [
    {
     "name": "stdout",
     "output_type": "stream",
     "text": []
    },
    {
     "name": "stderr",
     "output_type": "stream",
     "text": [
      "can't import command \"a\": already exists"
     ]
    }
   ],
   "source": [
    "namespace eval src1 {\n",
    "    proc a {} {return \"src1->a\"}\n",
    "    proc b {} {return \"src1->b\"}\n",
    "    namespace export a b\n",
    "}\n",
    "namespace eval src2 {\n",
    "    proc a {} {return \"src2->a\"}\n",
    "    proc b {} {return \"src2->b\"}\n",
    "    namespace export a b\n",
    "}\n",
    "namespace eval dst {\n",
    "    namespace import ::src1::*\n",
    "    namespace import ::src2::*\n",
    "    expr {\"[::src1::a]\"}\n",
    "    #expr {\"[a] [b]\"}\n",
    "}"
   ]
  },
  {
   "cell_type": "markdown",
   "metadata": {},
   "source": [
    "<font color='#dd4b2a' size=3>同一个命名空间中不能出现相同名称的变量或命令，即使加上限定也不可以。</font>"
   ]
  },
  {
   "cell_type": "code",
   "execution_count": 1,
   "metadata": {
    "ExecuteTime": {
     "end_time": "2019-08-14T05:53:54.696226Z",
     "start_time": "2019-08-14T05:53:54.692283Z"
    }
   },
   "outputs": [
    {
     "name": "stdout",
     "output_type": "stream",
     "text": [
      "src2->a src2->b"
     ]
    }
   ],
   "source": [
    "namespace eval src1 {\n",
    "    proc a {} {return \"src1->a\"}\n",
    "    proc b {} {return \"src1->b\"}\n",
    "    namespace export a b\n",
    "}\n",
    "namespace eval src2 {\n",
    "    proc a {} {return \"src2->a\"}\n",
    "    proc b {} {return \"src2->b\"}\n",
    "    namespace export a b\n",
    "}\n",
    "namespace eval dst {\n",
    "    namespace import ::src1::*\n",
    "    namespace import -force ::src2::*\n",
    "    expr {\"[a] [b]\"}\n",
    "}"
   ]
  },
  {
   "cell_type": "markdown",
   "metadata": {},
   "source": [
    "<font color='#f40c7a' size=3>namespace import -force强制覆盖先前导入的变量和名称。</font>"
   ]
  },
  {
   "cell_type": "markdown",
   "metadata": {
    "ExecuteTime": {
     "end_time": "2019-08-14T05:58:35.465661Z",
     "start_time": "2019-08-14T05:58:35.461100Z"
    }
   },
   "source": [
    "# 检查命名空间"
   ]
  },
  {
   "cell_type": "markdown",
   "metadata": {},
   "source": [
    "* namespace current：获得当前命令空间的名称\n",
    "* namespace parent：获得当前命名空间的父命名空间的名称\n",
    "* namespace children：获得当前命名空间的子命名空间的名称(可接受通配符模式参数)"
   ]
  },
  {
   "cell_type": "code",
   "execution_count": 2,
   "metadata": {
    "ExecuteTime": {
     "end_time": "2019-08-14T06:10:13.661468Z",
     "start_time": "2019-08-14T06:10:13.656800Z"
    }
   },
   "outputs": [
    {
     "name": "stdout",
     "output_type": "stream",
     "text": [
      "::example"
     ]
    }
   ],
   "source": [
    "namespace eval example {\n",
    "    namespace current\n",
    "}"
   ]
  },
  {
   "cell_type": "code",
   "execution_count": 4,
   "metadata": {
    "ExecuteTime": {
     "end_time": "2019-08-14T06:10:38.461894Z",
     "start_time": "2019-08-14T06:10:38.456789Z"
    }
   },
   "outputs": [
    {
     "name": "stdout",
     "output_type": "stream",
     "text": [
      "::"
     ]
    }
   ],
   "source": [
    "namespace eval example {\n",
    "    namespace parent\n",
    "}"
   ]
  },
  {
   "cell_type": "code",
   "execution_count": 5,
   "metadata": {
    "ExecuteTime": {
     "end_time": "2019-08-14T06:11:52.914673Z",
     "start_time": "2019-08-14T06:11:52.908704Z"
    }
   },
   "outputs": [
    {
     "name": "stdout",
     "output_type": "stream",
     "text": [
      "::example::abc2 ::example::abc3 ::example::abc1"
     ]
    }
   ],
   "source": [
    "namespace eval example {\n",
    "    namespace eval abc1 {}\n",
    "    namespace eval abc2 {}\n",
    "    namespace eval abc3 {}\n",
    "}\n",
    "namespace children example abc*"
   ]
  },
  {
   "cell_type": "markdown",
   "metadata": {},
   "source": [
    "***"
   ]
  },
  {
   "cell_type": "markdown",
   "metadata": {},
   "source": [
    "* info command：查看命名空间中的命令和变量\n",
    "* namespace which：查看一个命令或变量的非限定名称的完全限定名称"
   ]
  },
  {
   "cell_type": "code",
   "execution_count": 14,
   "metadata": {
    "ExecuteTime": {
     "end_time": "2019-08-14T06:18:13.725508Z",
     "start_time": "2019-08-14T06:18:13.723606Z"
    }
   },
   "outputs": [
    {
     "name": "stdout",
     "output_type": "stream",
     "text": [
      "::example::eg ::example::eg1 ::example::env ::example::eg2"
     ]
    }
   ],
   "source": [
    "namespace eval example {\n",
    "    proc eg1 {} {}\n",
    "    proc eg2 {} {}\n",
    "    set var 0\n",
    "    variable var1 0\n",
    "}\n",
    "info command example::*"
   ]
  },
  {
   "cell_type": "code",
   "execution_count": 11,
   "metadata": {
    "ExecuteTime": {
     "end_time": "2019-08-14T06:16:31.043925Z",
     "start_time": "2019-08-14T06:16:31.042394Z"
    }
   },
   "outputs": [
    {
     "name": "stdout",
     "output_type": "stream",
     "text": [
      "\n"
     ]
    }
   ],
   "source": [
    "puts [namespace which eg1]"
   ]
  },
  {
   "cell_type": "code",
   "execution_count": 17,
   "metadata": {
    "ExecuteTime": {
     "end_time": "2019-08-14T06:19:08.385484Z",
     "start_time": "2019-08-14T06:19:08.383702Z"
    }
   },
   "outputs": [
    {
     "name": "stdout",
     "output_type": "stream",
     "text": [
      "::example::eg\n",
      "::set\n",
      "::env\n",
      "::example::env\n"
     ]
    }
   ],
   "source": [
    "namespace eval example {\n",
    "    proc eg {} {}\n",
    "    proc env {} {}\n",
    "    puts [namespace which eg] \n",
    "    puts [namespace which set] \n",
    "    puts [namespace which -variable env]\n",
    "    puts [namespace which env]\n",
    "}"
   ]
  },
  {
   "cell_type": "markdown",
   "metadata": {},
   "source": [
    "****"
   ]
  },
  {
   "cell_type": "markdown",
   "metadata": {},
   "source": [
    "* namespace origin：查看一个可被导入的命令是由哪个命名空间导出的。"
   ]
  },
  {
   "cell_type": "code",
   "execution_count": 18,
   "metadata": {
    "ExecuteTime": {
     "end_time": "2019-08-14T06:22:24.465830Z",
     "start_time": "2019-08-14T06:22:24.463988Z"
    }
   },
   "outputs": [
    {
     "name": "stdout",
     "output_type": "stream",
     "text": [
      "::example::eg1"
     ]
    }
   ],
   "source": [
    "namespace eval example {\n",
    "    proc eg1 {} {}\n",
    "    proc eg2 {} {}\n",
    "    namespace export *\n",
    "}\n",
    "namespace import example::*\n",
    "namespace origin eg1"
   ]
  },
  {
   "cell_type": "code",
   "execution_count": 19,
   "metadata": {
    "ExecuteTime": {
     "end_time": "2019-08-14T06:22:57.024055Z",
     "start_time": "2019-08-14T06:22:57.022186Z"
    }
   },
   "outputs": [
    {
     "name": "stdout",
     "output_type": "stream",
     "text": [
      "::example::eg2"
     ]
    }
   ],
   "source": [
    "rename eg2 example2\n",
    "namespace origin example2"
   ]
  },
  {
   "cell_type": "markdown",
   "metadata": {},
   "source": [
    "namespace origin可查看命令的原始来源，即使它被重命名过。"
   ]
  },
  {
   "cell_type": "markdown",
   "metadata": {},
   "source": [
    "# 有关集合命令"
   ]
  },
  {
   "cell_type": "markdown",
   "metadata": {},
   "source": [
    ">常见的像string，namespace等都是一种集合形式。"
   ]
  },
  {
   "cell_type": "markdown",
   "metadata": {},
   "source": [
    "## 基本的集合命令"
   ]
  },
  {
   "cell_type": "markdown",
   "metadata": {},
   "source": [
    "* namespace ensemble create：创建集合命令(通常与namespace export一起用，将export的部分导出为一个集合命令)\n",
    "* namespace ensemble exists：测试一个命令是否为集合命令"
   ]
  },
  {
   "cell_type": "code",
   "execution_count": 3,
   "metadata": {
    "ExecuteTime": {
     "end_time": "2019-08-14T06:37:40.894987Z",
     "start_time": "2019-08-14T06:37:40.890420Z"
    }
   },
   "outputs": [
    {
     "name": "stdout",
     "output_type": "stream",
     "text": [
      "::example"
     ]
    }
   ],
   "source": [
    "namespace eval example {\n",
    "    proc add {x y} {expr {$x + $y} }\n",
    "    proc multiply {x y} {expr {$x * $y} }\n",
    "    proc  minus {x y} {expr {$x - $y} }\n",
    "    namespace export add multiply minus\n",
    "    namespace ensemble create\n",
    "}"
   ]
  },
  {
   "cell_type": "code",
   "execution_count": 4,
   "metadata": {
    "ExecuteTime": {
     "end_time": "2019-08-14T06:37:46.163746Z",
     "start_time": "2019-08-14T06:37:46.162063Z"
    }
   },
   "outputs": [
    {
     "name": "stdout",
     "output_type": "stream",
     "text": [
      "5"
     ]
    }
   ],
   "source": [
    "example add 2 3"
   ]
  },
  {
   "cell_type": "code",
   "execution_count": 5,
   "metadata": {
    "ExecuteTime": {
     "end_time": "2019-08-14T06:37:59.913181Z",
     "start_time": "2019-08-14T06:37:59.911554Z"
    }
   },
   "outputs": [
    {
     "name": "stdout",
     "output_type": "stream",
     "text": [
      "42.0"
     ]
    }
   ],
   "source": [
    "example multiply 6.0 7"
   ]
  },
  {
   "cell_type": "code",
   "execution_count": 6,
   "metadata": {
    "ExecuteTime": {
     "end_time": "2019-08-14T06:38:15.519972Z",
     "start_time": "2019-08-14T06:38:15.515528Z"
    }
   },
   "outputs": [
    {
     "name": "stdout",
     "output_type": "stream",
     "text": [
      "1"
     ]
    }
   ],
   "source": [
    "namespace ensemble exists example"
   ]
  },
  {
   "cell_type": "code",
   "execution_count": 7,
   "metadata": {
    "ExecuteTime": {
     "end_time": "2019-08-14T06:38:33.326319Z",
     "start_time": "2019-08-14T06:38:33.324741Z"
    }
   },
   "outputs": [
    {
     "name": "stdout",
     "output_type": "stream",
     "text": [
      "0"
     ]
    }
   ],
   "source": [
    "namespace ensemble exists example::add"
   ]
  },
  {
   "cell_type": "markdown",
   "metadata": {},
   "source": [
    "***"
   ]
  },
  {
   "cell_type": "markdown",
   "metadata": {},
   "source": [
    "命名空间中的子命令在应用的时候可以缩写，只要后面是独一无二的。"
   ]
  },
  {
   "cell_type": "code",
   "execution_count": 9,
   "metadata": {
    "ExecuteTime": {
     "end_time": "2019-08-14T06:40:12.648361Z",
     "start_time": "2019-08-14T06:40:12.646598Z"
    }
   },
   "outputs": [
    {
     "name": "stdout",
     "output_type": "stream",
     "text": [
      "4.03"
     ]
    }
   ],
   "source": [
    "example mul 3.1 1.3"
   ]
  },
  {
   "cell_type": "markdown",
   "metadata": {},
   "source": [
    "## 在集合命令中设置集合命令"
   ]
  },
  {
   "cell_type": "markdown",
   "metadata": {},
   "source": [
    "compute命令有两个子命令，分别计算形状的面积和实体体积。对于不同形状和不同实体，这两个子命令又各有其子命令。"
   ]
  },
  {
   "cell_type": "code",
   "execution_count": 18,
   "metadata": {
    "ExecuteTime": {
     "end_time": "2019-08-14T06:49:55.383681Z",
     "start_time": "2019-08-14T06:49:55.381810Z"
    }
   },
   "outputs": [
    {
     "name": "stdout",
     "output_type": "stream",
     "text": []
    }
   ],
   "source": [
    "namespace eval compute {\n",
    "    variable pi 3.1415927\n",
    "    namespace export *\n",
    "    namespace ensemble create\n",
    "    namespace eval area {\n",
    "        namespace export *\n",
    "        namespace ensemble create\n",
    "    }\n",
    "    namespace eval volume {\n",
    "        namespace export *\n",
    "        namespace ensemble create\n",
    "    }\n",
    "}\n",
    "proc compute::area::circle {radius} {\n",
    "    variable ::compute::pi\n",
    "    return [expr {$pi * $radius * 2}]\n",
    "}\n",
    "proc compute::area::square {side} {\n",
    "    return [expr {$side ** 2}]\n",
    "}\n",
    "proc compute::volume::sphere {radius} {\n",
    "    variable ::compute::pi\n",
    "    return [expr {4 * $pi / 3 * $radius ** 3}]\n",
    "}\n",
    "proc compute::volume::cube {edge} {\n",
    "    return [expr {$edge ** 3}]\n",
    "}"
   ]
  },
  {
   "cell_type": "code",
   "execution_count": 12,
   "metadata": {
    "ExecuteTime": {
     "end_time": "2019-08-14T06:48:48.650876Z",
     "start_time": "2019-08-14T06:48:48.639307Z"
    }
   },
   "outputs": [
    {
     "name": "stdout",
     "output_type": "stream",
     "text": []
    },
    {
     "name": "stderr",
     "output_type": "stream",
     "text": [
      "unknown or ambiguous subcommand \"?\": must be area, or volume"
     ]
    }
   ],
   "source": [
    "compute ?"
   ]
  },
  {
   "cell_type": "code",
   "execution_count": 13,
   "metadata": {
    "ExecuteTime": {
     "end_time": "2019-08-14T06:49:13.062670Z",
     "start_time": "2019-08-14T06:49:13.055494Z"
    }
   },
   "outputs": [
    {
     "name": "stdout",
     "output_type": "stream",
     "text": []
    },
    {
     "name": "stderr",
     "output_type": "stream",
     "text": [
      "unknown or ambiguous subcommand \"?\": must be circle, or square"
     ]
    }
   ],
   "source": [
    "compute area ?"
   ]
  },
  {
   "cell_type": "code",
   "execution_count": 14,
   "metadata": {
    "ExecuteTime": {
     "end_time": "2019-08-14T06:49:26.256830Z",
     "start_time": "2019-08-14T06:49:26.255209Z"
    }
   },
   "outputs": [
    {
     "name": "stdout",
     "output_type": "stream",
     "text": [
      "25.1327416"
     ]
    }
   ],
   "source": [
    "compute area circle 4"
   ]
  },
  {
   "cell_type": "code",
   "execution_count": 19,
   "metadata": {
    "ExecuteTime": {
     "end_time": "2019-08-14T06:49:57.394402Z",
     "start_time": "2019-08-14T06:49:57.392502Z"
    }
   },
   "outputs": [
    {
     "name": "stdout",
     "output_type": "stream",
     "text": [
      "33.51032213333333"
     ]
    }
   ],
   "source": [
    "compute vol sphere 2"
   ]
  },
  {
   "cell_type": "markdown",
   "metadata": {},
   "source": [
    "## 控制集合命令的设置"
   ]
  },
  {
   "cell_type": "markdown",
   "metadata": {},
   "source": [
    "1. namespace ensemble create option<br>\n",
    "2. namespace ensemble configure option：修订1中选项的值<br>\n",
    "3. option：<br>\n",
    "-map：包含一个字典，用key代替value，类似重命名。<br>\n",
    "-parameters：为-command指定的集合命令名传递参数，另一作用是命令错误时可以产生参数提示信息。<br>\n",
    "-prefixes：是否启用子命令的简写模式<br>\n",
    "-subcommands：明确定义子命令列表。如果定义的集合命令的子命令并不是该命名空间所有公开导出的命令的集合时，这一功能很有用。<br>\n",
    "-unknown：<br>\n",
    "-namespace：集合绑定到的命名空间是可读的，不过这个选项不能修改，它在创建时自动确定。<br>"
   ]
  },
  {
   "cell_type": "code",
   "execution_count": 20,
   "metadata": {
    "ExecuteTime": {
     "end_time": "2019-08-14T07:35:58.415671Z",
     "start_time": "2019-08-14T07:35:58.412039Z"
    }
   },
   "outputs": [
    {
     "name": "stdout",
     "output_type": "stream",
     "text": [
      "::power"
     ]
    }
   ],
   "source": [
    "proc raisePower {power value} {\n",
    "    return \"$value ^ $power = [expr {$value ** $power}]\"\n",
    "}\n",
    "namespace ensemble create -command power -map {\n",
    "    square {raisePower 2}\n",
    "    cube {raisePower 3}\n",
    "    sqroot {raisePower 0.5}\n",
    "    invert {raisePower -1}\n",
    "}"
   ]
  },
  {
   "cell_type": "code",
   "execution_count": 21,
   "metadata": {
    "ExecuteTime": {
     "end_time": "2019-08-14T07:36:14.768454Z",
     "start_time": "2019-08-14T07:36:14.763366Z"
    }
   },
   "outputs": [
    {
     "name": "stdout",
     "output_type": "stream",
     "text": [
      "4 ^ 3 = 64"
     ]
    }
   ],
   "source": [
    "power cube 4"
   ]
  },
  {
   "cell_type": "code",
   "execution_count": 22,
   "metadata": {
    "ExecuteTime": {
     "end_time": "2019-08-14T07:36:26.644803Z",
     "start_time": "2019-08-14T07:36:26.643008Z"
    }
   },
   "outputs": [
    {
     "name": "stdout",
     "output_type": "stream",
     "text": [
      "49 ^ 0.5 = 7.0"
     ]
    }
   ],
   "source": [
    "power sqroot 49"
   ]
  },
  {
   "cell_type": "code",
   "execution_count": 23,
   "metadata": {
    "ExecuteTime": {
     "end_time": "2019-08-14T07:36:41.091251Z",
     "start_time": "2019-08-14T07:36:41.086699Z"
    }
   },
   "outputs": [
    {
     "name": "stdout",
     "output_type": "stream",
     "text": [
      "0.0625 ^ -1 = 16.0"
     ]
    }
   ],
   "source": [
    "power inv 0.0625"
   ]
  },
  {
   "cell_type": "markdown",
   "metadata": {},
   "source": [
    "***"
   ]
  },
  {
   "cell_type": "code",
   "execution_count": 3,
   "metadata": {
    "ExecuteTime": {
     "end_time": "2019-08-14T07:37:55.751050Z",
     "start_time": "2019-08-14T07:37:55.749323Z"
    }
   },
   "outputs": [
    {
     "name": "stdout",
     "output_type": "stream",
     "text": [
      "::power"
     ]
    }
   ],
   "source": [
    "proc raisePower {power value} {\n",
    "    return \"$value ^ $power = [expr {$value ** $power}]\"\n",
    "}\n",
    "namespace ensemble create -command power -prefixes 0 -map {\n",
    "    square {raisePower 2}\n",
    "    cube {raisePower 3}\n",
    "    sqroot {raisePower 0.5}\n",
    "    invert {raisePower -1}\n",
    "}"
   ]
  },
  {
   "cell_type": "code",
   "execution_count": 4,
   "metadata": {
    "ExecuteTime": {
     "end_time": "2019-08-14T07:37:57.545620Z",
     "start_time": "2019-08-14T07:37:57.542414Z"
    }
   },
   "outputs": [
    {
     "name": "stdout",
     "output_type": "stream",
     "text": []
    },
    {
     "name": "stderr",
     "output_type": "stream",
     "text": [
      "unknown subcommand \"inv\": must be cube, invert, sqroot, or square"
     ]
    }
   ],
   "source": [
    "power inv 0.0625"
   ]
  },
  {
   "cell_type": "markdown",
   "metadata": {},
   "source": [
    "***"
   ]
  },
  {
   "cell_type": "code",
   "execution_count": 13,
   "metadata": {
    "ExecuteTime": {
     "end_time": "2019-08-14T07:43:14.086781Z",
     "start_time": "2019-08-14T07:43:14.084889Z"
    }
   },
   "outputs": [
    {
     "name": "stdout",
     "output_type": "stream",
     "text": [
      "::power"
     ]
    }
   ],
   "source": [
    "proc raisePower {power value} {\n",
    "    return \"$value ^ $power = [expr {$value ** $power}]\"\n",
    "}\n",
    "namespace ensemble create -command power -prefixes 0 -map {\n",
    "    square {raisePower 2}\n",
    "    cube {raisePower 3}\n",
    "    sqroot {raisePower 0.5}\n",
    "    invert {raisePower -1}\n",
    "} -subcommands {\n",
    "    square\n",
    "    cube\n",
    "}"
   ]
  },
  {
   "cell_type": "code",
   "execution_count": 2,
   "metadata": {
    "ExecuteTime": {
     "end_time": "2019-08-14T07:41:45.850405Z",
     "start_time": "2019-08-14T07:41:45.848567Z"
    }
   },
   "outputs": [
    {
     "name": "stdout",
     "output_type": "stream",
     "text": [
      "2 ^ 2 = 4"
     ]
    }
   ],
   "source": [
    "power square 2"
   ]
  },
  {
   "cell_type": "code",
   "execution_count": 14,
   "metadata": {
    "ExecuteTime": {
     "end_time": "2019-08-14T07:43:15.578458Z",
     "start_time": "2019-08-14T07:43:15.576589Z"
    }
   },
   "outputs": [
    {
     "name": "stdout",
     "output_type": "stream",
     "text": [
      "2 ^ 3 = 8"
     ]
    }
   ],
   "source": [
    "power cube 2"
   ]
  },
  {
   "cell_type": "code",
   "execution_count": 8,
   "metadata": {
    "ExecuteTime": {
     "end_time": "2019-08-14T07:42:51.802541Z",
     "start_time": "2019-08-14T07:42:51.800334Z"
    }
   },
   "outputs": [
    {
     "name": "stdout",
     "output_type": "stream",
     "text": []
    },
    {
     "name": "stderr",
     "output_type": "stream",
     "text": [
      "unknown subcommand \"sqroot\": must be cube, invert, or square"
     ]
    }
   ],
   "source": [
    "power sqroot 4"
   ]
  },
  {
   "cell_type": "code",
   "execution_count": 15,
   "metadata": {
    "ExecuteTime": {
     "end_time": "2019-08-14T07:43:18.123004Z",
     "start_time": "2019-08-14T07:43:18.121111Z"
    }
   },
   "outputs": [
    {
     "name": "stdout",
     "output_type": "stream",
     "text": []
    },
    {
     "name": "stderr",
     "output_type": "stream",
     "text": [
      "unknown subcommand \"invert\": must be cube, or square"
     ]
    }
   ],
   "source": [
    "power invert 0.5"
   ]
  },
  {
   "cell_type": "markdown",
   "metadata": {},
   "source": [
    "***"
   ]
  },
  {
   "cell_type": "code",
   "execution_count": 17,
   "metadata": {
    "ExecuteTime": {
     "end_time": "2019-08-14T07:45:42.541305Z",
     "start_time": "2019-08-14T07:45:42.535912Z"
    }
   },
   "outputs": [
    {
     "name": "stdout",
     "output_type": "stream",
     "text": [
      "::t::test"
     ]
    }
   ],
   "source": [
    "namespace eval t {\n",
    "    proc a {} {return \"alpha\"}\n",
    "    proc b {} {return \"beta\"}\n",
    "    namespace export *\n",
    "    namespace ensemble create -command test -subcommands {\n",
    "        b\n",
    "    }\n",
    "}"
   ]
  },
  {
   "cell_type": "code",
   "execution_count": 19,
   "metadata": {
    "ExecuteTime": {
     "end_time": "2019-08-14T07:45:59.120920Z",
     "start_time": "2019-08-14T07:45:59.115612Z"
    }
   },
   "outputs": [
    {
     "name": "stdout",
     "output_type": "stream",
     "text": [
      "beta"
     ]
    }
   ],
   "source": [
    "::t::test b"
   ]
  },
  {
   "cell_type": "code",
   "execution_count": 20,
   "metadata": {
    "ExecuteTime": {
     "end_time": "2019-08-14T07:46:08.461462Z",
     "start_time": "2019-08-14T07:46:08.455698Z"
    }
   },
   "outputs": [
    {
     "name": "stdout",
     "output_type": "stream",
     "text": []
    },
    {
     "name": "stderr",
     "output_type": "stream",
     "text": [
      "unknown or ambiguous subcommand \"a\": must be b"
     ]
    }
   ],
   "source": [
    "::t::test a"
   ]
  },
  {
   "cell_type": "markdown",
   "metadata": {},
   "source": [
    "***"
   ]
  },
  {
   "cell_type": "code",
   "execution_count": 87,
   "metadata": {
    "ExecuteTime": {
     "end_time": "2019-08-14T08:08:48.498239Z",
     "start_time": "2019-08-14T08:08:48.494033Z"
    }
   },
   "outputs": [
    {
     "name": "stdout",
     "output_type": "stream",
     "text": [
      "::power"
     ]
    }
   ],
   "source": [
    "proc raisePower {power value} {\n",
    "    return \"$value ^ $power = [expr {$value ** $power}]\"\n",
    "}\n",
    "namespace ensemble create -command power -map {\n",
    "    square {raisePower }\n",
    "    cube {raisePower 3}\n",
    "    sqroot {raisePower 0.5}\n",
    "    invert {raisePower -1}\n",
    "} -parameters {\n",
    "    arg1\n",
    "}"
   ]
  },
  {
   "cell_type": "code",
   "execution_count": 84,
   "metadata": {
    "ExecuteTime": {
     "end_time": "2019-08-14T08:08:22.802255Z",
     "start_time": "2019-08-14T08:08:22.792530Z"
    }
   },
   "outputs": [
    {
     "name": "stdout",
     "output_type": "stream",
     "text": []
    },
    {
     "name": "stderr",
     "output_type": "stream",
     "text": [
      "wrong # args: should be \"power \n",
      "    arg1\n",
      "    arg2\n",
      " subcommand ?arg ...?\""
     ]
    }
   ],
   "source": [
    "power"
   ]
  },
  {
   "cell_type": "code",
   "execution_count": 88,
   "metadata": {
    "ExecuteTime": {
     "end_time": "2019-08-14T08:08:54.584031Z",
     "start_time": "2019-08-14T08:08:54.581906Z"
    }
   },
   "outputs": [
    {
     "name": "stdout",
     "output_type": "stream",
     "text": [
      "3 ^ 2 = 9"
     ]
    }
   ],
   "source": [
    "power 2 square 3"
   ]
  },
  {
   "cell_type": "markdown",
   "metadata": {},
   "source": [
    "***"
   ]
  },
  {
   "cell_type": "code",
   "execution_count": 79,
   "metadata": {
    "ExecuteTime": {
     "end_time": "2019-08-14T09:02:30.039175Z",
     "start_time": "2019-08-14T09:02:30.037507Z"
    }
   },
   "outputs": [
    {
     "name": "stdout",
     "output_type": "stream",
     "text": [
      "::new"
     ]
    }
   ],
   "source": [
    "proc a {} {return \"new third\"}\n",
    "proc b {} {return \"beta\"}\n",
    "namespace ensemble create -command origin -map {\n",
    "    first {a}\n",
    "    second {b}\n",
    "}\n",
    "\n",
    "proc fun {arg1 arg2} {\n",
    "    puts \"function is run!\"\n",
    "    puts \"$arg1, $arg2\"\n",
    "    return \" new third\"\n",
    "}\n",
    "proc c {} {return \"char\"}\n",
    "namespace ensemble create -command new -map {\n",
    "    third {c}\n",
    "} -unknown fun"
   ]
  },
  {
   "cell_type": "code",
   "execution_count": 80,
   "metadata": {
    "ExecuteTime": {
     "end_time": "2019-08-14T09:02:31.822726Z",
     "start_time": "2019-08-14T09:02:31.818801Z"
    }
   },
   "outputs": [
    {
     "name": "stdout",
     "output_type": "stream",
     "text": [
      "function is run!\n",
      "::new, hello\n",
      "char"
     ]
    }
   ],
   "source": [
    "new hello"
   ]
  },
  {
   "cell_type": "code",
   "execution_count": 1,
   "metadata": {
    "ExecuteTime": {
     "end_time": "2019-08-14T10:27:17.484785Z",
     "start_time": "2019-08-14T10:27:17.478111Z"
    }
   },
   "outputs": [
    {
     "name": "stdout",
     "output_type": "stream",
     "text": [
      "::string"
     ]
    }
   ],
   "source": [
    "rename string strCore\n",
    "proc strReverse {str} {\n",
    "    set result {}\n",
    "    for {set i [strCore length $str]} {$i > 0} {} {\n",
    "        incr i -1\n",
    "        append result [strCore index $str $i]\n",
    "    }\n",
    "    return $result\n",
    "}\n",
    "\n",
    "proc unknownStrCmd {str subcommand args} {\n",
    "    puts \"$str, $subcommand, $args\"\n",
    "    set arg1 [lindex $args 0]\n",
    "    set arg2 [lindex $args 1]\n",
    "    puts \"arg1=$arg1\"\n",
    "    puts \"arg2=$arg2\"\n",
    "    puts result=[strCore $subcommand $arg1 $arg2]\n",
    "    return \" strCore $subcommand $arg1 $arg2\"\n",
    "}\n",
    "namespace ensemble create -command string -map {\n",
    "    reverse {strReverse}\n",
    "    repeat {strCore repeat}\n",
    "    replace {strCore replace}\n",
    "} -unknown unknownStrCmd"
   ]
  },
  {
   "cell_type": "code",
   "execution_count": 2,
   "metadata": {
    "ExecuteTime": {
     "end_time": "2019-08-14T10:27:20.048035Z",
     "start_time": "2019-08-14T10:27:20.046196Z"
    }
   },
   "outputs": [
    {
     "name": "stdout",
     "output_type": "stream",
     "text": [
      "::string, index, hello 2\n",
      "arg1=hello\n",
      "arg2=2\n",
      "result=l\n"
     ]
    },
    {
     "name": "stderr",
     "output_type": "stream",
     "text": [
      "wrong # args: should be \"::tcl::string::index string charIndex\""
     ]
    }
   ],
   "source": [
    "set str \"hello\"\n",
    "set r [string index $str 2]\n",
    "puts reuslt==$r"
   ]
  },
  {
   "cell_type": "markdown",
   "metadata": {},
   "source": [
    "## 访问其他命名空间的变量"
   ]
  },
  {
   "cell_type": "markdown",
   "metadata": {},
   "source": [
    "* 使用该变量的完整限定名称。\n",
    "* 可以把该变量的完全限定名称提供给global，upvar，variable，将变量导入当前命名空间。\n",
    "* 使用`namespace upvar`将一个命名空间中的一组变量导入当前命名空间中。"
   ]
  },
  {
   "cell_type": "code",
   "execution_count": 3,
   "metadata": {
    "ExecuteTime": {
     "end_time": "2019-08-14T10:59:40.671043Z",
     "start_time": "2019-08-14T10:59:40.669277Z"
    }
   },
   "outputs": [
    {
     "name": "stdout",
     "output_type": "stream",
     "text": []
    }
   ],
   "source": [
    "proc blob {name a b c} {\n",
    "    namespace eval $name {}\n",
    "    namespace upvar $name a va b vb c vc\n",
    "    set va $a\n",
    "    set vb $b\n",
    "    set vc $c\n",
    "    namespace ensemble create -map [list \\\n",
    "        set [list ::blobSet $name] \\\n",
    "        sum [list ::blobSum $name] \\\n",
    "        end [list ::blobEnd $name] \\\n",
    "    ] -command $name\n",
    "}\n",
    "proc blobSet {ns var value} {\n",
    "    namespace upvar $ns $var v\n",
    "    set v $value\n",
    "    return\n",
    "}\n",
    "proc blobSum {ns} {\n",
    "    namespace upvar $ns a va b vb c vc\n",
    "    return [expr {$va+$vb+$vc}]\n",
    "}\n",
    "proc blobEnd {ns} {\n",
    "    rename $ns {}\n",
    "    namespace delete $ns\n",
    "}\n"
   ]
  },
  {
   "cell_type": "code",
   "execution_count": 4,
   "metadata": {
    "ExecuteTime": {
     "end_time": "2019-08-14T10:59:52.916876Z",
     "start_time": "2019-08-14T10:59:52.911813Z"
    }
   },
   "outputs": [
    {
     "name": "stdout",
     "output_type": "stream",
     "text": [
      "::example"
     ]
    }
   ],
   "source": [
    "blob example 1 2 3"
   ]
  },
  {
   "cell_type": "code",
   "execution_count": 6,
   "metadata": {
    "ExecuteTime": {
     "end_time": "2019-08-14T11:00:20.180346Z",
     "start_time": "2019-08-14T11:00:20.175534Z"
    }
   },
   "outputs": [
    {
     "name": "stdout",
     "output_type": "stream",
     "text": [
      "9"
     ]
    }
   ],
   "source": [
    "example set a 4\n",
    "example sum"
   ]
  },
  {
   "cell_type": "code",
   "execution_count": 7,
   "metadata": {
    "ExecuteTime": {
     "end_time": "2019-08-14T11:00:34.290436Z",
     "start_time": "2019-08-14T11:00:34.284457Z"
    }
   },
   "outputs": [
    {
     "name": "stdout",
     "output_type": "stream",
     "text": [
      "12"
     ]
    }
   ],
   "source": [
    "example set b 5\n",
    "example sum"
   ]
  },
  {
   "cell_type": "code",
   "execution_count": 8,
   "metadata": {
    "ExecuteTime": {
     "end_time": "2019-08-14T11:00:44.633077Z",
     "start_time": "2019-08-14T11:00:44.628578Z"
    }
   },
   "outputs": [
    {
     "name": "stdout",
     "output_type": "stream",
     "text": []
    }
   ],
   "source": [
    "example end"
   ]
  },
  {
   "cell_type": "code",
   "execution_count": null,
   "metadata": {},
   "outputs": [],
   "source": []
  }
 ],
 "metadata": {
  "kernelspec": {
   "display_name": "Tcl",
   "language": "Tcl",
   "name": "tcl"
  },
  "language_info": {
   "codemirror_mode": {
    "name": "text/x-tcl",
    "version": 2
   },
   "file_extension": ".tcl",
   "mimetype": "text/x-tcl",
   "name": "Tcl"
  },
  "toc": {
   "base_numbering": 1,
   "nav_menu": {},
   "number_sections": true,
   "sideBar": true,
   "skip_h1_title": false,
   "title_cell": "Table of Contents",
   "title_sidebar": "Contents",
   "toc_cell": false,
   "toc_position": {},
   "toc_section_display": true,
   "toc_window_display": false
  }
 },
 "nbformat": 4,
 "nbformat_minor": 2
}
