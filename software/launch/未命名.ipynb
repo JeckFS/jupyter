{
 "cells": [
  {
   "cell_type": "code",
   "execution_count": 109,
   "metadata": {
    "ExecuteTime": {
     "end_time": "2019-08-10T08:32:28.484731Z",
     "start_time": "2019-08-10T08:31:08.628140Z"
    },
    "scrolled": false
   },
   "outputs": [
    {
     "name": "stdout",
     "output_type": "stream",
     "text": [
      "sh /usr/local/software/pycharm-2019.1.3/bin/pycharm.sh:pycharm:1\r",
      "\r\n",
      "jupyter notebook:jupyter:1\r",
      "\r\n",
      "ss-local -c /home/conf_myself/shadowsocks.json:shadowsocks:1\r",
      "\r\n",
      "kolourpaint:paint:1\r",
      "\r\n",
      " <br>:newline:2\r",
      "\r\n",
      " <font color='#00ff00' size=3></font>:font:2\r",
      "\r\n",
      " <img src='images/.png' width='350px'/>:img:2\r",
      "\r\n"
     ]
    }
   ],
   "source": [
    "!wish main-Copy1.sh"
   ]
  },
  {
   "cell_type": "code",
   "execution_count": 3,
   "metadata": {
    "ExecuteTime": {
     "end_time": "2019-08-10T10:58:36.445204Z",
     "start_time": "2019-08-10T10:58:33.937600Z"
    }
   },
   "outputs": [
    {
     "name": "stdout",
     "output_type": "stream",
     "text": [
      "test.sh started!\n",
      "^C\n"
     ]
    }
   ],
   "source": [
    "!expect test.sh"
   ]
  },
  {
   "cell_type": "code",
   "execution_count": null,
   "metadata": {},
   "outputs": [],
   "source": []
  }
 ],
 "metadata": {
  "kernelspec": {
   "display_name": "Python 3",
   "language": "python",
   "name": "python3"
  },
  "language_info": {
   "codemirror_mode": {
    "name": "ipython",
    "version": 3
   },
   "file_extension": ".py",
   "mimetype": "text/x-python",
   "name": "python",
   "nbconvert_exporter": "python",
   "pygments_lexer": "ipython3",
   "version": "3.6.8"
  },
  "toc": {
   "base_numbering": 1,
   "nav_menu": {},
   "number_sections": true,
   "sideBar": true,
   "skip_h1_title": false,
   "title_cell": "Table of Contents",
   "title_sidebar": "Contents",
   "toc_cell": false,
   "toc_position": {},
   "toc_section_display": true,
   "toc_window_display": false
  }
 },
 "nbformat": 4,
 "nbformat_minor": 2
}
