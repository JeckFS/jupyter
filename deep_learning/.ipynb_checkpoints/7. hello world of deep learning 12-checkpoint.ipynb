{
 "cells": [
  {
   "cell_type": "markdown",
   "metadata": {},
   "source": [
    "# step1: define a set of function\n",
    "### keras\n",
    "keras是tensorflow和theano的接口，可以方便的使用。\n",
    "### keras的使用\n",
    "    from tensorflow.python.keras import layers\n",
    "    import tensorflow.python.keras as keras\n",
    "#### 1. 创建模型\n",
    "    model = keras.Sequential()\n",
    "#### 2. 添加hidden layer\n",
    "    // __假设输入的是28*28的图片，输出维度为500__<br>\n",
    "    model.add(layers.Dense(input_dim=28*28, output_dim=500))  \n",
    "    model.add(layers.Activation('sigmoid')<br>\n",
    "    \n",
    "    添加第二个hidden layer\n",
    "    // 不需要input_dim，只有第一个hidden layer才会用，接下来的hidden layer自动将上一层的输出作为本层的输入<br>\n",
    "    model.add(layers.Dense(output_dim=400))\n",
    "    model.add(layers.Activation('sigmoid'))\n",
    "#### 3. 输出层\n",
    "    // __假设是数字辨识，输出层只需要输出十维，即十个数字即可__<br>\n",
    "    model.add(layers.Dense(output_dim=10))\n",
    "    model.add(layers.Activation('softmax'))\n",
    "# Step2: goodness of function(评估一个function的好坏)    \n",
    "    model.compile(loss='categorical_crossentropy', optimizer='adam', metrics=['accuracy'])\n",
    "    optimizer: 优化方式\n",
    "<img src='images/2.png' width='600px'>\n",
    "# Step3: pick the best function\n",
    "### 找最优的参数\n",
    "    model.fit(x_train, y_train, batch_size=100, nb_epoch=10)\n",
    " 注意图片的维度：第一个维是图片个数，第二维是一个图片的像素\n",
    "    \n",
    "<img src='images/3.png' width='600px'> \n",
    "<img src='images/1.png' width='600px'>\n"
   ]
  },
  {
   "cell_type": "markdown",
   "metadata": {},
   "source": [
    "### mini-batch & epoch\n",
    "* 每个mini-batch中的样例必须是随机分。\n",
    "* mini-batch也是随机选择的。\n",
    "\n",
    "并不是真的去小化total loss，而是将training data随机分成一个个batch，所有的batch会被随机地选中并计算batch内的total loss，根据该total loss更新参数(计算参数对L'的偏微分)。所有的batch被选完后，一个epoch就算执行完了。<br><br>\n",
    "__参数的更新次数=epoch * mini-batch__<br>\n",
    "__一个epoch更新参数的次数=样例总数 / batch_size__<br><br>\n",
    "batch_size=1时退化为Stochastic gradient desent（较快），这也说明batch_size会影响程式的速度和准确性。\n",
    "\n",
    "__one epoch：__\n",
    "  随机选择一个mini-batch，根据其总的loss，更新参数。一直到所有的mini-batch都选择一遍，这个过程成为一个epoch。nb_epoch=10就是重复10次。\n",
    "<img src='images/4.png' width='600px'>\n",
    "<img src='images/5.png' width='600px'>\n"
   ]
  },
  {
   "cell_type": "markdown",
   "metadata": {},
   "source": [
    "## batch_size对速度的影响\n",
    "* 原因：\n",
    "  GPU可以并行计算epoch\n",
    "<img src='images/6.png' width='600px'>"
   ]
  },
  {
   "cell_type": "markdown",
   "metadata": {},
   "source": [
    "## GPU加速\n",
    "不管是正向传播，还是反向传播，实质都是矩阵运算<br>\n",
    "**mini-batch+GPU=提速**\n",
    "<img src='images/7.png' width='600px'>"
   ]
  },
  {
   "cell_type": "markdown",
   "metadata": {},
   "source": [
    "## 计算一笔test data的正确率 & 预测test data的结果\n",
    "\n",
    "<img src='images/8.png' width='600px'>"
   ]
  }
 ],
 "metadata": {
  "kernelspec": {
   "display_name": "Python 3",
   "language": "python",
   "name": "python3"
  },
  "language_info": {
   "codemirror_mode": {
    "name": "ipython",
    "version": 3
   },
   "file_extension": ".py",
   "mimetype": "text/x-python",
   "name": "python",
   "nbconvert_exporter": "python",
   "pygments_lexer": "ipython3",
   "version": "3.6.8"
  },
  "toc": {
   "base_numbering": 1,
   "nav_menu": {},
   "number_sections": true,
   "sideBar": true,
   "skip_h1_title": false,
   "title_cell": "Table of Contents",
   "title_sidebar": "Contents",
   "toc_cell": false,
   "toc_position": {},
   "toc_section_display": true,
   "toc_window_display": false
  }
 },
 "nbformat": 4,
 "nbformat_minor": 2
}
