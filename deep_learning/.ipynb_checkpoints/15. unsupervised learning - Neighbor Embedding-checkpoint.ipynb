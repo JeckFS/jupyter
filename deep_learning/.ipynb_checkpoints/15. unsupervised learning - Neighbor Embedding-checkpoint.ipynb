{
 "cells": [
  {
   "cell_type": "markdown",
   "metadata": {},
   "source": [
    "以空间中两点之间的距离来衡量两个数据点的相似程度是不可靠的。Manifold learning的工作就是把高维空间在低维空间中展开。这对于以后做分类和监督学习都是有帮助的。"
   ]
  },
  {
   "cell_type": "markdown",
   "metadata": {},
   "source": [
    "<img src='images/299.png'/>\n"
   ]
  },
  {
   "cell_type": "markdown",
   "metadata": {},
   "source": [
    "# 常见的manifold learning方法"
   ]
  },
  {
   "cell_type": "markdown",
   "metadata": {},
   "source": [
    "## locally linear embedding (LLE)"
   ]
  },
  {
   "cell_type": "markdown",
   "metadata": {},
   "source": [
    "找出某点$x^i$的邻居节点，$W_{ij}$代表节点$x^i与x^j$的ralation。$w_{ij}$的确定方法：通过最小化下图中的式子。然后做降维，将所有的$x^i,x^j转化为z^i,z^j$。转换后$z^i,z^j$的ralation $w_{ij}$是不变的。"
   ]
  },
  {
   "cell_type": "markdown",
   "metadata": {},
   "source": [
    "<img src='images/300.png'/>\n"
   ]
  },
  {
   "cell_type": "markdown",
   "metadata": {},
   "source": [
    "保持原来在高维空间中的$w_{ij}$不变，然后为每一个$x^i,x^j$找另一个维数更低的vector(即$z^i,z^j$)，另外找出的$z^i,z^j$满足\n",
    "$$\n",
    "minimize \\sum_i {\\Arrowvert z^i-\\sum_j{w_{ij}z^j} \\Arrowvert_2}\n",
    "$$上式中$w_{ij}$是已知的。"
   ]
  },
  {
   "cell_type": "markdown",
   "metadata": {},
   "source": [
    "<img src='images/301.png'/>\n"
   ]
  },
  {
   "cell_type": "markdown",
   "metadata": {},
   "source": [
    "LLE中邻居的个数会对分类产生很大影响，当K太大时，一些本身没有ralation的点也会考虑在内，这就影响了最后的分类结果。"
   ]
  },
  {
   "cell_type": "markdown",
   "metadata": {},
   "source": [
    "<img src='images/302.png'/>\n"
   ]
  },
  {
   "cell_type": "markdown",
   "metadata": {},
   "source": [
    "## Laplacian Eigenmaps"
   ]
  },
  {
   "cell_type": "markdown",
   "metadata": {},
   "source": [
    "### Graph-based approach"
   ]
  },
  {
   "cell_type": "markdown",
   "metadata": {},
   "source": [
    "基于high density这种方式计算距离是靠谱的，将原来的数据点转化为图的形式，计算在图中两点的距离。"
   ]
  },
  {
   "cell_type": "markdown",
   "metadata": {},
   "source": [
    "<img src='images/303.png'/>\n"
   ]
  },
  {
   "cell_type": "markdown",
   "metadata": {},
   "source": [
    " <img src='images/304.png'/>\n"
   ]
  },
  {
   "cell_type": "markdown",
   "metadata": {},
   "source": [
    "上述情况是在superwise learning中的做法，在unsuperwised learning中的做法如下："
   ]
  },
  {
   "cell_type": "markdown",
   "metadata": {},
   "source": [
    "<img src='images/305.png'/>\n"
   ]
  },
  {
   "cell_type": "markdown",
   "metadata": {},
   "source": [
    "## t-SNE"
   ]
  },
  {
   "cell_type": "markdown",
   "metadata": {},
   "source": [
    "<img src='images/306.png'/>\n"
   ]
  },
  {
   "cell_type": "markdown",
   "metadata": {},
   "source": [
    "t-SNE可以解决相同类别的data point重叠的问题。"
   ]
  },
  {
   "cell_type": "markdown",
   "metadata": {},
   "source": [
    "假设已经找出一个low dimenssion的$Z$，我们要计算$P(x^j|x^i), Q(z^j|z^i)$。如何找出$Z$呢？$Z$需要满足使两个分布$P(x^j|x^i), Q(z^j|z^i)$越接近越好。两个分布的接近程度用KL散度来衡量。"
   ]
  },
  {
   "cell_type": "markdown",
   "metadata": {},
   "source": [
    "<img src='images/307.png'/>\n"
   ]
  },
  {
   "cell_type": "markdown",
   "metadata": {},
   "source": [
    "t-SNE 相似度的确定：<br>\n",
    "这种相似度的衡量方式，当$x^i,x^j$很接近的时候$S$趋于1，由于它是底数为e的函数，当不相似的时候，它会拉的很开。"
   ]
  },
  {
   "cell_type": "markdown",
   "metadata": {},
   "source": [
    "<img src='images/308.png'/>\n"
   ]
  },
  {
   "cell_type": "markdown",
   "metadata": {},
   "source": [
    "<img src='images/309.png'/>\n"
   ]
  },
  {
   "cell_type": "markdown",
   "metadata": {},
   "source": [
    "<img src='images/310.png'/>\n"
   ]
  }
 ],
 "metadata": {
  "kernelspec": {
   "display_name": "Python 3",
   "language": "python",
   "name": "python3"
  },
  "language_info": {
   "codemirror_mode": {
    "name": "ipython",
    "version": 3
   },
   "file_extension": ".py",
   "mimetype": "text/x-python",
   "name": "python",
   "nbconvert_exporter": "python",
   "pygments_lexer": "ipython3",
   "version": "3.6.8"
  },
  "toc": {
   "base_numbering": 1,
   "nav_menu": {},
   "number_sections": true,
   "sideBar": true,
   "skip_h1_title": false,
   "title_cell": "Table of Contents",
   "title_sidebar": "Contents",
   "toc_cell": false,
   "toc_position": {},
   "toc_section_display": true,
   "toc_window_display": false
  }
 },
 "nbformat": 4,
 "nbformat_minor": 2
}
