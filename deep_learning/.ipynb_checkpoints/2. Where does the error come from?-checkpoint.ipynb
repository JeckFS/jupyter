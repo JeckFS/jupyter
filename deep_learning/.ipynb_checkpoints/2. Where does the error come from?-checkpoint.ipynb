{
 "cells": [
  {
   "cell_type": "markdown",
   "metadata": {},
   "source": [
    "<img src='images/41.png'/>\n"
   ]
  },
  {
   "cell_type": "markdown",
   "metadata": {},
   "source": [
    "不同复杂度的模型的variance对比。背后的原因：简单的模型受data的影响较小。\n",
    "<img src='images/42.png'/>\n"
   ]
  },
  {
   "cell_type": "markdown",
   "metadata": {},
   "source": [
    "简单的model具有较大的Bias，复杂的model则相反。简单的model可能就没有包含targets，而复杂的model具有较大的选择空间，更容易包含target。\n",
    "<img src='images/43.png'/>\n"
   ]
  },
  {
   "cell_type": "markdown",
   "metadata": {},
   "source": [
    "复杂模型的Bias很小variance很大$\\iff$overfitting<br>\n",
    "简单模型的Bias很大variance很小$\\iff$underfitting"
   ]
  },
  {
   "cell_type": "markdown",
   "metadata": {},
   "source": [
    "<img src='images/44.png'/>\n",
    "regularization会影响到bias，通过这种方式要在bias和variance间取得平衡。"
   ]
  },
  {
   "cell_type": "markdown",
   "metadata": {},
   "source": [
    "***"
   ]
  },
  {
   "cell_type": "markdown",
   "metadata": {},
   "source": [
    "在Testing Set上的Err很可能大于在private Set的Err。解决方案是：将训练集划分出一个Validation Set，然后再在Training set和validation set上训练。这时候训练出的模型在Testing Set上的Err就和private Set上的Err较为接近。不建议根据Testing Set上的Err去改model因为，这样会把Testing set上的Bias带入model中。"
   ]
  },
  {
   "cell_type": "markdown",
   "metadata": {},
   "source": [
    "<img src='images/45.png'/>\n"
   ]
  },
  {
   "cell_type": "markdown",
   "metadata": {},
   "source": [
    "\n",
    "<font color='#f52fbe' size=3>采用验证集的方式，记得要在整个Training Set上训练一次。</font>\n",
    "<img src='images/47.png'/>\n"
   ]
  }
 ],
 "metadata": {
  "kernelspec": {
   "display_name": "Python 3",
   "language": "python",
   "name": "python3"
  },
  "language_info": {
   "codemirror_mode": {
    "name": "ipython",
    "version": 3
   },
   "file_extension": ".py",
   "mimetype": "text/x-python",
   "name": "python",
   "nbconvert_exporter": "python",
   "pygments_lexer": "ipython3",
   "version": "3.6.8"
  },
  "toc": {
   "base_numbering": 1,
   "nav_menu": {},
   "number_sections": true,
   "sideBar": true,
   "skip_h1_title": false,
   "title_cell": "Table of Contents",
   "title_sidebar": "Contents",
   "toc_cell": false,
   "toc_position": {},
   "toc_section_display": true,
   "toc_window_display": false
  }
 },
 "nbformat": 4,
 "nbformat_minor": 2
}
