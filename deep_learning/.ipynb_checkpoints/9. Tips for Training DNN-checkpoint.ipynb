{
 "cells": [
  {
   "cell_type": "markdown",
   "metadata": {},
   "source": [
    "训练好模型后，首先要看模型在Training Set上的performance，如果欠拟合就需要调整。然后再看在Testing Set上的performance，看是不是过拟合。\n",
    "<img src='images/108.png'/>\n"
   ]
  },
  {
   "cell_type": "markdown",
   "metadata": {},
   "source": [
    "56-layers为何达不到20-layers的performance？理论上是可以达到的，由于local minima等原因而达不到。这种情况不叫欠拟合，因为56-layers是有能力学习到20-layers的程度的。欠拟合是说参数不够而学不到。\n",
    "<img src='images/109.png'/>\n"
   ]
  },
  {
   "cell_type": "markdown",
   "metadata": {},
   "source": [
    "Testing data不好的时候用dropout\n",
    "<img src='images/110.png'/>\n"
   ]
  },
  {
   "cell_type": "markdown",
   "metadata": {},
   "source": [
    "出现的问题：<font color='#f40c7a' size=3>梯度消失</font><br>\n",
    "前面的层还是比较随机的时候，由于前后梯度下降的快慢不同导致后面的层快速收敛到一个local minima中，所以会出现梯度消失的情况。\n",
    "<img src='images/112.png'/>\n"
   ]
  },
  {
   "cell_type": "markdown",
   "metadata": {},
   "source": [
    "为什么梯度消失？某个参数$\\Delta w_i$越大，通过sigmoid后的变化幅度会削减，通过sigmoid越多衰减越厉害，这是导致前面的层收敛快，后面收敛慢的主要原因。\n",
    "<img src='images/113.png'/>\n",
    "<img src='images/114.png'/>\n"
   ]
  },
  {
   "cell_type": "markdown",
   "metadata": {},
   "source": [
    "<font color='#f65302' size=4>relu可以解决梯度消失的问题</font>\n",
    "<img src='images/115.png'/>\n"
   ]
  },
  {
   "cell_type": "markdown",
   "metadata": {},
   "source": [
    "\n",
    "<img src='images/116.png'/>\n",
    "不同的输入会保留不同的neoron，这样它就不是linear的model了。\n",
    "<img src='images/117.png'/>\n"
   ]
  },
  {
   "cell_type": "markdown",
   "metadata": {},
   "source": [
    "relu的变种："
   ]
  },
  {
   "cell_type": "markdown",
   "metadata": {},
   "source": [
    "<img src='images/118.png'/>\n"
   ]
  },
  {
   "cell_type": "markdown",
   "metadata": {},
   "source": [
    "Maxout：网络自动学习激活函数。具体多少个元素放一组，人工决定。\n",
    "<img src='images/119.png'/>\n"
   ]
  },
  {
   "cell_type": "markdown",
   "metadata": {},
   "source": [
    "Maxout模仿relu：\n",
    "<img src='images/120.png'/>\n",
    "<img src='images/122.png'/>\n"
   ]
  },
  {
   "cell_type": "markdown",
   "metadata": {},
   "source": [
    "<img src='images/123.png'/>\n"
   ]
  },
  {
   "cell_type": "markdown",
   "metadata": {},
   "source": [
    "不同的参数$w_i$会因为不同的输入而被训练到。\n",
    "<img src='images/124.png'/>\n"
   ]
  },
  {
   "cell_type": "markdown",
   "metadata": {},
   "source": [
    "----"
   ]
  },
  {
   "cell_type": "markdown",
   "metadata": {},
   "source": [
    "动态调整学习率：Adagrad不够看了已经。\n",
    "<img src='images/125.png'/>\n",
    "<img src='images/126.png'/>\n"
   ]
  },
  {
   "cell_type": "markdown",
   "metadata": {},
   "source": [
    "<img src='images/127.png'/>\n"
   ]
  },
  {
   "cell_type": "markdown",
   "metadata": {},
   "source": [
    "对于参数很多的网络，它卡在local minima的概率是很小的。比如一个参数卡在local minima的概率时p，1000个参数都卡在该local minima的概率是$p^{1000}$，这是一个很小的数了。"
   ]
  },
  {
   "cell_type": "markdown",
   "metadata": {},
   "source": [
    "---\n"
   ]
  },
  {
   "cell_type": "markdown",
   "metadata": {},
   "source": [
    "加入动量的Gradient Descent："
   ]
  },
  {
   "cell_type": "markdown",
   "metadata": {},
   "source": [
    "<img src='images/128.png'/>\n"
   ]
  },
  {
   "cell_type": "markdown",
   "metadata": {},
   "source": [
    "<img src='images/129.png'/>\n"
   ]
  },
  {
   "cell_type": "markdown",
   "metadata": {},
   "source": [
    "<img src='images/131.png'/>\n"
   ]
  },
  {
   "cell_type": "markdown",
   "metadata": {},
   "source": [
    "<img src='images/132.png'/>\n"
   ]
  },
  {
   "cell_type": "markdown",
   "metadata": {},
   "source": [
    "---\n",
    "<img src='images/133.png'/>\n"
   ]
  },
  {
   "cell_type": "markdown",
   "metadata": {},
   "source": [
    "<img src='images/134.png'/>\n"
   ]
  },
  {
   "cell_type": "markdown",
   "metadata": {},
   "source": [
    "<img src='images/135.png'/>\n"
   ]
  },
  {
   "cell_type": "markdown",
   "metadata": {},
   "source": [
    "若参数W很大，相较于L1，L2会使参数下降很快。因此L1训练出的参数可能还是有很大的值，L2中会保留很多接近0的值，所有参数平均都比较小。\n",
    "<img src='images/136.png'/>\n"
   ]
  },
  {
   "cell_type": "markdown",
   "metadata": {},
   "source": [
    "<font color='#7c03f4' size=5>Dropout</font>"
   ]
  },
  {
   "cell_type": "markdown",
   "metadata": {},
   "source": [
    "<img src='images/137.png'/>\n"
   ]
  },
  {
   "cell_type": "markdown",
   "metadata": {},
   "source": [
    "<img src='images/138.png'/>\n"
   ]
  },
  {
   "cell_type": "markdown",
   "metadata": {},
   "source": [
    "对于复杂的model其bias很小但variance很大，当多个复杂model取平均后，就会降低variance。\n",
    "<img src='images/139.png'/>\n"
   ]
  },
  {
   "cell_type": "markdown",
   "metadata": {},
   "source": [
    "每个mini-batch中的数据训练一个network。一个参数可能会有多个network来训练。\n",
    "<img src='images/141.png'/>\n",
    "实际中并不是训练出很多个瘦小的network\n",
    "<img src='images/142.png'/>\n"
   ]
  },
  {
   "cell_type": "markdown",
   "metadata": {},
   "source": [
    "<img src='images/143.png'/>\n"
   ]
  },
  {
   "cell_type": "markdown",
   "metadata": {},
   "source": [
    "上面4个加起来/4的结果同右下角的值是相同的(对于linear的model而言，如relu，maxout)"
   ]
  }
 ],
 "metadata": {
  "kernelspec": {
   "display_name": "Python 3",
   "language": "python",
   "name": "python3"
  },
  "language_info": {
   "codemirror_mode": {
    "name": "ipython",
    "version": 3
   },
   "file_extension": ".py",
   "mimetype": "text/x-python",
   "name": "python",
   "nbconvert_exporter": "python",
   "pygments_lexer": "ipython3",
   "version": "3.6.8"
  },
  "toc": {
   "base_numbering": 1,
   "nav_menu": {},
   "number_sections": true,
   "sideBar": true,
   "skip_h1_title": false,
   "title_cell": "Table of Contents",
   "title_sidebar": "Contents",
   "toc_cell": false,
   "toc_position": {},
   "toc_section_display": true,
   "toc_window_display": false
  }
 },
 "nbformat": 4,
 "nbformat_minor": 2
}
