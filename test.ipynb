{
 "cells": [
  {
   "cell_type": "code",
   "execution_count": 42,
   "metadata": {
    "ExecuteTime": {
     "end_time": "2019-08-27T07:52:27.821888Z",
     "start_time": "2019-08-27T07:52:22.024615Z"
    }
   },
   "outputs": [
    {
     "name": "stdout",
     "output_type": "stream",
     "text": [
      "spawn git push origin master\n",
      "Username for 'https://github.com': JeckFS\n",
      "Password for 'https://JeckFS@github.com': \n",
      "对象计数中: 17, 完成.\n",
      "Delta compression using up to 8 threads.\n",
      "--->  'https://JeckFS@github.com': \n",
      "对象计数中: 17, 完成.\n",
      "Delta compression using up to 8 threads.\n",
      "压缩对象中:   6%\n",
      "OK\n",
      "\n",
      "压缩对象中: 100% (16/16), 完成.\n",
      "压缩对象中:  12%)   \n",
      "OK\n",
      "\n",
      "压缩对象中:  18%)   \n",
      "OK\n",
      "\n",
      "压缩对象中:  25%)   \n",
      "OK\n",
      "\n",
      "压缩对象中:  31%)   \n",
      "OK\n",
      "\n",
      "压缩对象中:  37%)   \n",
      "OK\n",
      "\n",
      "压缩对象中:  43%)   \n",
      "OK\n",
      "\n",
      "压缩对象中:  50%)   \n",
      "OK\n",
      "\n",
      "压缩对象中:  56%)   \n",
      "OK\n",
      "\n",
      "压缩对象中:  62%)   \n",
      "OK\n",
      "\n",
      "压缩对象中:  68%6)   \n",
      "OK\n",
      "\n",
      "压缩对象中:  75%6)   \n",
      "OK\n",
      "\n",
      "压缩对象中:  81%6)   \n",
      "OK\n",
      "\n",
      "压缩对象中:  87%6)   \n",
      "OK\n",
      "\n",
      "压缩对象中:  93%6)   \n",
      "OK\n",
      "\n",
      "压缩对象中: 100%6)   \n",
      "OK\n",
      "\n",
      "压缩对象中: 100%6)   \n",
      "OK\n",
      "\n",
      "写入对象中: 100% (17/17), 1.91 KiB | 1.91 MiB/s, 完成.\n",
      "Total 17 (delta 12), reused 0 (delta 0)\n",
      "--->  (16/16), 完成.\n",
      "写入对象中:   5%\n",
      "OK\n",
      "\n",
      "写入对象中:  11%)   \n",
      "OK\n",
      "\n",
      "写入对象中:  17%)   \n",
      "OK\n",
      "\n",
      "写入对象中:  23%)   \n",
      "OK\n",
      "\n",
      "写入对象中:  29%)   \n",
      "OK\n",
      "\n",
      "写入对象中:  35%)   \n",
      "OK\n",
      "\n",
      "写入对象中:  41%)   \n",
      "OK\n",
      "\n",
      "写入对象中:  52%)   \n",
      "OK\n",
      "\n",
      "写入对象中:  64%)   \n",
      "OK\n",
      "\n",
      "写入对象中:  70%7)   \n",
      "OK\n",
      "\n",
      "写入对象中:  76%7)   \n",
      "OK\n",
      "\n",
      "写入对象中:  82%7)   \n",
      "OK\n",
      "\n",
      "写入对象中:  88%7)   \n",
      "OK\n",
      "\n",
      "写入对象中:  94%7)   \n",
      "OK\n",
      "\n",
      "写入对象中: 100%7)   \n",
      "OK\n",
      "\n",
      "写入对象中: 100%7)   \n",
      "OK\n",
      "\n",
      "remote: Resolving deltas: 100% (12/12), completed with 4 local objects.\u001b[K\n",
      "--->  (17/17), 1.91 KiB | 1.91 MiB/s, 完成.\n",
      "Total 17 (delta 12), reused 0 (delta 0)\n",
      "remote: Resolving deltas:   0%\n",
      "OK\n",
      "\n",
      "remote: Resolving deltas:  33%\n",
      "OK\n",
      "\n",
      "remote: Resolving deltas:  41%\n",
      "OK\n",
      "\n",
      "remote: Resolving deltas:  66%\n",
      "OK\n",
      "\n",
      "remote: Resolving deltas: 100%\n",
      "OK\n",
      "\n",
      "remote: Resolving deltas: 100%\n",
      "OK\n",
      "\n",
      "To https://github.com/JeckFS/jupyter.git\n",
      "   89485e2..19cf172  master -> master\n"
     ]
    }
   ],
   "source": [
    "!expect upload_github.sh"
   ]
  },
  {
   "cell_type": "code",
   "execution_count": 5,
   "metadata": {
    "ExecuteTime": {
     "end_time": "2019-08-27T08:21:38.895170Z",
     "start_time": "2019-08-27T08:21:38.040362Z"
    }
   },
   "outputs": [
    {
     "name": "stdout",
     "output_type": "stream",
     "text": [
      "Gtk-\u001b[1;32mMessage\u001b[0m: \u001b[34m22:32:44.410\u001b[0m: GtkDialog mapped without a transient parent. This is discouraged.\n",
      "1\n"
     ]
    }
   ],
   "source": [
    "!bash test.sh /home/yfs/jupyter-dir/notebook/linear_algebra/images"
   ]
  },
  {
   "cell_type": "code",
   "execution_count": 20,
   "metadata": {
    "ExecuteTime": {
     "end_time": "2019-08-25T01:11:48.797681Z",
     "start_time": "2019-08-25T01:09:52.808218Z"
    },
    "scrolled": false
   },
   "outputs": [
    {
     "name": "stdout",
     "output_type": "stream",
     "text": [
      "sh /usr/local/software/pycharm-2019.1.3/bin/pycharm.sh:pycharm:1\n",
      "jupyter notebook:jupyter:1\n",
      "ss-local -c /home/conf_myself/shadowsocks.json:shadowsocks:1\n",
      "kolourpaint:KolourPaint:1\n",
      "gnome-terminal:terminal:1\n",
      " <br>:newline:2\n",
      " <font color='#00ff00' size=3></font>:font:2\n",
      " <img src='images/.png' width='350px'/>:img:2\n",
      "&emsp;&emsp;:tab:2\n",
      "$\\begin{equation}\\left.\\begin{array}{lr}\\end{array}\\right\\}\\end{equation}$:}:2\n",
      " :upload github:3\n",
      "OK1\n",
      "/home/yfs/jupyter-dir/notebook/linear_algebra/images\n",
      "OK1\n",
      "/home/yfs/jupyter-dir/notebook/python深度学习/Chapter4/images\n",
      "OK1\n",
      "/home/yfs/jupyter-dir/notebook/linear_algebra/images\n",
      "OK1\n",
      "/home/yfs/jupyter-dir/notebook/linear_algebra/images\n",
      "29, 173, -1, -1\n",
      "29, 173, 199, 783\n"
     ]
    }
   ],
   "source": [
    "!wish main-Copy1.sh"
   ]
  },
  {
   "cell_type": "markdown",
   "metadata": {
    "ExecuteTime": {
     "end_time": "2019-08-16T08:49:06.289237Z",
     "start_time": "2019-08-16T08:49:06.285948Z"
    }
   },
   "source": []
  },
  {
   "cell_type": "code",
   "execution_count": 115,
   "metadata": {
    "ExecuteTime": {
     "end_time": "2019-08-11T12:44:07.321365Z",
     "start_time": "2019-08-11T12:39:50.040722Z"
    },
    "scrolled": true
   },
   "outputs": [
    {
     "name": "stdout",
     "output_type": "stream",
     "text": [
      ".b Button . all\n",
      ".l\n"
     ]
    }
   ],
   "source": [
    "!wish test.sh"
   ]
  },
  {
   "cell_type": "markdown",
   "metadata": {},
   "source": [
    "<font color='#7fff62' size=3>adsfasdf</font>\n",
    "<font color='#ab3b7a' size=3>asdfasd</font>\n",
    "\n",
    "<font color='#eaf25a' size=3>asdfasdf</font>\n",
    "<font color='#cc3a2e' size=3>sdfasdfadsf</font>\n",
    "<font color='#fe49de' size=3>粉红色</font>\n",
    "<font color='#9d944a' size=3>阿斯蒂芬斯蒂芬</font>"
   ]
  }
 ],
 "metadata": {
  "kernelspec": {
   "display_name": "Python 3",
   "language": "python",
   "name": "python3"
  },
  "language_info": {
   "codemirror_mode": {
    "name": "ipython",
    "version": 3
   },
   "file_extension": ".py",
   "mimetype": "text/x-python",
   "name": "python",
   "nbconvert_exporter": "python",
   "pygments_lexer": "ipython3",
   "version": "3.6.8"
  },
  "toc": {
   "base_numbering": 1,
   "nav_menu": {},
   "number_sections": true,
   "sideBar": true,
   "skip_h1_title": false,
   "title_cell": "Table of Contents",
   "title_sidebar": "Contents",
   "toc_cell": false,
   "toc_position": {},
   "toc_section_display": true,
   "toc_window_display": false
  }
 },
 "nbformat": 4,
 "nbformat_minor": 2
}
