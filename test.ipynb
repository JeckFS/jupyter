{
 "cells": [
  {
   "cell_type": "code",
   "execution_count": 8,
   "metadata": {
    "ExecuteTime": {
     "end_time": "2019-10-04T03:11:23.814568Z",
     "start_time": "2019-10-04T03:11:23.698391Z"
    }
   },
   "outputs": [
    {
     "name": "stdout",
     "output_type": "stream",
     "text": [
      "invalid command name \"toplevel\"\r\n",
      "    while executing\r\n",
      "\"toplevel .pen # 创建笔窗口\"\r\n",
      "    (file \"pen.sh\" line 3)\r",
      "\r\n"
     ]
    }
   ],
   "source": [
    "!expect pen.sh"
   ]
  },
  {
   "cell_type": "code",
   "execution_count": 5,
   "metadata": {
    "ExecuteTime": {
     "end_time": "2019-08-27T08:21:38.895170Z",
     "start_time": "2019-08-27T08:21:38.040362Z"
    }
   },
   "outputs": [
    {
     "name": "stdout",
     "output_type": "stream",
     "text": [
      "Gtk-\u001b[1;32mMessage\u001b[0m: \u001b[34m22:32:44.410\u001b[0m: GtkDialog mapped without a transient parent. This is discouraged.\n",
      "1\n"
     ]
    }
   ],
   "source": [
    "!bash test.sh /home/yfs/jupyter-dir/notebook/linear_algebra/images"
   ]
  },
  {
   "cell_type": "code",
   "execution_count": null,
   "metadata": {
    "ExecuteTime": {
     "start_time": "2019-11-16T01:49:23.676Z"
    },
    "scrolled": true
   },
   "outputs": [
    {
     "name": "stdout",
     "output_type": "stream",
     "text": [
      "sh /usr/local/pycharm-2019.2.1/bin/pycharm.sh+pycharm+1\n",
      "jupyter notebook+jupyter+1\n",
      "ss-local -c /home/conf_myself/shadowsocks.json+shadowsocks+1\n",
      "kolourpaint+KolourPaint+1\n",
      "gnome-terminal+terminal+1\n",
      "redshift-gtk -l 41.80:123.43 -t 4200:2500+护眼模式+1\n",
      "cp /home/yfs/Documents/gitnote/local/{*} /home/yfs/Documents/gitnote/JeckFS.github.io/_posts+copy to jeckfsio+1\n",
      " <br>+newline+2\n",
      " <font color='#00ff00' size=3></font>+font+2\n",
      " <img src='images/.png' width='350px'/>+img+2\n",
      "&emsp;&emsp;+tab+2\n",
      " +upload github+3\n",
      " +镭射笔+4\n",
      "finished!!!\n",
      "\n",
      "\n",
      "cp: 无法获取'/home/yfs/Documents/gitnote/local/{*}' 的文件状态(stat): 没有那个文件或目录\n"
     ]
    }
   ],
   "source": [
    "!wish main-Copy1.sh"
   ]
  },
  {
   "cell_type": "markdown",
   "metadata": {
    "ExecuteTime": {
     "end_time": "2019-08-16T08:49:06.289237Z",
     "start_time": "2019-08-16T08:49:06.285948Z"
    }
   },
   "source": []
  },
  {
   "cell_type": "code",
   "execution_count": 115,
   "metadata": {
    "ExecuteTime": {
     "end_time": "2019-08-11T12:44:07.321365Z",
     "start_time": "2019-08-11T12:39:50.040722Z"
    },
    "scrolled": true
   },
   "outputs": [
    {
     "name": "stdout",
     "output_type": "stream",
     "text": [
      ".b Button . all\n",
      ".l\n"
     ]
    }
   ],
   "source": [
    "!wish test.sh"
   ]
  },
  {
   "cell_type": "markdown",
   "metadata": {},
   "source": [
    "<font color='#7fff62' size=3>adsfasdf</font>\n",
    "<font color='#ab3b7a' size=3>asdfasd</font>\n",
    "\n",
    "<font color='#eaf25a' size=3>asdfasdf</font>\n",
    "<font color='#cc3a2e' size=3>sdfasdfadsf</font>\n",
    "<font color='#fe49de' size=3>粉红色</font>\n",
    "<font color='#9d944a' size=3>阿斯蒂芬斯蒂芬</font>"
   ]
  }
 ],
 "metadata": {
  "kernelspec": {
   "display_name": "Python 3",
   "language": "python",
   "name": "python3"
  },
  "language_info": {
   "codemirror_mode": {
    "name": "ipython",
    "version": 3
   },
   "file_extension": ".py",
   "mimetype": "text/x-python",
   "name": "python",
   "nbconvert_exporter": "python",
   "pygments_lexer": "ipython3",
   "version": "3.6.8"
  },
  "toc": {
   "base_numbering": 1,
   "nav_menu": {},
   "number_sections": true,
   "sideBar": true,
   "skip_h1_title": false,
   "title_cell": "Table of Contents",
   "title_sidebar": "Contents",
   "toc_cell": false,
   "toc_position": {},
   "toc_section_display": true,
   "toc_window_display": false
  }
 },
 "nbformat": 4,
 "nbformat_minor": 2
}
