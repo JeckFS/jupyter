{
 "cells": [
  {
   "cell_type": "markdown",
   "metadata": {},
   "source": [
    "# leetcode 78 子集"
   ]
  },
  {
   "cell_type": "markdown",
   "metadata": {},
   "source": [
    "给定一组不含重复元素的整数数组 nums，返回该数组所有可能的子集（幂集）。\n",
    "\n",
    "说明：解集不能包含重复的子集。\n",
    "\n",
    "示例:\n",
    "\n",
    "输入: nums = [1,2,3]<br>\n",
    "输出:<br>\n",
    "[<br>\n",
    "  [3],<br>\n",
    "  [1],<br>\n",
    "  [2],<br>\n",
    "  [1,2,3],<br>\n",
    "  [1,3],<br>\n",
    "  [2,3],<br>\n",
    "  [1,2],<br>\n",
    "  []<br>\n",
    "]<br>\n",
    "\n",
    "来源：力扣（LeetCode）\n",
    "链接：https://leetcode-cn.com/problems/subsets\n",
    "著作权归领扣网络所有。商业转载请联系官方授权，非商业转载请注明出处。"
   ]
  },
  {
   "cell_type": "markdown",
   "metadata": {},
   "source": [
    "<img src='images/1.png'/>\n"
   ]
  },
  {
   "cell_type": "markdown",
   "metadata": {},
   "source": [
    "## 第一种解法"
   ]
  },
  {
   "cell_type": "markdown",
   "metadata": {},
   "source": [
    "<img src='images/2.png'/>\n"
   ]
  },
  {
   "cell_type": "markdown",
   "metadata": {},
   "source": [
    "类似与二叉树的遍历。subset集合记录遍历过程中选中的元素(节点为y的位置上的元素)，这时候选中的元素在遍历上一层的另一分支时，要把当前加入的元素去掉，因为subset记录的是遍历当前层的路径中选中的元素，其他分支出现的元素要舍弃。"
   ]
  },
  {
   "cell_type": "code",
   "execution_count": null,
   "metadata": {},
   "outputs": [],
   "source": [
    "private void work(int[] nums, int cur,List<Integer> subset, List<List<Integer>> res){\n",
    "   if (cur == nums.length) {\n",
    "      res.add(subset);\n",
    "      return;\n",
    "   }\n",
    "   // 不选择cur位置元素\n",
    "   work(nums, cur+1, subset, res);\n",
    "\n",
    "   // 选择cur位置元素\n",
    "   subset.add(nums[cur]);\n",
    "   work(nums, cur+1, subset, res);\n",
    "   subset.remove(subset.size()-1);\n",
    "}\n",
    "\n",
    "public List<List<Integer>> subsets(int[] nums){\n",
    "\n",
    "    List<List<Integer>> res = new ArrayList<>();\n",
    "    List<Integer> subset = new ArrayList<>();\n",
    "\n",
    "    work(nums, 0, subset, res);\n",
    "    return res;\n",
    "}"
   ]
  },
  {
   "cell_type": "markdown",
   "metadata": {},
   "source": [
    "小技巧：当每一层的递归函数共享同一个变量(如subset)时，在当前层的递归函数中改了共享变量的值后，应再改回去，这样才不影响其他层递归函数的使用。"
   ]
  },
  {
   "cell_type": "markdown",
   "metadata": {},
   "source": [
    "## 第二种解法"
   ]
  },
  {
   "cell_type": "markdown",
   "metadata": {},
   "source": [
    "给定集合中，每个元素都不同。其子集可看做是每一位置上的元素选或是不选，也就是每一个位置上有两种状态来标记。故可用一个64位的long类型变量，来表示这种标记关系。对于一个长度为n的集合来说，共有$2^n$种子集。long类型每一个数字就代表了一个子集。根据位运算，取出二进制位上为1的集合元素即可。"
   ]
  },
  {
   "cell_type": "code",
   "execution_count": null,
   "metadata": {},
   "outputs": [],
   "source": [
    "public List<List<Integer>> subsets(int[] nums){\n",
    "    List<List<Integer>> res = new ArrayList<>();\n",
    "\n",
    "    long limits = 1L << nums.length;\n",
    "    for (int i = 0; i < limits; ++i){\n",
    "        List<Integer> subset = new ArrayList<>();\n",
    "        for (int j = 0; j < nums.length; ++j) {\n",
    "            if ((i & (1L << j)) != 0){\n",
    "                subset.add(nums[j]);\n",
    "            }\n",
    "        }\n",
    "        res.add(subset);\n",
    "    }\n",
    "    return res;\n",
    "}"
   ]
  },
  {
   "cell_type": "markdown",
   "metadata": {},
   "source": [
    "### 第三种解法"
   ]
  },
  {
   "cell_type": "markdown",
   "metadata": {},
   "source": [
    "对于问题【1,2,3,4,5】(假设为问题a)的解可由子问题【2,3,4,5】(假设为问题b)的解来构建。问题a的解就是：元素1(问题a特有元素)，元素1与问题b的解的组合。"
   ]
  },
  {
   "cell_type": "code",
   "execution_count": null,
   "metadata": {},
   "outputs": [],
   "source": [
    "public class _78 {\n",
    "\n",
    "    private List<List<Integer>> result(int[] nums, int i){\n",
    "        if (i == nums.length-1){\n",
    "            List<List<Integer>> res = new ArrayList<>();\n",
    "            List<Integer> sub = new ArrayList<>();\n",
    "            sub.add(nums[i]);\n",
    "            res.add(sub);\n",
    "            return res;\n",
    "        }\n",
    "        List<List<Integer>> r = result(nums, i + 1);\n",
    "\n",
    "        List<List<Integer>> curR = new ArrayList<>(r);\n",
    "        // 加入当前位置解\n",
    "        List<Integer> sub = new ArrayList<>();\n",
    "        sub.add(nums[i]);\n",
    "        curR.add(sub); // 当前位置也是一个解\n",
    "\n",
    "        // 将当前位置与其子问题的解进行合并\n",
    "        for (List<Integer> elem : r){\n",
    "            List<Integer> subElem = new ArrayList<>();\n",
    "            subElem.add(nums[i]);\n",
    "            subElem.addAll(elem);\n",
    "            curR.add(subElem);\n",
    "        }\n",
    "        return curR;\n",
    "    }\n",
    "\n",
    "    public List<List<Integer>> subsets(int[] nums) {\n",
    "        List<List<Integer>> result = result(nums, 0);\n",
    "        List<List<Integer>> r = new ArrayList<>();\n",
    "        List<Integer> t = new ArrayList<>();\n",
    "        r.add(t);\n",
    "        r.addAll(result);\n",
    "        return r;\n",
    "    }\n",
    "\n",
    "    public static void main(String[] args) {\n",
    "        List<List<Integer>> subsets = new _78().subsets(new int[]{1, 2, 3,4,5});\n",
    "        for (List<Integer> elem : subsets) {\n",
    "            System.out.println(elem.toString());\n",
    "        }\n",
    "    }\n",
    "}"
   ]
  }
 ],
 "metadata": {
  "kernelspec": {
   "display_name": "Java",
   "language": "java",
   "name": "java"
  },
  "language_info": {
   "codemirror_mode": "java",
   "file_extension": ".java",
   "mimetype": "text/x-java-source",
   "name": "Java",
   "pygments_lexer": "java",
   "version": "11.0.4+11-post-Ubuntu-1ubuntu218.04.3"
  },
  "toc": {
   "base_numbering": 1,
   "nav_menu": {},
   "number_sections": true,
   "sideBar": true,
   "skip_h1_title": false,
   "title_cell": "Table of Contents",
   "title_sidebar": "Contents",
   "toc_cell": false,
   "toc_position": {},
   "toc_section_display": true,
   "toc_window_display": false
  }
 },
 "nbformat": 4,
 "nbformat_minor": 2
}
