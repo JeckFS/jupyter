{
 "cells": [
  {
   "cell_type": "markdown",
   "metadata": {},
   "source": [
    "# 算法"
   ]
  },
  {
   "cell_type": "markdown",
   "metadata": {},
   "source": [
    "我们从序列 1 ..n 中取出数字 i，作为当前树的树根。于是，剩余 i - 1 个元素可用于左子树，n - i 个元素用于右子树。\n",
    "如 前文所述，这样会产生 G(i - 1) 种左子树 和 G(n - i) 种右子树，其中 G 是卡特兰数。"
   ]
  },
  {
   "cell_type": "markdown",
   "metadata": {},
   "source": [
    "<img src='images/11.png'/>\n"
   ]
  },
  {
   "cell_type": "markdown",
   "metadata": {},
   "source": [
    "现在，我们对序列 1 ... i - 1 重复上述过程，以构建所有的左子树；然后对 i + 1 ... n 重复，以构建所有的右子树。\n",
    "\n",
    "这样，我们就有了树根 i 和可能的左子树、右子树的列表。\n",
    "\n",
    "最后一步，对两个列表循环，将左子树和右子树连接在根上。"
   ]
  },
  {
   "cell_type": "code",
   "execution_count": null,
   "metadata": {},
   "outputs": [],
   "source": [
    "class Solution {\n",
    "  public LinkedList<TreeNode> generate_trees(int start, int end) {\n",
    "    LinkedList<TreeNode> all_trees = new LinkedList<TreeNode>();\n",
    "    if (start > end) {\n",
    "      all_trees.add(null);\n",
    "      return all_trees;\n",
    "    }\n",
    "\n",
    "    // pick up a root\n",
    "    for (int i = start; i <= end; i++) {\n",
    "      // all possible left subtrees if i is choosen to be a root\n",
    "      LinkedList<TreeNode> left_trees = generate_trees(start, i - 1);\n",
    "\n",
    "      // all possible right subtrees if i is choosen to be a root\n",
    "      LinkedList<TreeNode> right_trees = generate_trees(i + 1, end);\n",
    "\n",
    "      // connect left and right trees to the root i\n",
    "      for (TreeNode l : left_trees) {\n",
    "        for (TreeNode r : right_trees) {\n",
    "          TreeNode current_tree = new TreeNode(i);\n",
    "          current_tree.left = l;\n",
    "          current_tree.right = r;\n",
    "          all_trees.add(current_tree);\n",
    "        }\n",
    "      }\n",
    "    }\n",
    "    return all_trees;\n",
    "  }\n",
    "\n",
    "  public List<TreeNode> generateTrees(int n) {\n",
    "    if (n == 0) {\n",
    "      return new LinkedList<TreeNode>();\n",
    "    }\n",
    "    return generate_trees(1, n);\n",
    "  }\n",
    "}"
   ]
  },
  {
   "cell_type": "markdown",
   "metadata": {},
   "source": [
    "# 总结："
   ]
  },
  {
   "cell_type": "raw",
   "metadata": {},
   "source": [
    "    对于递归算法，首先考虑解决的问题是什么，其子问题是什么。子问题划分明白了，实现起来就简单了。\n",
    "    本问题：求解n个节点所构成的二叉树，并保存每种二叉树结构。节点可用节点序号来表示，一共有1,2,...,n个节点。\n",
    "    题解思路是将选出根节点i，[begin, i-1]是节点i的左子树，[i+1, end]是节点i的右子树。左右子树的构建又可以是递归的。**保存了左右子树所构成的二叉树结构，在左子树和右子树之间组合一下就是大问题的解。**每一个问题的求解过程中要保存不同二叉树的结构，所以需要在递归函数中定义一个LinkedList<TreeNode>变量all_trees。这也是我没有想到的地方，递归函数中定义变量保存当前递归层次的结果。"
   ]
  }
 ],
 "metadata": {
  "kernelspec": {
   "display_name": "Java",
   "language": "java",
   "name": "java"
  },
  "language_info": {
   "codemirror_mode": "java",
   "file_extension": ".java",
   "mimetype": "text/x-java-source",
   "name": "Java",
   "pygments_lexer": "java",
   "version": "11.0.4+11-post-Ubuntu-1ubuntu218.04.3"
  },
  "toc": {
   "base_numbering": 1,
   "nav_menu": {},
   "number_sections": true,
   "sideBar": true,
   "skip_h1_title": false,
   "title_cell": "Table of Contents",
   "title_sidebar": "Contents",
   "toc_cell": false,
   "toc_position": {},
   "toc_section_display": true,
   "toc_window_display": false
  }
 },
 "nbformat": 4,
 "nbformat_minor": 2
}
