{
 "cells": [
  {
   "cell_type": "markdown",
   "metadata": {},
   "source": [
    "给定一个可能包含重复元素的整数数组 nums，返回该数组所有可能的子集（幂集）。\n",
    "\n",
    "说明：解集不能包含重复的子集。\n",
    "\n",
    "示例:\n",
    "\n",
    "输入: [1,2,2]<br>\n",
    "输出:<br>\n",
    "[<br>\n",
    "  [2],<br>\n",
    "  [1],<br>\n",
    "  [1,2,2],<br>\n",
    "  [2,2],<br>\n",
    "  [1,2],<br>\n",
    "  []<br>\n",
    "]<br>\n",
    "\n",
    "来源：力扣（LeetCode）\n",
    "链接：https://leetcode-cn.com/problems/subsets-ii\n",
    "著作权归领扣网络所有。商业转载请联系官方授权，非商业转载请注明出处。"
   ]
  },
  {
   "cell_type": "markdown",
   "metadata": {},
   "source": [
    "# 解法1"
   ]
  },
  {
   "cell_type": "markdown",
   "metadata": {},
   "source": [
    "<img src='images/3.png'/>\n"
   ]
  },
  {
   "cell_type": "code",
   "execution_count": null,
   "metadata": {},
   "outputs": [],
   "source": [
    "public List<List<Integer>> subsetsWithDup(int[] nums) {\n",
    "    List<List<Integer>> ans = new ArrayList<>();\n",
    "    Arrays.sort(nums); //排序\n",
    "    getAns(nums, 0, new ArrayList<>(), ans);\n",
    "    return ans;\n",
    "}\n",
    "\n",
    "private void getAns(int[] nums, int start, ArrayList<Integer> temp, List<List<Integer>> ans) {\n",
    "    ans.add(new ArrayList<>(temp));\n",
    "    for (int i = start; i < nums.length; i++) {\n",
    "        //和上个数字相等就跳过\n",
    "        if (i > start && nums[i] == nums[i - 1]) {\n",
    "            continue;\n",
    "        }\n",
    "        temp.add(nums[i]);\n",
    "        getAns(nums, i + 1, temp, ans);\n",
    "        temp.remove(temp.size() - 1);\n",
    "    }\n",
    "}"
   ]
  },
  {
   "cell_type": "markdown",
   "metadata": {},
   "source": [
    "# 解法2"
   ]
  },
  {
   "cell_type": "markdown",
   "metadata": {},
   "source": [
    "<img src='images/4.png'/>\n"
   ]
  },
  {
   "cell_type": "markdown",
   "metadata": {},
   "source": [
    "我们看到第 4 行黑色的部分，重复了，是怎么造成的呢？\n",
    "\n",
    "第 4 行新添加的 2 要加到第 3 行的所有解中，而第 3 行的一部分解是旧解，一部分是新解。可以看到，我们黑色部分是由第 3 行的旧解产生的，橙色部分是由新解产生的。\n",
    "\n",
    "而第 1 行到第 2 行，已经在旧解中加入了 2 产生了第 2 行的橙色部分，所以这里如果再在旧解中加 2 产生黑色部分就造成了重复。\n",
    "\n",
    "所以当有重复数字的时候，我们只考虑上一步的新解，算法中用一个指针保存每一步的新解开始的位置即可。\n",
    "\n",
    "作者：windliang\n",
    "链接：https://leetcode-cn.com/problems/subsets-ii/solution/xiang-xi-tong-su-de-si-lu-fen-xi-duo-jie-fa-by-19/\n",
    "来源：力扣（LeetCode）"
   ]
  },
  {
   "cell_type": "code",
   "execution_count": null,
   "metadata": {},
   "outputs": [],
   "source": [
    "/**\n",
    "     *\n",
    "     * @param nums：从大到小的有序数组\n",
    "     * @param n：数组长度\n",
    "     * @param cur：当前位置\n",
    "     * @param finalRes：最终结果\n",
    "     * @param i：finalRes起始位置\n",
    "     */\n",
    "    private void result(int[] nums,int n, int cur, List<List<Integer>> finalRes, int i){\n",
    "        if (cur == -1){\n",
    "            return;\n",
    "        }\n",
    "        int len = finalRes.size()-1;\n",
    "        int ii = (nums[cur] != nums[cur+1]) ? 1 : i;\n",
    "        // 当前位置也是一个子集, 故添加\n",
    "        if (nums[cur] != nums[cur+1]) {\n",
    "            List<Integer> elem = new ArrayList<>();\n",
    "            elem.add(nums[cur]);\n",
    "            finalRes.add(elem);\n",
    "        }\n",
    "        for (int j = ii; j <= len; ++j){\n",
    "            List<Integer> e = new ArrayList<>();\n",
    "            e.add(nums[cur]);\n",
    "            e.addAll(finalRes.get(j));\n",
    "            finalRes.add(e);\n",
    "        }\n",
    "        result(nums, n, cur-1, finalRes, len+1);\n",
    "    }\n",
    "\n",
    "\n",
    "    public List<List<Integer>> subsetsWithDup(int[] nums) {\n",
    "        // 将数组排序\n",
    "        Arrays.sort(nums);\n",
    "\n",
    "        List<List<Integer>> res = new ArrayList<>();\n",
    "        List<Integer> elem1 = new ArrayList<>();\n",
    "        res.add(elem1);\n",
    "\n",
    "        // 生成最后一个重复数字的子集\n",
    "        List<Integer> elem2 = new ArrayList<>();\n",
    "        elem2.add(nums[nums.length-1]);\n",
    "        res.add(elem2);\n",
    "        int i;\n",
    "        for (i = nums.length-2; i >= 0 && nums[i] == nums[i+1]; --i){\n",
    "            List<Integer> e = new ArrayList<>();\n",
    "            e.add(nums[i]);\n",
    "            e.addAll(res.get(res.size()-1));\n",
    "            res.add(e);\n",
    "        }\n",
    "        result(nums, nums.length, i, res, 1);\n",
    "        return res;\n",
    "    }"
   ]
  },
  {
   "cell_type": "markdown",
   "metadata": {},
   "source": [
    "# 解法3"
   ]
  },
  {
   "cell_type": "markdown",
   "metadata": {},
   "source": [
    "当有重复数字出现的时候我们不再按照之前的思路走，而是单独考虑这种情况。\n",
    "\n",
    "当有 n 个重复数字出现，其实就是在出现重复数字之前的所有解中，分别加 1 个重复数字， 2 个重复数字，3 个重复数字 ... 什么意思呢，看一个例子。\n",
    "\n",
    "数组 [ 1 2 2 2 ] <br>\n",
    "[ ]的所有子串 [ ]<br>\n",
    "[ 1 ] 个的所有子串 [ ] [ 1 ] <br>\n",
    "然后出现了重复数字 2，那么我们记录重复的次数。然后遍历之前每个解即可<br>\n",
    "对于 [ ] 这个解，<br>\n",
    "加 1 个 2，变成 [ 2 ] <br>\n",
    "加 2 个 2，变成 [ 2 2 ]<br>\n",
    "加 3 个 2，变成 [ 2 2 2 ]<br>\n",
    "对于 [ 1 ] 这个解<br>\n",
    "加 1 个 2，变成 [ 1 2 ] <br>\n",
    "加 2 个 2，变成 [ 1 2 2 ]<br>\n",
    "加 3 个 2，变成 [ 1 2 2 2 ]<br>\n",
    "\n",
    "作者：windliang\n",
    "链接：https://leetcode-cn.com/problems/subsets-ii/solution/xiang-xi-tong-su-de-si-lu-fen-xi-duo-jie-fa-by-19/\n",
    "来源：力扣（LeetCode）"
   ]
  },
  {
   "cell_type": "code",
   "execution_count": null,
   "metadata": {},
   "outputs": [],
   "source": [
    "public List<List<Integer>> subsetsWithDup(int[] num) {\n",
    "    List<List<Integer>> result = new ArrayList<List<Integer>>();\n",
    "    List<Integer> empty = new ArrayList<Integer>();\n",
    "    result.add(empty);\n",
    "    Arrays.sort(num);\n",
    "\n",
    "    for (int i = 0; i < num.length; i++) {\n",
    "        int dupCount = 0;\n",
    "        //判断当前是否是重复数字，并且记录重复的次数\n",
    "        while( ((i+1) < num.length) && num[i+1] == num[i]) {\n",
    "            dupCount++;\n",
    "            i++;\n",
    "        }\n",
    "        int prevNum = result.size();\n",
    "        //遍历之前几个结果的每个解\n",
    "        for (int j = 0; j < prevNum; j++) {\n",
    "            List<Integer> element = new ArrayList<Integer>(result.get(j));\n",
    "            //每次在上次的结果中多加 1 个重复数字\n",
    "            for (int t = 0; t <= dupCount; t++) {\n",
    "                element.add(num[i]); //加入当前重复的数字\n",
    "                result.add(new ArrayList<Integer>(element));\n",
    "            }\n",
    "        }\n",
    "    }\n",
    "    return result;\n",
    "}"
   ]
  },
  {
   "cell_type": "markdown",
   "metadata": {},
   "source": [
    "<img src='images/5.png'/>\n"
   ]
  },
  {
   "cell_type": "markdown",
   "metadata": {},
   "source": []
  },
  {
   "cell_type": "markdown",
   "metadata": {},
   "source": []
  },
  {
   "cell_type": "markdown",
   "metadata": {},
   "source": []
  },
  {
   "cell_type": "markdown",
   "metadata": {},
   "source": []
  },
  {
   "cell_type": "markdown",
   "metadata": {},
   "source": []
  },
  {
   "cell_type": "markdown",
   "metadata": {},
   "source": []
  },
  {
   "cell_type": "markdown",
   "metadata": {},
   "source": []
  },
  {
   "cell_type": "markdown",
   "metadata": {},
   "source": []
  },
  {
   "cell_type": "markdown",
   "metadata": {},
   "source": []
  },
  {
   "cell_type": "markdown",
   "metadata": {},
   "source": []
  },
  {
   "cell_type": "markdown",
   "metadata": {},
   "source": []
  },
  {
   "cell_type": "markdown",
   "metadata": {},
   "source": []
  },
  {
   "cell_type": "markdown",
   "metadata": {},
   "source": []
  },
  {
   "cell_type": "markdown",
   "metadata": {},
   "source": []
  },
  {
   "cell_type": "markdown",
   "metadata": {},
   "source": []
  },
  {
   "cell_type": "markdown",
   "metadata": {},
   "source": []
  },
  {
   "cell_type": "markdown",
   "metadata": {},
   "source": []
  },
  {
   "cell_type": "markdown",
   "metadata": {},
   "source": []
  },
  {
   "cell_type": "markdown",
   "metadata": {},
   "source": []
  },
  {
   "cell_type": "markdown",
   "metadata": {},
   "source": []
  },
  {
   "cell_type": "markdown",
   "metadata": {},
   "source": []
  },
  {
   "cell_type": "markdown",
   "metadata": {},
   "source": []
  },
  {
   "cell_type": "markdown",
   "metadata": {},
   "source": []
  },
  {
   "cell_type": "markdown",
   "metadata": {},
   "source": []
  },
  {
   "cell_type": "markdown",
   "metadata": {},
   "source": []
  },
  {
   "cell_type": "markdown",
   "metadata": {},
   "source": []
  },
  {
   "cell_type": "markdown",
   "metadata": {},
   "source": []
  },
  {
   "cell_type": "markdown",
   "metadata": {},
   "source": []
  },
  {
   "cell_type": "markdown",
   "metadata": {},
   "source": []
  }
 ],
 "metadata": {
  "kernelspec": {
   "display_name": "Java",
   "language": "java",
   "name": "java"
  },
  "language_info": {
   "codemirror_mode": "java",
   "file_extension": ".java",
   "mimetype": "text/x-java-source",
   "name": "Java",
   "pygments_lexer": "java",
   "version": "11.0.4+11-post-Ubuntu-1ubuntu218.04.3"
  },
  "toc": {
   "base_numbering": 1,
   "nav_menu": {},
   "number_sections": true,
   "sideBar": true,
   "skip_h1_title": false,
   "title_cell": "Table of Contents",
   "title_sidebar": "Contents",
   "toc_cell": false,
   "toc_position": {},
   "toc_section_display": true,
   "toc_window_display": false
  }
 },
 "nbformat": 4,
 "nbformat_minor": 2
}
