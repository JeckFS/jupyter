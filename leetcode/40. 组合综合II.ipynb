{
 "cells": [
  {
   "cell_type": "markdown",
   "metadata": {},
   "source": [
    "给定一个数组 candidates 和一个目标数 target ，找出 candidates 中所有可以使数字和为 target 的组合。\n",
    "\n",
    "candidates 中的每个数字在每个组合中只能使用一次。\n",
    "\n",
    "说明：\n",
    "\n",
    "所有数字（包括目标数）都是正整数。\n",
    "解集不能包含重复的组合。 \n",
    "示例 1:\n",
    "\n",
    "输入: candidates = [10,1,2,7,6,1,5], target = 8,\n",
    "所求解集为:\n",
    "[<br>\n",
    "  [1, 7],<br>\n",
    "  [1, 2, 5],<br>\n",
    "  [2, 6],<br>\n",
    "  [1, 1, 6]<br>\n",
    "]<br>\n",
    "示例 2:<br>\n",
    "<br>\n",
    "输入: candidates = [2,5,2,1,2], target = 5,<br>\n",
    "所求解集为:<br>\n",
    "[<br>\n",
    "  [1,2,2],<br>\n",
    "  [5]<br>\n",
    "]<br>\n",
    "\n",
    "来源：力扣（LeetCode）\n",
    "链接：https://leetcode-cn.com/problems/combination-sum-ii\n",
    "著作权归领扣网络所有。商业转载请联系官方授权，非商业转载请注明出处。"
   ]
  },
  {
   "cell_type": "markdown",
   "metadata": {},
   "source": [
    "它与39题的区别是：39题不允许candidates中出现重复元素，而40题无此要求。<br>\n",
    "39题题干：<br>\n",
    "给定一个**无重复元素**的数组 candidates 和一个目标数 target ，找出 candidates 中所有可以使数字和为 target 的组合。\n",
    "candidates 中的数字可以无限制重复被选取。\n"
   ]
  },
  {
   "cell_type": "markdown",
   "metadata": {},
   "source": [
    "---"
   ]
  },
  {
   "cell_type": "markdown",
   "metadata": {},
   "source": [
    "<font color='#f807e8' size=3>在39题的基础上稍微改了下，使用了Set集合来确保无重复子集。</font>"
   ]
  },
  {
   "cell_type": "markdown",
   "metadata": {},
   "source": [
    "<img src='images/6.png'/>\n"
   ]
  },
  {
   "cell_type": "code",
   "execution_count": null,
   "metadata": {},
   "outputs": [],
   "source": [
    "private void result(int[] candidates, int target, int sum,int cur,List<Integer> subset, Set<List<Integer>> res){\n",
    "    if (sum > target)\n",
    "        return ;\n",
    "    if (sum == target){\n",
    "        List<Integer> e = new ArrayList<>(subset);\n",
    "        res.add(e);\n",
    "        return ;\n",
    "    }\n",
    "    for (int i = cur; i < candidates.length; ++i){\n",
    "        subset.add(candidates[i]);\n",
    "        if (sum + candidates[i] <= target)\n",
    "            result(candidates, target, sum + candidates[i],i+1, subset, res);\n",
    "        subset.remove(subset.size()-1);\n",
    "    }\n",
    "}\n",
    "\n",
    "public List<List<Integer>> combinationSum2(int[] candidates, int target) {\n",
    "    Set<List<Integer>> res = new HashSet<>();\n",
    "    List<Integer> subset = new ArrayList<>();\n",
    "    Arrays.sort(candidates);\n",
    "    result(candidates,target, 0,0, subset, res);\n",
    "    List<List<Integer>> r = new ArrayList<>(res);\n",
    "    return r;\n",
    "}"
   ]
  },
  {
   "cell_type": "markdown",
   "metadata": {},
   "source": [
    "---"
   ]
  },
  {
   "cell_type": "markdown",
   "metadata": {},
   "source": [
    "题解解法："
   ]
  },
  {
   "cell_type": "markdown",
   "metadata": {},
   "source": [
    "<img src='images/7.png'/>\n"
   ]
  },
  {
   "cell_type": "markdown",
   "metadata": {},
   "source": [
    "<img src='images/8.png'/>\n",
    "<img src='images/9.png'/>\n"
   ]
  },
  {
   "cell_type": "code",
   "execution_count": null,
   "metadata": {},
   "outputs": [],
   "source": [
    "private void result(int[] candidates, int target, int sum,int cur,List<Integer> subset, List<List<Integer>> res){\n",
    "    if (sum > target)\n",
    "        return ;\n",
    "    if (sum == target){\n",
    "        List<Integer> e = new ArrayList<>(subset);\n",
    "        res.add(e);\n",
    "        return ;\n",
    "    }\n",
    "    for (int i = cur; i < candidates.length; ++i){\n",
    "        // 这一步之所以能够生效，其前提是数组一定是排好序的，这样才能保证：\n",
    "        // 在递归调用的统一深度（层）中，一个元素只使用一次。\n",
    "        // 这一步剪枝操作基于 candidates 数组是排序数组的前提下\n",
    "        if (i != cur && candidates[i] == candidates[i-1])\n",
    "            continue;\n",
    "        subset.add(candidates[i]);\n",
    "        result(candidates,target,sum+candidates[i],i+1,subset, res);\n",
    "        subset.remove(subset.size()-1);\n",
    "    }\n",
    "}\n",
    "\n",
    "public List<List<Integer>> combinationSum2(int[] candidates, int target) {\n",
    "    List<List<Integer>> res = new ArrayList<>();\n",
    "    List<Integer> subset = new ArrayList<>();\n",
    "    Arrays.sort(candidates);\n",
    "    result(candidates,target, 0,0, subset, res);\n",
    "    return res;\n",
    "}"
   ]
  }
 ],
 "metadata": {
  "kernelspec": {
   "display_name": "Java",
   "language": "java",
   "name": "java"
  },
  "language_info": {
   "codemirror_mode": "java",
   "file_extension": ".java",
   "mimetype": "text/x-java-source",
   "name": "Java",
   "pygments_lexer": "java",
   "version": "11.0.4+11-post-Ubuntu-1ubuntu218.04.3"
  },
  "toc": {
   "base_numbering": 1,
   "nav_menu": {},
   "number_sections": true,
   "sideBar": true,
   "skip_h1_title": false,
   "title_cell": "Table of Contents",
   "title_sidebar": "Contents",
   "toc_cell": false,
   "toc_position": {},
   "toc_section_display": true,
   "toc_window_display": false
  }
 },
 "nbformat": 4,
 "nbformat_minor": 2
}
