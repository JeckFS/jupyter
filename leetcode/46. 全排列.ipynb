{
 "cells": [
  {
   "cell_type": "markdown",
   "metadata": {},
   "source": [
    "给定一个没有重复数字的序列，返回其所有可能的全排列。\n",
    "\n",
    "示例:\n",
    "\n",
    "输入: [1,2,3]<br>\n",
    "输出:<br>\n",
    "[<br>\n",
    "  [1,2,3],<br>\n",
    "  [1,3,2],<br>\n",
    "  [2,1,3],<br>\n",
    "  [2,3,1],<br>\n",
    "  [3,1,2],<br>\n",
    "  [3,2,1]<br>\n",
    "]\n",
    "\n",
    "来源：力扣（LeetCode）\n",
    "链接：https://leetcode-cn.com/problems/permutations\n",
    "著作权归领扣网络所有。商业转载请联系官方授权，非商业转载请注明出处。"
   ]
  },
  {
   "cell_type": "code",
   "execution_count": null,
   "metadata": {},
   "outputs": [],
   "source": [
    "private void result(int[] nums, int cur, List<Integer> subset, List<List<Integer>> res){\n",
    "    if (cur == nums.length){\n",
    "        res.add(new ArrayList<>(subset));\n",
    "        return ;\n",
    "    }\n",
    "\n",
    "    for (int i = 0; i < nums.length; ++i){\n",
    "        if (!subset.contains(nums[i])) {\n",
    "            subset.add(nums[i]);\n",
    "            result(nums, cur+1, subset, res);\n",
    "            subset.remove(subset.size()-1);\n",
    "        }\n",
    "    }\n",
    "}\n",
    "\n",
    "public List<List<Integer>> permute(int[] nums) {\n",
    "    List<List<Integer>> res = new ArrayList<>();\n",
    "    List<Integer> subset = new ArrayList<>();\n",
    "    result(nums, 0,subset,res);\n",
    "    return res;\n",
    "}"
   ]
  }
 ],
 "metadata": {
  "kernelspec": {
   "display_name": "Java",
   "language": "java",
   "name": "java"
  },
  "language_info": {
   "codemirror_mode": "java",
   "file_extension": ".java",
   "mimetype": "text/x-java-source",
   "name": "Java",
   "pygments_lexer": "java",
   "version": "11.0.4+11-post-Ubuntu-1ubuntu218.04.3"
  },
  "toc": {
   "base_numbering": 1,
   "nav_menu": {},
   "number_sections": true,
   "sideBar": true,
   "skip_h1_title": false,
   "title_cell": "Table of Contents",
   "title_sidebar": "Contents",
   "toc_cell": false,
   "toc_position": {},
   "toc_section_display": true,
   "toc_window_display": false
  }
 },
 "nbformat": 4,
 "nbformat_minor": 2
}
