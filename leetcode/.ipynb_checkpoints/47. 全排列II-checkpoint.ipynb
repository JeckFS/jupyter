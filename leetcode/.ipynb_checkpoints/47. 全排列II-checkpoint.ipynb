{
 "cells": [
  {
   "cell_type": "markdown",
   "metadata": {},
   "source": []
  },
  {
   "cell_type": "code",
   "execution_count": null,
   "metadata": {},
   "outputs": [],
   "source": [
    "private void result(int[] nums,boolean[] flag, List<Integer> subset, List<List<Integer>> res){\n",
    "    if (subset.size()== nums.length) {\n",
    "        res.add(new ArrayList<>(subset));\n",
    "        return;\n",
    "    }\n",
    "    for (int i = 0; i < nums.length; ++i) {\n",
    "        if (!flag[i]) {\n",
    "            // 第一种方法\n",
    "            if (i != 0  && nums[i] == nums[i-1] && !flag[i-1]) continue;\n",
    "            flag[i] = true;\n",
    "            subset.add(nums[i]);\n",
    "            result(nums, flag, subset, res);\n",
    "            subset.remove(subset.size()-1);\n",
    "            flag[i] = false;\n",
    "            // 第二种方法\n",
    "//                while (i+1 < nums.length && nums[i] == nums[i+1]) ++i;\n",
    "        }\n",
    "    }\n",
    "}\n",
    "public List<List<Integer>> permuteUnique(int[] nums) {\n",
    "    boolean[] flag = new boolean[nums.length];\n",
    "    Arrays.sort(nums);\n",
    "    List<List<Integer>> res = new ArrayList<>();\n",
    "    List<Integer> subset = new ArrayList<>();\n",
    "    result(nums,flag, subset, res);\n",
    "    return res;\n",
    "}"
   ]
  },
  {
   "cell_type": "markdown",
   "metadata": {},
   "source": [
    "<img src='images/10.png'/>\n"
   ]
  },
  {
   "cell_type": "markdown",
   "metadata": {},
   "source": [
    "第一种方法与第二种方法都是跳过同层中相邻的元素。前提是数组是有序的。<br>\n",
    "第一种方法是：如果这个数和之前的数一样，并且之前的数还未使用过，那接下来如果走这个分支，就会使用到之前那个和当前一样的数，就会发生重复，此时分支和之前的分支一模一样。<br>\n",
    "第二种方法是：直接跳过当前层中相同且相邻的元素。比较方便容易理解。<br>"
   ]
  }
 ],
 "metadata": {
  "kernelspec": {
   "display_name": "Java",
   "language": "java",
   "name": "java"
  },
  "language_info": {
   "codemirror_mode": "java",
   "file_extension": ".java",
   "mimetype": "text/x-java-source",
   "name": "Java",
   "pygments_lexer": "java",
   "version": "11.0.4+11-post-Ubuntu-1ubuntu218.04.3"
  },
  "toc": {
   "base_numbering": 1,
   "nav_menu": {},
   "number_sections": true,
   "sideBar": true,
   "skip_h1_title": false,
   "title_cell": "Table of Contents",
   "title_sidebar": "Contents",
   "toc_cell": false,
   "toc_position": {},
   "toc_section_display": true,
   "toc_window_display": false
  }
 },
 "nbformat": 4,
 "nbformat_minor": 2
}
