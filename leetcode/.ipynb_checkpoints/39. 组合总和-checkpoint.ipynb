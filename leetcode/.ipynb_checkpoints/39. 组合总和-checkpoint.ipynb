{
 "cells": [
  {
   "cell_type": "markdown",
   "metadata": {},
   "source": [
    "给定一个无重复元素的数组 candidates 和一个目标数 target ，找出 candidates 中所有可以使数字和为 target 的组合。\n",
    "\n",
    "candidates 中的数字可以无限制重复被选取。\n",
    "\n",
    "说明：\n",
    "\n",
    "所有数字（包括 target）都是正整数。\n",
    "解集不能包含重复的组合。 \n",
    "示例 1:\n",
    "\n",
    "输入: candidates = [2,3,6,7], target = 7,\n",
    "所求解集为:<br>\n",
    "[<br>\n",
    "  [7],<br>\n",
    "  [2,2,3]<br>\n",
    "]<br>\n",
    "示例 2:<br>\n",
    "\n",
    "输入: candidates = [2,3,5], target = 8,<br>\n",
    "所求解集为:<br>\n",
    "[<br>\n",
    "  [2,2,2,2],<br>\n",
    "  [2,3,3],<br>\n",
    "  [3,5]<br>\n",
    "]<br>\n",
    "\n",
    "来源：力扣（LeetCode）\n",
    "链接：https://leetcode-cn.com/problems/combination-sum\n",
    "著作权归领扣网络所有。商业转载请联系官方授权，非商业转载请注明出处。"
   ]
  },
  {
   "cell_type": "markdown",
   "metadata": {},
   "source": [
    "## 解法1"
   ]
  },
  {
   "cell_type": "code",
   "execution_count": null,
   "metadata": {},
   "outputs": [],
   "source": [
    "private void result(int[] candidates, int target, int sum,int cur,List<Integer> subset, List<List<Integer>> res){\n",
    "    if (sum > target)\n",
    "        return ;\n",
    "    if (sum == target){\n",
    "        List<Integer> e = new ArrayList<>();\n",
    "        e.addAll(subset);\n",
    "        res.add(e);\n",
    "        return ;\n",
    "    }\n",
    "    for (int i = cur; i < candidates.length; ++i){ // 注意i如果从0开始会有什么效果(全排列效果)\n",
    "        subset.add(candidates[i]);\n",
    "        if (sum + candidates[i] <= target)\n",
    "            result(candidates, target, sum + candidates[i],i, subset, res);\n",
    "        subset.remove(subset.size()-1);\n",
    "    }\n",
    "}\n",
    "\n",
    "public List<List<Integer>> combinationSum(int[] candidates, int target) {\n",
    "    List<List<Integer>> res = new ArrayList<>();\n",
    "    List<Integer> subset = new ArrayList<>();\n",
    "//        Arrays.sort(candidates);\n",
    "    result(candidates,target, 0,0, subset, res);\n",
    "    return res;\n",
    "}"
   ]
  },
  {
   "cell_type": "markdown",
   "metadata": {},
   "source": [
    "## 解法2"
   ]
  },
  {
   "cell_type": "markdown",
   "metadata": {},
   "source": [
    "[动态规划法](https://leetcode-cn.com/problems/combination-sum/solution/chao-qiang-gifzhu-ni-shi-yong-dong-tai-gui-hua-qiu/)"
   ]
  },
  {
   "cell_type": "markdown",
   "metadata": {},
   "source": [
    "小知识点：利用set集合确保List集合有序"
   ]
  }
 ],
 "metadata": {
  "kernelspec": {
   "display_name": "Java",
   "language": "java",
   "name": "java"
  },
  "language_info": {
   "codemirror_mode": "java",
   "file_extension": ".java",
   "mimetype": "text/x-java-source",
   "name": "Java",
   "pygments_lexer": "java",
   "version": "11.0.4+11-post-Ubuntu-1ubuntu218.04.3"
  },
  "toc": {
   "base_numbering": 1,
   "nav_menu": {},
   "number_sections": true,
   "sideBar": true,
   "skip_h1_title": false,
   "title_cell": "Table of Contents",
   "title_sidebar": "Contents",
   "toc_cell": false,
   "toc_position": {},
   "toc_section_display": true,
   "toc_window_display": false
  }
 },
 "nbformat": 4,
 "nbformat_minor": 2
}
