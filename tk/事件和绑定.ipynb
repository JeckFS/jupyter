{
 "cells": [
  {
   "cell_type": "markdown",
   "metadata": {},
   "source": [
    "[xdotool工具模拟点击：](https://blog.csdn.net/dongfang12n/article/details/79995857)"
   ]
  },
  {
   "cell_type": "markdown",
   "metadata": {},
   "source": [
    "# 常用事件类型"
   ]
  },
  {
   "cell_type": "markdown",
   "metadata": {},
   "source": [
    "|符号|描述|\n",
    "|:---:|:---|\n",
    "|Key或KeyPress|按下按键|\n",
    "|KeyRelease|释放按键|\n",
    "|Button或ButtonPress|按下鼠标键|\n",
    "|ButtonRelease|释放鼠标键|\n",
    "|Enter|移动鼠标光标到组件内(处在组件可见部分之上)|\n",
    "|Leave|从组件上移开鼠标光标|\n",
    "|Motion|在某个组件内，将鼠标光标移到另一个点|\n",
    "|MouseWheel|移动鼠标滚轮|\n",
    "|FocusIn|组件接受键盘焦点|\n",
    "|FocusOut|组件失去键盘焦点|\n",
    "|Configure|在开始时显示组件，或者改变它的尺寸、位置或边缘宽度|\n",
    "|Map|组件可见|\n",
    "|Unmap|组件不可见|\n",
    "|Destroy|删除组件|\n"
   ]
  },
  {
   "cell_type": "markdown",
   "metadata": {},
   "source": [
    "# bind命令概览"
   ]
  },
  {
   "cell_type": "markdown",
   "metadata": {},
   "source": [
    "* 创建绑定<br>\n",
    "`bind .entry <Control-KeyPress-d> {.entry delete insert}`:作用是触发按键后，光标后面的字符串会被删除。<br>\n",
    "* 删除绑定<br>\n",
    "`bind .entry <Control-KeyPress-d> {}`<br>\n",
    "* 检索绑定的信息<br>\n",
    "`bind .entry <Control-KeyPress-d>`<br>\n",
    "输出：`.entry delete insert`<br>\n",
    "* 检索该窗口或类的全部绑定事件<br>\n",
    "`bind .entry`<br>\n",
    "输出：`<Control-Key-d>`<br>\n",
    "`bind Button`<br>\n",
    "输出：`<ButtonRelease-1> <Button-1> <Leave> <Enter> <Key-space>`<br>"
   ]
  },
  {
   "cell_type": "markdown",
   "metadata": {},
   "source": [
    "# 事件模式"
   ]
  },
  {
   "cell_type": "markdown",
   "metadata": {},
   "source": [
    "`< modifier-modifier-...-modifier-type-detail >`<br>\n",
    "基本的额modifier：<br>\n",
    "\n",
    "||用逗号隔开的表示意义相同||\n",
    "|:---|:---|:---|\n",
    "|Control|Mod1, M1, Command|Button1, B1|\n",
    "|Shift|Mod2, M2, Option|Button2, B2|\n",
    "|Lock|Mod3, M3|Button3, B3|\n",
    "|Alt|Mod4, M4|Button4, B4|\n",
    "|Meta, M|Mod5, M5|Button5, B5|\n",
    "|Doubel|Triple|Quadrupe|\n",
    "\n",
    "Double, Triple, Quadrupe用于指定两次，三次，四次重复性事件 。"
   ]
  },
  {
   "cell_type": "markdown",
   "metadata": {},
   "source": [
    "# 脚本中的置换"
   ]
  },
  {
   "cell_type": "markdown",
   "metadata": {},
   "source": [
    "<img src='images/zhihua.png'>"
   ]
  },
  {
   "cell_type": "markdown",
   "metadata": {},
   "source": [
    "# 事件绑定的层级结构"
   ]
  },
  {
   "cell_type": "markdown",
   "metadata": {},
   "source": [
    "* 事件会按照标记列表的顺序触发。默认的标记列表是：组件自身，组件类名，包含组件的顶层窗口，all。<br>\n",
    "* 查看标记列表命令：`bindtags 组件名称`<br>\n",
    "* 自定义标记：`bind 标记名 <事件模式> {script}`<br>\n",
    "* 改变标记的顺序：`bindtags 组件名 {新的标记顺序}`<br>\n",
    "* 事件触发时按照标记列表来的，可以在某个标记事件中使用`break或return -code break`命令中断事件触发。<br>"
   ]
  },
  {
   "cell_type": "markdown",
   "metadata": {},
   "source": [
    "4中标记列表所控制的范围不一样，组件类名：同属一个组件的组件都会触发本标记中的事件。后两个也同样。他们的范围在不断扩大。"
   ]
  },
  {
   "cell_type": "code",
   "execution_count": 5,
   "metadata": {
    "ExecuteTime": {
     "end_time": "2019-08-08T06:21:07.962725Z",
     "start_time": "2019-08-08T06:18:08.307865Z"
    }
   },
   "outputs": [
    {
     "name": "stdout",
     "output_type": "stream",
     "text": [
      "     1\t#!/usr/bin/wish\n",
      "     2\tbutton .btn1 -text \"按钮1\"\n",
      "     3\tbutton .btn2 -text \"按钮2\"\n",
      "     4\tputs \"按钮1的默认的标记顺序：[bindtags .btn1]\"\n",
      "     5\tbind .btn1 <Button-1> {puts \".btn1事件被触发\"}\n",
      "     6\tbind .btn2 <Button-1> {puts \".btn2事件被触发\"}\n",
      "     7\tbind all <Button-1> {puts \"%W(all)被触发\"}\n",
      "     8\twm geometry . 300x200\n",
      "     9\tpack .btn1 .btn2\n",
      "按钮1的默认的标记顺序：.btn1 Button . all\n",
      ".(all)被触发\n",
      ".btn1事件被触发\n",
      ".btn1(all)被触发\n",
      ".btn2事件被触发\n",
      ".btn2(all)被触发\n"
     ]
    }
   ],
   "source": [
    "!cat -n prog/35.sh\n",
    "!echo \"\"\n",
    "!wish prog/35.sh"
   ]
  },
  {
   "cell_type": "code",
   "execution_count": 8,
   "metadata": {
    "ExecuteTime": {
     "end_time": "2019-08-08T06:25:48.114031Z",
     "start_time": "2019-08-08T06:25:29.910558Z"
    }
   },
   "outputs": [
    {
     "name": "stdout",
     "output_type": "stream",
     "text": [
      "     1\t#!/usr/bin/wish\n",
      "     2\tbutton .btn1 -text \"按钮1\"\n",
      "     3\tbutton .btn2 -text \"按钮2\"\n",
      "     4\tputs \"按钮1的默认的标记顺序：[bindtags .btn1]\"\n",
      "     5\tbind .btn1 <Button-1> {puts \".btn1事件被触发\"; puts \"\"; break}\n",
      "     6\tbind .btn2 <Button-1> {puts \".btn2事件被触发\"}\n",
      "     7\tbind all <Button-1> {puts \"%W(all)被触发\"; puts \"\"}\n",
      "     8\twm geometry . 300x200\n",
      "     9\tpack .btn1 .btn2\n",
      "按钮1的默认的标记顺序：.btn1 Button . all\n",
      ".btn1事件被触发\n",
      "\n",
      ".btn2事件被触发\n",
      ".btn2(all)被触发\n",
      "\n",
      ".(all)被触发\n",
      "\n"
     ]
    }
   ],
   "source": [
    "# 打断.btn1的触发序列\n",
    "!cat -n prog/36.sh\n",
    "!echo \"\"\n",
    "!wish prog/36.sh"
   ]
  },
  {
   "cell_type": "code",
   "execution_count": 11,
   "metadata": {
    "ExecuteTime": {
     "end_time": "2019-08-08T06:31:02.494053Z",
     "start_time": "2019-08-08T06:30:45.460775Z"
    }
   },
   "outputs": [
    {
     "name": "stdout",
     "output_type": "stream",
     "text": [
      "     1\t#!/usr/bin/wish\n",
      "     2\tbutton .btn -text \"按钮\"\n",
      "     3\tbind newtag <Button-1> {puts \"%W被点击了\"; puts .btn的标记列表：[bindtags .btn]}\n",
      "     4\tbindtags .btn {.btn newtag all}\n",
      "     5\twm geometry . 300x200\n",
      "     6\tpack .btn\n",
      ".btn被点击了\n",
      ".btn的标记列表：.btn newtag all\n"
     ]
    }
   ],
   "source": [
    "# 自定义标记及其使用\n",
    "!cat -n prog/37.sh\n",
    "!echo \"\"\n",
    "!wish prog/37.sh"
   ]
  },
  {
   "cell_type": "markdown",
   "metadata": {},
   "source": [
    "# 命名虚拟事件"
   ]
  },
  {
   "cell_type": "markdown",
   "metadata": {},
   "source": [
    "用于将窗口系统或者用户的输入与应用程序里的任务关联。<br>\n",
    "**用户动作预定义的虚拟事件**:<br>\n",
    "`<<Clear>>`：删除当前选中的组件内容<br>\n",
    "`<<Copy>>`：将当前选中的组件内容复制到剪贴板<br>\n",
    "`<<Cut>>`：将当前选中的组件内容移动到剪贴板<br>\n",
    "`<<Paste>>`：把当前选中的组件内容用剪贴板中的内容替换<br>\n",
    "`<<PasteSelection>>`：将选中的内容插入到当前鼠标位置(可用%x和%y替换)<br>\n",
    "`<<PrevWindow>>`：切换到前一个窗口<br>\n",
    "`<<Redo>>`：重做一个刚被撤销的动作<br>\n",
    "`<<Undo>>`：撤销上一个动作<br>"
   ]
  },
  {
   "cell_type": "markdown",
   "metadata": {},
   "source": [
    "`bind .text <<Copy>> {tk_textCopy %W}`: 绑定一个虚拟事件<br>\n",
    "`event add <<Copy>> <Control-c>`: 将物理按键绑定和命名虚拟事件联系在一起。（<font color='#ff5600' size=3>所有相应`<Control-c>`的都会响应`<<copy>>`</font>\n",
    "）<br>\n",
    "`event delete <<Copy>> <Control-c>`: 删除绑定<br>"
   ]
  },
  {
   "cell_type": "markdown",
   "metadata": {},
   "source": [
    "如果虚拟绑定和物理绑定的序列相同，物理绑定优先。<br>\n",
    "如<br>`bind .text <Control-c> {puts \"copy %W\"}`\n",
    "<br>和<br>`bind .text <<Copy>> {tk_textcopy %W}\n",
    "event add <<Copy>> <Control-c>`<br>同时存在，则会执行puts命令。"
   ]
  },
  {
   "cell_type": "markdown",
   "metadata": {},
   "source": [
    "<font color='#ff5600' size=5>虚拟事件可自定义，事件只能在本应用中起作用</font>\n"
   ]
  },
  {
   "cell_type": "code",
   "execution_count": 28,
   "metadata": {
    "ExecuteTime": {
     "end_time": "2019-08-08T07:19:10.567962Z",
     "start_time": "2019-08-08T07:18:53.451130Z"
    }
   },
   "outputs": [
    {
     "name": "stdout",
     "output_type": "stream",
     "text": [
      "     1\t#!/usr/bin/wish\n",
      "     2\tentry .e\n",
      "     3\tentry .e2\n",
      "     4\tbind .e <<PasteSelection>> {}\n",
      "     5\tevent add <<PasteSelection>> <Control-m>\n",
      "     6\twm geometry . 400x100\n",
      "     7\tgrid .e .e2\n"
     ]
    }
   ],
   "source": [
    "!cat -n prog/38.sh\n",
    "!echo \"\"\n",
    "!wish prog/38.sh"
   ]
  },
  {
   "cell_type": "markdown",
   "metadata": {},
   "source": [
    "<img src='images/31.png'/>\n"
   ]
  },
  {
   "cell_type": "markdown",
   "metadata": {},
   "source": [
    "# 生成事件"
   ]
  },
  {
   "cell_type": "markdown",
   "metadata": {},
   "source": [
    "用途：\n",
    "* 模拟用户行为\n",
    "* 将一条命令动作与一个组件的虚拟绑定关联<br>\n",
    "`button .copy -text Copy -command{\n",
    "    event generate [focus] <<Copy>>\n",
    "}`或者<br>\n",
    "`.menu.edit add command -text Copy -command {\n",
    "    event generate [focus] <<Copy>>\n",
    "}`<br>\n",
    "在按下按钮时，单个按钮或菜单命令可以与拥有键盘焦点的组件绑定在一起。\n",
    "***\n",
    "小应用：可以将鼠标锁定在一个固定的组件上。"
   ]
  },
  {
   "cell_type": "code",
   "execution_count": 36,
   "metadata": {
    "ExecuteTime": {
     "end_time": "2019-08-08T07:50:15.882617Z",
     "start_time": "2019-08-08T07:38:31.796274Z"
    }
   },
   "outputs": [
    {
     "name": "stdout",
     "output_type": "stream",
     "text": [
      "     1\t#!/usr/bin/wish\n",
      "     2\tbutton .btn -text \"按钮\"\n",
      "     3\tbutton .btn2 -text \"按钮2\"\n",
      "     4\tbind .btn <Button-1> {\n",
      "     5\t    event generate .btn2 <ButtonPress> -button 1 -x 10 -y 10 -warp 1\n",
      "     6\t}\n",
      "     7\twm geometry . 300x200\n",
      "     8\tpack .btn .btn2\n"
     ]
    }
   ],
   "source": [
    "!cat -n prog/39.sh\n",
    "!echo \"\"\n",
    "!wish prog/39.sh"
   ]
  },
  {
   "cell_type": "markdown",
   "metadata": {},
   "source": [
    "<img src='images/32-2.png'/>\n"
   ]
  },
  {
   "cell_type": "markdown",
   "metadata": {},
   "source": [
    "程序解析：<br>\n",
    "上述图片红点位置时点击“按钮”后鼠标的位置。<br>\n",
    "`event generate .btn2 <ButtonPress> -button 1 -x 10 -y 10 -warp 1`：<br>\n",
    ".btn2是事件的承受着，-x,-y指定了鼠标模拟点击的位置，-warp 1给予真值表示在屏幕上移动鼠标，默认事件发生时不会移动鼠标。"
   ]
  }
 ],
 "metadata": {
  "kernelspec": {
   "display_name": "Python 3",
   "language": "python",
   "name": "python3"
  },
  "language_info": {
   "codemirror_mode": {
    "name": "ipython",
    "version": 3
   },
   "file_extension": ".py",
   "mimetype": "text/x-python",
   "name": "python",
   "nbconvert_exporter": "python",
   "pygments_lexer": "ipython3",
   "version": "3.6.8"
  },
  "toc": {
   "base_numbering": 1,
   "nav_menu": {},
   "number_sections": true,
   "sideBar": true,
   "skip_h1_title": false,
   "title_cell": "Table of Contents",
   "title_sidebar": "Contents",
   "toc_cell": false,
   "toc_position": {},
   "toc_section_display": true,
   "toc_window_display": false
  }
 },
 "nbformat": 4,
 "nbformat_minor": 2
}
