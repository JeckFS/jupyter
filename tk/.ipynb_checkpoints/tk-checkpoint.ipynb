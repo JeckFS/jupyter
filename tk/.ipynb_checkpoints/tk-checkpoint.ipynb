{
 "cells": [
  {
   "cell_type": "markdown",
   "metadata": {},
   "source": [
    "# 窗口"
   ]
  },
  {
   "cell_type": "markdown",
   "metadata": {},
   "source": [
    "tk使用‘.’来表示串口间的包含关系，主窗口是‘.’，其下组件可通过.b，.c，.b.but等等来表示。‘.’类似文件路径名中‘/’。"
   ]
  },
  {
   "cell_type": "markdown",
   "metadata": {},
   "source": [
    "# 命令"
   ]
  },
  {
   "cell_type": "markdown",
   "metadata": {},
   "source": [
    "* 创建和删除组件\n",
    "    * button .b -text \"Press me\" -command {puts Ouch!}\n",
    "    * destroy .b\n",
    "* 控制组件在屏幕上的布局\n",
    "* 和已有组件通信\n",
    "* 应用程序内和应用程序之间的组件互连"
   ]
  },
  {
   "cell_type": "markdown",
   "metadata": {},
   "source": [
    "# 几何管理器"
   ]
  },
  {
   "cell_type": "markdown",
   "metadata": {},
   "source": [
    "作用是将组件**显示在窗口上**。\n",
    "* 网格管理器\n",
    "    * 将组件按行和列排列管理\n",
    "* 打包器\n",
    "    * 按顺序将一系列组件放置在空白边缘\n",
    "* 定位器\n",
    "    * 采用固定位置或相对位置管理组件"
   ]
  },
  {
   "cell_type": "markdown",
   "metadata": {},
   "source": [
    "# 组件命令"
   ]
  },
  {
   "cell_type": "markdown",
   "metadata": {},
   "source": [
    "一个组件对应一个组件命令。组件在，相应的组件命令就在，反之，相应的组件命令就不在。**组件命令用于和已有的组件通信。**<br>\n",
    "如 <br>\n",
    "`.b configure -command runCommand\n",
    ".b invoke`<br>\n",
    "在组件命令中，第一个参数制定了对组件调用的动作。如`configure，invoke`"
   ]
  },
  {
   "cell_type": "markdown",
   "metadata": {},
   "source": [
    "# 经典组件"
   ]
  },
  {
   "cell_type": "markdown",
   "metadata": {},
   "source": [
    "||||||\n",
    "|:---:|:---:|:---:|:---:|:---:|\n",
    "|button|canvas|checkbutton|entry|frame|\n",
    "|label|labelframe|listbox|menu|menubutton|\n",
    "|panedwindow|radiobutton|scale|scrollbar|spinbox|\n",
    "|text|toplevel||||"
   ]
  },
  {
   "cell_type": "markdown",
   "metadata": {},
   "source": [
    "## 框架"
   ]
  },
  {
   "cell_type": "markdown",
   "metadata": {},
   "source": [
    "> 一般不响应鼠标和键盘<br>\n",
    "> 它们是一些彩色的，带三维边框的长方形区域"
   ]
  },
  {
   "cell_type": "markdown",
   "metadata": {},
   "source": [
    "### 浮雕选项"
   ]
  },
  {
   "cell_type": "markdown",
   "metadata": {},
   "source": [
    "`-relief：raised, sunken, flat, groove, ridge`"
   ]
  },
  {
   "cell_type": "code",
   "execution_count": 3,
   "metadata": {
    "ExecuteTime": {
     "end_time": "2019-08-05T09:06:29.882899Z",
     "start_time": "2019-08-05T09:06:28.188972Z"
    }
   },
   "outputs": [
    {
     "name": "stdout",
     "output_type": "stream",
     "text": [
      "     1\t#!/usr/bin/wish\r\n",
      "     2\tlabel .t1 -text raised -relief raised\r\n",
      "     3\tlabel .t2 -text sunken -relief sunken\r\n",
      "     4\tlabel .t3 -text flat -relief flat\r\n",
      "     5\tlabel .t4 -text groove -relief groove\r\n",
      "     6\tlabel .t5 -text ridge -relief ridge\r\n",
      "     7\tlabel .t -text 对照组\r\n",
      "     8\tgrid .t1 .t2 .t3 .t4 .t5 .t -padx 2m -pady 2m\r\n"
     ]
    }
   ],
   "source": [
    "!cat -n prog/1.sh\n",
    "!wish prog/1.sh"
   ]
  },
  {
   "cell_type": "markdown",
   "metadata": {},
   "source": [
    "<img src='images/1.png' width='350px'/>"
   ]
  },
  {
   "cell_type": "markdown",
   "metadata": {},
   "source": [
    "### 屏幕距离选项"
   ]
  },
  {
   "cell_type": "markdown",
   "metadata": {},
   "source": [
    "`-borderwidth\n",
    "-width\n",
    "-height\n",
    "-insertwidth(用于文本组件)`\n",
    "\n",
    "单位：<br>\n",
    "c：厘米<br>\n",
    "i：英寸<br>\n",
    "m：毫米<br>\n",
    "p：磅（1/72英寸）<br>"
   ]
  },
  {
   "cell_type": "code",
   "execution_count": 13,
   "metadata": {
    "ExecuteTime": {
     "end_time": "2019-08-05T10:43:47.178471Z",
     "start_time": "2019-08-05T10:43:45.198266Z"
    }
   },
   "outputs": [
    {
     "name": "stdout",
     "output_type": "stream",
     "text": [
      "     1\t#!/usr/bin/wish\r\n",
      "     2\tbutton .btn1 -text button1 -borderwidth 30 -width 5\r\n",
      "     3\tbutton .btn2 -text button2 -borderwidth 10 -width 5\r\n",
      "     4\tbutton .btn3 -text button2 -borderwidth 10 -width 20 -height 10\r\n",
      "     5\tgrid .btn1 .btn2 .btn3 -padx 20 -pady 20"
     ]
    }
   ],
   "source": [
    "!cat -n prog/3.sh\n",
    "!wish prog/3.sh"
   ]
  },
  {
   "cell_type": "markdown",
   "metadata": {},
   "source": [
    "<img src='images/2.png'/>\n"
   ]
  },
  {
   "cell_type": "markdown",
   "metadata": {},
   "source": [
    "## 颜色选项"
   ]
  },
  {
   "cell_type": "markdown",
   "metadata": {},
   "source": [
    "`-background\n",
    "-foreground:设置文本颜色`\n",
    "****\n",
    "可通过字符串名称，或数值指定"
   ]
  },
  {
   "cell_type": "code",
   "execution_count": null,
   "metadata": {
    "ExecuteTime": {
     "start_time": "2019-08-05T10:53:51.483Z"
    }
   },
   "outputs": [
    {
     "name": "stdout",
     "output_type": "stream",
     "text": [
      "     1\t#!/usr/bin/wish\r\n",
      "     2\tlabel .t1 -background #00ff00 -text HelloWorld\r\n",
      "     3\tlabel .t2 -text HelloWorld\r\n",
      "     4\t\r\n",
      "     5\tbutton .btn1 -background #ff00ff -text Btn1 -borderwidth 6\r\n",
      "     6\tbutton .btn2 -text Btn2\r\n",
      "     7\t\r\n",
      "     8\tbutton .btn3 -foreground #ff0000 -text Btn3 -borderwidth 6\r\n",
      "     9\tgrid .t1 .t2 .btn1 .btn2 .btn3 -padx 10 -pady 10"
     ]
    }
   ],
   "source": [
    "!cat -n prog/2.sh\n",
    "!wish prog/2.sh"
   ]
  },
  {
   "cell_type": "markdown",
   "metadata": {},
   "source": [
    "<img src='images/3.png'/>\n"
   ]
  },
  {
   "cell_type": "markdown",
   "metadata": {},
   "source": [
    "## 标签 label"
   ]
  },
  {
   "cell_type": "markdown",
   "metadata": {},
   "source": [
    "> 用于显示文本字符串，位图，图像，文本字符串和位图或图像的组合。"
   ]
  },
  {
   "cell_type": "markdown",
   "metadata": {},
   "source": [
    "### 文本选项"
   ]
  },
  {
   "cell_type": "markdown",
   "metadata": {},
   "source": [
    "`-text\n",
    "-textvariable: 将label中的text设为某个变量的值，其显示跟随该变量的取值而变化\n",
    "-justify: 当显示多行文本时，行的对齐方式。left，center，right`\n"
   ]
  },
  {
   "cell_type": "code",
   "execution_count": 33,
   "metadata": {
    "ExecuteTime": {
     "end_time": "2019-08-05T12:01:58.941778Z",
     "start_time": "2019-08-05T12:01:52.938611Z"
    }
   },
   "outputs": [
    {
     "name": "stdout",
     "output_type": "stream",
     "text": [
      "     1\t#!/usr/bin/wish\r\n",
      "     2\tproc watch {name} {\r\n",
      "     3\t    toplevel .watch\r\n",
      "     4\t    label .watch.label -text \"Value of $name:\"\r\n",
      "     5\t    label .watch.value -textvariable $name\r\n",
      "     6\t    grid .watch.label .watch.value -pady 20\r\n",
      "     7\t}\r\n",
      "     8\tset country Japan\r\n",
      "     9\twatch country"
     ]
    }
   ],
   "source": [
    "!cat -n prog/4.sh\n",
    "!wish prog/4.sh"
   ]
  },
  {
   "attachments": {
    "image.png": {
     "image/png": "[encoded data removed]"
    }
   },
   "cell_type": "markdown",
   "metadata": {},
   "source": [
    "![image.png](attachment:image.png)"
   ]
  },
  {
   "cell_type": "code",
   "execution_count": 37,
   "metadata": {
    "ExecuteTime": {
     "end_time": "2019-08-05T12:16:54.887955Z",
     "start_time": "2019-08-05T12:05:36.616499Z"
    }
   },
   "outputs": [
    {
     "name": "stdout",
     "output_type": "stream",
     "text": [
      "     1\t#!/usr/bin/wish\r\n",
      "     2\tset country Japan\r\n",
      "     3\tlabel .l1 -text \"content\"\r\n",
      "     4\tlabel .l2 -textvariable country\r\n",
      "     5\tgrid .l1 .l2 -pady 20"
     ]
    }
   ],
   "source": [
    "# 注意-textvariable后的变量没有$\n",
    "!cat -n prog/5.sh\n",
    "!wish prog/5.sh"
   ]
  },
  {
   "cell_type": "markdown",
   "metadata": {},
   "source": [
    "<img src='images/5.png'/>"
   ]
  },
  {
   "cell_type": "markdown",
   "metadata": {},
   "source": [
    "### 字体选项"
   ]
  },
  {
   "cell_type": "markdown",
   "metadata": {},
   "source": [
    "`-font`"
   ]
  },
  {
   "cell_type": "markdown",
   "metadata": {},
   "source": [
    "### 图像选项"
   ]
  },
  {
   "cell_type": "markdown",
   "metadata": {},
   "source": [
    "`-bitmap：位图(有两种颜色构成，分为前景和背景；-foreground设置前景色，-background设置背景色；文件名以＠开头)\n",
    "-image：仅支持xbm, xpm, gif, ppm/pgm格式。Img, TkMagick可支持几乎所有格式。-text与-compound(取值为top, bottom, left, right, center)一起使用，可调整text与image的相对位置。`\n"
   ]
  },
  {
   "cell_type": "code",
   "execution_count": 43,
   "metadata": {
    "ExecuteTime": {
     "end_time": "2019-08-05T12:24:57.723658Z",
     "start_time": "2019-08-05T12:24:05.989689Z"
    }
   },
   "outputs": [
    {
     "name": "stdout",
     "output_type": "stream",
     "text": [
      "     1\t#!/usr/bin/wish\r\n",
      "     2\tlabel .label -bitmap @images/t.xbm\r\n",
      "     3\tgrid .label -pady 20"
     ]
    }
   ],
   "source": [
    "!cat -n prog/6.sh\n",
    "!wish prog/6.sh"
   ]
  },
  {
   "cell_type": "markdown",
   "metadata": {},
   "source": [
    "<img src='images/6.png'/>"
   ]
  },
  {
   "cell_type": "code",
   "execution_count": 46,
   "metadata": {
    "ExecuteTime": {
     "end_time": "2019-08-05T12:34:30.253309Z",
     "start_time": "2019-08-05T12:34:27.981294Z"
    }
   },
   "outputs": [
    {
     "name": "stdout",
     "output_type": "stream",
     "text": [
      "     1\t#!/usr/bin/wish\r\n",
      "     2\timage create photo hiker -file images/tt.gif\r\n",
      "     3\tlabel .img -text hiker -image hiker\r\n",
      "     4\tgrid .img"
     ]
    }
   ],
   "source": [
    "!cat -n prog/7.sh\n",
    "!wish prog/7.sh"
   ]
  },
  {
   "cell_type": "markdown",
   "metadata": {},
   "source": [
    "<img src='images/7.png'/>\n"
   ]
  },
  {
   "cell_type": "code",
   "execution_count": 50,
   "metadata": {
    "ExecuteTime": {
     "end_time": "2019-08-05T12:39:37.910452Z",
     "start_time": "2019-08-05T12:39:26.222590Z"
    }
   },
   "outputs": [
    {
     "name": "stdout",
     "output_type": "stream",
     "text": [
      "     1\t#!/usr/bin/wish\r\n",
      "     2\timage create photo hiker -file images/tt.gif\r\n",
      "     3\tlabel .img -text hiker -image hiker -compound top\r\n",
      "     4\tgrid .img -pady 10\r\n"
     ]
    }
   ],
   "source": [
    "!cat -n prog/8.sh\n",
    "!wish prog/8.sh"
   ]
  },
  {
   "cell_type": "markdown",
   "metadata": {},
   "source": [
    "<img src='images/8.png'/>\n"
   ]
  },
  {
   "cell_type": "markdown",
   "metadata": {},
   "source": [
    "### 标签框架"
   ]
  },
  {
   "cell_type": "code",
   "execution_count": 57,
   "metadata": {
    "ExecuteTime": {
     "end_time": "2019-08-05T12:55:09.626578Z",
     "start_time": "2019-08-05T12:53:14.939018Z"
    }
   },
   "outputs": [
    {
     "name": "stdout",
     "output_type": "stream",
     "text": [
      "     1\t#!/usr/bin/wish\r\n",
      "     2\ttoplevel .watch -padx 14 -pady 15\r\n",
      "     3\tlabelframe .watch.lf -text subtitle\r\n",
      "     4\tlabel .watch.lf.label -text content\r\n",
      "     5\tgrid .watch.lf.label  -padx 3 -pady 3\r\n",
      "     6\tgrid .watch.lf -padx 3 -pady 3"
     ]
    }
   ],
   "source": [
    "!cat -n prog/9.sh\n",
    "!wish prog/9.sh"
   ]
  },
  {
   "cell_type": "markdown",
   "metadata": {},
   "source": [
    "<img src='images/9.png'/>\n"
   ]
  },
  {
   "cell_type": "code",
   "execution_count": 58,
   "metadata": {
    "ExecuteTime": {
     "end_time": "2019-08-05T12:55:30.488981Z",
     "start_time": "2019-08-05T12:55:09.646689Z"
    }
   },
   "outputs": [
    {
     "name": "stdout",
     "output_type": "stream",
     "text": [
      "     1\t#!/usr/bin/wish\r\n",
      "     2\tlabelframe .lf -text subtitle\r\n",
      "     3\tlabel .lf.label -text content\r\n",
      "     4\tgrid .lf.label  -padx 3 -pady 3\r\n",
      "     5\tgrid .lf -padx 3 -pady 3"
     ]
    }
   ],
   "source": [
    "!cat -n prog/10.sh\n",
    "!wish prog/10.sh"
   ]
  },
  {
   "cell_type": "markdown",
   "metadata": {},
   "source": [
    "<img src='images/10.png'/>\n"
   ]
  },
  {
   "cell_type": "markdown",
   "metadata": {},
   "source": [
    "## 按钮"
   ]
  },
  {
   "cell_type": "markdown",
   "metadata": {},
   "source": [
    "> 具备所有label的功能"
   ]
  },
  {
   "cell_type": "markdown",
   "metadata": {},
   "source": [
    "### 复选按钮"
   ]
  },
  {
   "cell_type": "markdown",
   "metadata": {},
   "source": [
    "`-variable:指定复选项是否被选中(1：选中 0：不选中)\n",
    "-anchor:指定按钮中的文本和选择器的对齐方式\n",
    "-tristatevalue:指定组件的三态值。文本里有粗体字和普通字体，按钮将会表示两种状态，三态值使得组件能显示一个表示这种混合情况的标记。`"
   ]
  },
  {
   "cell_type": "code",
   "execution_count": 60,
   "metadata": {
    "ExecuteTime": {
     "end_time": "2019-08-05T13:21:15.317276Z",
     "start_time": "2019-08-05T13:19:56.573370Z"
    }
   },
   "outputs": [
    {
     "name": "stdout",
     "output_type": "stream",
     "text": [
      "     1\t#!/usr/bin/wish\r\n",
      "     2\tcheckbutton .bold -text Bold -variable var1 -anchor w\r\n",
      "     3\tcheckbutton .italic -text Italic -variable var2 -anchor w\r\n",
      "     4\tcheckbutton .underline -text UnderLine -variable var3 -anchor w\r\n",
      "     5\tgrid .bold -sticky ew\r\n",
      "     6\tgrid .italic -sticky ew\r\n",
      "     7\tgrid .underline -sticky ew"
     ]
    }
   ],
   "source": [
    "!cat -n prog/11.sh\n",
    "!wish prog/11.sh"
   ]
  },
  {
   "cell_type": "markdown",
   "metadata": {},
   "source": [
    "<img src='images/11.png'/>\n"
   ]
  },
  {
   "cell_type": "code",
   "execution_count": 67,
   "metadata": {
    "ExecuteTime": {
     "end_time": "2019-08-05T13:24:11.119317Z",
     "start_time": "2019-08-05T13:23:43.522089Z"
    }
   },
   "outputs": [
    {
     "name": "stdout",
     "output_type": "stream",
     "text": [
      "     1\t#!/usr/bin/wish\r\n",
      "     2\tcheckbutton .bold -text Bold -variable var1 -anchor w\r\n",
      "     3\tcheckbutton .italic -text Italic -variable var2 -anchor w\r\n",
      "     4\tcheckbutton .underline -text UnderLine -variable var3 -anchor w\r\n",
      "     5\tgrid .bold -sticky ew\r\n",
      "     6\tgrid .italic -sticky ew\r\n",
      "     7\tgrid .underline -sticky ew\r\n",
      "     8\t\r\n",
      "     9\t.bold configure -tristatevalue 5\r\n",
      "    10\tset var1 5"
     ]
    }
   ],
   "source": [
    "!cat -n prog/12.sh\n",
    "!wish prog/12.sh"
   ]
  },
  {
   "cell_type": "markdown",
   "metadata": {},
   "source": [
    "<img src='images/12.png'/>\n"
   ]
  },
  {
   "cell_type": "markdown",
   "metadata": {},
   "source": [
    "### 单选按钮"
   ]
  },
  {
   "cell_type": "markdown",
   "metadata": {},
   "source": [
    "`-varibale:控制所有单选按钮的变量(一个变量控制多个单选按钮)\n",
    " -value：为该变量赋值`"
   ]
  },
  {
   "cell_type": "code",
   "execution_count": 71,
   "metadata": {
    "ExecuteTime": {
     "end_time": "2019-08-05T13:37:54.716526Z",
     "start_time": "2019-08-05T13:37:40.699603Z"
    }
   },
   "outputs": [
    {
     "name": "stdout",
     "output_type": "stream",
     "text": [
      "     1\t#!/usr/bin/wish\r\n",
      "     2\tradiobutton .times -text Times -variable font -value times -anchor w\r\n",
      "     3\tradiobutton .helve -text Helve -variable font -value helve -anchor w\r\n",
      "     4\tradiobutton .couri -text Couri -variable font -value couri -anchor w\r\n",
      "     5\tradiobutton .symbo -text Symbo -variable font -value symbo -anchor w\r\n",
      "     6\tgrid .times .helve .couri .symbo -sticky ew"
     ]
    }
   ],
   "source": [
    "!cat -n prog/13.sh\n",
    "!wish prog/13.sh"
   ]
  },
  {
   "cell_type": "markdown",
   "metadata": {},
   "source": [
    "<img src='images/13.png'/>\n"
   ]
  },
  {
   "cell_type": "code",
   "execution_count": 73,
   "metadata": {
    "ExecuteTime": {
     "end_time": "2019-08-05T13:38:57.753569Z",
     "start_time": "2019-08-05T13:38:48.396108Z"
    }
   },
   "outputs": [
    {
     "name": "stdout",
     "output_type": "stream",
     "text": [
      "     1\t#!/usr/bin/wish\r\n",
      "     2\tradiobutton .times -text Times -variable font -value times -anchor w\r\n",
      "     3\tradiobutton .helve -text Helve -variable font -value helve -anchor w\r\n",
      "     4\tradiobutton .couri -text Couri -variable font -value couri -anchor w\r\n",
      "     5\tradiobutton .symbo -text Symbo -variable font -value symbo -anchor w\r\n",
      "     6\tgrid .times -sticky ew\r\n",
      "     7\tgrid .helve -sticky ew\r\n",
      "     8\tgrid .couri -sticky ew\r\n",
      "     9\tgrid .symbo -sticky ew"
     ]
    }
   ],
   "source": [
    "# grid一个一个添加\n",
    "!cat -n prog/14.sh\n",
    "!wish prog/14.sh"
   ]
  },
  {
   "cell_type": "markdown",
   "metadata": {},
   "source": [
    "<img src='images/14.png'/>\n"
   ]
  },
  {
   "cell_type": "markdown",
   "metadata": {},
   "source": [
    "### 菜单按钮"
   ]
  },
  {
   "cell_type": "markdown",
   "metadata": {},
   "source": [
    "> 菜单按钮可以时文本和图像的组合，并附有指示器"
   ]
  },
  {
   "cell_type": "code",
   "execution_count": 75,
   "metadata": {
    "ExecuteTime": {
     "end_time": "2019-08-05T13:57:09.812437Z",
     "start_time": "2019-08-05T13:54:10.502251Z"
    }
   },
   "outputs": [
    {
     "name": "stdout",
     "output_type": "stream",
     "text": [
      "     1\t#!/usr/bin/wish\r\n",
      "     2\tmenubutton .mb -width 9 -textvariable justify\r\n",
      "     3\tset m [menu .mb.menu -tearoff 0]\r\n",
      "     4\t.mb configure -menu $m\r\n",
      "     5\t$m add radiobutton -value Left -variable justify -label Left\r\n",
      "     6\t$m add radiobutton -value Center -variable justify -label Center\r\n",
      "     7\t$m add radiobutton -value Right -variable justify -label Right\r\n",
      "     8\t$m add radiobutton -value Justified -variable justify -label Justified\r\n",
      "     9\tlabel .l -text Alignment:\r\n",
      "    10\tgrid .l -row 0 -column 0 -sticky e\r\n",
      "    11\tgrid .mb -row 0 -column 1 -sticky w\r\n",
      "    12\tset justify Left"
     ]
    }
   ],
   "source": [
    "!cat -n prog/15.sh\n",
    "!wish prog/15.sh"
   ]
  },
  {
   "cell_type": "markdown",
   "metadata": {},
   "source": [
    "## 列表框"
   ]
  },
  {
   "cell_type": "markdown",
   "metadata": {},
   "source": [
    ">用于显示一系列字符串的组件，用户可以选择一个或多个\n",
    "****\n",
    "* insert：添加新条目\n",
    "* delete：删除条目\n",
    "* get：获取条目\n",
    "****\n",
    "`-listvariable: 获取包含值的列表的全局或命名空间变量，修改这个变量，列表框会跟着更新。`"
   ]
  },
  {
   "cell_type": "code",
   "execution_count": 1,
   "metadata": {
    "ExecuteTime": {
     "end_time": "2019-08-05T14:24:30.862986Z",
     "start_time": "2019-08-05T14:24:27.706453Z"
    }
   },
   "outputs": [
    {
     "name": "stdout",
     "output_type": "stream",
     "text": [
      "     1\t#!/usr/bin/wish\r\n",
      "     2\tlistbox .fonts -listvariable ::fontlist\r\n",
      "     3\tgrid .fonts\r\n",
      "     4\tset ::fontlist [lsort -dictionary [font families]]\r\n",
      "     5\tbind .fonts <Double-Button-1> {\r\n",
      "     6\t    %W configure -font [list [%W get [%W curselection]] 12]\r\n",
      "     7\t}"
     ]
    }
   ],
   "source": [
    "#%W的值为“.fonts”\n",
    "!cat -n prog/16.sh\n",
    "!wish prog/16.sh"
   ]
  },
  {
   "cell_type": "markdown",
   "metadata": {},
   "source": [
    "<img src='images/15.png'/>\n"
   ]
  },
  {
   "cell_type": "markdown",
   "metadata": {},
   "source": [
    "## 滚动条"
   ]
  },
  {
   "cell_type": "markdown",
   "metadata": {},
   "source": [
    "`scrollbar\n",
    "-command：通知列表框用户发生了滚动操作，外观发生变化后，使用-yscrollcommand通知滚动条`"
   ]
  },
  {
   "cell_type": "markdown",
   "metadata": {},
   "source": [
    "<img src='images/16.png'/>\n"
   ]
  },
  {
   "cell_type": "code",
   "execution_count": 10,
   "metadata": {
    "ExecuteTime": {
     "end_time": "2019-08-06T10:07:33.498225Z",
     "start_time": "2019-08-06T10:07:31.237843Z"
    }
   },
   "outputs": [
    {
     "name": "stdout",
     "output_type": "stream",
     "text": [
      "     1\t#!/usr/bin/wish\r\n",
      "     2\tlistbox .files -relief raised -borderwidth 2 -yscrollcommand \".scroll set\" -listvariable files\r\n",
      "     3\tscrollbar .scroll -command \".files yview\"\r\n",
      "     4\tgrid .files -row 0 -column 0 -sticky nsew\r\n",
      "     5\tgrid .scroll -row 0 -column 1 -sticky ns\r\n",
      "     6\tgrid rowconfigure . 0 -weight 1\r\n",
      "     7\tgrid columnconfigure . 0 -weight 1\r\n",
      "     8\tset l {a b c d e f g h i j k l m n o p q r s t u v w x y z}\r\n",
      "     9\tset files $l"
     ]
    }
   ],
   "source": [
    "!cat -n prog/17.sh\n",
    "!wish prog/17.sh"
   ]
  },
  {
   "cell_type": "markdown",
   "metadata": {},
   "source": [
    "> 代码解析<br>\n",
    "1. `yscrollcommand \".scroll set\"`: <font color='#ff5600' size=3>当列表框外观改变时，列表框会向-yscrollcommand添加两个数字，生成命令：</font>\n",
    "`.scroll set 0.80 1.0`(滚动命令，set是一个动作，该动作接受两个参数，第一个参数：窗口中可见的文档的第一条信息，第二个参数：最后一个可见的部分后面的信息；)<br>\n",
    "图例:<br>\n",
    "`.scroll set 0.5 1.0`（当第二个数是1.0时设置滚动快的百分比）<br>\n",
    "`.scroll set 0.5 0.5`\n",
    "2. 程序第三行：<br>\n",
    "当点击上箭头时时，会执行-command后的命令，生成Tcl命令：`.files yview scroll -1 unit`即向上移动一个条目。外观调整后会执行`-yscrollcommand \".scroll set\"`告知滚动条新的外观，然后滚动快刷新位置。<br><br>\n",
    "当滑动滑块时会生成不同命令，例如：<br>\n",
    "`.files yview moveto 0.5`所显示的第一个条目移动到50%的位置\n",
    "3. 对于所有可滚动的组件来说，只需要`-yveiw`与`-yscrollcommand`即可。\n",
    "4. 创建滚动条类似上述形式，程序第2,3行(`-yscrollcommand \".scroll set\"; -command \".files yview\"`)使得listbox可滚动\n",
    "5. 设置水平滚动<br>\n",
    "`-orient horizontal\n",
    "-xscrollcommand\n",
    "xview动作`\n",
    "****\n",
    ">`scrollbar .scroll -command \".files yview\"`:设置条目显示<br>\n",
    "`-yscrollcommand \".scroll set\"`:设置滑块大小和位置"
   ]
  },
  {
   "cell_type": "markdown",
   "metadata": {},
   "source": [
    "<img src='images/19.png'/>\n"
   ]
  },
  {
   "cell_type": "markdown",
   "metadata": {},
   "source": [
    "**实际运行18.sh可更深刻认识 `scrollbar -command`与`listbox -yscrollcommand`**\n"
   ]
  },
  {
   "cell_type": "code",
   "execution_count": 7,
   "metadata": {
    "ExecuteTime": {
     "end_time": "2019-08-06T08:38:18.690769Z",
     "start_time": "2019-08-06T08:38:18.578884Z"
    }
   },
   "outputs": [
    {
     "name": "stdout",
     "output_type": "stream",
     "text": [
      "     1\t#!/usr/bin/wish\r\n",
      "     2\t# called by the listbox\r\n",
      "     3\tproc yset {widgets master sb args} {\r\n",
      "     4\t    if {$master eq \"master\"} {\r\n",
      "     5\t        $sb set [lindex $args 0] [lindex $args 1]\r\n",
      "     6\t    }\r\n",
      "     7\t    puts \"\"\r\n",
      "     8\t    puts widgets:$widgets\r\n",
      "     9\t    puts master:$master\r\n",
      "    10\t    puts sb:$sb\r\n",
      "    11\t    puts args:$args\r\n",
      "    12\t\r\n",
      "    13\t}\r\n",
      "    14\t# called by the scrollbar\r\n",
      "    15\tproc Yview {widgets args} {\r\n",
      "    16\t    puts \"\"\r\n",
      "    17\t    puts widgets:$widgets\r\n",
      "    18\t    puts args:$args\r\n",
      "    19\t}\r\n",
      "    20\t\r\n",
      "    21\tset widgets [list .lb1 .lb2]\r\n",
      "    22\tlistbox .lb1 -yscrollcommand [list yset $widgets slave .sb] -listvariable l1\r\n",
      "    23\tlistbox .lb2  -yscrollcommand [list yset $widgets master .sb] -listvariable l2\r\n",
      "    24\tscrollbar .sb -command [list Yview $widgets]\r\n",
      "    25\t\r\n",
      "    26\tset l1 {a b c d e f g h i j k l m n o p q r s t u v w x y z}\r\n",
      "    27\tset l2 {a b c d e f g h i j k l m n o p q r s t u v w x y z}\r\n",
      "    28\t\r\n",
      "    29\tgrid .lb1 -row 0 -column 0 -sticky ew\r\n",
      "    30\tgrid .lb2 -row 0 -column 1 -sticky new\r\n",
      "    31\tgrid .sb -row 0 -column 2 -sticky ew"
     ]
    }
   ],
   "source": [
    "!cat -n prog/18.sh"
   ]
  },
  {
   "cell_type": "markdown",
   "metadata": {},
   "source": [
    "## 多个组件的同步滚动"
   ]
  },
  {
   "cell_type": "code",
   "execution_count": 7,
   "metadata": {
    "ExecuteTime": {
     "end_time": "2019-08-08T01:45:50.861399Z",
     "start_time": "2019-08-08T01:45:43.295874Z"
    }
   },
   "outputs": [
    {
     "name": "stdout",
     "output_type": "stream",
     "text": [
      "     1\t#!/usr/bin/wish\n",
      "     2\t# called by the listbox\n",
      "     3\tproc yset {widgets master sb args} {\n",
      "     4\t    puts \"\"\n",
      "     5\t    puts \"yset函数\"\n",
      "     6\t    puts widgets:$widgets\n",
      "     7\t    puts master:$master\n",
      "     8\t    puts sb:$sb\n",
      "     9\t    puts args:$args\n",
      "    10\t    \n",
      "    11\t    $sb set [lindex $args 0] [lindex $args 1]\n",
      "    12\t}\n",
      "    13\t# called by the scrollbar\n",
      "    14\tproc Yview {widgets args} {\n",
      "    15\t    puts \"\"\n",
      "    16\t    puts \"Yview函数\"\n",
      "    17\t    puts widgets:$widgets\n",
      "    18\t    puts args:$args\n",
      "    19\t\n",
      "    20\t    foreach elem $widgets {\n",
      "    21\t        set arg1 [lindex $args 0]\n",
      "    22\t        if {\"$arg1\" eq \"scroll\"} {\n",
      "    23\t            set arg2 [lindex $args 1]\n",
      "    24\t            $elem yview scroll $arg2 units\n",
      "    25\t        } else {\n",
      "    26\t            $elem yview [lindex $args 0] [lindex $args 1]\n",
      "    27\t        }\n",
      "    28\t    }\n",
      "    29\t}\n",
      "    30\t\n",
      "    31\tset widgets [list .lb1 .lb2]\n",
      "    32\tlistbox .lb1 -yscrollcommand [list yset $widgets slave .sb] -listvariable l1\n",
      "    33\tlistbox .lb2  -yscrollcommand [list yset $widgets master .sb] -listvariable l2\n",
      "    34\tscrollbar .sb -command [list Yview $widgets]\n",
      "    35\t\n",
      "    36\tgrid .lb1 -row 0 -column 0 -sticky nsew\n",
      "    37\tgrid .lb2 -row 0 -column 1 -sticky nsew\n",
      "    38\tgrid .sb -row 0 -column 2 -sticky ns\n",
      "    39\t\n",
      "    40\tset l1 {a b c d e f g h i j k l m n o p q r s t u v w x y z}\n",
      "    41\tset l2 {a b c d e f g h i j k l m n o p q r s t u v w x y z}\n",
      "yset函数\n",
      "widgets:.lb1 .lb2\n",
      "master:master\n",
      "sb:.sb\n",
      "args:0.0 0.38461538461538464\n",
      "\n",
      "yset函数\n",
      "widgets:.lb1 .lb2\n",
      "master:slave\n",
      "sb:.sb\n",
      "args:0.0 0.38461538461538464\n",
      "\n",
      "Yview函数\n",
      "widgets:.lb1 .lb2\n",
      "args:moveto 0.0\n",
      "\n",
      "Yview函数\n",
      "widgets:.lb1 .lb2\n",
      "args:moveto 0.0\n",
      "\n",
      "Yview函数\n",
      "widgets:.lb1 .lb2\n",
      "args:moveto 0.0053475935828877\n",
      "\n",
      "Yview函数\n",
      "widgets:.lb1 .lb2\n",
      "args:moveto 0.0053475935828877\n",
      "\n",
      "Yview函数\n",
      "widgets:.lb1 .lb2\n",
      "args:moveto 0.0106951871657754\n",
      "\n",
      "Yview函数\n",
      "widgets:.lb1 .lb2\n",
      "args:moveto 0.0106951871657754\n",
      "\n",
      "Yview函数\n",
      "widgets:.lb1 .lb2\n",
      "args:moveto 0.016042780748663103\n",
      "\n",
      "Yview函数\n",
      "widgets:.lb1 .lb2\n",
      "args:moveto 0.016042780748663103\n",
      "\n",
      "Yview函数\n",
      "widgets:.lb1 .lb2\n",
      "args:moveto 0.0213903743315508\n",
      "\n",
      "yset函数\n",
      "widgets:.lb1 .lb2\n",
      "master:slave\n",
      "sb:.sb\n",
      "args:0.038461538461538464 0.4230769230769231\n",
      "\n",
      "yset函数\n",
      "widgets:.lb1 .lb2\n",
      "master:master\n",
      "sb:.sb\n",
      "args:0.038461538461538464 0.4230769230769231\n",
      "\n",
      "Yview函数\n",
      "widgets:.lb1 .lb2\n",
      "args:moveto 0.0213903743315508\n",
      "\n",
      "Yview函数\n",
      "widgets:.lb1 .lb2\n",
      "args:moveto 0.026737967914438502\n",
      "\n",
      "Yview函数\n",
      "widgets:.lb1 .lb2\n",
      "args:moveto 0.026737967914438502\n"
     ]
    }
   ],
   "source": [
    "!cat -n prog/18.sh\n",
    "!wish prog/18.sh"
   ]
  },
  {
   "cell_type": "markdown",
   "metadata": {},
   "source": [
    "## 标尺"
   ]
  },
  {
   "cell_type": "markdown",
   "metadata": {},
   "source": [
    "> 通过移动滑槽选择一个数值<br>\n",
    "`-from`：标尺最小值<br>\n",
    "`-to`：标尺最大值<br>\n",
    "`-resolution`:滑动一次值的变化幅度，默认值1<br>\n",
    "`-orient`：vertical，horizontal<br>\n",
    "`-length`：控制槽长度<br>\n",
    "`-width`:控制槽宽度<br>\n",
    "`-showvalue`：是否显示值<br>\n",
    "`-tickinterval`：显示的数字间的间隔<br>\n",
    "`-variable`：关联变量<br>\n",
    "`-command`：标尺数值变化时调用，在调用command代码时，滑块值会作为参数传给command<br>\n",
    "`-label`：\n"
   ]
  },
  {
   "cell_type": "code",
   "execution_count": 23,
   "metadata": {
    "ExecuteTime": {
     "end_time": "2019-08-06T12:16:14.260391Z",
     "start_time": "2019-08-06T12:15:15.764090Z"
    }
   },
   "outputs": [
    {
     "name": "stdout",
     "output_type": "stream",
     "text": [
      "     1\t#!/usr/bin/wish\n",
      "     2\tset score \"Average score : 0.0\"\n",
      "     3\tset food 0\n",
      "     4\tset apple 0\n",
      "     5\tset banana 0\n",
      "     6\tproc updateScore {value} {\n",
      "     7\t    global score food apple banana\n",
      "     8\t    puts \"value:$value food:$food apple:$apple banana:$banana\"\n",
      "     9\t    set average [expr {($food + $apple + $banana) / 3.0}]\n",
      "    10\t    set score [format \"Average score : %3.1f\" $average]\n",
      "    11\t}\n",
      "    12\tscale .food -label \"饭菜\" -variable food \\\n",
      "    13\t            -length 7c -width 0.5c -from 0 -to 6 \\\n",
      "    14\t            -resolution 1 -tickinterval 3 -showvalue 1 \\\n",
      "    15\t            -orient horizontal -command {updateScore}\n",
      "    16\tscale .apple -label \"苹果\" -variable apple \\\n",
      "    17\t            -length 5c -width 0.25c -from 0 -to 5 \\\n",
      "    18\t            -resolution 1 -tickinterval 1 -showvalue 0 \\\n",
      "    19\t            -orient horizontal -command {updateScore}\n",
      "    20\tscale .banana -label \"香蕉\" -variable banana \\\n",
      "    21\t            -length 5c -width 0.25c -from 0 -to 5 \\\n",
      "    22\t            -resolution 1 -tickinterval 1 -showvalue 0 \\\n",
      "    23\t            -orient horizontal -command {updateScore}\n",
      "    24\tlabel .score -textvariable score\n",
      "    25\t\n",
      "    26\tgrid .food -padx 2 -pady 2 -sticky w\n",
      "    27\tgrid .apple -padx 2 -pady 2 -sticky w\n",
      "    28\tgrid .banana -padx 2 -pady 2 -sticky w\n",
      "    29\tgrid .score -padx 2 -pady 2 -sticky w\n",
      "value:1 food:1 apple:0 banana:0\n",
      "value:2 food:2 apple:0 banana:0\n",
      "value:3 food:3 apple:0 banana:0\n",
      "value:4 food:4 apple:0 banana:0\n",
      "value:1 food:4 apple:1 banana:0\n",
      "value:2 food:4 apple:2 banana:0\n",
      "value:3 food:4 apple:3 banana:0\n",
      "value:4 food:4 apple:4 banana:0\n",
      "value:1 food:4 apple:4 banana:1\n",
      "value:2 food:4 apple:4 banana:2\n",
      "value:3 food:4 apple:4 banana:3\n",
      "value:4 food:4 apple:4 banana:4\n"
     ]
    }
   ],
   "source": [
    "!cat -n prog/19.sh\n",
    "!echo \"\"\n",
    "!wish prog/19.sh"
   ]
  },
  {
   "cell_type": "markdown",
   "metadata": {},
   "source": [
    "<img src='images/20.png'/>\n"
   ]
  },
  {
   "cell_type": "markdown",
   "metadata": {},
   "source": [
    "## 输入框"
   ]
  },
  {
   "cell_type": "markdown",
   "metadata": {},
   "source": [
    "### 输入框组件"
   ]
  },
  {
   "cell_type": "markdown",
   "metadata": {},
   "source": [
    ">输入框组件的**命令**：<br>\n",
    "`insert`：插入文本<br>\n",
    "`delete`：删除文本<br>\n",
    "`backspace`：删除文本<br>\n",
    "`icursor`：定位插入光标<br>\n",
    "`index`：查找窗口中特定位置显示的字符<br>\n",
    "`-show`：隐藏输入的字符，可以用作密码输入(仅限于entry)\n",
    "****\n",
    "可以关联滚动条组件，方向键，Home键，End键"
   ]
  },
  {
   "cell_type": "code",
   "execution_count": 50,
   "metadata": {
    "ExecuteTime": {
     "end_time": "2019-08-06T12:56:11.091374Z",
     "start_time": "2019-08-06T12:56:09.126573Z"
    }
   },
   "outputs": [
    {
     "name": "stdout",
     "output_type": "stream",
     "text": [
      "     1\t#!/usr/bin/wish\n",
      "     2\tlabel .label -text \"File name:\"\n",
      "     3\tentry .entry -width 20 -relief sunken -bd 2 -textvariable name -show *\n",
      "     4\tbind .entry <Return> {\n",
      "     5\t    puts \"name: $name\"\n",
      "     6\t}\n",
      "     7\tgrid .label .entry -padx 1m -pady 2m\n"
     ]
    }
   ],
   "source": [
    "#输入完毕，按下回车键，会显示输入内容\n",
    "!cat -n prog/20.sh\n",
    "!echo \"\"\n",
    "!wish prog/20.sh"
   ]
  },
  {
   "cell_type": "markdown",
   "metadata": {},
   "source": [
    "<img src='images/21.png'/>\n",
    "<img src='images/24.png'/>\n"
   ]
  },
  {
   "cell_type": "markdown",
   "metadata": {},
   "source": [
    "### 调节框"
   ]
  },
  {
   "cell_type": "markdown",
   "metadata": {},
   "source": [
    ">`-value`<br>\n",
    "`-from`<br>\n",
    "`-to`<br>\n",
    "`-increment`<br>\n",
    "`-state`：readonly，normal<br>\n"
   ]
  },
  {
   "cell_type": "code",
   "execution_count": 43,
   "metadata": {
    "ExecuteTime": {
     "end_time": "2019-08-06T12:50:18.643439Z",
     "start_time": "2019-08-06T12:50:14.303249Z"
    }
   },
   "outputs": [
    {
     "name": "stdout",
     "output_type": "stream",
     "text": [
      "     1\t#!/usr/bin/wish\n",
      "     2\tset month {January February March April  May June July August September October November December}\n",
      "     3\tlabel .label -text \"Month:\"\n",
      "     4\tspinbox .spin -width 20 -relief sunken \\\n",
      "     5\t              -bd 2 \\\n",
      "     6\t              -textvariable month \\\n",
      "     7\t              -state readonly \\\n",
      "     8\t              -values $month\n",
      "     9\tgrid .label .spin -padx 1m -pady 2m              \n"
     ]
    }
   ],
   "source": [
    "!cat -n prog/21.sh\n",
    "!echo \"\"\n",
    "!wish prog/21.sh"
   ]
  },
  {
   "cell_type": "markdown",
   "metadata": {},
   "source": [
    "<img src='images/22.png'/>\n"
   ]
  },
  {
   "cell_type": "code",
   "execution_count": 44,
   "metadata": {
    "ExecuteTime": {
     "end_time": "2019-08-06T12:50:22.768954Z",
     "start_time": "2019-08-06T12:50:22.275625Z"
    }
   },
   "outputs": [
    {
     "name": "stdout",
     "output_type": "stream",
     "text": [
      "     1\t#!/usr/bin/wish\n",
      "     2\tlabel .label -text \"Font size:\"\n",
      "     3\tspinbox .spin -width 20 -relief sunken -bd 2 \\\n",
      "     4\t              -textvariable size \\\n",
      "     5\t              -from 6 -to 72 \\\n",
      "     6\t              -increment 2 \\\n",
      "     7\t              -state normal\n",
      "     8\t              -show #\n",
      "     9\tgrid .label .spin -padx 1m -pady 2m\n",
      "Error in startup script: invalid command name \"-show\"\n",
      "    while executing\n",
      "\"-show #\"\n",
      "    (file \"prog/22.sh\" line 8)\n"
     ]
    }
   ],
   "source": [
    "!cat -n prog/22.sh\n",
    "!echo \"\"\n",
    "!wish prog/22.sh"
   ]
  },
  {
   "cell_type": "markdown",
   "metadata": {},
   "source": [
    "<img src='images/23.png'/>\n"
   ]
  },
  {
   "cell_type": "markdown",
   "metadata": {},
   "source": [
    "### 验证"
   ]
  },
  {
   "cell_type": "markdown",
   "metadata": {},
   "source": [
    ">`-validate`：进行一次按键和焦点改变的验证，或者两个都验证(鼠标点击输入框时获得焦点)<br>\n",
    "`-validatecommand`：验证脚本。返回一个布尔值，表示这种改变是有效的，还是无效的。<br>\n",
    "`-invalidcommand`：验证脚本返回0时，该脚本被执行。<br>\n",
    ">****\n",
    "`%P`：置换键盘输入值<br>\n",
    "`%S`：置换正插入或者删除的文本字符串<br>\n",
    "`%W`：置换组件名<br>"
   ]
  },
  {
   "cell_type": "code",
   "execution_count": 8,
   "metadata": {
    "ExecuteTime": {
     "end_time": "2019-08-07T00:46:25.397607Z",
     "start_time": "2019-08-07T00:46:21.809625Z"
    }
   },
   "outputs": [
    {
     "name": "stdout",
     "output_type": "stream",
     "text": [
      "     1\t#!/usr/bin/wish\n",
      "     2\tlabel .label -text \"Enter value:\"\n",
      "     3\tentry .value -width 15 -validate all -validatecommand {CheckValue %P %W %S}\n",
      "     4\tlabel .echo -textvariable echo \n",
      "     5\tgrid .label .value -padx 1m -pady 2m\n",
      "     6\tgrid .echo  -      -padx 1m -pady 2m\n",
      "     7\t\n",
      "     8\tproc CheckValue {P W S} {\n",
      "     9\t    global echo\n",
      "    10\t    set echo \"\\%P:$P\\t\\%W:$W\\t\\%S:$S\"\n",
      "    11\t    if {[string is double $P] || [regexp -- {^[+-]?\\.?$} $P]} {\n",
      "    12\t        #set echo $newValue\n",
      "    13\t        return 1\n",
      "    14\t    } else {\n",
      "    15\t        return 0\n",
      "    16\t    }\n",
      "    17\t}\n"
     ]
    }
   ],
   "source": [
    "!cat -n prog/23.sh\n",
    "!echo \"\"\n",
    "!wish prog/23.sh"
   ]
  },
  {
   "cell_type": "markdown",
   "metadata": {},
   "source": [
    "<img src='images/25.png'/>\n"
   ]
  },
  {
   "cell_type": "markdown",
   "metadata": {},
   "source": [
    "## 菜单"
   ]
  },
  {
   "cell_type": "markdown",
   "metadata": {},
   "source": [
    ">菜单的组成：<br>\n",
    "`tear-off`：一般设为第一个选项，选中时，菜单将显示为一个独立的顶层窗口<br>\n",
    "`command`：类似按钮组件，用于显示字符串或者图像<br>\n",
    "`checkbutton`：类似复选按钮组件，用于显示字符串或者图像<br>\n",
    "`radiobutton`：类似单选按钮组件，用于显示字符串或者图像<br>\n",
    "`cascade`：类似菜单按钮组件，鼠标指向它，会激活子菜单<br>\n",
    "`separator`：水平分割线<br>\n"
   ]
  },
  {
   "cell_type": "code",
   "execution_count": 31,
   "metadata": {
    "ExecuteTime": {
     "end_time": "2019-08-07T01:47:01.922365Z",
     "start_time": "2019-08-07T01:46:57.298397Z"
    }
   },
   "outputs": [
    {
     "name": "stdout",
     "output_type": "stream",
     "text": [
      "     1\t#!/usr/bin/wish\n",
      "     2\t#option add *Menu.tearOff 0 \n",
      "     3\tmenu .m \n",
      "     4\t. config -menu .m\n",
      "     5\t.m add checkbutton -label Bold -variable bold \n",
      "     6\t.m add checkbutton -label Italic -variable italic\n",
      "     7\t.m add checkbutton -label Underline -variable underline\n",
      "     8\t#.m add separator\n",
      "     9\t.m add radiobutton -label Times -variable font -value Times\n",
      "    10\t.m add radiobutton -label Helvetica -variable font -value Helvetica\n",
      "    11\t.m add radiobutton -label Courier -variable font -value Courier\n",
      "    12\t#.m add separator\n",
      "    13\t.m add command -label \"Insert Bullet\" -command \"insertBullet\"\n",
      "    14\t.m add command -label \"Margins and Tabs...\" -command \"mkMarginPanel\"\n"
     ]
    }
   ],
   "source": [
    "!cat -n prog/24.sh\n",
    "!echo \"\"\n",
    "!wish prog/24.sh"
   ]
  },
  {
   "cell_type": "markdown",
   "metadata": {},
   "source": [
    "<img src='images/26.png'/>\n"
   ]
  },
  {
   "cell_type": "markdown",
   "metadata": {},
   "source": [
    "### 下拉菜单"
   ]
  },
  {
   "cell_type": "markdown",
   "metadata": {},
   "source": [
    ">`-underline`：每个菜单首字母加个下划线，可以用alt+首字母打开菜单<br>\n",
    "`-menu`：使菜单栏置于顶层"
   ]
  },
  {
   "cell_type": "code",
   "execution_count": 41,
   "metadata": {
    "ExecuteTime": {
     "end_time": "2019-08-07T02:18:38.491010Z",
     "start_time": "2019-08-07T02:18:34.194266Z"
    }
   },
   "outputs": [
    {
     "name": "stdout",
     "output_type": "stream",
     "text": [
      "     1\t#!/usr/bin/wish\n",
      "     2\tmenu .mbar -tearoff 0\n",
      "     3\t. configure -menu .mbar\n",
      "     4\t.mbar add cascade -label File -menu .mbar.file -underline 0\n",
      "     5\t.mbar add cascade -label Edit -menu .mbar.edit -underline 0\n",
      "     6\t.mbar add cascade -label View -menu .mbar.view -underline 0\n",
      "     7\t.mbar add cascade -label Graphics -menu .mbar.graphics -underline 0\n",
      "     8\t.mbar add cascade -label Text -menu .mbar.text -underline 0\n",
      "     9\t.mbar add cascade -label Help -menu .mbar.help -underline 0\n",
      "    10\tmenu .mbar.text\n",
      "    11\t\n",
      "    12\t.mbar.text add checkbutton -label Bold -variable bold \n",
      "    13\t.mbar.text add checkbutton -label Italic -variable italic\n",
      "    14\t.mbar.text add checkbutton -label Underline -variable underline\n",
      "    15\t.mbar.text add separator\n",
      "    16\t.mbar.text add radiobutton -label Times -variable font -value Times\n",
      "    17\t.mbar.text add radiobutton -label Helvetica -variable font -value Helvetica\n",
      "    18\t.mbar.text add radiobutton -label Courier -variable font -value Courier\n",
      "    19\t.mbar.text add separator\n",
      "    20\t.mbar.text add command -label \"Insert Bullet\" -command \"insertBullet\"\n",
      "    21\t.mbar.text add command -label \"Margins and Tabs...\" -command \"mkMarginPanel\"\n",
      "bgerror failed to handle background error.\n",
      "    Original error: invalid command name \".mbar.help\"\n",
      "    Error in bgerror: can't invoke \"grab\" command: application has been destroyed\n"
     ]
    }
   ],
   "source": [
    "!cat -n prog/25.sh\n",
    "!echo \"\"\n",
    "!wish prog/25.sh"
   ]
  },
  {
   "cell_type": "markdown",
   "metadata": {},
   "source": [
    "<img src='images/menu.png'/>"
   ]
  },
  {
   "cell_type": "markdown",
   "metadata": {},
   "source": [
    "### 级联菜单"
   ]
  },
  {
   "cell_type": "code",
   "execution_count": 64,
   "metadata": {
    "ExecuteTime": {
     "end_time": "2019-08-07T02:52:09.385152Z",
     "start_time": "2019-08-07T02:51:43.908576Z"
    }
   },
   "outputs": [
    {
     "name": "stdout",
     "output_type": "stream",
     "text": [
      "     1\t#!/usr/bin/wish\n",
      "     2\tmenu .mbar -tearoff 0\n",
      "     3\t. configure -menu .mbar\n",
      "     4\t.mbar add cascade -label File -menu .mbar.file -underline 0\n",
      "     5\t.mbar add cascade -label Edit -menu .mbar.edit -underline 0\n",
      "     6\t.mbar add cascade -label View -menu .mbar.view -underline 0\n",
      "     7\t.mbar add cascade -label Graphics -menu .mbar.graphics -underline 0\n",
      "     8\t.mbar add cascade -label Text -menu .mbar.text -underline 0\n",
      "     9\t.mbar add cascade -label Help -menu .mbar.help -underline 0\n",
      "    10\t\n",
      "    11\tmenu .mbar.text\n",
      "    12\t.mbar.text add checkbutton -label Bold -variable bold \n",
      "    13\t.mbar.text add checkbutton -label Italic -variable italic\n",
      "    14\t.mbar.text add checkbutton -label Underline -variable underline\n",
      "    15\t.mbar.text add separator\n",
      "    16\t.mbar.text add radiobutton -label Times -variable font -value Times\n",
      "    17\t.mbar.text add radiobutton -label Helvetica -variable font -value Helvetica\n",
      "    18\t.mbar.text add radiobutton -label Courier -variable font -value Courier\n",
      "    19\t.mbar.text add separator\n",
      "    20\t.mbar.text add command -label \"Insert Bullet\" -command \"insertBullet\"\n",
      "    21\t.mbar.text add command -label \"Margins and Tabs...\" -command \"mkMarginPanel\" \n",
      "    22\t\n",
      "    23\tmenu .mbar.text.font\n",
      "    24\t.mbar.text add cascade -label submenu -menu .mbar.text.font\n",
      "    25\t.mbar.text.font add radiobutton -label \"Times\" -variable t -value Times\n",
      "    26\t.mbar.text.font add radiobutton -label \"Courier\" -variable t -value Courier\n"
     ]
    }
   ],
   "source": [
    "!cat -n prog/26.sh\n",
    "!echo \"\"\n",
    "!wish prog/26.sh"
   ]
  },
  {
   "cell_type": "markdown",
   "metadata": {},
   "source": [
    "<img src='images/submenu.png'/>"
   ]
  },
  {
   "cell_type": "markdown",
   "metadata": {},
   "source": [
    "### 弹出式菜单"
   ]
  },
  {
   "cell_type": "markdown",
   "metadata": {},
   "source": [
    ">windows中右键弹出的菜单就是弹出式菜单<br>\n",
    "`tk windowingsystem`：决定程序是否正在原始的Mac OS X窗口中被使用，如果是，会返回一个aqua的字符串。<br>\n",
    "核心代码：<br>\n",
    "`if {[tk windowingsystem] == \"aqua\"} {\n",
    "    bind .lbox <ButtonPress-2> {tk_popup .menu %X %Y}\n",
    "    bind .lbox <Control-ButtonPress-1> {tk_popup .menu %X %Y}\n",
    "} else {\n",
    "    bind .lbox <ButtonPress-3> {tk_popup .popup_menu %X %Y}\n",
    "}`"
   ]
  },
  {
   "cell_type": "code",
   "execution_count": 15,
   "metadata": {
    "ExecuteTime": {
     "end_time": "2019-08-07T05:40:59.288062Z",
     "start_time": "2019-08-07T05:37:17.361925Z"
    }
   },
   "outputs": [
    {
     "name": "stdout",
     "output_type": "stream",
     "text": [
      "     1\t#!/usr/bin/wish\n",
      "     2\tmenu .lbox\n",
      "     3\t. configure -menu .lbox\n",
      "     4\t.lbox add cascade -label 复制 \n",
      "     5\t.lbox add cascade -label 粘贴 \n",
      "     6\t\n",
      "     7\tputs [tk windowingsystem]\n",
      "     8\tif {[tk windowingsystem] == \"aqua\"} {\n",
      "     9\t    bind .lbox <ButtonPress-2> {tk_popup .menu %X %Y}\n",
      "    10\t    bind .lbox <Control-ButtonPress-1> {tk_popup .menu %X %Y}\n",
      "    11\t} else {\n",
      "    12\t    bind .lbox <ButtonPress-3> {tk_popup .lbox %X %Y}\n",
      "    13\t}\n",
      "x11\n"
     ]
    }
   ],
   "source": [
    "!cat -n prog/27.sh\n",
    "!echo \"\"\n",
    "!wish prog/27.sh"
   ]
  },
  {
   "cell_type": "markdown",
   "metadata": {},
   "source": [
    "<img src='images/popmenu.png'/>"
   ]
  },
  {
   "cell_type": "code",
   "execution_count": 18,
   "metadata": {
    "ExecuteTime": {
     "end_time": "2019-08-07T05:49:19.711150Z",
     "start_time": "2019-08-07T05:46:10.567956Z"
    }
   },
   "outputs": [
    {
     "name": "stdout",
     "output_type": "stream",
     "text": [
      "     1\t#!/usr/bin/wish\n",
      "     2\t\n",
      "     3\t# Create a menu\n",
      "     4\tset m [menu .popupMenu]\n",
      "     5\t$m add command -label \"Example 1\" -command bell\n",
      "     6\t$m add command -label \"Example 2\" -command bell\n",
      "     7\t\n",
      "     8\t# Create something to attach it to\n",
      "     9\tpack [label .l -text \"Click me!\"] -padx 1m -pady 2m\n",
      "    10\t\n",
      "    11\t# Arrange for the menu to pop up when the label is clicked\n",
      "    12\tbind .l <1> {tk_popup .popupMenu %X %Y}\n"
     ]
    }
   ],
   "source": [
    "!cat -n prog/28.sh\n",
    "!echo \"\"\n",
    "!wish prog/28.sh"
   ]
  },
  {
   "cell_type": "markdown",
   "metadata": {},
   "source": [
    "<img src='images/popmenu2.png'/>"
   ]
  },
  {
   "cell_type": "markdown",
   "metadata": {},
   "source": [
    "## 分栏窗口"
   ]
  },
  {
   "cell_type": "markdown",
   "metadata": {},
   "source": [
    "<img src='images/div.png'/>"
   ]
  },
  {
   "cell_type": "markdown",
   "metadata": {},
   "source": [
    "`-orient`：`vertical，horizontal`，垂直分栏，水平分栏<br>\n",
    "`-showhandle boolean`：是否显示调整大小的控制柄<br>\n",
    "`-after widget`：在widget后面插入组件<br>\n",
    "`-before widget`：在widget前面插入组件<br>\n",
    "`-height size`：设定组件高度，默认组件内在高度<br>\n",
    "`-width size`：设定组件的宽度<br>\n",
    "`-hide boolean`：控制分栏的可见性<br>\n",
    "`-minsize size`：设定窗格尺寸下限<br>\n",
    "`-padx size`：设定组件周边的垂直补白<br>\n",
    "`-pady size`：设定组件周边的垂直补白<br>\n",
    "`-sticky style`：控制组件的位置和扩展。当一个组件的窗格超过了自己要求的尺度时可以扩展这个组件。style是一个不包含或包含n(北)，s(南)，e(东)，w(西)中的某些字符的字符串。如果n和s（或者e和w）被指定了，窗口就能往该方向扩展并占据窗格的全部高度（或宽度）。<br>\n",
    "`-stretch when`：控制多余的空白是怎样分配到每一个窗格的。可以设为always或never。另外，如果窗格是first，last，middle窗格，可以指定窗格扩展的范围。<br>\n",
    "****\n",
    "分栏窗口既是一个组件也是一个几何管理器。\n",
    "****\n",
    "在分栏窗口中添加组件：<br>\n",
    "* `panedwindow .pw -orient horizontal\n",
    ".pw add .left .right <option>`\n",
    "* `.pw panecget .left -sticky <br>\n",
    "输出：nesw\n",
    "    .pw paneconfigure .left -minsize 2i`\n",
    "****\n",
    "`forget`：移除分栏窗口中的组件<br>\n",
    "`panes`：获取分栏窗口控制的组件列表<br>\n",
    "`.pw panes\n",
    "输出：.left .right`\n"
   ]
  },
  {
   "cell_type": "markdown",
   "metadata": {},
   "source": [
    "## 标准对话框"
   ]
  },
  {
   "cell_type": "markdown",
   "metadata": {},
   "source": [
    "`-icon: error, info, question, warning`<br>\n",
    "对话框是模态的，他会阻止Tcl程序执行。"
   ]
  },
  {
   "cell_type": "code",
   "execution_count": 28,
   "metadata": {
    "ExecuteTime": {
     "end_time": "2019-08-07T06:32:22.489279Z",
     "start_time": "2019-08-07T06:32:18.624565Z"
    }
   },
   "outputs": [
    {
     "name": "stdout",
     "output_type": "stream",
     "text": [
      "     1\t#!/usr/bin/wish\n",
      "     2\tputs \"对话框返回值：\"\n",
      "     3\tputs [tk_messageBox -type yesno -icon question -message \"Do you like tea?\" -parent .]\n",
      "对话框返回值：\n",
      "yes\n"
     ]
    }
   ],
   "source": [
    "!cat -n prog/29.sh\n",
    "!echo \"\"\n",
    "!wish prog/29.sh"
   ]
  },
  {
   "cell_type": "markdown",
   "metadata": {},
   "source": [
    "<img src='images/27.png'/>\n"
   ]
  },
  {
   "cell_type": "markdown",
   "metadata": {},
   "source": [
    "****"
   ]
  },
  {
   "cell_type": "markdown",
   "metadata": {},
   "source": [
    "### 文件导航对话框"
   ]
  },
  {
   "cell_type": "markdown",
   "metadata": {},
   "source": [
    "常用组件：`tk_getOpenFile, tk_getSaveFile, tk_chooseDirectory`"
   ]
  },
  {
   "cell_type": "code",
   "execution_count": 31,
   "metadata": {
    "ExecuteTime": {
     "end_time": "2019-08-07T06:42:14.538261Z",
     "start_time": "2019-08-07T06:41:45.494432Z"
    }
   },
   "outputs": [
    {
     "name": "stdout",
     "output_type": "stream",
     "text": [
      "     1\t#!/usr/bin/wish\n",
      "     2\tputs \"点击open后，返回选择的文件的路径名：\"\n",
      "     3\tputs [tk_getOpenFile -initialfile init.txt -filetypes {{Tcl .tcl} {All *}}]\n",
      "点击open后，返回选择的文件的路径名：\n",
      "/home/yfs/jupyter-dir/notebook/tk/prog/1.sh\n"
     ]
    }
   ],
   "source": [
    "!cat -n prog/30.sh\n",
    "!echo \"\"\n",
    "!wish prog/30.sh"
   ]
  },
  {
   "cell_type": "markdown",
   "metadata": {},
   "source": [
    "<img src='images/28.png'/>\n"
   ]
  },
  {
   "cell_type": "markdown",
   "metadata": {},
   "source": [
    "## 其他常见的选项"
   ]
  },
  {
   "cell_type": "markdown",
   "metadata": {},
   "source": [
    "### 组件状态"
   ]
  },
  {
   "cell_type": "markdown",
   "metadata": {},
   "source": [
    "**用于交互式组件和菜单条目**<br>\n",
    "`-state`：`normal(启用组件)，disable(禁用组件)，active(突出显示的组件，如鼠标经过组件上方时)`<br>\n",
    "常见的交互式组件：按钮，列表框，输出框<br>"
   ]
  },
  {
   "cell_type": "markdown",
   "metadata": {},
   "source": [
    "### 组件尺寸选项"
   ]
  },
  {
   "cell_type": "markdown",
   "metadata": {},
   "source": [
    "`-width，-height`<br>\n",
    "* 文本组件：单位字符宽度，行的高度<br>\n",
    "* 图像或位图：单位像素<br>\n",
    "* 组件不够大，使用`-anchor`修改内容<br>\n",
    "****\n",
    "默认值为0，组件根据内容自适应大小。<br>\n",
    "对于文本组件，几何管理器调整尺寸会覆盖`-width, -height`的值。<br>"
   ]
  },
  {
   "cell_type": "markdown",
   "metadata": {},
   "source": [
    "### 锚定选项"
   ]
  },
  {
   "cell_type": "markdown",
   "metadata": {},
   "source": [
    ">想图钉一样，把组件钉在某处。\n",
    "\n",
    "|符号|描述|\n",
    "|:---:|:---|\n",
    "|n|对象上边缘的中心|\n",
    "|ne|对象的右上角|\n",
    "|e|对象右边缘的中心|\n",
    "|se|对象的右下角|\n",
    "|s|对象的下边缘的中心|\n",
    "|sw|对象的左下角|\n",
    "|w|对象的左边缘的中心|\n",
    "|nw|对象的左上角|\n",
    "|center|对象的中心|"
   ]
  },
  {
   "cell_type": "markdown",
   "metadata": {},
   "source": [
    "<img src='images/11.png'/>"
   ]
  },
  {
   "cell_type": "code",
   "execution_count": 34,
   "metadata": {
    "ExecuteTime": {
     "end_time": "2019-08-07T07:08:02.735055Z",
     "start_time": "2019-08-07T07:07:57.442050Z"
    }
   },
   "outputs": [],
   "source": [
    "!wish prog/11.sh"
   ]
  },
  {
   "cell_type": "markdown",
   "metadata": {},
   "source": [
    "### 内部补白"
   ]
  },
  {
   "cell_type": "markdown",
   "metadata": {},
   "source": [
    "`-padx(水平)  -pady(垂直)`：\n",
    "用于设置组件边缘与内容之间的距离的最小值"
   ]
  },
  {
   "cell_type": "markdown",
   "metadata": {},
   "source": [
    "### 光标选项"
   ]
  },
  {
   "cell_type": "markdown",
   "metadata": {},
   "source": [
    "`-cursor`支持所有的组件，决定了当光标悬浮于组件上方时显示的图像。"
   ]
  },
  {
   "cell_type": "markdown",
   "metadata": {},
   "source": [
    "光标选项值的格式：\n",
    "* name fgColor bgColor\n",
    "* name fgColor\n",
    "* name\n",
    "****\n",
    "* @sourceFile maskFile fgColor bgColor\n",
    "* @sourceFile fgColor<br>\n",
    "此两种光标的图像来自与位图格式文件\n",
    "****\n",
    "* @sourceFile(用于windows系统)"
   ]
  },
  {
   "cell_type": "markdown",
   "metadata": {},
   "source": [
    "# 主题组件"
   ]
  },
  {
   "cell_type": "markdown",
   "metadata": {},
   "source": [
    "## 经典组件和主题组件"
   ]
  },
  {
   "cell_type": "markdown",
   "metadata": {},
   "source": [
    "主题组件一般是<ttK:经典组件名称><br>\n",
    "具体应用参见[TK组件](https://www.tcl-lang.org/man/tcl/TkCmd/contents.htm)\n",
    "****\n",
    "主题组件没有控制颜色，边界等选项，这些都交由主题控制。"
   ]
  },
  {
   "cell_type": "markdown",
   "metadata": {},
   "source": [
    "### 组合框"
   ]
  },
  {
   "cell_type": "code",
   "execution_count": 56,
   "metadata": {
    "ExecuteTime": {
     "end_time": "2019-08-07T07:52:15.957753Z",
     "start_time": "2019-08-07T07:51:50.331132Z"
    }
   },
   "outputs": [
    {
     "name": "stdout",
     "output_type": "stream",
     "text": [
      "     1\t#!/usr/bin/wish\n",
      "     2\tttk::combobox .cb -values {a b c d e f g h i j k l m n o p q}\n",
      "     3\tgrid .cb\n",
      "     4\tbind .cb <Return> {updateCombo %w}\n",
      "     5\tproc updateCombo {w} {\n",
      "     6\t    puts $w\n",
      "     7\t    set new [$w get]\n",
      "     8\t    set values [$w cget -values]\n",
      "     9\t    if {$new ni $values} {\n",
      "    10\t        set values [linsert $values 0 $new]\n",
      "    11\t        $w configure -values $values\n",
      "    12\t    }\n",
      "    13\t}\n"
     ]
    }
   ],
   "source": [
    "!cat -n prog/31.sh\n",
    "!echo \"\"\n",
    "!wish prog/31.sh"
   ]
  },
  {
   "cell_type": "markdown",
   "metadata": {},
   "source": [
    "<img src='images/combo.png' width=\"150px\"/>"
   ]
  },
  {
   "cell_type": "markdown",
   "metadata": {},
   "source": [
    "### 记事本"
   ]
  },
  {
   "cell_type": "markdown",
   "metadata": {
    "ExecuteTime": {
     "end_time": "2019-08-07T07:58:07.414941Z",
     "start_time": "2019-08-07T07:57:40.873315Z"
    }
   },
   "source": [
    "`tkk::notebook`：界面类似notepad++，可以打开多个编辑窗口。"
   ]
  },
  {
   "cell_type": "markdown",
   "metadata": {},
   "source": [
    "### 进度条"
   ]
  },
  {
   "cell_type": "markdown",
   "metadata": {},
   "source": [
    "`tkk::progressbar`"
   ]
  },
  {
   "cell_type": "markdown",
   "metadata": {},
   "source": [
    "### 分隔符"
   ]
  },
  {
   "cell_type": "markdown",
   "metadata": {},
   "source": [
    "`tkk::separator`：用于分割逻辑单元"
   ]
  },
  {
   "cell_type": "markdown",
   "metadata": {},
   "source": [
    "### 尺寸控制柄"
   ]
  },
  {
   "cell_type": "markdown",
   "metadata": {},
   "source": [
    "`tkk::sizegrip`：允许用户按下并拖曳控制柄，调整其中的**顶层窗口**的大小，只有顶层窗口右下角的尺寸控制柄才支持调整行为。"
   ]
  },
  {
   "cell_type": "markdown",
   "metadata": {},
   "source": [
    "### 目录树"
   ]
  },
  {
   "cell_type": "markdown",
   "metadata": {},
   "source": [
    "`tkk::treeview`"
   ]
  },
  {
   "cell_type": "markdown",
   "metadata": {},
   "source": [
    "## 主题组件的状态"
   ]
  },
  {
   "cell_type": "markdown",
   "metadata": {},
   "source": [
    "`-state：active, disabled, focus, pressed, selected, background, readonly, alternate, invalid`等\n",
    "***\n",
    "查询主题组件的状态：<br>\n",
    "`widget state ?stateSpec?`<br>\n",
    "如：\n",
    "* `.e state {focus readonly}`\n",
    "* `.e state`\n",
    "* `focus readonly`\n",
    "查询结果说明：带！的元素表示该状态被取消，不带的是已设定的。\n",
    "\n",
    "测试主题组件的状态：<br>\n",
    "`widget instate stateSpec ?script?`<br>\n",
    "如：<br>`.e instate disabled`<br>\n",
    "`.e instate {disabled !readonly}`<br>\n",
    "`.e instate alternate`<br>\n",
    "若提供script，则当组件状态与设置的状态匹配时，该脚本被执行。<br>\n",
    "如`.b instate {pressed !disabled} {.b invoke}`:当且仅当主题按钮.b在当前被按下且有效时，执行script。"
   ]
  },
  {
   "cell_type": "markdown",
   "metadata": {},
   "source": [
    "### 主题组件的样式"
   ]
  },
  {
   "cell_type": "markdown",
   "metadata": {},
   "source": [
    ">每一个主题组件都被赋予一种样式，所有同一类的主题组件都有相同的默认类(外观)\n",
    "***\n",
    ">组件样式查询：<br>\n",
    "如<br>\n",
    "`ttk::label .l\n",
    "winfo class .l\n",
    "输出：TLabel`\n",
    "***\n",
    ">设置样式：<br>\n",
    "如若存在AlertLabel.TLabel的新样式<br>\n",
    "`.l configure -style AlertLabel .TLabel`"
   ]
  },
  {
   "cell_type": "markdown",
   "metadata": {},
   "source": [
    "### 主题的使用"
   ]
  },
  {
   "cell_type": "markdown",
   "metadata": {},
   "source": [
    "**主题**：是一个命名的样式集合，用来为所有主题组件提供一致的外观。<br>\n",
    "`ttk::style theme names`：列出系统中定义的主题名<br>\n",
    "`$ttk::currentTheme`：当前使用的主题<br>\n",
    "`ttk::style theme use clam`：使用clam主题<br>"
   ]
  },
  {
   "cell_type": "markdown",
   "metadata": {},
   "source": [
    "### 主题的元素"
   ]
  },
  {
   "cell_type": "markdown",
   "metadata": {},
   "source": [
    "`ttk::style layout 样式名称`：查看或修改指定样式的布局<br>\n",
    "如输入:<br>`ttk::style layout TCheckbutton`<br>\n",
    "输出：<br>\n",
    "`Checkbutton.padding -sticky nswe -children {\n",
    "    Checkbutton.indicator -side left -sticky {} \n",
    "    Checkbutton.focus -side left -sticky w -children {\n",
    "        Checkbutton.label -sticky nswe\n",
    "    }\n",
    "}`\n",
    "* 其中`Checkbutton.padding，Checkbutton.indicator，Checkbutton.focus`就是该主题的元素。\n",
    "* 元素在组件所分配的空间中按列出的顺序来布置，这种空间成为空腔。\n",
    "* `-side`：决定元素中分配在空腔中的位置，有`left,right,top,bottom`，若忽略-side属性，则整个空腔会分配给元素。\n",
    "* `-sticky`：指定元素在包中的位置。"
   ]
  },
  {
   "cell_type": "markdown",
   "metadata": {},
   "source": [
    "### 创建和配置样式"
   ]
  },
  {
   "cell_type": "markdown",
   "metadata": {},
   "source": [
    "# 几何管理器"
   ]
  },
  {
   "cell_type": "markdown",
   "metadata": {},
   "source": [
    "## 网格管理器"
   ]
  },
  {
   "cell_type": "markdown",
   "metadata": {},
   "source": [
    "**`grid configure`**:<br>\n",
    ">`-column n`：将组件插入第n列<br>\n",
    "`-row n`：将组件插入第n行<br>\n",
    "`-columnspan n`：组件占据n列<br>\n",
    "`-rowspan n`：组件占据n行<br>\n",
    ">***\n",
    ">`-in master`：将master作为从组件的主组件。master必须是从组件的父组件，或是从组件的父组件的下层组件。该选项默认主组件是从组件的父组件。<br>\n",
    ">***\n",
    ">`-ipadx distance`：组件边框和内容之间水平补白<br>\n",
    "`-ipady distance`：组件边框和内容之间垂直补白<br>\n",
    "`-padx distance`：组件周围添加外部水平补白<br>\n",
    "`-pady distance`：组件周围添加外部垂直补白<br>\n",
    ">***\n",
    ">`-sticky style`：n，s, e, w, nsew的组合。若不填满空腔，默认位于中心位置。<br>"
   ]
  },
  {
   "cell_type": "markdown",
   "metadata": {},
   "source": [
    "**`grid columnconfigure master index\n",
    " grid rowconfigure master index`**：<br>\n",
    ">****\n",
    ">**作用：设置和查询主组件中行和列的配置。index可能作为列索引的列表给出，后面的所有配置选项都作用于该索引上。索引可以是整数，网格中的组件名，关键字all。**<br>\n",
    ">****\n",
    ">`-minsize amount`：一行或一列的最小尺寸。<br>\n",
    "`-pad amount`：向行/列中的每个组件添加外部补白。<br>\n",
    "`-weight int`：默认为0，当留有空白时，它可以扩展行或者扩展列所占空间。<br>\n",
    "`-uniform groupName`：参见文档。<br>\n"
   ]
  },
  {
   "cell_type": "markdown",
   "metadata": {},
   "source": [
    "**相对位置字符：-，x，^**<br>\n",
    ">'-'：**列扩展**。将前一个组件扩展到下一列(目前认为前一个组件指的是左边的组件)。<br>\n",
    "'x'：设置当前单元格为空。<br>\n",
    "'^'：**行扩展**。将前一行组件扩展至下一行。<br>"
   ]
  },
  {
   "cell_type": "code",
   "execution_count": 1,
   "metadata": {
    "ExecuteTime": {
     "end_time": "2019-08-07T12:42:08.922670Z",
     "start_time": "2019-08-07T12:41:46.898207Z"
    }
   },
   "outputs": [
    {
     "name": "stdout",
     "output_type": "stream",
     "text": [
      "     1\t#!/usr/bin/wish\n",
      "     2\tttk::label .w1 -text \"Label 1\" -relief raised\n",
      "     3\tttk::label .w2 -text \"Label 2\" -relief raised\n",
      "     4\tttk::label .w3 -text \"Label 3\" -relief raised\n",
      "     5\tttk::label .w4 -text \"No. \\n4\" -relief raised\n",
      "     6\tttk::label .w5 -text \"No. \\n5\" -relief raised\n",
      "     7\tgrid .w1   -   x .w4 -sticky news\n",
      "     8\tgrid .w5 .w2   -   ^ -sticky news\n",
      "     9\tgrid   ^   x .w3   - -sticky news\n"
     ]
    }
   ],
   "source": [
    "!cat -n prog/33.sh\n",
    "!echo \"\"\n",
    "!wish prog/33.sh"
   ]
  },
  {
   "cell_type": "markdown",
   "metadata": {},
   "source": [
    "<img src='images/29.png'/>\n"
   ]
  },
  {
   "cell_type": "markdown",
   "metadata": {},
   "source": [
    "## 打包器"
   ]
  },
  {
   "cell_type": "markdown",
   "metadata": {},
   "source": [
    "<img src='images/pack.png'/>"
   ]
  },
  {
   "cell_type": "markdown",
   "metadata": {},
   "source": [
    "**打包步骤：**\n",
    "1. 分配块区。<br>\n",
    "可能会出现一个受控尺度，因为打包器是按照从组件的宽或者高来化区域的。在主窗口有多余空间时，可能没有受控尺度。\n",
    "2. 扩展这个从组件。<br>\n",
    "3. 将该组件放入该区域。<br>\n",
    "若从组件小于块区，从组件会给出一个锚定位置，如s, n, center(默认，如上图(c))。<br>\n",
    "\n",
    "后续添加的组件从剩下的矩形可用空间中按照上述步骤划取块区。"
   ]
  },
  {
   "cell_type": "markdown",
   "metadata": {},
   "source": [
    "**`pack configure slave`**<br>\n",
    "***\n",
    "`-after widget`<br>\n",
    "`-before widget`<br>\n",
    "指定组件的打包顺序：\n",
    "1. 默认新添加的组件出现在打包列表的末尾。这两个选项的参数必须是已被打包的组件名称，新的组件会放置在该组件之前或之后。\n",
    "2. 它会将已被打包的组件作为新组件的主组件，按照指定顺序区分主从组件的前后顺序，加入到打包列表中。\n",
    "\n",
    "***\n",
    "`-in master`：使用master作为从组件的主组件。master必须是从组件的父组件或者从组件父组件的下层组件。默认是从组件的父组件。\n",
    "***\n",
    "`-expand boolean`：填充的是主窗口的多余空间。取值为1(填充),0(不填充，默认值)。如设定主窗口尺寸较大时。<br>\n",
    "`-fill style`：填充的是从组件分配的区块的多余空间。取值可为x, y, both。**保留-padx, -pady的外部补白**\n",
    "***\n",
    "`-ipadx distance`：组件的边缘与内容之间的内部水平补白。<br>\n",
    "`-ipady distance`：组件的边缘与内容之间的内部垂直补白。<br>\n",
    "`-padx distance`：组件周围添加外部水平补白。可使用二维列表指定左侧和右侧的补白。<br>\n",
    "`-pady distance`：组件周围添加外部垂直补白。可使用二维列表指定上侧和下侧的补白。<br>\n",
    "***\n",
    "`-anchor position`：分配的块区有空余空间，才有效果。**保留-padx, -pady的外部补白**<br>\n",
    "`-side side`：取值top, bottom, left, right。指定主组件中从组件应该靠哪边。"
   ]
  },
  {
   "cell_type": "markdown",
   "metadata": {},
   "source": [
    "<img src='images/pack2.png'/>"
   ]
  },
  {
   "cell_type": "markdown",
   "metadata": {},
   "source": [
    "### 补白"
   ]
  },
  {
   "cell_type": "markdown",
   "metadata": {},
   "source": [
    "<img src='images/liubai.png'/>"
   ]
  },
  {
   "cell_type": "markdown",
   "metadata": {},
   "source": [
    "## 定位器"
   ]
  },
  {
   "cell_type": "markdown",
   "metadata": {},
   "source": [
    "`-x， -y，-width, -height`：指定绝对位置<br>\n",
    "`-relx, -rely, -relwidth, -relheight`：指定相对位置"
   ]
  },
  {
   "cell_type": "markdown",
   "metadata": {},
   "source": [
    "## 层级结构几何管理"
   ]
  },
  {
   "cell_type": "markdown",
   "metadata": {},
   "source": [
    ">* 打包器和网格管理器中的组件才有层级结构。分层情况由组件堆栈顺序决定。\n",
    "* 框架.left, .right必须在按钮之前创建，这样，按钮在对战顺序中会处在框架的顶层。最近创建的组件会处在堆栈顺序的顶端。如果.left晚于.pts8创建，它会出现在.pts8上，因此.pts8不可见。<br>\n",
    "* raise和lower命令可以调整堆栈顺序"
   ]
  },
  {
   "cell_type": "code",
   "execution_count": 3,
   "metadata": {
    "ExecuteTime": {
     "end_time": "2019-08-08T01:15:26.421008Z",
     "start_time": "2019-08-08T01:15:06.111270Z"
    }
   },
   "outputs": [
    {
     "name": "stdout",
     "output_type": "stream",
     "text": [
      "     1\t#!/usr/bin/wish\n",
      "     2\tframe .left\n",
      "     3\tframe .right\n",
      "     4\tset buttonList [list]\n",
      "     5\tforeach size {8 10 12 18 24} {\n",
      "     6\t    ttk::radiobutton .pts$size -text \"$size points\" -variable pts -value $size\n",
      "     7\t    lappend buttonList .pts$size\n",
      "     8\t}\n",
      "     9\tttk::checkbutton .bold -text Bold -variable bold\n",
      "    10\tttk::checkbutton .italic -text Italic -variable italic\n",
      "    11\tttk::checkbutton .underline -text Underline -variable underline\n",
      "    12\t\n",
      "    13\tpack {*}$buttonList -in .left -side top -anchor w\n",
      "    14\tpack .bold .italic .underline -in .right -side top -anchor w\n",
      "    15\tpack .left -side left -padx 3m -pady 3m\n",
      "    16\tpack .right -side right -padx 3m -pady 3m\n"
     ]
    }
   ],
   "source": [
    "!cat -n prog/34.sh\n",
    "!echo \"\"\n",
    "!wish prog/34.sh"
   ]
  },
  {
   "cell_type": "markdown",
   "metadata": {},
   "source": [
    "<img src='images/30.png'/>\n"
   ]
  },
  {
   "cell_type": "markdown",
   "metadata": {},
   "source": [
    "## 组件堆栈顺序"
   ]
  },
  {
   "cell_type": "markdown",
   "metadata": {},
   "source": [
    "默认的组件堆栈顺序是组件的创建顺序。raise和lower命令是直接将组件调整到最顶层或最底层，其后可接多个组件名称，组件的先后顺序与堆栈顺序对应。当组件出现重叠时，上方的组件会遮住下方的。"
   ]
  },
  {
   "cell_type": "markdown",
   "metadata": {},
   "source": [
    "## 其他几何管理器选项"
   ]
  },
  {
   "cell_type": "markdown",
   "metadata": {},
   "source": [
    "`pack slaves .left`：列出.left窗口中的所有组件<br>\n",
    "`pack info .pts8`: 列出组件.ptf8的所有配置选项<br>\n",
    "`pack forget .left`：使几何管理器停止管理.left组件，并清除对它们所有配置状态的记忆。用于从屏幕中删除组件，或者将对窗口的控制从一个转到另一个。另，如果forget的窗口是其他从窗口的主窗口，那么这些从窗口的信息会被保存下来，但这些从窗口不会显示在屏幕上，直到主窗口重新被控制。<br>\n",
    "`grid -remove`：从网格中删除从窗口，但该窗口的配置选项会保存下来，这是啥与pack forget不同的地方。<br>"
   ]
  },
  {
   "cell_type": "markdown",
   "metadata": {},
   "source": []
  },
  {
   "cell_type": "markdown",
   "metadata": {},
   "source": []
  },
  {
   "cell_type": "markdown",
   "metadata": {},
   "source": []
  },
  {
   "cell_type": "markdown",
   "metadata": {},
   "source": []
  }
 ],
 "metadata": {
  "kernelspec": {
   "display_name": "Python 3",
   "language": "python",
   "name": "python3"
  },
  "language_info": {
   "codemirror_mode": {
    "name": "ipython",
    "version": 3
   },
   "file_extension": ".py",
   "mimetype": "text/x-python",
   "name": "python",
   "nbconvert_exporter": "python",
   "pygments_lexer": "ipython3",
   "version": "3.6.8"
  },
  "toc": {
   "base_numbering": 1,
   "nav_menu": {},
   "number_sections": true,
   "sideBar": true,
   "skip_h1_title": false,
   "title_cell": "Table of Contents",
   "title_sidebar": "Contents",
   "toc_cell": false,
   "toc_position": {
    "height": "calc(100% - 180px)",
    "left": "10px",
    "top": "150px",
    "width": "178.1px"
   },
   "toc_section_display": true,
   "toc_window_display": false
  }
 },
 "nbformat": 4,
 "nbformat_minor": 2
}
