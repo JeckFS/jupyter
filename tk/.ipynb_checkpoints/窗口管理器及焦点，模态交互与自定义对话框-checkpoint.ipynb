{
 "cells": [
  {
   "cell_type": "markdown",
   "metadata": {},
   "source": [
    "# 窗口管理器"
   ]
  },
  {
   "cell_type": "markdown",
   "metadata": {},
   "source": [
    "<font color='#b60a80' size=4>在绑定的事件中不允许再次为别的组件绑定事件。如果有这样的需求：当某个点击事件a发生时，弹出一窗口，窗口内含有很多组件，且需要绑定事件，这时候，是不允许在事件a中绑定组件的。唯一的解决办法是所有用到的组件都在事件a外定义好，事件a只是用来将窗口内组件布局好并显示即可达到目标。</font>"
   ]
  },
  {
   "cell_type": "markdown",
   "metadata": {},
   "source": [
    "## 窗口尺寸"
   ]
  },
  {
   "cell_type": "markdown",
   "metadata": {},
   "source": [
    "|命令实例|解释|\n",
    "|:---|:---|\n",
    "|wm geometry .w 300x200|强制窗口.w改为300像素宽，200像素高|\n",
    "|wm geometry .w {}|将窗口.w恢复到自然尺寸|\n",
    "|wm minsize .w 100 50|指定窗口.w的宽最小为100，高最小未50。可动态调整|\n",
    "|wm maxsize .w 400 150|指定窗口.w的宽最大未400，高最大为150。可动态调整|\n",
    "|wm resizable .w boolean boolean|设定宽度或者高度是否可调整|\n",
    "|wm aspect .w 1 3 4 3|设定窗口.w的宽高比大于1/3或者小于4/3|"
   ]
  },
  {
   "cell_type": "markdown",
   "metadata": {},
   "source": [
    "# 窗口位置"
   ]
  },
  {
   "cell_type": "markdown",
   "metadata": {},
   "source": [
    "**一般情况窗口位置是相对整个屏幕来说的，当存在虚拟的根窗口管理器时，窗口位置是相对于虚拟根窗口的。**"
   ]
  },
  {
   "cell_type": "markdown",
   "metadata": {},
   "source": [
    "|||\n",
    "|:--:|:--|\n",
    "|++|窗口左上角相对于屏幕的左上角|\n",
    "|+-|窗口左下角相对于屏幕的左下角|\n",
    "|-+|窗口右上角相对于屏幕的右上角|\n",
    "|--|窗口右下角相对于屏幕的右下角|"
   ]
  },
  {
   "cell_type": "markdown",
   "metadata": {},
   "source": [
    "命令格式：`wm geometry .w +200+200`"
   ]
  },
  {
   "cell_type": "markdown",
   "metadata": {},
   "source": [
    "## 窗口状态"
   ]
  },
  {
   "cell_type": "markdown",
   "metadata": {},
   "source": [
    "|||\n",
    "|:--|:--|\n",
    "|wm iconify .w|将窗口.w最小化|\n",
    "|wm withdraw .w|将窗口.w关闭|\n",
    "|wm deiconify .w|唤醒withdraw关闭的窗口|\n",
    "|wm state .w|查看窗口的当前状态|"
   ]
  },
  {
   "cell_type": "markdown",
   "metadata": {},
   "source": [
    "## 特殊处理：瞬态，组，覆盖-重定向"
   ]
  },
  {
   "cell_type": "markdown",
   "metadata": {},
   "source": [
    "### 瞬态窗口"
   ]
  },
  {
   "cell_type": "markdown",
   "metadata": {},
   "source": [
    "瞬态窗口(如对话框)总是位于其主窗口之上，表现为缺少装饰。<br>\n",
    "`wm transient .w .`：告知窗口管理器, .w是一个瞬态窗口，“.”作为.w的主窗口。"
   ]
  },
  {
   "cell_type": "markdown",
   "metadata": {},
   "source": [
    "### 组"
   ]
  },
  {
   "cell_type": "markdown",
   "metadata": {},
   "source": [
    "### 覆盖-重定向"
   ]
  },
  {
   "cell_type": "markdown",
   "metadata": {},
   "source": [
    "`wm overrideredirect .w true`：将窗口.w标记为覆盖-重定向。表现为没有装饰。<br>\n",
    "**该命令必须在窗口显示在屏幕上前调用。**"
   ]
  },
  {
   "cell_type": "markdown",
   "metadata": {},
   "source": [
    "<img src='images/33.png'/>\n"
   ]
  },
  {
   "cell_type": "markdown",
   "metadata": {
    "ExecuteTime": {
     "end_time": "2019-08-08T13:18:13.576094Z",
     "start_time": "2019-08-08T13:18:10.026592Z"
    }
   },
   "source": [
    "## 针对系统的窗口属性"
   ]
  },
  {
   "cell_type": "markdown",
   "metadata": {},
   "source": [
    "`wm attribute .w option`<br>\n",
    "`option:\n",
    "-fullscreen boolean\n",
    "-topmost boolean`"
   ]
  },
  {
   "cell_type": "markdown",
   "metadata": {},
   "source": [
    ">**模态窗口**：\n",
    "需要用户与该窗口交互，然后才能进一步与主窗口交互的子窗口。"
   ]
  },
  {
   "cell_type": "markdown",
   "metadata": {},
   "source": [
    "# 输入焦点"
   ]
  },
  {
   "cell_type": "markdown",
   "metadata": {},
   "source": [
    "具有输入焦点的窗口，成为焦点窗口，该窗口只能用于按下按键和释放按键的事件。"
   ]
  },
  {
   "cell_type": "markdown",
   "metadata": {},
   "source": [
    "# 焦点模式：显示与隐式"
   ]
  },
  {
   "cell_type": "markdown",
   "metadata": {},
   "source": [
    "**隐式焦点模式**：焦点会跟随鼠标，即按键输入定向到鼠标指针下的窗口，当鼠标从一个窗口移到另一个窗口，焦点窗口会暗中切换。<br>\n",
    "**显示焦点模式**：焦点窗口被明确指定且不会改变，直到明确地重新设置，鼠标运动不会改变焦点。"
   ]
  },
  {
   "cell_type": "markdown",
   "metadata": {},
   "source": [
    "# 设置输入焦点"
   ]
  },
  {
   "cell_type": "markdown",
   "metadata": {},
   "source": [
    "`focus 组件名`<br>\n",
    "`focus -force`:强制设置输入焦点"
   ]
  },
  {
   "cell_type": "markdown",
   "metadata": {},
   "source": [
    "# 查询输入焦点"
   ]
  },
  {
   "cell_type": "markdown",
   "metadata": {},
   "source": [
    "`focus`：查询当前焦点窗口名称。\n",
    "`focus -lastfor 窗口名`：返回包含特定窗口的顶层窗口中最近使用的焦点窗口名，该窗口就是在窗口管理器将焦点赋予顶层窗口之前的那个接受输入焦点的窗口。"
   ]
  },
  {
   "cell_type": "code",
   "execution_count": 11,
   "metadata": {
    "ExecuteTime": {
     "end_time": "2019-08-09T00:37:21.447480Z",
     "start_time": "2019-08-09T00:36:06.781330Z"
    }
   },
   "outputs": [
    {
     "name": "stdout",
     "output_type": "stream",
     "text": [
      "     1\t#!/usr/bin/wish\n",
      "     2\tbutton .btn -text \".按钮\"\n",
      "     3\tbind .btn <Button-1> {\n",
      "     4\t    puts \"[focus],[focus -lastfor .]\"\n",
      "     5\t}\n",
      "     6\t\n",
      "     7\ttoplevel .n\n",
      "     8\tbutton .n.btn -text \".n按钮\"\n",
      "     9\tbind .n.btn <Button-1> {\n",
      "    10\t    puts \"[focus], [focus -lastfor .n]\"\n",
      "    11\t}\n",
      "    12\t\n",
      "    13\tpack .btn\n",
      "    14\tpack .n.btn\n",
      "\n",
      ".,.\n",
      ".n, .n\n"
     ]
    }
   ],
   "source": [
    "!cat -n prog/40.sh\n",
    "!echo \"\"\n",
    "!wish prog/40.sh"
   ]
  },
  {
   "cell_type": "markdown",
   "metadata": {},
   "source": [
    "<img src='images/34.png'/>\n"
   ]
  },
  {
   "cell_type": "markdown",
   "metadata": {},
   "source": [
    "# 模态交互"
   ]
  },
  {
   "cell_type": "markdown",
   "metadata": {},
   "source": [
    ">强制用户按一定顺序的交互<br>\n",
    ">实现方式：\n",
    "* grab\n",
    "* tkwait"
   ]
  },
  {
   "cell_type": "markdown",
   "metadata": {},
   "source": [
    "## 攫取"
   ]
  },
  {
   "cell_type": "markdown",
   "metadata": {},
   "source": [
    "作用：阻止用户与攫取子目录树之外的窗口交互，鼠标事件只会传给那个窗口和其在Tk层级结构中的下层窗口。<br>\n",
    "设置攫取：`grab set .dlg`其中.dlg是被设置攫取的窗口<br>\n",
    "释放攫取：`grab release .dlg`"
   ]
  },
  {
   "cell_type": "code",
   "execution_count": 13,
   "metadata": {
    "ExecuteTime": {
     "end_time": "2019-08-09T01:01:41.632290Z",
     "start_time": "2019-08-09T00:58:43.349457Z"
    }
   },
   "outputs": [
    {
     "name": "stdout",
     "output_type": "stream",
     "text": [
      "     1\t#!/usr/bin/wish\n",
      "     2\tbutton .b1 -text \"Unclickable 1\"\n",
      "     3\tbutton .b2 -text \"Unclickable 2\"\n",
      "     4\tbutton .b3 -text \"Grabby Button\" -command {destroy .b3}\n",
      "     5\tlabel .l -text \"Text entry\"\n",
      "     6\tentry .e\n",
      "     7\tpack .b1 .b2 .b3 .l .e\n",
      "     8\tgrab .b3\n"
     ]
    }
   ],
   "source": [
    "!cat -n prog/41.sh\n",
    "!echo \"\"\n",
    "!wish prog/41.sh"
   ]
  },
  {
   "cell_type": "markdown",
   "metadata": {},
   "source": [
    "<img src='images/35.png'/>\n"
   ]
  },
  {
   "cell_type": "markdown",
   "metadata": {},
   "source": [
    "效果：只有Grabby Button可以点击，其他四个组件都不能点击。"
   ]
  },
  {
   "cell_type": "code",
   "execution_count": 20,
   "metadata": {
    "ExecuteTime": {
     "end_time": "2019-08-09T01:15:18.560276Z",
     "start_time": "2019-08-09T01:14:58.280360Z"
    }
   },
   "outputs": [
    {
     "name": "stdout",
     "output_type": "stream",
     "text": [
      "     1\t#!/usr/bin/wish\n",
      "     2\tbutton .b -text \"(.)按钮\"\n",
      "     3\tpack .b\n",
      "     4\t\n",
      "     5\ttoplevel .n\n",
      "     6\tbutton .n.b -text \"(.n)按钮\"\n",
      "     7\tpack .n.b\n",
      "     8\t\n",
      "     9\tgrab set .n\n",
      "    10\t\n",
      "    11\twm geometry . 300x200\n",
      "    12\twm geometry .n 300x200\n"
     ]
    }
   ],
   "source": [
    "!cat -n prog/42.sh\n",
    "!echo \"\"\n",
    "!wish prog/42.sh"
   ]
  },
  {
   "cell_type": "markdown",
   "metadata": {},
   "source": [
    "<img src='images/36.png'/>\n",
    "效果：只有顶层窗口.n中的按钮可点击"
   ]
  },
  {
   "cell_type": "markdown",
   "metadata": {},
   "source": [
    "## 局部和全局攫取"
   ]
  },
  {
   "cell_type": "code",
   "execution_count": 21,
   "metadata": {
    "ExecuteTime": {
     "end_time": "2019-08-09T01:53:38.796167Z",
     "start_time": "2019-08-09T01:46:47.973269Z"
    }
   },
   "outputs": [
    {
     "name": "stdout",
     "output_type": "stream",
     "text": [
      "     1\t#!/usr/bin/wish\n",
      "     2\tbutton .b -text \"(.)按钮\"\n",
      "     3\tpack .b\n",
      "     4\tbind .b <Button-1> {\n",
      "     5\t    destroy .n\n",
      "     6\t}\n",
      "     7\t\n",
      "     8\ttoplevel .n\n",
      "     9\tbutton .n.b -text \"(.n)锁定\"\n",
      "    10\tbutton .n.r -text \"(.n)释放锁定\"\n",
      "    11\tbutton .n.close -text \"(.n)关闭.n窗口\"\n",
      "    12\tpack .n.b .n.r .n.close\n",
      "    13\tbind .n.b <Button-1> {\n",
      "    14\t    grab set -global .\n",
      "    15\t}\n",
      "    16\tbind .n.r <Button-1> {\n",
      "    17\t    grab release .\n",
      "    18\t}\n",
      "    19\tbind .n.close <Button-1> {\n",
      "    20\t    after 2000 \n",
      "    21\t    destroy .\n",
      "    22\t}\n",
      "    23\t\n",
      "    24\twm geometry . 300x200\n",
      "    25\twm geometry .n 300x200\n",
      "\n"
     ]
    }
   ],
   "source": [
    "!cat -n prog/43.sh\n",
    "!echo \"\"\n",
    "!wish prog/43.sh"
   ]
  },
  {
   "cell_type": "markdown",
   "metadata": {},
   "source": [
    "<img src='images/37.png'/>\n"
   ]
  },
  {
   "cell_type": "markdown",
   "metadata": {},
   "source": [
    "## 等待：tkwait命令"
   ]
  },
  {
   "cell_type": "markdown",
   "metadata": {},
   "source": [
    ">在模态交互过程中搁置一个脚本，并在交互完成时恢复执行。"
   ]
  },
  {
   "cell_type": "markdown",
   "metadata": {},
   "source": [
    "`tkwait visibility .intro`：等待.intor窗口可视状态改变时返回。"
   ]
  },
  {
   "cell_type": "code",
   "execution_count": 30,
   "metadata": {
    "ExecuteTime": {
     "end_time": "2019-08-09T02:13:13.138692Z",
     "start_time": "2019-08-09T02:13:10.139390Z"
    }
   },
   "outputs": [
    {
     "name": "stdout",
     "output_type": "stream",
     "text": [
      "     1\t#!/usr/bin/wish\n",
      "     2\tputs \"1\"\n",
      "     3\tbutton .b -text \"显示.intro窗口\"\n",
      "     4\tbind .b <1> {\n",
      "     5\t    wm deiconify .intro\n",
      "     6\t}\n",
      "     7\tpack .b\n",
      "     8\twm geometry . 150x100\n",
      "     9\ttoplevel .intro\n",
      "    10\twm withdraw .intro\n",
      "    11\ttkwait visibility .intro\n",
      "    12\tputs \"2\"\n",
      "    13\tputs \"3\"\n",
      "1\n",
      "2\n",
      "3\n"
     ]
    }
   ],
   "source": [
    "!cat -n prog/44.sh\n",
    "!echo \"\"\n",
    "!wish prog/44.sh"
   ]
  },
  {
   "cell_type": "markdown",
   "metadata": {},
   "source": [
    "<img src='images/38.png'/>\n"
   ]
  },
  {
   "cell_type": "markdown",
   "metadata": {},
   "source": [
    "当点击按钮后，.intro窗口才会显现，2与3才会输出。"
   ]
  },
  {
   "cell_type": "markdown",
   "metadata": {},
   "source": [
    "`tkwait window .dlg`：等待窗口.dlg删除(destroy)后，才返回。"
   ]
  },
  {
   "cell_type": "code",
   "execution_count": 35,
   "metadata": {
    "ExecuteTime": {
     "end_time": "2019-08-09T02:19:44.030490Z",
     "start_time": "2019-08-09T02:19:24.896902Z"
    }
   },
   "outputs": [
    {
     "name": "stdout",
     "output_type": "stream",
     "text": [
      "     1\t#!/usr/bin/wish\n",
      "     2\twm geometry . 150x100\n",
      "     3\tbutton .b1 -text \"显示\"\n",
      "     4\tbutton .b2 -text \"隐藏\"\n",
      "     5\tbutton .b3 -text \"destroy\"\n",
      "     6\ttoplevel .dlg\n",
      "     7\tbind .b1 <1> {\n",
      "     8\t    wm deiconify .dlg\n",
      "     9\t}\n",
      "    10\tbind .b2 <1> {\n",
      "    11\t    wm withdraw .dlg\n",
      "    12\t}\n",
      "    13\tbind .b3 <1> {\n",
      "    14\t    destroy .dlg\n",
      "    15\t}\n",
      "    16\tpack .b1 .b2 .b3\n",
      "    17\ttkwait window .dlg\n",
      "    18\tputs \"finished\"\n",
      "finished\n"
     ]
    }
   ],
   "source": [
    "!cat -n prog/45.sh\n",
    "!echo \"\"\n",
    "!wish prog/45.sh"
   ]
  },
  {
   "cell_type": "markdown",
   "metadata": {},
   "source": [
    "<img src='images/39.png'/>\n"
   ]
  },
  {
   "cell_type": "markdown",
   "metadata": {},
   "source": [
    "`tkwait variable x`：当变量x被修改时返回。"
   ]
  },
  {
   "cell_type": "code",
   "execution_count": 38,
   "metadata": {
    "ExecuteTime": {
     "end_time": "2019-08-09T02:29:19.470897Z",
     "start_time": "2019-08-09T02:28:56.799955Z"
    }
   },
   "outputs": [
    {
     "name": "stdout",
     "output_type": "stream",
     "text": [
      "     1\t#!/usr/bin/wish\n",
      "     2\twm geometry . 150x100\n",
      "     3\tset var 0\n",
      "     4\tbutton .b -text \"改变var的值\"\n",
      "     5\tpack .b\n",
      "     6\tbind .b <1> {\n",
      "     7\t    set var 3\n",
      "     8\t}\n",
      "     9\ttkwait variable var\n",
      "    10\tputs \"finished!\"\n",
      "finished!\n"
     ]
    }
   ],
   "source": [
    "!cat -n prog/46.sh\n",
    "!echo \"\"\n",
    "!wish prog/46.sh"
   ]
  },
  {
   "cell_type": "markdown",
   "metadata": {},
   "source": [
    "<img src='images/40.png'/>\n"
   ]
  },
  {
   "cell_type": "markdown",
   "metadata": {},
   "source": [
    "# 自定义对话框"
   ]
  },
  {
   "cell_type": "markdown",
   "metadata": {},
   "source": []
  },
  {
   "cell_type": "markdown",
   "metadata": {},
   "source": []
  },
  {
   "cell_type": "markdown",
   "metadata": {},
   "source": []
  },
  {
   "cell_type": "markdown",
   "metadata": {},
   "source": []
  },
  {
   "cell_type": "markdown",
   "metadata": {},
   "source": []
  },
  {
   "cell_type": "markdown",
   "metadata": {},
   "source": []
  }
 ],
 "metadata": {
  "kernelspec": {
   "display_name": "Python 3",
   "language": "python",
   "name": "python3"
  },
  "language_info": {
   "codemirror_mode": {
    "name": "ipython",
    "version": 3
   },
   "file_extension": ".py",
   "mimetype": "text/x-python",
   "name": "python",
   "nbconvert_exporter": "python",
   "pygments_lexer": "ipython3",
   "version": "3.6.8"
  },
  "toc": {
   "base_numbering": 1,
   "nav_menu": {},
   "number_sections": true,
   "sideBar": true,
   "skip_h1_title": false,
   "title_cell": "Table of Contents",
   "title_sidebar": "Contents",
   "toc_cell": false,
   "toc_position": {},
   "toc_section_display": true,
   "toc_window_display": false
  }
 },
 "nbformat": 4,
 "nbformat_minor": 2
}
