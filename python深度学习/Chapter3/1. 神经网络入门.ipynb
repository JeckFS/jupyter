{
 "cells": [
  {
   "cell_type": "markdown",
   "metadata": {},
   "source": [
    "## 神经网络的结构"
   ]
  },
  {
   "cell_type": "markdown",
   "metadata": {},
   "source": [
    "* 层：多个层组合成网络(或模型)\n",
    "* 输入数据与相应的目标\n",
    "* 损失函数：用于学习的反馈信号\n",
    "* 优化器：决定学习过程如何进行，<font color='#f40c7a' size=3>它是SGD的某个变体</font>\n"
   ]
  },
  {
   "cell_type": "markdown",
   "metadata": {},
   "source": [
    "不同张量格式与不同数据类型需要不同的层。<br>\n",
    "* 2D张量---**密集连接层(densely connected layer) / 全连接层(fully connected layer) / 密集层(dense layer)**---Keras中Dense类。<br>\n",
    "* 3D张量(序列数据)---**循环层(recurrent layer)**---Keras的LSTM层。<br>\n",
    "* 4D张量(图像数据)---**卷积层**---Keras的Conv2D<br>"
   ]
  },
  {
   "cell_type": "markdown",
   "metadata": {},
   "source": [
    "常见的网络拓扑结构：\n",
    "* 双分支(two-branch)网络\n",
    "* 多头(multihead)网络\n",
    "* Inception模块\n",
    "\n",
    "&emsp;&emsp;网络拓扑结构定义了一个**假设空间(hypothesis space) / 可能性空间**。在这可能性空间中，利用反馈信号的指引来寻找输入数据的有用表示。学习的过程是不断缩小可能性空间，具体表现为利用损失函数不断地修正参数。最后可能性空间被限定为一系列特定的张量运算。"
   ]
  },
  {
   "cell_type": "markdown",
   "metadata": {},
   "source": [
    "简单的损失函数选择原则：<br>\n",
    "* 二分类问题：二元交叉熵(binary crossentropy)<br>\n",
    "* 多分类问题：分类交叉熵(categorical crossentropy)<br>\n",
    "* 回归问题：均方误差(mean-squared error)<br>\n",
    "* 序列学习问题：联结主义时序分类(CTC, connectionist temporal classfication)<br>"
   ]
  },
  {
   "cell_type": "markdown",
   "metadata": {},
   "source": [
    "## Keras简介"
   ]
  },
  {
   "cell_type": "markdown",
   "metadata": {},
   "source": [
    "Keras不支持张量操作、求微分等低层次运算，这些东西依靠Keras的**后端引擎(backend engine)**来处理。"
   ]
  },
  {
   "cell_type": "markdown",
   "metadata": {},
   "source": [
    "<img src='images/1.png'/>\n"
   ]
  },
  {
   "cell_type": "markdown",
   "metadata": {},
   "source": [
    "****"
   ]
  },
  {
   "cell_type": "markdown",
   "metadata": {},
   "source": [
    "Keras定义模型的两种方法：\n",
    "* Sequential类，层的线性堆叠\n",
    "* 函数式API，用于层组成有向无环图。(这种方式可以操纵模型处理过程中的数据张量)"
   ]
  },
  {
   "cell_type": "code",
   "execution_count": null,
   "metadata": {},
   "outputs": [],
   "source": [
    "from keras import models\n",
    "from keras import layers\n",
    "\n",
    "# Sequential方式\n",
    "model=models.Sequential()\n",
    "model.add(layers.Dense(32, activation='relu', input_shape=(784,)))\n",
    "model.add(layers.Dense(10, activation='softmax'))"
   ]
  },
  {
   "cell_type": "code",
   "execution_count": null,
   "metadata": {},
   "outputs": [],
   "source": [
    "# 函数式API\n",
    "input_tensor = layers.Input(shape=(784,))\n",
    "x = layers.Dense(32, activation='relu')(input_tensor)\n",
    "output_tensor = layers.Dense(10, activation='softmax')(x)\n",
    "model = models.Model(inputs=input_tensor, output_tensor=output_tensor)"
   ]
  },
  {
   "cell_type": "markdown",
   "metadata": {},
   "source": [
    "## 电影评论分类：二分类问题"
   ]
  },
  {
   "cell_type": "markdown",
   "metadata": {},
   "source": [
    "将电影评论划分为正面和负面两种类别。"
   ]
  },
  {
   "cell_type": "markdown",
   "metadata": {},
   "source": [
    "### IMDB数据集"
   ]
  },
  {
   "cell_type": "markdown",
   "metadata": {},
   "source": [
    "* 评论严重两极分化\n",
    "* 共50000条数据，25000条训练数据，25000条测试数据\n",
    "* 已经经过预处理：评论已经被转换成整数序列，每个整数代表字典中的某个单词。"
   ]
  },
  {
   "cell_type": "code",
   "execution_count": 7,
   "metadata": {
    "ExecuteTime": {
     "end_time": "2019-08-13T02:04:11.964427Z",
     "start_time": "2019-08-13T02:04:09.059082Z"
    }
   },
   "outputs": [],
   "source": [
    "# 加载IMDB数据集\n",
    "from tensorflow.python.keras.datasets import imdb\n",
    "# 只选择训练数据中最常出现的前10000个单词，低频单词被舍弃\n",
    "(train_data, train_labels), (test_data, test_labels) = imdb.load_data(num_words=10000)"
   ]
  },
  {
   "cell_type": "markdown",
   "metadata": {},
   "source": [
    "labels=0(negative); =1(positive)"
   ]
  },
  {
   "cell_type": "code",
   "execution_count": 8,
   "metadata": {
    "ExecuteTime": {
     "end_time": "2019-08-13T02:04:14.391312Z",
     "start_time": "2019-08-13T02:04:14.388209Z"
    },
    "scrolled": true
   },
   "outputs": [
    {
     "name": "stdout",
     "output_type": "stream",
     "text": [
      "[1, 14, 22, 16, 43, 530, 973, 1622, 1385, 65, 458, 4468, 66, 3941, 4, 173, 36, 256, 5, 25, 100, 43, 838, 112, 50, 670, 2, 9, 35, 480, 284, 5, 150, 4, 172, 112, 167, 2, 336, 385, 39, 4, 172, 4536, 1111, 17, 546, 38, 13, 447, 4, 192, 50, 16, 6, 147, 2025, 19, 14, 22, 4, 1920, 4613, 469, 4, 22, 71, 87, 12, 16, 43, 530, 38, 76, 15, 13, 1247, 4, 22, 17, 515, 17, 12, 16, 626, 18, 2, 5, 62, 386, 12, 8, 316, 8, 106, 5, 4, 2223, 5244, 16, 480, 66, 3785, 33, 4, 130, 12, 16, 38, 619, 5, 25, 124, 51, 36, 135, 48, 25, 1415, 33, 6, 22, 12, 215, 28, 77, 52, 5, 14, 407, 16, 82, 2, 8, 4, 107, 117, 5952, 15, 256, 4, 2, 7, 3766, 5, 723, 36, 71, 43, 530, 476, 26, 400, 317, 46, 7, 4, 2, 1029, 13, 104, 88, 4, 381, 15, 297, 98, 32, 2071, 56, 26, 141, 6, 194, 7486, 18, 4, 226, 22, 21, 134, 476, 26, 480, 5, 144, 30, 5535, 18, 51, 36, 28, 224, 92, 25, 104, 4, 226, 65, 16, 38, 1334, 88, 12, 16, 283, 5, 16, 4472, 113, 103, 32, 15, 16, 5345, 19, 178, 32]\n"
     ]
    }
   ],
   "source": [
    "print(train_data[0])"
   ]
  },
  {
   "cell_type": "code",
   "execution_count": 5,
   "metadata": {
    "ExecuteTime": {
     "end_time": "2019-08-12T11:14:30.783881Z",
     "start_time": "2019-08-12T11:14:30.779692Z"
    }
   },
   "outputs": [
    {
     "data": {
      "text/plain": [
       "1"
      ]
     },
     "execution_count": 5,
     "metadata": {},
     "output_type": "execute_result"
    }
   ],
   "source": [
    "train_labels[0]"
   ]
  },
  {
   "cell_type": "code",
   "execution_count": 8,
   "metadata": {
    "ExecuteTime": {
     "end_time": "2019-08-12T11:15:39.550924Z",
     "start_time": "2019-08-12T11:15:39.471508Z"
    }
   },
   "outputs": [
    {
     "data": {
      "text/plain": [
       "9999"
      ]
     },
     "execution_count": 8,
     "metadata": {},
     "output_type": "execute_result"
    }
   ],
   "source": [
    "max([max(sequence) for sequence in train_data])"
   ]
  },
  {
   "cell_type": "markdown",
   "metadata": {},
   "source": [
    "### 准备数据"
   ]
  },
  {
   "cell_type": "markdown",
   "metadata": {},
   "source": [
    "需要将数据转化为张量，才能输入到神经网络。\n",
    "转换方法：\n",
    "* 填充列表，使其具有相同长度，再转化为形状为(samples, word_indices)的**整数张量**。网络第一层采用能处理这种整数张量的层(Embedding层)。\n",
    "* 对列表进行one-hot编码。如序列[3,5]被转化成10000维向量，只有索引为3,5的元素为1，其余为0。网络第一层采用Dense层，它能够处理浮点数向量数据。\n",
    "\n",
    "&emsp;&emsp;即填充列表方式类似“广播”，保留这种原始的形式。<br>\n",
    "&emsp;&emsp;one-hot编码，将数据进行二进制表示。<br>\n",
    "另外不同的数据张量，所能被处理的层也有区别。整数张量可以用Embedding层，而二进制张量可用Dense层。<br>"
   ]
  },
  {
   "cell_type": "code",
   "execution_count": 9,
   "metadata": {
    "ExecuteTime": {
     "end_time": "2019-08-13T02:04:24.351911Z",
     "start_time": "2019-08-13T02:04:23.061944Z"
    }
   },
   "outputs": [],
   "source": [
    "import numpy as np\n",
    "# 手动实现将整数序列编码为二进制矩阵\n",
    "def vectorize_sequences(sequences, dimension=10000):\n",
    "    results=np.zeros((len(sequences), dimension))\n",
    "    for i, sequence in enumerate(sequences):\n",
    "        results[i, sequence]=1\n",
    "    return results\n",
    "\n",
    "x_train=vectorize_sequences(train_data)\n",
    "x_test=vectorize_sequences(test_data)"
   ]
  },
  {
   "cell_type": "markdown",
   "metadata": {
    "ExecuteTime": {
     "end_time": "2019-08-12T11:45:49.662228Z",
     "start_time": "2019-08-12T11:45:49.657741Z"
    }
   },
   "source": [
    "<font color='#4e8154' size=3>numpy数组的赋值：</font>\n"
   ]
  },
  {
   "cell_type": "code",
   "execution_count": 36,
   "metadata": {
    "ExecuteTime": {
     "end_time": "2019-08-12T12:07:20.981050Z",
     "start_time": "2019-08-12T12:07:20.975483Z"
    }
   },
   "outputs": [
    {
     "name": "stdout",
     "output_type": "stream",
     "text": [
      "arr=\n",
      " [[0. 0. 1. 0. 1. 0. 1. 0. 1. 0. 1.]\n",
      " [0. 0. 0. 0. 0. 0. 0. 0. 0. 0. 0.]\n",
      " [0. 0. 0. 0. 0. 0. 0. 0. 0. 0. 0.]\n",
      " [0. 0. 0. 0. 0. 0. 0. 0. 0. 0. 0.]\n",
      " [0. 0. 0. 0. 0. 0. 0. 0. 0. 0. 0.]]\n",
      "arr2=\n",
      " [[0. 0. 0. 0. 0. 0. 0. 0. 0. 0. 0.]\n",
      " [0. 0. 0. 0. 0. 0. 0. 0. 0. 0. 0.]\n",
      " [1. 1. 1. 1. 1. 1. 1. 1. 1. 1. 1.]\n",
      " [0. 0. 0. 0. 0. 0. 0. 0. 0. 0. 0.]\n",
      " [1. 1. 1. 1. 1. 1. 1. 1. 1. 1. 1.]\n",
      " [0. 0. 0. 0. 0. 0. 0. 0. 0. 0. 0.]\n",
      " [1. 1. 1. 1. 1. 1. 1. 1. 1. 1. 1.]\n",
      " [0. 0. 0. 0. 0. 0. 0. 0. 0. 0. 0.]\n",
      " [1. 1. 1. 1. 1. 1. 1. 1. 1. 1. 1.]\n",
      " [0. 0. 0. 0. 0. 0. 0. 0. 0. 0. 0.]\n",
      " [1. 1. 1. 1. 1. 1. 1. 1. 1. 1. 1.]]\n"
     ]
    }
   ],
   "source": [
    "li = [2,4,6,8,10]\n",
    "arr = np.zeros((5,11))\n",
    "arr[0,li] = 1\n",
    "print('arr=\\n',arr)\n",
    "\n",
    "arr2 = np.zeros((11,11))\n",
    "arr2[li] = 1\n",
    "print('arr2=\\n',arr2)"
   ]
  },
  {
   "cell_type": "code",
   "execution_count": 45,
   "metadata": {
    "ExecuteTime": {
     "end_time": "2019-08-12T12:49:35.438976Z",
     "start_time": "2019-08-12T12:49:35.434920Z"
    }
   },
   "outputs": [
    {
     "data": {
      "text/plain": [
       "(25000, 10000)"
      ]
     },
     "execution_count": 45,
     "metadata": {},
     "output_type": "execute_result"
    }
   ],
   "source": [
    "x_train.shape"
   ]
  },
  {
   "cell_type": "code",
   "execution_count": 10,
   "metadata": {
    "ExecuteTime": {
     "end_time": "2019-08-13T02:04:32.102603Z",
     "start_time": "2019-08-13T02:04:32.098427Z"
    }
   },
   "outputs": [
    {
     "name": "stdout",
     "output_type": "stream",
     "text": [
      "[1. 0. 0. ... 0. 1. 0.] (25000,)\n",
      "[0. 1. 1. ... 0. 0. 0.] (25000,)\n"
     ]
    }
   ],
   "source": [
    "# 将标签向量化\n",
    "y_train = np.asarray(train_labels).astype('float32')\n",
    "y_test = np.asarray(test_labels).astype('float32')\n",
    "print(y_train, y_train.shape)\n",
    "print(y_test, y_test.shape)"
   ]
  },
  {
   "cell_type": "markdown",
   "metadata": {},
   "source": [
    "&emsp;&emsp;<font color='#f0110c' size=3>对于输入数据是向量，标签是标量(0与1)这类问题，带有relu激活Dense层的简单堆叠表现比较好。</font>一个**隐藏单元(hidden unit)**是该层表示空间的一个维度。假设隐藏层采用具有16个hidden unit的全连接层，激活函数使用relu。每个带有relu激活函数的Dense层都会实现张量运算：$output=relu(dot(W,input)+b)$。16个隐藏单元对应的权重矩阵$W$的形状为(input_dimension, 16)，与$W$做点积相当于将输入数据投影到16维表示空间中(然后在加上偏置向量$b$并应用relu运算)。表示空间的维度就是“网络学习内部表示时所拥有的自由度。”<br>\n",
    "&emsp;&emsp;<font color='#f52fbe' size=3>隐藏单元越多(即更高维的表示空间)，网络能够学到更复杂的表示，但这种模式会提高训练数据上的性能，却不会提高测试数据上的性能(overfiting)</font>。<br>\n",
    "&emsp;&emsp;输出层的激活函数采用sigmod，sigmod函数将任意值压缩到[0,1]内，可将其看做**概率值**。"
   ]
  },
  {
   "cell_type": "markdown",
   "metadata": {},
   "source": [
    "&emsp;&emsp;Dense层只包含两个线性运算，即点积和加法:$output=dot(W,input)+b$，该层的假设空间是从输入数据到16维空间所有可能的线性变换集合。relu是非线性的激活函数，这会拓宽假设空间，就会更有可能包含正确解。"
   ]
  },
  {
   "cell_type": "markdown",
   "metadata": {},
   "source": [
    "<font color='#f807e8' size=3>对于输出概率值的模型，交叉熵是最好的选择，它可以衡量概率分布之间的距离。</font>"
   ]
  },
  {
   "cell_type": "code",
   "execution_count": 4,
   "metadata": {
    "ExecuteTime": {
     "end_time": "2019-08-13T02:03:14.742786Z",
     "start_time": "2019-08-13T02:03:14.691846Z"
    }
   },
   "outputs": [],
   "source": [
    "# 定义模型\n",
    "from tensorflow.python.keras import models\n",
    "from tensorflow.python.keras import layers\n",
    "\n",
    "model=models.Sequential()\n",
    "model.add(layers.Dense(16,activation='relu',input_shape=(10000,)))\n",
    "model.add(layers.Dense(16,activation='relu'))\n",
    "model.add(layers.Dense(1,activation='sigmoid'))"
   ]
  },
  {
   "cell_type": "code",
   "execution_count": null,
   "metadata": {
    "ExecuteTime": {
     "end_time": "2019-08-12T14:05:27.937879Z",
     "start_time": "2019-08-12T14:05:27.887836Z"
    }
   },
   "outputs": [],
   "source": [
    "# 编译模型\n",
    "model.compile(optimizer='rmsprop',loss='binary_crossentropy',metrics=['accuracy'])"
   ]
  },
  {
   "cell_type": "markdown",
   "metadata": {},
   "source": [
    "**配置自定义优化器**：optimizer传入优化器类的实例，loss与metrics参数通过传入函数对象实现"
   ]
  },
  {
   "cell_type": "code",
   "execution_count": null,
   "metadata": {},
   "outputs": [],
   "source": [
    "from tensorflow.python.keras import optimizers\n",
    "model.compile(optimizer=optimizersi.RMSprop(lr=0.001),loss='binary_crossentropy',metrics=['accuracy'])"
   ]
  },
  {
   "cell_type": "markdown",
   "metadata": {},
   "source": [
    "**使用自定义的损失和指标**："
   ]
  },
  {
   "cell_type": "code",
   "execution_count": null,
   "metadata": {},
   "outputs": [],
   "source": [
    "from tensorflow.python.keras import losses\n",
    "from tensorflow.python.keras import metrics\n",
    "\n",
    "model.compile(optimizer=optimizers.RMSprop(lr=0.001),\n",
    "              loss=losses.binary_crossentropy,\n",
    "              metrics=[metrics.binary_accuracy])"
   ]
  },
  {
   "cell_type": "markdown",
   "metadata": {},
   "source": [
    "### 验证方法"
   ]
  },
  {
   "cell_type": "markdown",
   "metadata": {},
   "source": [
    "**留出验证集(10000个样本)**："
   ]
  },
  {
   "cell_type": "code",
   "execution_count": 33,
   "metadata": {
    "ExecuteTime": {
     "end_time": "2019-08-13T02:43:35.544470Z",
     "start_time": "2019-08-13T02:43:35.541727Z"
    }
   },
   "outputs": [],
   "source": [
    "x_val=x_train[:10000]\n",
    "partial_x_train=x_train[10000:]\n",
    "\n",
    "y_val=y_train[:10000]\n",
    "partial_y_train=y_train[10000:]"
   ]
  },
  {
   "cell_type": "markdown",
   "metadata": {},
   "source": [
    "**训练模型**："
   ]
  },
  {
   "cell_type": "code",
   "execution_count": 34,
   "metadata": {
    "ExecuteTime": {
     "end_time": "2019-08-13T02:44:03.718645Z",
     "start_time": "2019-08-13T02:43:37.187129Z"
    }
   },
   "outputs": [
    {
     "name": "stdout",
     "output_type": "stream",
     "text": [
      "Train on 15000 samples, validate on 10000 samples\n",
      "Epoch 1/20\n",
      "15000/15000 [==============================] - 1s 99us/sample - loss: 0.2313 - acc: 0.9096 - val_loss: 0.2126 - val_acc: 0.9167\n",
      "Epoch 2/20\n",
      "15000/15000 [==============================] - 1s 85us/sample - loss: 0.1494 - acc: 0.9438 - val_loss: 0.2109 - val_acc: 0.9198\n",
      "Epoch 3/20\n",
      "15000/15000 [==============================] - 1s 85us/sample - loss: 0.1201 - acc: 0.9553 - val_loss: 0.2266 - val_acc: 0.9149\n",
      "Epoch 4/20\n",
      "15000/15000 [==============================] - 1s 89us/sample - loss: 0.0913 - acc: 0.9701 - val_loss: 0.2597 - val_acc: 0.9070\n",
      "Epoch 5/20\n",
      "15000/15000 [==============================] - 1s 86us/sample - loss: 0.0797 - acc: 0.9732 - val_loss: 0.2729 - val_acc: 0.9043\n",
      "Epoch 6/20\n",
      "15000/15000 [==============================] - 1s 85us/sample - loss: 0.0578 - acc: 0.9830 - val_loss: 0.3111 - val_acc: 0.8995\n",
      "Epoch 7/20\n",
      "15000/15000 [==============================] - 1s 85us/sample - loss: 0.0496 - acc: 0.9855 - val_loss: 0.3325 - val_acc: 0.8977\n",
      "Epoch 8/20\n",
      "15000/15000 [==============================] - 1s 86us/sample - loss: 0.0382 - acc: 0.9901 - val_loss: 0.3603 - val_acc: 0.8951\n",
      "Epoch 9/20\n",
      "15000/15000 [==============================] - 1s 87us/sample - loss: 0.0296 - acc: 0.9925 - val_loss: 0.4219 - val_acc: 0.8854\n",
      "Epoch 10/20\n",
      "15000/15000 [==============================] - 1s 88us/sample - loss: 0.0297 - acc: 0.9922 - val_loss: 0.4304 - val_acc: 0.8903\n",
      "Epoch 11/20\n",
      "15000/15000 [==============================] - 1s 86us/sample - loss: 0.0143 - acc: 0.9980 - val_loss: 0.4626 - val_acc: 0.8887\n",
      "Epoch 12/20\n",
      "15000/15000 [==============================] - 1s 85us/sample - loss: 0.0167 - acc: 0.9962 - val_loss: 0.5024 - val_acc: 0.8867\n",
      "Epoch 13/20\n",
      "15000/15000 [==============================] - 1s 86us/sample - loss: 0.0153 - acc: 0.9959 - val_loss: 0.5382 - val_acc: 0.8856\n",
      "Epoch 14/20\n",
      "15000/15000 [==============================] - 1s 87us/sample - loss: 0.0066 - acc: 0.9995 - val_loss: 0.6456 - val_acc: 0.8765\n",
      "Epoch 15/20\n",
      "15000/15000 [==============================] - 1s 85us/sample - loss: 0.0112 - acc: 0.9973 - val_loss: 0.6276 - val_acc: 0.8816\n",
      "Epoch 16/20\n",
      "15000/15000 [==============================] - 1s 86us/sample - loss: 0.0030 - acc: 0.9999 - val_loss: 0.6483 - val_acc: 0.8821\n",
      "Epoch 17/20\n",
      "15000/15000 [==============================] - 1s 88us/sample - loss: 0.0114 - acc: 0.9963 - val_loss: 0.6885 - val_acc: 0.8807\n",
      "Epoch 18/20\n",
      "15000/15000 [==============================] - 1s 87us/sample - loss: 0.0016 - acc: 1.0000 - val_loss: 0.7170 - val_acc: 0.8794\n",
      "Epoch 19/20\n",
      "15000/15000 [==============================] - 1s 86us/sample - loss: 0.0012 - acc: 1.0000 - val_loss: 0.8257 - val_acc: 0.8729\n",
      "Epoch 20/20\n",
      "15000/15000 [==============================] - 1s 90us/sample - loss: 0.0067 - acc: 0.9980 - val_loss: 0.7903 - val_acc: 0.8780\n"
     ]
    }
   ],
   "source": [
    "model.compile(optimizer='rmsprop',loss='binary_crossentropy',metrics=['acc'])\n",
    "history=model.fit(partial_x_train,partial_y_train,epochs=20,batch_size=512,validation_data=(x_val,y_val))"
   ]
  },
  {
   "cell_type": "markdown",
   "metadata": {},
   "source": [
    "**history对象**："
   ]
  },
  {
   "cell_type": "code",
   "execution_count": 52,
   "metadata": {
    "ExecuteTime": {
     "end_time": "2019-08-12T14:24:37.760785Z",
     "start_time": "2019-08-12T14:24:37.757558Z"
    }
   },
   "outputs": [
    {
     "data": {
      "text/plain": [
       "dict_keys(['loss', 'acc', 'val_loss', 'val_acc'])"
      ]
     },
     "execution_count": 52,
     "metadata": {},
     "output_type": "execute_result"
    }
   ],
   "source": [
    "history_dict=history.history # 它是一个字典\n",
    "history_dict.keys()"
   ]
  },
  {
   "cell_type": "markdown",
   "metadata": {},
   "source": [
    "***"
   ]
  },
  {
   "cell_type": "markdown",
   "metadata": {},
   "source": [
    "**绘制训练损失和验证损失**："
   ]
  },
  {
   "cell_type": "code",
   "execution_count": 54,
   "metadata": {
    "ExecuteTime": {
     "end_time": "2019-08-12T14:30:44.579801Z",
     "start_time": "2019-08-12T14:30:44.424939Z"
    }
   },
   "outputs": [
    {
     "data": {
      "image/png": "[encoded data removed]",
      "text/plain": [
       "<Figure size 432x288 with 1 Axes>"
      ]
     },
     "metadata": {
      "needs_background": "light"
     },
     "output_type": "display_data"
    }
   ],
   "source": [
    "import matplotlib.pyplot as plt\n",
    "\n",
    "history_dict = history.history\n",
    "loss_values = history_dict['loss']\n",
    "val_loss_values = history_dict['val_loss']\n",
    "\n",
    "epochs = range(1, len(loss_values) + 1)\n",
    "\n",
    "plt.plot(epochs, loss_values, 'bo', label='Training loss')\n",
    "plt.plot(epochs, val_loss_values, 'b', label='Validation loss')\n",
    "plt.title('Training and validation loss')\n",
    "plt.xlabel('Epochs')\n",
    "plt.ylabel('Loss')\n",
    "plt.legend()\n",
    "\n",
    "plt.show()"
   ]
  },
  {
   "cell_type": "markdown",
   "metadata": {},
   "source": [
    "**绘制训练精度和验证精度**："
   ]
  },
  {
   "cell_type": "code",
   "execution_count": 55,
   "metadata": {
    "ExecuteTime": {
     "end_time": "2019-08-12T14:34:11.954538Z",
     "start_time": "2019-08-12T14:34:11.812957Z"
    }
   },
   "outputs": [
    {
     "data": {
      "image/png": "[encoded data removed]",
      "text/plain": [
       "<Figure size 432x288 with 1 Axes>"
      ]
     },
     "metadata": {
      "needs_background": "light"
     },
     "output_type": "display_data"
    }
   ],
   "source": [
    "plt.clf()  # 清空图像\n",
    "acc = history_dict['acc']\n",
    "val_acc = history_dict['val_acc']\n",
    "\n",
    "plt.plot(epochs, acc, 'bo', label='Training acc')\n",
    "plt.plot(epochs, val_acc, 'b', label='Validation acc')\n",
    "plt.title('Training and validation accuracy')\n",
    "plt.xlabel('Epochs')\n",
    "plt.ylabel('Accuracy')\n",
    "plt.legend()\n",
    "\n",
    "plt.show()"
   ]
  },
  {
   "cell_type": "markdown",
   "metadata": {},
   "source": [
    "出现过拟合现象。在第四轮中表现达到最佳，往后出现过拟合。减少轮次到4，来降低过拟合。"
   ]
  },
  {
   "cell_type": "code",
   "execution_count": 11,
   "metadata": {
    "ExecuteTime": {
     "end_time": "2019-08-13T02:04:44.942086Z",
     "start_time": "2019-08-13T02:04:38.259030Z"
    }
   },
   "outputs": [
    {
     "name": "stdout",
     "output_type": "stream",
     "text": [
      "Epoch 1/4\n",
      "25000/25000 [==============================] - 1s 59us/sample - loss: 0.4553 - acc: 0.8280\n",
      "Epoch 2/4\n",
      "25000/25000 [==============================] - 1s 48us/sample - loss: 0.2609 - acc: 0.9099\n",
      "Epoch 3/4\n",
      "25000/25000 [==============================] - 1s 48us/sample - loss: 0.2003 - acc: 0.9298\n",
      "Epoch 4/4\n",
      "25000/25000 [==============================] - 1s 49us/sample - loss: 0.1665 - acc: 0.9417\n",
      "25000/25000 [==============================] - 1s 44us/sample - loss: 0.2913 - acc: 0.8848\n"
     ]
    }
   ],
   "source": [
    "model=models.Sequential()\n",
    "model.add(layers.Dense(16, activation='relu',input_shape=(10000,)))\n",
    "model.add(layers.Dense(16, activation='relu'))\n",
    "model.add(layers.Dense(1, activation='sigmoid'))\n",
    "\n",
    "model.compile(optimizer='rmsprop',loss='binary_crossentropy',metrics=['accuracy'])\n",
    "model.fit(x_train, y_train, epochs=4, batch_size=512)\n",
    "results=model.evaluate(x_test, y_test)"
   ]
  },
  {
   "cell_type": "code",
   "execution_count": 12,
   "metadata": {
    "ExecuteTime": {
     "end_time": "2019-08-13T02:05:17.943382Z",
     "start_time": "2019-08-13T02:05:17.936043Z"
    }
   },
   "outputs": [
    {
     "data": {
      "text/plain": [
       "[0.29128136868476867, 0.88476]"
      ]
     },
     "execution_count": 12,
     "metadata": {},
     "output_type": "execute_result"
    }
   ],
   "source": [
    "results"
   ]
  },
  {
   "cell_type": "markdown",
   "metadata": {},
   "source": [
    "### 使用训练好的网络在新数据上生成预测结果"
   ]
  },
  {
   "cell_type": "code",
   "execution_count": 14,
   "metadata": {
    "ExecuteTime": {
     "end_time": "2019-08-13T02:07:17.425368Z",
     "start_time": "2019-08-13T02:07:16.698304Z"
    }
   },
   "outputs": [
    {
     "data": {
      "text/plain": [
       "array([[0.17724109],\n",
       "       [0.99976873],\n",
       "       [0.8851225 ],\n",
       "       ...,\n",
       "       [0.1288799 ],\n",
       "       [0.05806553],\n",
       "       [0.5306741 ]], dtype=float32)"
      ]
     },
     "execution_count": 14,
     "metadata": {},
     "output_type": "execute_result"
    }
   ],
   "source": [
    "model.predict(x_test)"
   ]
  },
  {
   "cell_type": "markdown",
   "metadata": {},
   "source": [
    "### 进一步实验"
   ]
  },
  {
   "cell_type": "markdown",
   "metadata": {},
   "source": [
    "**使用一个隐藏层**:"
   ]
  },
  {
   "cell_type": "code",
   "execution_count": 22,
   "metadata": {
    "ExecuteTime": {
     "end_time": "2019-08-13T02:22:44.745946Z",
     "start_time": "2019-08-13T02:22:38.487413Z"
    }
   },
   "outputs": [
    {
     "name": "stdout",
     "output_type": "stream",
     "text": [
      "Epoch 1/4\n",
      "25000/25000 [==============================] - 1s 50us/sample - loss: 0.4616 - acc: 0.8296\n",
      "Epoch 2/4\n",
      "25000/25000 [==============================] - 1s 48us/sample - loss: 0.2883 - acc: 0.9056\n",
      "Epoch 3/4\n",
      "25000/25000 [==============================] - 1s 49us/sample - loss: 0.2272 - acc: 0.9242\n",
      "Epoch 4/4\n",
      "25000/25000 [==============================] - 1s 49us/sample - loss: 0.1936 - acc: 0.9337\n",
      "25000/25000 [==============================] - 1s 40us/sample - loss: 0.2927 - acc: 0.8824\n"
     ]
    }
   ],
   "source": [
    "model = models.Sequential()\n",
    "model.add(layers.Dense(16, activation='relu', input_shape=(10000, )))\n",
    "model.add(layers.Dense(1, activation='sigmoid'))\n",
    "\n",
    "model.compile(optimizer='rmsprop',\n",
    "              loss='binary_crossentropy',\n",
    "              metrics=['accuracy'])\n",
    "model.fit(x_train, y_train, epochs=4, batch_size=512)\n",
    "results = model.evaluate(x_test, y_test)"
   ]
  },
  {
   "cell_type": "code",
   "execution_count": 21,
   "metadata": {
    "ExecuteTime": {
     "end_time": "2019-08-13T02:22:18.728284Z",
     "start_time": "2019-08-13T02:22:13.720154Z"
    }
   },
   "outputs": [
    {
     "name": "stdout",
     "output_type": "stream",
     "text": [
      "Epoch 1/4\n",
      "25000/25000 [==============================] - 1s 52us/sample - loss: 0.1264 - acc: 0.9548\n",
      "Epoch 2/4\n",
      "25000/25000 [==============================] - 1s 49us/sample - loss: 0.1102 - acc: 0.9628\n",
      "Epoch 3/4\n",
      "25000/25000 [==============================] - 1s 49us/sample - loss: 0.0921 - acc: 0.9703\n",
      "Epoch 4/4\n",
      "25000/25000 [==============================] - 1s 50us/sample - loss: 0.0781 - acc: 0.9746\n"
     ]
    },
    {
     "data": {
      "text/plain": [
       "<tensorflow.python.keras.callbacks.History at 0x7fb91061fe48>"
      ]
     },
     "execution_count": 21,
     "metadata": {},
     "output_type": "execute_result"
    }
   ],
   "source": [
    "model.fit(x_test, y_test, epochs=4, batch_size=512)"
   ]
  },
  {
   "cell_type": "markdown",
   "metadata": {},
   "source": [
    "**使用三个隐藏层**:"
   ]
  },
  {
   "cell_type": "code",
   "execution_count": 19,
   "metadata": {
    "ExecuteTime": {
     "end_time": "2019-08-13T02:18:44.169027Z",
     "start_time": "2019-08-13T02:18:38.744911Z"
    }
   },
   "outputs": [
    {
     "name": "stdout",
     "output_type": "stream",
     "text": [
      "Epoch 1/4\n",
      "25000/25000 [==============================] - 1s 52us/sample - loss: 0.4694 - acc: 0.8153\n",
      "Epoch 2/4\n",
      "25000/25000 [==============================] - 1s 50us/sample - loss: 0.2607 - acc: 0.9110\n",
      "Epoch 3/4\n",
      "25000/25000 [==============================] - 1s 51us/sample - loss: 0.2002 - acc: 0.9285\n",
      "Epoch 4/4\n",
      "25000/25000 [==============================] - 1s 48us/sample - loss: 0.1649 - acc: 0.9415\n"
     ]
    },
    {
     "data": {
      "text/plain": [
       "<tensorflow.python.keras.callbacks.History at 0x7fb9106a50b8>"
      ]
     },
     "execution_count": 19,
     "metadata": {},
     "output_type": "execute_result"
    }
   ],
   "source": [
    "model=models.Sequential()\n",
    "model.add(layers.Dense(16, activation='relu',input_shape=(10000,)))\n",
    "model.add(layers.Dense(16, activation='relu'))\n",
    "model.add(layers.Dense(16, activation='relu'))\n",
    "model.add(layers.Dense(1, activation='sigmoid'))\n",
    "\n",
    "model.compile(optimizer='rmsprop', loss='binary_crossentropy',metrics=['acc'])\n",
    "model.fit(x_train, y_train, epochs=4, batch_size=512)"
   ]
  },
  {
   "cell_type": "code",
   "execution_count": 20,
   "metadata": {
    "ExecuteTime": {
     "end_time": "2019-08-13T02:21:17.725431Z",
     "start_time": "2019-08-13T02:21:12.768827Z"
    }
   },
   "outputs": [
    {
     "name": "stdout",
     "output_type": "stream",
     "text": [
      "Epoch 1/4\n",
      "25000/25000 [==============================] - 1s 50us/sample - loss: 0.2905 - acc: 0.8861\n",
      "Epoch 2/4\n",
      "25000/25000 [==============================] - 1s 49us/sample - loss: 0.2176 - acc: 0.9174\n",
      "Epoch 3/4\n",
      "25000/25000 [==============================] - 1s 49us/sample - loss: 0.1794 - acc: 0.9349\n",
      "Epoch 4/4\n",
      "25000/25000 [==============================] - 1s 49us/sample - loss: 0.1489 - acc: 0.9464\n"
     ]
    },
    {
     "data": {
      "text/plain": [
       "<tensorflow.python.keras.callbacks.History at 0x7fba410c9898>"
      ]
     },
     "execution_count": 20,
     "metadata": {},
     "output_type": "execute_result"
    }
   ],
   "source": [
    "model.fit(x_test, y_test, epochs=4, batch_size=512)"
   ]
  },
  {
   "cell_type": "markdown",
   "metadata": {},
   "source": [
    "**使用32个hidden unit**："
   ]
  },
  {
   "cell_type": "code",
   "execution_count": 23,
   "metadata": {
    "ExecuteTime": {
     "end_time": "2019-08-13T02:27:24.302689Z",
     "start_time": "2019-08-13T02:27:18.727659Z"
    }
   },
   "outputs": [
    {
     "name": "stdout",
     "output_type": "stream",
     "text": [
      "Epoch 1/4\n",
      "25000/25000 [==============================] - 1s 54us/sample - loss: 0.4224 - acc: 0.8291\n",
      "Epoch 2/4\n",
      "25000/25000 [==============================] - 1s 52us/sample - loss: 0.2511 - acc: 0.9120\n",
      "Epoch 3/4\n",
      "25000/25000 [==============================] - 1s 52us/sample - loss: 0.2008 - acc: 0.9294\n",
      "Epoch 4/4\n",
      "25000/25000 [==============================] - 1s 52us/sample - loss: 0.1704 - acc: 0.9414\n"
     ]
    },
    {
     "data": {
      "text/plain": [
       "<tensorflow.python.keras.callbacks.History at 0x7fb910673438>"
      ]
     },
     "execution_count": 23,
     "metadata": {},
     "output_type": "execute_result"
    }
   ],
   "source": [
    "model=models.Sequential()\n",
    "model.add(layers.Dense(32, activation='relu',input_shape=(10000,)))\n",
    "model.add(layers.Dense(1, activation='sigmoid'))\n",
    "model.compile(optimizer='rmsprop', loss='binary_crossentropy', metrics=['acc'])\n",
    "model.fit(x_train, y_train, epochs=4, batch_size=512)"
   ]
  },
  {
   "cell_type": "code",
   "execution_count": 24,
   "metadata": {
    "ExecuteTime": {
     "end_time": "2019-08-13T02:27:51.554728Z",
     "start_time": "2019-08-13T02:27:46.364721Z"
    }
   },
   "outputs": [
    {
     "name": "stdout",
     "output_type": "stream",
     "text": [
      "Epoch 1/4\n",
      "25000/25000 [==============================] - 1s 53us/sample - loss: 0.2754 - acc: 0.8908\n",
      "Epoch 2/4\n",
      "25000/25000 [==============================] - 1s 51us/sample - loss: 0.2151 - acc: 0.9172\n",
      "Epoch 3/4\n",
      "25000/25000 [==============================] - 1s 52us/sample - loss: 0.1816 - acc: 0.9320\n",
      "Epoch 4/4\n",
      "25000/25000 [==============================] - 1s 51us/sample - loss: 0.1584 - acc: 0.9418\n"
     ]
    },
    {
     "data": {
      "text/plain": [
       "<tensorflow.python.keras.callbacks.History at 0x7fb8eb289470>"
      ]
     },
     "execution_count": 24,
     "metadata": {},
     "output_type": "execute_result"
    }
   ],
   "source": [
    "model.fit(x_test, y_test, epochs=4, batch_size=512)"
   ]
  },
  {
   "cell_type": "markdown",
   "metadata": {},
   "source": [
    "**使用64个hidden unit**:"
   ]
  },
  {
   "cell_type": "code",
   "execution_count": 25,
   "metadata": {
    "ExecuteTime": {
     "end_time": "2019-08-13T02:31:16.715574Z",
     "start_time": "2019-08-13T02:31:10.622336Z"
    }
   },
   "outputs": [
    {
     "name": "stdout",
     "output_type": "stream",
     "text": [
      "Epoch 1/4\n",
      "25000/25000 [==============================] - 2s 62us/sample - loss: 0.4072 - acc: 0.8261\n",
      "Epoch 2/4\n",
      "25000/25000 [==============================] - 1s 56us/sample - loss: 0.2361 - acc: 0.9128\n",
      "Epoch 3/4\n",
      "25000/25000 [==============================] - 1s 56us/sample - loss: 0.1912 - acc: 0.9288\n",
      "Epoch 4/4\n",
      "25000/25000 [==============================] - 1s 56us/sample - loss: 0.1632 - acc: 0.9404\n"
     ]
    },
    {
     "data": {
      "text/plain": [
       "<tensorflow.python.keras.callbacks.History at 0x7fb9106cca90>"
      ]
     },
     "execution_count": 25,
     "metadata": {},
     "output_type": "execute_result"
    }
   ],
   "source": [
    "model=models.Sequential()\n",
    "model.add(layers.Dense(64, activation='relu',input_shape=(10000,)))\n",
    "model.add(layers.Dense(1, activation='sigmoid'))\n",
    "model.compile(optimizer='rmsprop',loss='binary_crossentropy',metrics=['acc'])\n",
    "model.fit(x_train, y_train, epochs=4, batch_size=512)"
   ]
  },
  {
   "cell_type": "code",
   "execution_count": 26,
   "metadata": {
    "ExecuteTime": {
     "end_time": "2019-08-13T02:31:48.813052Z",
     "start_time": "2019-08-13T02:31:43.083944Z"
    }
   },
   "outputs": [
    {
     "name": "stdout",
     "output_type": "stream",
     "text": [
      "Epoch 1/4\n",
      "25000/25000 [==============================] - 1s 58us/sample - loss: 0.2875 - acc: 0.8854\n",
      "Epoch 2/4\n",
      "25000/25000 [==============================] - 1s 57us/sample - loss: 0.2095 - acc: 0.9186\n",
      "Epoch 3/4\n",
      "25000/25000 [==============================] - 1s 57us/sample - loss: 0.1701 - acc: 0.9354\n",
      "Epoch 4/4\n",
      "25000/25000 [==============================] - 1s 57us/sample - loss: 0.1378 - acc: 0.9507\n"
     ]
    },
    {
     "data": {
      "text/plain": [
       "<tensorflow.python.keras.callbacks.History at 0x7fb8eadcbfd0>"
      ]
     },
     "execution_count": 26,
     "metadata": {},
     "output_type": "execute_result"
    }
   ],
   "source": [
    "model.fit(x_test, y_test, epochs=4, batch_size=512)"
   ]
  },
  {
   "cell_type": "markdown",
   "metadata": {},
   "source": [
    "**使用mse损失函数代替binary_crossentropy**:"
   ]
  },
  {
   "cell_type": "code",
   "execution_count": 27,
   "metadata": {
    "ExecuteTime": {
     "end_time": "2019-08-13T02:36:25.564357Z",
     "start_time": "2019-08-13T02:36:19.484658Z"
    }
   },
   "outputs": [
    {
     "name": "stdout",
     "output_type": "stream",
     "text": [
      "Epoch 1/4\n",
      "25000/25000 [==============================] - 2s 60us/sample - loss: 0.1355 - acc: 0.8200\n",
      "Epoch 2/4\n",
      "25000/25000 [==============================] - 1s 56us/sample - loss: 0.0707 - acc: 0.9147\n",
      "Epoch 3/4\n",
      "25000/25000 [==============================] - 1s 56us/sample - loss: 0.0558 - acc: 0.9331\n",
      "Epoch 4/4\n",
      "25000/25000 [==============================] - 1s 56us/sample - loss: 0.0459 - acc: 0.9454\n"
     ]
    },
    {
     "data": {
      "text/plain": [
       "<tensorflow.python.keras.callbacks.History at 0x7fb9105346a0>"
      ]
     },
     "execution_count": 27,
     "metadata": {},
     "output_type": "execute_result"
    }
   ],
   "source": [
    "model=models.Sequential()\n",
    "model.add(layers.Dense(64, activation='relu',input_shape=(10000,)))\n",
    "model.add(layers.Dense(1, activation='sigmoid'))\n",
    "model.compile(optimizer='rmsprop', loss='mse', metrics=['acc'])\n",
    "model.fit(x_train, y_train, epochs=4, batch_size=512)"
   ]
  },
  {
   "cell_type": "code",
   "execution_count": 28,
   "metadata": {
    "ExecuteTime": {
     "end_time": "2019-08-13T02:36:53.618703Z",
     "start_time": "2019-08-13T02:36:47.852213Z"
    }
   },
   "outputs": [
    {
     "name": "stdout",
     "output_type": "stream",
     "text": [
      "Epoch 1/4\n",
      "25000/25000 [==============================] - 1s 58us/sample - loss: 0.0847 - acc: 0.8838\n",
      "Epoch 2/4\n",
      "25000/25000 [==============================] - 1s 58us/sample - loss: 0.0613 - acc: 0.9219\n",
      "Epoch 3/4\n",
      "25000/25000 [==============================] - 1s 57us/sample - loss: 0.0502 - acc: 0.9385\n",
      "Epoch 4/4\n",
      "25000/25000 [==============================] - 1s 58us/sample - loss: 0.0419 - acc: 0.9506\n"
     ]
    },
    {
     "data": {
      "text/plain": [
       "<tensorflow.python.keras.callbacks.History at 0x7fb9104ee780>"
      ]
     },
     "execution_count": 28,
     "metadata": {},
     "output_type": "execute_result"
    }
   ],
   "source": [
    "model.fit(x_test, y_test, epochs=4, batch_size=512)"
   ]
  },
  {
   "cell_type": "markdown",
   "metadata": {
    "ExecuteTime": {
     "end_time": "2019-08-13T02:37:10.565462Z",
     "start_time": "2019-08-13T02:37:09.462897Z"
    }
   },
   "source": [
    "**激活函数使用tanh代替relu**："
   ]
  },
  {
   "cell_type": "code",
   "execution_count": 30,
   "metadata": {
    "ExecuteTime": {
     "end_time": "2019-08-13T02:40:31.175147Z",
     "start_time": "2019-08-13T02:40:24.916559Z"
    }
   },
   "outputs": [
    {
     "name": "stdout",
     "output_type": "stream",
     "text": [
      "Epoch 1/4\n",
      "25000/25000 [==============================] - 2s 62us/sample - loss: 0.4053 - acc: 0.8360\n",
      "Epoch 2/4\n",
      "25000/25000 [==============================] - 1s 57us/sample - loss: 0.2327 - acc: 0.9127\n",
      "Epoch 3/4\n",
      "25000/25000 [==============================] - 1s 58us/sample - loss: 0.1816 - acc: 0.9312\n",
      "Epoch 4/4\n",
      "25000/25000 [==============================] - 1s 57us/sample - loss: 0.1520 - acc: 0.9438\n"
     ]
    },
    {
     "data": {
      "text/plain": [
       "<tensorflow.python.keras.callbacks.History at 0x7fb91088ea20>"
      ]
     },
     "execution_count": 30,
     "metadata": {},
     "output_type": "execute_result"
    }
   ],
   "source": [
    "model=models.Sequential()\n",
    "model.add(layers.Dense(64, activation='tanh',input_shape=(10000,)))\n",
    "model.add(layers.Dense(1, activation='sigmoid'))\n",
    "model.compile(optimizer='rmsprop',loss='binary_crossentropy', metrics=['acc'])\n",
    "model.fit(x_train, y_train, epochs=4, batch_size=512)"
   ]
  },
  {
   "cell_type": "code",
   "execution_count": 31,
   "metadata": {
    "ExecuteTime": {
     "end_time": "2019-08-13T02:41:11.404600Z",
     "start_time": "2019-08-13T02:41:05.576269Z"
    }
   },
   "outputs": [
    {
     "name": "stdout",
     "output_type": "stream",
     "text": [
      "Epoch 1/4\n",
      "25000/25000 [==============================] - 1s 60us/sample - loss: 0.2987 - acc: 0.8829\n",
      "Epoch 2/4\n",
      "25000/25000 [==============================] - 1s 58us/sample - loss: 0.2114 - acc: 0.9178\n",
      "Epoch 3/4\n",
      "25000/25000 [==============================] - 1s 57us/sample - loss: 0.1757 - acc: 0.9332\n",
      "Epoch 4/4\n",
      "25000/25000 [==============================] - 1s 57us/sample - loss: 0.1487 - acc: 0.9456\n"
     ]
    },
    {
     "data": {
      "text/plain": [
       "<tensorflow.python.keras.callbacks.History at 0x7fb910400d68>"
      ]
     },
     "execution_count": 31,
     "metadata": {},
     "output_type": "execute_result"
    }
   ],
   "source": [
    "model.fit(x_test, y_test, epochs=4, batch_size=512)"
   ]
  },
  {
   "cell_type": "markdown",
   "metadata": {},
   "source": [
    "### 小结"
   ]
  },
  {
   "cell_type": "markdown",
   "metadata": {},
   "source": [
    "<img src='images/2.png'/>\n"
   ]
  },
  {
   "cell_type": "markdown",
   "metadata": {},
   "source": [
    "## 新闻分类：多分类问题"
   ]
  },
  {
   "cell_type": "markdown",
   "metadata": {},
   "source": [
    "**问题**：将路透社新闻划分为46个互斥的主题。这是个**单标签、多分类(single-label, multiclass classification)**问题。<br>\n",
    "单标签、多分类：每个数据点只能划分到一个类别。<br>\n",
    "多标签、多分类(multilabel, multiclass classification)问题：每个数据点可以划分到多个类别(主题)<br>"
   ]
  },
  {
   "cell_type": "markdown",
   "metadata": {},
   "source": [
    "### 路透社数据集"
   ]
  },
  {
   "cell_type": "markdown",
   "metadata": {},
   "source": [
    "单词已经编码为一个整数。同电影评论问题"
   ]
  },
  {
   "cell_type": "code",
   "execution_count": 5,
   "metadata": {
    "ExecuteTime": {
     "end_time": "2019-08-14T12:11:10.087095Z",
     "start_time": "2019-08-14T12:11:09.659889Z"
    }
   },
   "outputs": [],
   "source": [
    "from tensorflow.python.keras.datasets import reuters\n",
    "# 只选出数据集中最常出现的一万个单词\n",
    "(train_data, train_labels), (test_data,\n",
    "                             test_labels) = reuters.load_data(num_words=10000)"
   ]
  },
  {
   "cell_type": "code",
   "execution_count": 5,
   "metadata": {
    "ExecuteTime": {
     "end_time": "2019-08-13T07:19:36.666401Z",
     "start_time": "2019-08-13T07:19:36.663678Z"
    }
   },
   "outputs": [
    {
     "name": "stdout",
     "output_type": "stream",
     "text": [
      "8982    2246\n"
     ]
    }
   ],
   "source": [
    "print(len(train_data), '  ', len(test_data))"
   ]
  },
  {
   "cell_type": "markdown",
   "metadata": {
    "ExecuteTime": {
     "end_time": "2019-08-13T07:19:56.523217Z",
     "start_time": "2019-08-13T07:19:56.519466Z"
    }
   },
   "source": [
    "### 准备数据"
   ]
  },
  {
   "cell_type": "markdown",
   "metadata": {},
   "source": [
    "**编码数据：**"
   ]
  },
  {
   "cell_type": "code",
   "execution_count": 6,
   "metadata": {
    "ExecuteTime": {
     "end_time": "2019-08-14T12:11:13.790306Z",
     "start_time": "2019-08-14T12:11:13.567524Z"
    }
   },
   "outputs": [],
   "source": [
    "import numpy as np\n",
    "\n",
    "\n",
    "# 将训练数据向量化\n",
    "def vectorize_sequences(sequences, dimension=10000):\n",
    "    results = np.zeros((len(sequences), dimension))\n",
    "    for i, sequence in enumerate(sequences):\n",
    "        results[i, sequence] = 1\n",
    "    return results\n",
    "\n",
    "\n",
    "x_train = vectorize_sequences(train_data)\n",
    "x_test = vectorize_sequences(test_data)"
   ]
  },
  {
   "cell_type": "markdown",
   "metadata": {},
   "source": [
    "**编码标签**："
   ]
  },
  {
   "cell_type": "code",
   "execution_count": 7,
   "metadata": {
    "ExecuteTime": {
     "end_time": "2019-08-14T12:11:16.835779Z",
     "start_time": "2019-08-14T12:11:16.821757Z"
    }
   },
   "outputs": [],
   "source": [
    "def to_one_hot(labels, dimension=46):\n",
    "    results = np.zeros((len(labels), dimension))\n",
    "    for i, label in enumerate(labels):\n",
    "        results[i, label] = 1\n",
    "    return results\n",
    "\n",
    "\n",
    "one_hot_train_labels = to_one_hot(train_labels)\n",
    "ont_hot_test_labels = to_one_hot(test_labels)"
   ]
  },
  {
   "cell_type": "code",
   "execution_count": null,
   "metadata": {
    "ExecuteTime": {
     "end_time": "2019-08-13T07:31:13.810081Z",
     "start_time": "2019-08-13T07:31:13.806548Z"
    }
   },
   "outputs": [],
   "source": [
    "可以使用keras内置方法完成one hot编码：\n",
    "from keras.utils.np_utils import to_categorical\n",
    "one_hot_train_labels=to_categorical(train_labels)\n",
    "ont_hot_test_labels=to_categorical(test_labelst)"
   ]
  },
  {
   "cell_type": "markdown",
   "metadata": {},
   "source": [
    "### 构建网络"
   ]
  },
  {
   "cell_type": "markdown",
   "metadata": {},
   "source": [
    "因为模型的输出类别有46个，所以hidden layer中的units个数应该比46大，否则容易丢失信息，即维度较小的层会丢失相关信息。"
   ]
  },
  {
   "cell_type": "code",
   "execution_count": 3,
   "metadata": {
    "ExecuteTime": {
     "end_time": "2019-08-14T12:10:57.590512Z",
     "start_time": "2019-08-14T12:10:57.535478Z"
    }
   },
   "outputs": [],
   "source": [
    "from tensorflow.python.keras import models\n",
    "from tensorflow.python.keras import layers\n",
    "\n",
    "model=models.Sequential()\n",
    "model.add(layers.Dense(64, activation='relu',input_shape=(10000,)))\n",
    "model.add(layers.Dense(64, activation='relu'))\n",
    "model.add(layers.Dense(46, activation='softmax'))"
   ]
  },
  {
   "cell_type": "markdown",
   "metadata": {},
   "source": [
    "softmax: 对于每一个输入样本，网络都会输出一个46维向量，其中output[i]是样本属于第i个类别的概率。"
   ]
  },
  {
   "cell_type": "markdown",
   "metadata": {},
   "source": [
    "### 编译模型"
   ]
  },
  {
   "cell_type": "code",
   "execution_count": 15,
   "metadata": {
    "ExecuteTime": {
     "end_time": "2019-08-13T07:41:13.694022Z",
     "start_time": "2019-08-13T07:41:13.629781Z"
    }
   },
   "outputs": [],
   "source": [
    "model.compile(optimizer='rmsprop',loss='categorical_crossentropy',metrics=['acc'])"
   ]
  },
  {
   "cell_type": "markdown",
   "metadata": {},
   "source": [
    "### 验证方法"
   ]
  },
  {
   "cell_type": "code",
   "execution_count": 10,
   "metadata": {
    "ExecuteTime": {
     "end_time": "2019-08-14T12:11:53.894104Z",
     "start_time": "2019-08-14T12:11:53.887839Z"
    }
   },
   "outputs": [],
   "source": [
    "x_val=x_train[:1000]\n",
    "partial_x_train=x_train[1000:]\n",
    "\n",
    "y_val=one_hot_train_labels[:1000]\n",
    "partial_y_train=one_hot_train_labels[1000:]"
   ]
  },
  {
   "cell_type": "markdown",
   "metadata": {},
   "source": [
    "### 训练模型"
   ]
  },
  {
   "cell_type": "code",
   "execution_count": 19,
   "metadata": {
    "ExecuteTime": {
     "end_time": "2019-08-13T07:52:41.408315Z",
     "start_time": "2019-08-13T07:52:33.621745Z"
    }
   },
   "outputs": [
    {
     "name": "stdout",
     "output_type": "stream",
     "text": [
      "Train on 7982 samples, validate on 1000 samples\n",
      "Epoch 1/20\n",
      "7982/7982 [==============================] - 1s 87us/sample - loss: 2.6566 - acc: 0.4919 - val_loss: 1.7863 - val_acc: 0.6230\n",
      "Epoch 2/20\n",
      "7982/7982 [==============================] - 1s 64us/sample - loss: 1.4876 - acc: 0.6869 - val_loss: 1.3541 - val_acc: 0.6990\n",
      "Epoch 3/20\n",
      "7982/7982 [==============================] - 0s 58us/sample - loss: 1.1118 - acc: 0.7596 - val_loss: 1.1636 - val_acc: 0.7500\n",
      "Epoch 4/20\n",
      "7982/7982 [==============================] - 0s 59us/sample - loss: 0.8800 - acc: 0.8136 - val_loss: 1.0658 - val_acc: 0.7700\n",
      "Epoch 5/20\n",
      "7982/7982 [==============================] - 0s 40us/sample - loss: 0.7125 - acc: 0.8508 - val_loss: 0.9790 - val_acc: 0.7960\n",
      "Epoch 6/20\n",
      "7982/7982 [==============================] - 0s 40us/sample - loss: 0.5755 - acc: 0.8814 - val_loss: 0.9292 - val_acc: 0.8070\n",
      "Epoch 7/20\n",
      "7982/7982 [==============================] - 0s 40us/sample - loss: 0.4677 - acc: 0.9035 - val_loss: 0.9008 - val_acc: 0.8090\n",
      "Epoch 8/20\n",
      "7982/7982 [==============================] - 0s 39us/sample - loss: 0.3856 - acc: 0.9202 - val_loss: 0.8941 - val_acc: 0.8160\n",
      "Epoch 9/20\n",
      "7982/7982 [==============================] - 0s 40us/sample - loss: 0.3150 - acc: 0.9356 - val_loss: 0.9008 - val_acc: 0.8130\n",
      "Epoch 10/20\n",
      "7982/7982 [==============================] - 0s 42us/sample - loss: 0.2657 - acc: 0.9416 - val_loss: 0.8941 - val_acc: 0.8150\n",
      "Epoch 11/20\n",
      "7982/7982 [==============================] - 0s 41us/sample - loss: 0.2316 - acc: 0.9471 - val_loss: 0.8926 - val_acc: 0.8230\n",
      "Epoch 12/20\n",
      "7982/7982 [==============================] - 0s 45us/sample - loss: 0.1967 - acc: 0.9500 - val_loss: 0.9163 - val_acc: 0.8200\n",
      "Epoch 13/20\n",
      "7982/7982 [==============================] - 0s 41us/sample - loss: 0.1743 - acc: 0.9524 - val_loss: 0.9361 - val_acc: 0.8080\n",
      "Epoch 14/20\n",
      "7982/7982 [==============================] - 0s 40us/sample - loss: 0.1595 - acc: 0.9534 - val_loss: 0.9713 - val_acc: 0.8130\n",
      "Epoch 15/20\n",
      "7982/7982 [==============================] - 0s 39us/sample - loss: 0.1493 - acc: 0.9545 - val_loss: 0.9672 - val_acc: 0.8140\n",
      "Epoch 16/20\n",
      "7982/7982 [==============================] - 0s 40us/sample - loss: 0.1377 - acc: 0.9553 - val_loss: 1.0340 - val_acc: 0.7990\n",
      "Epoch 17/20\n",
      "7982/7982 [==============================] - 0s 40us/sample - loss: 0.1302 - acc: 0.9544 - val_loss: 1.0516 - val_acc: 0.7940\n",
      "Epoch 18/20\n",
      "7982/7982 [==============================] - 0s 41us/sample - loss: 0.1272 - acc: 0.9567 - val_loss: 1.0570 - val_acc: 0.7950\n",
      "Epoch 19/20\n",
      "7982/7982 [==============================] - 0s 53us/sample - loss: 0.1174 - acc: 0.9567 - val_loss: 1.0641 - val_acc: 0.7990\n",
      "Epoch 20/20\n",
      "7982/7982 [==============================] - 0s 48us/sample - loss: 0.1154 - acc: 0.9589 - val_loss: 1.0653 - val_acc: 0.8010\n"
     ]
    }
   ],
   "source": [
    "history=model.fit(partial_x_train, partial_y_train, epochs=20, batch_size=512,validation_data=(x_val, y_val))"
   ]
  },
  {
   "cell_type": "markdown",
   "metadata": {},
   "source": [
    "### 结果可视化"
   ]
  },
  {
   "cell_type": "markdown",
   "metadata": {},
   "source": [
    "**训练损失和验证损失**："
   ]
  },
  {
   "cell_type": "code",
   "execution_count": 21,
   "metadata": {
    "ExecuteTime": {
     "end_time": "2019-08-13T07:56:43.657084Z",
     "start_time": "2019-08-13T07:56:43.507829Z"
    }
   },
   "outputs": [
    {
     "data": {
      "image/png": "[encoded data removed]",
      "text/plain": [
       "<Figure size 432x288 with 1 Axes>"
      ]
     },
     "metadata": {
      "needs_background": "light"
     },
     "output_type": "display_data"
    }
   ],
   "source": [
    "import matplotlib.pyplot as plt\n",
    "\n",
    "loss=history.history['loss']\n",
    "val_loss=history.history['val_loss']\n",
    "\n",
    "epochs=range(1, len(loss)+1)\n",
    "\n",
    "plt.plot(epochs,loss,'bo',label='Training loss')\n",
    "plt.plot(epochs,val_loss,'b',label='Validation loss')\n",
    "plt.title('Training and validation loss')\n",
    "plt.xlabel('Epochs')\n",
    "plt.ylabel('Loss')\n",
    "plt.legend()\n",
    "\n",
    "plt.show()"
   ]
  },
  {
   "cell_type": "code",
   "execution_count": 23,
   "metadata": {
    "ExecuteTime": {
     "end_time": "2019-08-13T08:00:28.627572Z",
     "start_time": "2019-08-13T08:00:28.481210Z"
    }
   },
   "outputs": [
    {
     "data": {
      "image/png": "[encoded data removed]",
      "text/plain": [
       "<Figure size 432x288 with 1 Axes>"
      ]
     },
     "metadata": {
      "needs_background": "light"
     },
     "output_type": "display_data"
    }
   ],
   "source": [
    "plt.clf()\n",
    "acc=history.history['acc']\n",
    "val_acc=history.history['val_acc']\n",
    "\n",
    "plt.plot(epochs, acc,'bo',label='Training acc')\n",
    "plt.plot(epochs, val_acc,'b',label='Validation acc')\n",
    "plt.title('Training and validation accuracy')\n",
    "plt.xlabel('Epochs')\n",
    "plt.ylabel('Accuracy')\n",
    "plt.legend()\n",
    "\n",
    "plt.show()"
   ]
  },
  {
   "cell_type": "markdown",
   "metadata": {},
   "source": [
    "**网络在第9轮次后出现过拟合**"
   ]
  },
  {
   "cell_type": "markdown",
   "metadata": {},
   "source": [
    "### 重新训练模型"
   ]
  },
  {
   "cell_type": "code",
   "execution_count": 11,
   "metadata": {
    "ExecuteTime": {
     "end_time": "2019-08-14T12:12:02.855334Z",
     "start_time": "2019-08-14T12:11:58.399186Z"
    }
   },
   "outputs": [
    {
     "name": "stdout",
     "output_type": "stream",
     "text": [
      "Train on 7982 samples, validate on 1000 samples\n",
      "Epoch 1/9\n",
      "7982/7982 [==============================] - 1s 72us/sample - loss: 2.6627 - acc: 0.5487 - val_loss: 1.7921 - val_acc: 0.6340\n",
      "Epoch 2/9\n",
      "7982/7982 [==============================] - 1s 63us/sample - loss: 1.4408 - acc: 0.6984 - val_loss: 1.3362 - val_acc: 0.7120\n",
      "Epoch 3/9\n",
      "7982/7982 [==============================] - 1s 63us/sample - loss: 1.0572 - acc: 0.7744 - val_loss: 1.1468 - val_acc: 0.7490\n",
      "Epoch 4/9\n",
      "7982/7982 [==============================] - 0s 43us/sample - loss: 0.8378 - acc: 0.8260 - val_loss: 1.0550 - val_acc: 0.7660\n",
      "Epoch 5/9\n",
      "7982/7982 [==============================] - 0s 41us/sample - loss: 0.6698 - acc: 0.8619 - val_loss: 0.9747 - val_acc: 0.7900\n",
      "Epoch 6/9\n",
      "7982/7982 [==============================] - 0s 60us/sample - loss: 0.5424 - acc: 0.8862 - val_loss: 0.9350 - val_acc: 0.8060\n",
      "Epoch 7/9\n",
      "7982/7982 [==============================] - 0s 53us/sample - loss: 0.4427 - acc: 0.9065 - val_loss: 0.9301 - val_acc: 0.8000\n",
      "Epoch 8/9\n",
      "7982/7982 [==============================] - 0s 46us/sample - loss: 0.3637 - acc: 0.9228 - val_loss: 0.9306 - val_acc: 0.8020\n",
      "Epoch 9/9\n",
      "7982/7982 [==============================] - 0s 48us/sample - loss: 0.3011 - acc: 0.9337 - val_loss: 0.9459 - val_acc: 0.8030\n",
      "2246/2246 [==============================] - 0s 63us/sample - loss: 1.0385 - acc: 0.7685\n"
     ]
    }
   ],
   "source": [
    "model=models.Sequential()\n",
    "model.add(layers.Dense(64,activation='relu',input_shape=(10000,)))\n",
    "model.add(layers.Dense(64,activation='relu'))\n",
    "model.add(layers.Dense(46,activation='softmax'))\n",
    "\n",
    "model.compile(optimizer='rmsprop',loss='categorical_crossentropy',metrics=['acc'])\n",
    "model.fit(partial_x_train, partial_y_train, epochs=9, batch_size=512,validation_data=(x_val, y_val))\n",
    "results=model.evaluate(x_test,ont_hot_test_labels)"
   ]
  },
  {
   "cell_type": "markdown",
   "metadata": {},
   "source": [
    "### 在新数据上生成预测结果"
   ]
  },
  {
   "cell_type": "code",
   "execution_count": 12,
   "metadata": {
    "ExecuteTime": {
     "end_time": "2019-08-14T12:13:01.654952Z",
     "start_time": "2019-08-14T12:13:01.532055Z"
    }
   },
   "outputs": [],
   "source": [
    "predictions = model.predict(x_test)"
   ]
  },
  {
   "cell_type": "code",
   "execution_count": 14,
   "metadata": {
    "ExecuteTime": {
     "end_time": "2019-08-14T12:13:28.366119Z",
     "start_time": "2019-08-14T12:13:28.360881Z"
    }
   },
   "outputs": [
    {
     "data": {
      "text/plain": [
       "(46,)"
      ]
     },
     "execution_count": 14,
     "metadata": {},
     "output_type": "execute_result"
    }
   ],
   "source": [
    "predictions[0].shape"
   ]
  },
  {
   "cell_type": "code",
   "execution_count": 15,
   "metadata": {
    "ExecuteTime": {
     "end_time": "2019-08-14T12:13:47.609496Z",
     "start_time": "2019-08-14T12:13:47.606209Z"
    }
   },
   "outputs": [
    {
     "data": {
      "text/plain": [
       "1.0"
      ]
     },
     "execution_count": 15,
     "metadata": {},
     "output_type": "execute_result"
    }
   ],
   "source": [
    "np.sum(predictions[0])"
   ]
  },
  {
   "cell_type": "code",
   "execution_count": 16,
   "metadata": {
    "ExecuteTime": {
     "end_time": "2019-08-14T12:14:02.660062Z",
     "start_time": "2019-08-14T12:14:02.654749Z"
    }
   },
   "outputs": [
    {
     "data": {
      "text/plain": [
       "3"
      ]
     },
     "execution_count": 16,
     "metadata": {},
     "output_type": "execute_result"
    }
   ],
   "source": [
    "np.argmax(predictions[0])"
   ]
  },
  {
   "cell_type": "markdown",
   "metadata": {},
   "source": [
    "### 使用整数张量的数据格式"
   ]
  },
  {
   "cell_type": "markdown",
   "metadata": {},
   "source": [
    "* 第一层使用Embedding层\n",
    "* 损失函数使用sparse_categorical_crossentropy(它与categorical_crossentropy完全相同，只是借口不同)"
   ]
  },
  {
   "cell_type": "markdown",
   "metadata": {},
   "source": [
    "### 小结"
   ]
  },
  {
   "cell_type": "markdown",
   "metadata": {},
   "source": [
    "<img src='images/3.png'/>\n"
   ]
  }
 ],
 "metadata": {
  "kernelspec": {
   "display_name": "Python 3",
   "language": "python",
   "name": "python3"
  },
  "language_info": {
   "codemirror_mode": {
    "name": "ipython",
    "version": 3
   },
   "file_extension": ".py",
   "mimetype": "text/x-python",
   "name": "python",
   "nbconvert_exporter": "python",
   "pygments_lexer": "ipython3",
   "version": "3.6.8"
  },
  "toc": {
   "base_numbering": 1,
   "nav_menu": {},
   "number_sections": true,
   "sideBar": true,
   "skip_h1_title": false,
   "title_cell": "Table of Contents",
   "title_sidebar": "Contents",
   "toc_cell": false,
   "toc_position": {
    "height": "calc(100% - 180px)",
    "left": "10px",
    "top": "150px",
    "width": "239.875px"
   },
   "toc_section_display": true,
   "toc_window_display": false
  }
 },
 "nbformat": 4,
 "nbformat_minor": 2
}
