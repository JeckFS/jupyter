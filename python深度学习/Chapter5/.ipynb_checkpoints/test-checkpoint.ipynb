{
 "cells": [
  {
   "cell_type": "code",
   "execution_count": 2,
   "metadata": {
    "ExecuteTime": {
     "end_time": "2019-08-21T03:18:31.742232Z",
     "start_time": "2019-08-21T03:18:31.738585Z"
    }
   },
   "outputs": [
    {
     "name": "stdout",
     "output_type": "stream",
     "text": [
      "1.14.0\n",
      "Please install GPU version of TF\n"
     ]
    }
   ],
   "source": [
    "import tensorflow as tf\n",
    "print (tf.__version__)\n",
    "if tf.test.gpu_device_name():\n",
    "    print('Default GPU Device: {}'.format(tf.test.gpu_device_name()))\n",
    "else:\n",
    "    print(\"Please install GPU version of TF\")"
   ]
  },
  {
   "cell_type": "code",
   "execution_count": 5,
   "metadata": {
    "ExecuteTime": {
     "end_time": "2019-08-21T03:19:56.835194Z",
     "start_time": "2019-08-21T03:19:56.824206Z"
    }
   },
   "outputs": [
    {
     "name": "stdout",
     "output_type": "stream",
     "text": [
      "[name: \"/device:CPU:0\"\n",
      "device_type: \"CPU\"\n",
      "memory_limit: 268435456\n",
      "locality {\n",
      "}\n",
      "incarnation: 15568692737318063536\n",
      ", name: \"/device:XLA_CPU:0\"\n",
      "device_type: \"XLA_CPU\"\n",
      "memory_limit: 17179869184\n",
      "locality {\n",
      "}\n",
      "incarnation: 5384026993280705037\n",
      "physical_device_desc: \"device: XLA_CPU device\"\n",
      "]\n"
     ]
    }
   ],
   "source": [
    "import os\n",
    "from tensorflow.python.client import device_lib\n",
    "os.environ[\"TF_CPP_MIN_LOG_LEVEL\"] = \"99\"\n",
    "\n",
    "if __name__ == \"__main__\":\n",
    "    print(device_lib.list_local_devices())"
   ]
  },
  {
   "cell_type": "code",
   "execution_count": 1,
   "metadata": {
    "ExecuteTime": {
     "end_time": "2019-08-21T03:33:48.032920Z",
     "start_time": "2019-08-21T03:33:47.147151Z"
    }
   },
   "outputs": [
    {
     "name": "stdout",
     "output_type": "stream",
     "text": [
      "2.0.0-beta1\n"
     ]
    }
   ],
   "source": [
    "import tensorflow as tf\n",
    "print(tf.__version__)"
   ]
  },
  {
   "cell_type": "code",
   "execution_count": 2,
   "metadata": {
    "ExecuteTime": {
     "end_time": "2019-08-21T03:34:40.500800Z",
     "start_time": "2019-08-21T03:34:40.159796Z"
    }
   },
   "outputs": [
    {
     "name": "stdout",
     "output_type": "stream",
     "text": [
      "True\n"
     ]
    }
   ],
   "source": [
    "print(tf.test.is_gpu_available())"
   ]
  },
  {
   "cell_type": "code",
   "execution_count": 3,
   "metadata": {
    "ExecuteTime": {
     "end_time": "2019-08-21T03:35:08.552294Z",
     "start_time": "2019-08-21T03:35:08.521005Z"
    }
   },
   "outputs": [
    {
     "data": {
      "text/plain": [
       "0"
      ]
     },
     "execution_count": 3,
     "metadata": {},
     "output_type": "execute_result"
    }
   ],
   "source": [
    "import os \n",
    "os.system(\"nvidia-smi\")"
   ]
  },
  {
   "cell_type": "code",
   "execution_count": 4,
   "metadata": {
    "ExecuteTime": {
     "end_time": "2019-08-21T03:35:28.777784Z",
     "start_time": "2019-08-21T03:35:28.736362Z"
    }
   },
   "outputs": [],
   "source": [
    "@tf.function\n",
    "def f():\n",
    "    pass\n",
    "f()"
   ]
  },
  {
   "cell_type": "code",
   "execution_count": 11,
   "metadata": {
    "ExecuteTime": {
     "end_time": "2019-08-21T03:51:39.469094Z",
     "start_time": "2019-08-21T03:50:49.382601Z"
    }
   },
   "outputs": [
    {
     "name": "stdout",
     "output_type": "stream",
     "text": [
      "Train on 60000 samples\n",
      "Epoch 1/50\n",
      "60000/60000 [==============================] - 1s 18us/sample - loss: 0.2573 - accuracy: 0.9252\n",
      "Epoch 2/50\n",
      "60000/60000 [==============================] - 1s 17us/sample - loss: 0.1033 - accuracy: 0.9686\n",
      "Epoch 3/50\n",
      "60000/60000 [==============================] - 1s 16us/sample - loss: 0.0682 - accuracy: 0.9797\n",
      "Epoch 4/50\n",
      "60000/60000 [==============================] - 1s 16us/sample - loss: 0.0494 - accuracy: 0.9847\n",
      "Epoch 5/50\n",
      "60000/60000 [==============================] - 1s 16us/sample - loss: 0.0364 - accuracy: 0.9891\n",
      "Epoch 6/50\n",
      "60000/60000 [==============================] - 1s 16us/sample - loss: 0.0290 - accuracy: 0.9913\n",
      "Epoch 7/50\n",
      "60000/60000 [==============================] - 1s 16us/sample - loss: 0.0213 - accuracy: 0.9937\n",
      "Epoch 8/50\n",
      "60000/60000 [==============================] - 1s 16us/sample - loss: 0.0174 - accuracy: 0.9952\n",
      "Epoch 9/50\n",
      "60000/60000 [==============================] - 1s 16us/sample - loss: 0.0135 - accuracy: 0.9962\n",
      "Epoch 10/50\n",
      "60000/60000 [==============================] - 1s 16us/sample - loss: 0.0103 - accuracy: 0.9971\n",
      "Epoch 11/50\n",
      "60000/60000 [==============================] - 1s 16us/sample - loss: 0.0079 - accuracy: 0.9976\n",
      "Epoch 12/50\n",
      "60000/60000 [==============================] - 1s 16us/sample - loss: 0.0065 - accuracy: 0.9981\n",
      "Epoch 13/50\n",
      "60000/60000 [==============================] - 1s 16us/sample - loss: 0.0052 - accuracy: 0.9985\n",
      "Epoch 14/50\n",
      "60000/60000 [==============================] - 1s 16us/sample - loss: 0.0042 - accuracy: 0.9991\n",
      "Epoch 15/50\n",
      "60000/60000 [==============================] - 1s 16us/sample - loss: 0.0033 - accuracy: 0.9992\n",
      "Epoch 16/50\n",
      "60000/60000 [==============================] - 1s 16us/sample - loss: 0.0027 - accuracy: 0.9994\n",
      "Epoch 17/50\n",
      "60000/60000 [==============================] - 1s 16us/sample - loss: 0.0022 - accuracy: 0.9995\n",
      "Epoch 18/50\n",
      "60000/60000 [==============================] - 1s 16us/sample - loss: 0.0018 - accuracy: 0.9996\n",
      "Epoch 19/50\n",
      "60000/60000 [==============================] - 1s 16us/sample - loss: 0.0014 - accuracy: 0.9997\n",
      "Epoch 20/50\n",
      "60000/60000 [==============================] - 1s 16us/sample - loss: 0.0014 - accuracy: 0.9997\n",
      "Epoch 21/50\n",
      "60000/60000 [==============================] - 1s 16us/sample - loss: 0.0012 - accuracy: 0.9998\n",
      "Epoch 22/50\n",
      "60000/60000 [==============================] - 1s 16us/sample - loss: 0.0011 - accuracy: 0.9999\n",
      "Epoch 23/50\n",
      "60000/60000 [==============================] - 1s 16us/sample - loss: 0.0013 - accuracy: 0.9998\n",
      "Epoch 24/50\n",
      "60000/60000 [==============================] - 1s 16us/sample - loss: 8.9885e-04 - accuracy: 0.9999\n",
      "Epoch 25/50\n",
      "60000/60000 [==============================] - 1s 16us/sample - loss: 9.3710e-04 - accuracy: 0.9998\n",
      "Epoch 26/50\n",
      "60000/60000 [==============================] - 1s 16us/sample - loss: 8.4694e-04 - accuracy: 0.9999\n",
      "Epoch 27/50\n",
      "60000/60000 [==============================] - 1s 16us/sample - loss: 7.7706e-04 - accuracy: 0.9999\n",
      "Epoch 28/50\n",
      "60000/60000 [==============================] - 1s 16us/sample - loss: 6.7801e-04 - accuracy: 0.9999\n",
      "Epoch 29/50\n",
      "60000/60000 [==============================] - 1s 16us/sample - loss: 7.7126e-04 - accuracy: 0.9999\n",
      "Epoch 30/50\n",
      "60000/60000 [==============================] - 1s 16us/sample - loss: 6.8636e-04 - accuracy: 0.9999\n",
      "Epoch 31/50\n",
      "60000/60000 [==============================] - 1s 16us/sample - loss: 6.1533e-04 - accuracy: 0.9999\n",
      "Epoch 32/50\n",
      "60000/60000 [==============================] - 1s 16us/sample - loss: 5.8571e-04 - accuracy: 1.0000\n",
      "Epoch 33/50\n",
      "60000/60000 [==============================] - 1s 16us/sample - loss: 6.3587e-04 - accuracy: 0.9999\n",
      "Epoch 34/50\n",
      "60000/60000 [==============================] - 1s 16us/sample - loss: 6.0335e-04 - accuracy: 0.9999\n",
      "Epoch 35/50\n",
      "60000/60000 [==============================] - 1s 16us/sample - loss: 5.6962e-04 - accuracy: 1.0000\n",
      "Epoch 36/50\n",
      "60000/60000 [==============================] - 1s 16us/sample - loss: 5.7814e-04 - accuracy: 0.9999\n",
      "Epoch 37/50\n",
      "60000/60000 [==============================] - 1s 16us/sample - loss: 5.4324e-04 - accuracy: 1.0000\n",
      "Epoch 38/50\n",
      "60000/60000 [==============================] - 1s 16us/sample - loss: 5.4951e-04 - accuracy: 1.0000\n",
      "Epoch 39/50\n",
      "60000/60000 [==============================] - 1s 17us/sample - loss: 5.6117e-04 - accuracy: 1.0000\n",
      "Epoch 40/50\n",
      "60000/60000 [==============================] - 1s 17us/sample - loss: 5.4130e-04 - accuracy: 1.0000\n",
      "Epoch 41/50\n",
      "60000/60000 [==============================] - 1s 19us/sample - loss: 5.3827e-04 - accuracy: 1.0000\n",
      "Epoch 42/50\n",
      "60000/60000 [==============================] - 1s 18us/sample - loss: 5.3767e-04 - accuracy: 1.0000\n",
      "Epoch 43/50\n",
      "60000/60000 [==============================] - 1s 18us/sample - loss: 5.3747e-04 - accuracy: 1.0000\n",
      "Epoch 44/50\n",
      "60000/60000 [==============================] - 1s 18us/sample - loss: 5.3744e-04 - accuracy: 1.0000\n",
      "Epoch 45/50\n",
      "60000/60000 [==============================] - 1s 17us/sample - loss: 5.3744e-04 - accuracy: 1.0000\n",
      "Epoch 46/50\n",
      "60000/60000 [==============================] - 1s 17us/sample - loss: 5.3745e-04 - accuracy: 1.0000\n",
      "Epoch 47/50\n",
      "60000/60000 [==============================] - 1s 17us/sample - loss: 5.3740e-04 - accuracy: 1.0000\n",
      "Epoch 48/50\n",
      "60000/60000 [==============================] - 1s 17us/sample - loss: 5.3740e-04 - accuracy: 1.0000\n",
      "Epoch 49/50\n",
      "60000/60000 [==============================] - 1s 16us/sample - loss: 5.3740e-04 - accuracy: 1.0000\n",
      "Epoch 50/50\n",
      "60000/60000 [==============================] - 1s 16us/sample - loss: 5.3740e-04 - accuracy: 1.0000\n"
     ]
    },
    {
     "data": {
      "text/plain": [
       "<tensorflow.python.keras.callbacks.History at 0x7fcf54230cc0>"
      ]
     },
     "execution_count": 11,
     "metadata": {},
     "output_type": "execute_result"
    }
   ],
   "source": [
    "from tensorflow.python.keras.datasets import mnist\n",
    "(train_images, train_labels), (test_images, test_labels) = mnist.load_data()\n",
    "\n",
    "from tensorflow.python.keras import models\n",
    "from tensorflow.python.keras import layers\n",
    "\n",
    "network=models.Sequential()\n",
    "network.add(layers.Dense(512,activation='relu',input_shape=(28*28,)))\n",
    "network.add(layers.Dense(10,activation='softmax'))\n",
    "\n",
    "network.compile(optimizer='rmsprop', loss='categorical_crossentropy', metrics=['accuracy'])\n",
    "\n",
    "train_images = train_images.reshape((60000, 28 * 28))\n",
    "train_images = train_images.astype('float32') / 255\n",
    "\n",
    "test_images = test_images.reshape((10000, 28 * 28))\n",
    "test_images = test_images.astype('float32') / 255\n",
    "\n",
    "from tensorflow.python.keras.utils import to_categorical\n",
    "\n",
    "train_labels = to_categorical(train_labels)\n",
    "test_labels = to_categorical(test_labels)\n",
    "\n",
    "network.fit(train_images, train_labels, epochs=50, batch_size=128)"
   ]
  },
  {
   "cell_type": "code",
   "execution_count": null,
   "metadata": {},
   "outputs": [],
   "source": []
  },
  {
   "cell_type": "code",
   "execution_count": null,
   "metadata": {},
   "outputs": [],
   "source": []
  },
  {
   "cell_type": "code",
   "execution_count": null,
   "metadata": {},
   "outputs": [],
   "source": []
  },
  {
   "cell_type": "code",
   "execution_count": null,
   "metadata": {},
   "outputs": [],
   "source": []
  },
  {
   "cell_type": "code",
   "execution_count": null,
   "metadata": {},
   "outputs": [],
   "source": []
  }
 ],
 "metadata": {
  "kernelspec": {
   "display_name": "Python 3",
   "language": "python",
   "name": "python3"
  },
  "language_info": {
   "codemirror_mode": {
    "name": "ipython",
    "version": 3
   },
   "file_extension": ".py",
   "mimetype": "text/x-python",
   "name": "python",
   "nbconvert_exporter": "python",
   "pygments_lexer": "ipython3",
   "version": "3.6.8"
  },
  "toc": {
   "base_numbering": 1,
   "nav_menu": {},
   "number_sections": true,
   "sideBar": true,
   "skip_h1_title": false,
   "title_cell": "Table of Contents",
   "title_sidebar": "Contents",
   "toc_cell": false,
   "toc_position": {},
   "toc_section_display": true,
   "toc_window_display": false
  }
 },
 "nbformat": 4,
 "nbformat_minor": 2
}
