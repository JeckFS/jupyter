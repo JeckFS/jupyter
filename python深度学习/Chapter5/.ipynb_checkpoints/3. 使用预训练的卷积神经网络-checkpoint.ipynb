{
 "cells": [
  {
   "cell_type": "markdown",
   "metadata": {},
   "source": [
    ">预训练网络(pretrained network)可以应用于图像数据集小的问题。它是一个已经在大型数据集(通常是大规模图像分类任务)上训练好的网络。如果这个**原始数据集足够大且足够通用**，那么预训练网络学到的特征的**空间层次结构**可以作为通用模型来使用。这些特征可以用于各种不同的**计算机视觉问题**。如在动物和日常用品训练出来的一个预训练网络，可以用于识别家具。<br><br>\n",
    "常见的卷积神经网络架构：VGG,ResNet,Inception,Inception-ResNet,Xception等<br><br>\n",
    "预训练网络的使用方法：特征提取(feature extraction)，微调模型(fine-tuning)"
   ]
  },
  {
   "cell_type": "markdown",
   "metadata": {},
   "source": [
    "# 特征提取"
   ]
  },
  {
   "cell_type": "markdown",
   "metadata": {},
   "source": [
    ">卷积基(convolutional base)：一系列的池化曾和卷积层。特征提取就是取出之前训练好的网络的卷积基，在上面运行新数据，然后输出到一个新的分类器(如密集连接层)"
   ]
  },
  {
   "cell_type": "markdown",
   "metadata": {},
   "source": [
    "卷积神经网络的特征图表示通用概念在图像中是否存在，且其包含着物体在输入图像中的位置信息；而分类器部分只是针对于模型训练的类别，其中仅包含某个类别出现在整张图像中的概率信息，且不包含位置信息。"
   ]
  },
  {
   "cell_type": "markdown",
   "metadata": {},
   "source": [
    "卷基层中越是底层其通用性越高，因为更靠近底部的层提取的是局部的，高度通用的特征图(如视觉边缘，颜色，纹理)，更靠近顶部的层提取的是更加抽象的概念(如猫耳朵，狗眼睛)。如果新的数据集与原始数据集有较大差异，那么最好使用前几层来做特征提取，而不是用整个卷积基。"
   ]
  },
  {
   "cell_type": "code",
   "execution_count": null,
   "metadata": {
    "ExecuteTime": {
     "start_time": "2019-08-22T01:20:24.261Z"
    }
   },
   "outputs": [],
   "source": [
    "# 将VGG16卷积基实例化\n",
    "from tensorflow.python.keras.applications import VGG16\n",
    "conv_base=VGG16(weights='imagenet',include_top=False,input_shape=(150,150,3))"
   ]
  },
  {
   "cell_type": "markdown",
   "metadata": {},
   "source": [
    "**参数说明：**<br>\n",
    "weights：指定模型初始化的权重检查点。<br>\n",
    "include_top：指定模型最后是否包含密集连接分类器。<br>\n",
    "input_shape：指定输入到网络中的图像张量的形状。不设定的话，默认网络能够处理任意形状的输入。<br>"
   ]
  },
  {
   "cell_type": "code",
   "execution_count": 9,
   "metadata": {
    "ExecuteTime": {
     "end_time": "2019-08-21T00:59:17.457027Z",
     "start_time": "2019-08-21T00:59:17.447640Z"
    }
   },
   "outputs": [
    {
     "name": "stdout",
     "output_type": "stream",
     "text": [
      "Model: \"vgg16\"\n",
      "_________________________________________________________________\n",
      "Layer (type)                 Output Shape              Param #   \n",
      "=================================================================\n",
      "input_2 (InputLayer)         [(None, 150, 150, 3)]     0         \n",
      "_________________________________________________________________\n",
      "block1_conv1 (Conv2D)        (None, 150, 150, 64)      1792      \n",
      "_________________________________________________________________\n",
      "block1_conv2 (Conv2D)        (None, 150, 150, 64)      36928     \n",
      "_________________________________________________________________\n",
      "block1_pool (MaxPooling2D)   (None, 75, 75, 64)        0         \n",
      "_________________________________________________________________\n",
      "block2_conv1 (Conv2D)        (None, 75, 75, 128)       73856     \n",
      "_________________________________________________________________\n",
      "block2_conv2 (Conv2D)        (None, 75, 75, 128)       147584    \n",
      "_________________________________________________________________\n",
      "block2_pool (MaxPooling2D)   (None, 37, 37, 128)       0         \n",
      "_________________________________________________________________\n",
      "block3_conv1 (Conv2D)        (None, 37, 37, 256)       295168    \n",
      "_________________________________________________________________\n",
      "block3_conv2 (Conv2D)        (None, 37, 37, 256)       590080    \n",
      "_________________________________________________________________\n",
      "block3_conv3 (Conv2D)        (None, 37, 37, 256)       590080    \n",
      "_________________________________________________________________\n",
      "block3_pool (MaxPooling2D)   (None, 18, 18, 256)       0         \n",
      "_________________________________________________________________\n",
      "block4_conv1 (Conv2D)        (None, 18, 18, 512)       1180160   \n",
      "_________________________________________________________________\n",
      "block4_conv2 (Conv2D)        (None, 18, 18, 512)       2359808   \n",
      "_________________________________________________________________\n",
      "block4_conv3 (Conv2D)        (None, 18, 18, 512)       2359808   \n",
      "_________________________________________________________________\n",
      "block4_pool (MaxPooling2D)   (None, 9, 9, 512)         0         \n",
      "_________________________________________________________________\n",
      "block5_conv1 (Conv2D)        (None, 9, 9, 512)         2359808   \n",
      "_________________________________________________________________\n",
      "block5_conv2 (Conv2D)        (None, 9, 9, 512)         2359808   \n",
      "_________________________________________________________________\n",
      "block5_conv3 (Conv2D)        (None, 9, 9, 512)         2359808   \n",
      "_________________________________________________________________\n",
      "block5_pool (MaxPooling2D)   (None, 4, 4, 512)         0         \n",
      "=================================================================\n",
      "Total params: 14,714,688\n",
      "Trainable params: 14,714,688\n",
      "Non-trainable params: 0\n",
      "_________________________________________________________________\n"
     ]
    }
   ],
   "source": [
    "# VGG16的架构\n",
    "conv_base.summary()"
   ]
  },
  {
   "cell_type": "markdown",
   "metadata": {},
   "source": [
    "---"
   ]
  },
  {
   "cell_type": "markdown",
   "metadata": {},
   "source": [
    "<font color='#f0110c' size=4>第一种特征提取方式：</font>\n",
    "将自己的图像及标签数据提取为Numpy数组，输入到自己定义的密集连接层中。这种方式不能使用数据增强。优点是：速度快，计算代价低，因为每个输入的图像只需要运行一次卷积基。"
   ]
  },
  {
   "cell_type": "markdown",
   "metadata": {},
   "source": [
    "<font color='#f0110c' size=4>第二种特征提取方式：</font>\n",
    "在顶部添加Dense层来扩展已有模型(即conv_base)，并在输入数据上端到端的运行整个模型。优点是：可以使用数据增强 缺点是：计算代价高。"
   ]
  },
  {
   "cell_type": "markdown",
   "metadata": {},
   "source": [
    "## 不使用数据增强的快速特征提取"
   ]
  },
  {
   "cell_type": "markdown",
   "metadata": {},
   "source": [
    ">运行ImageDataGenerator实例，将图像及其标签提取为Numpy数组。调用conv_base模型的predict方法从这些图像中提取特征。"
   ]
  },
  {
   "cell_type": "code",
   "execution_count": 2,
   "metadata": {
    "ExecuteTime": {
     "end_time": "2019-08-21T03:53:17.117454Z",
     "start_time": "2019-08-21T03:52:45.952250Z"
    },
    "scrolled": true
   },
   "outputs": [
    {
     "name": "stdout",
     "output_type": "stream",
     "text": [
      "Found 2000 images belonging to 2 classes.\n",
      "inputs_batch.shape= (20, 150, 150, 3)  labels_batch.shape= (20,)  features_batch.shape= (20, 4, 4, 512)\n",
      "inputs_batch.shape= (20, 150, 150, 3)  labels_batch.shape= (20,)  features_batch.shape= (20, 4, 4, 512)\n",
      "inputs_batch.shape= (20, 150, 150, 3)  labels_batch.shape= (20,)  features_batch.shape= (20, 4, 4, 512)\n",
      "inputs_batch.shape= (20, 150, 150, 3)  labels_batch.shape= (20,)  features_batch.shape= (20, 4, 4, 512)\n",
      "inputs_batch.shape= (20, 150, 150, 3)  labels_batch.shape= (20,)  features_batch.shape= (20, 4, 4, 512)\n",
      "inputs_batch.shape= (20, 150, 150, 3)  labels_batch.shape= (20,)  features_batch.shape= (20, 4, 4, 512)\n",
      "inputs_batch.shape= (20, 150, 150, 3)  labels_batch.shape= (20,)  features_batch.shape= (20, 4, 4, 512)\n",
      "inputs_batch.shape= (20, 150, 150, 3)  labels_batch.shape= (20,)  features_batch.shape= (20, 4, 4, 512)\n",
      "inputs_batch.shape= (20, 150, 150, 3)  labels_batch.shape= (20,)  features_batch.shape= (20, 4, 4, 512)\n",
      "inputs_batch.shape= (20, 150, 150, 3)  labels_batch.shape= (20,)  features_batch.shape= (20, 4, 4, 512)\n",
      "inputs_batch.shape= (20, 150, 150, 3)  labels_batch.shape= (20,)  features_batch.shape= (20, 4, 4, 512)\n",
      "inputs_batch.shape= (20, 150, 150, 3)  labels_batch.shape= (20,)  features_batch.shape= (20, 4, 4, 512)\n",
      "inputs_batch.shape= (20, 150, 150, 3)  labels_batch.shape= (20,)  features_batch.shape= (20, 4, 4, 512)\n",
      "inputs_batch.shape= (20, 150, 150, 3)  labels_batch.shape= (20,)  features_batch.shape= (20, 4, 4, 512)\n",
      "inputs_batch.shape= (20, 150, 150, 3)  labels_batch.shape= (20,)  features_batch.shape= (20, 4, 4, 512)\n",
      "inputs_batch.shape= (20, 150, 150, 3)  labels_batch.shape= (20,)  features_batch.shape= (20, 4, 4, 512)\n",
      "inputs_batch.shape= (20, 150, 150, 3)  labels_batch.shape= (20,)  features_batch.shape= (20, 4, 4, 512)\n",
      "inputs_batch.shape= (20, 150, 150, 3)  labels_batch.shape= (20,)  features_batch.shape= (20, 4, 4, 512)\n",
      "inputs_batch.shape= (20, 150, 150, 3)  labels_batch.shape= (20,)  features_batch.shape= (20, 4, 4, 512)\n",
      "inputs_batch.shape= (20, 150, 150, 3)  labels_batch.shape= (20,)  features_batch.shape= (20, 4, 4, 512)\n",
      "inputs_batch.shape= (20, 150, 150, 3)  labels_batch.shape= (20,)  features_batch.shape= (20, 4, 4, 512)\n",
      "inputs_batch.shape= (20, 150, 150, 3)  labels_batch.shape= (20,)  features_batch.shape= (20, 4, 4, 512)\n",
      "inputs_batch.shape= (20, 150, 150, 3)  labels_batch.shape= (20,)  features_batch.shape= (20, 4, 4, 512)\n",
      "inputs_batch.shape= (20, 150, 150, 3)  labels_batch.shape= (20,)  features_batch.shape= (20, 4, 4, 512)\n",
      "inputs_batch.shape= (20, 150, 150, 3)  labels_batch.shape= (20,)  features_batch.shape= (20, 4, 4, 512)\n",
      "inputs_batch.shape= (20, 150, 150, 3)  labels_batch.shape= (20,)  features_batch.shape= (20, 4, 4, 512)\n",
      "inputs_batch.shape= (20, 150, 150, 3)  labels_batch.shape= (20,)  features_batch.shape= (20, 4, 4, 512)\n",
      "inputs_batch.shape= (20, 150, 150, 3)  labels_batch.shape= (20,)  features_batch.shape= (20, 4, 4, 512)\n",
      "inputs_batch.shape= (20, 150, 150, 3)  labels_batch.shape= (20,)  features_batch.shape= (20, 4, 4, 512)\n",
      "inputs_batch.shape= (20, 150, 150, 3)  labels_batch.shape= (20,)  features_batch.shape= (20, 4, 4, 512)\n",
      "inputs_batch.shape= (20, 150, 150, 3)  labels_batch.shape= (20,)  features_batch.shape= (20, 4, 4, 512)\n",
      "inputs_batch.shape= (20, 150, 150, 3)  labels_batch.shape= (20,)  features_batch.shape= (20, 4, 4, 512)\n",
      "inputs_batch.shape= (20, 150, 150, 3)  labels_batch.shape= (20,)  features_batch.shape= (20, 4, 4, 512)\n",
      "inputs_batch.shape= (20, 150, 150, 3)  labels_batch.shape= (20,)  features_batch.shape= (20, 4, 4, 512)\n",
      "inputs_batch.shape= (20, 150, 150, 3)  labels_batch.shape= (20,)  features_batch.shape= (20, 4, 4, 512)\n",
      "inputs_batch.shape= (20, 150, 150, 3)  labels_batch.shape= (20,)  features_batch.shape= (20, 4, 4, 512)\n",
      "inputs_batch.shape= (20, 150, 150, 3)  labels_batch.shape= (20,)  features_batch.shape= (20, 4, 4, 512)\n",
      "inputs_batch.shape= (20, 150, 150, 3)  labels_batch.shape= (20,)  features_batch.shape= (20, 4, 4, 512)\n",
      "inputs_batch.shape= (20, 150, 150, 3)  labels_batch.shape= (20,)  features_batch.shape= (20, 4, 4, 512)\n",
      "inputs_batch.shape= (20, 150, 150, 3)  labels_batch.shape= (20,)  features_batch.shape= (20, 4, 4, 512)\n",
      "inputs_batch.shape= (20, 150, 150, 3)  labels_batch.shape= (20,)  features_batch.shape= (20, 4, 4, 512)\n",
      "inputs_batch.shape= (20, 150, 150, 3)  labels_batch.shape= (20,)  features_batch.shape= (20, 4, 4, 512)\n",
      "inputs_batch.shape= (20, 150, 150, 3)  labels_batch.shape= (20,)  features_batch.shape= (20, 4, 4, 512)\n",
      "inputs_batch.shape= (20, 150, 150, 3)  labels_batch.shape= (20,)  features_batch.shape= (20, 4, 4, 512)\n",
      "inputs_batch.shape= (20, 150, 150, 3)  labels_batch.shape= (20,)  features_batch.shape= (20, 4, 4, 512)\n",
      "inputs_batch.shape= (20, 150, 150, 3)  labels_batch.shape= (20,)  features_batch.shape= (20, 4, 4, 512)\n",
      "inputs_batch.shape= (20, 150, 150, 3)  labels_batch.shape= (20,)  features_batch.shape= (20, 4, 4, 512)\n",
      "inputs_batch.shape= (20, 150, 150, 3)  labels_batch.shape= (20,)  features_batch.shape= (20, 4, 4, 512)\n",
      "inputs_batch.shape= (20, 150, 150, 3)  labels_batch.shape= (20,)  features_batch.shape= (20, 4, 4, 512)\n",
      "inputs_batch.shape= (20, 150, 150, 3)  labels_batch.shape= (20,)  features_batch.shape= (20, 4, 4, 512)\n",
      "inputs_batch.shape= (20, 150, 150, 3)  labels_batch.shape= (20,)  features_batch.shape= (20, 4, 4, 512)\n",
      "inputs_batch.shape= (20, 150, 150, 3)  labels_batch.shape= (20,)  features_batch.shape= (20, 4, 4, 512)\n",
      "inputs_batch.shape= (20, 150, 150, 3)  labels_batch.shape= (20,)  features_batch.shape= (20, 4, 4, 512)\n",
      "inputs_batch.shape= (20, 150, 150, 3)  labels_batch.shape= (20,)  features_batch.shape= (20, 4, 4, 512)\n",
      "inputs_batch.shape= (20, 150, 150, 3)  labels_batch.shape= (20,)  features_batch.shape= (20, 4, 4, 512)\n",
      "inputs_batch.shape= (20, 150, 150, 3)  labels_batch.shape= (20,)  features_batch.shape= (20, 4, 4, 512)\n",
      "inputs_batch.shape= (20, 150, 150, 3)  labels_batch.shape= (20,)  features_batch.shape= (20, 4, 4, 512)\n",
      "inputs_batch.shape= (20, 150, 150, 3)  labels_batch.shape= (20,)  features_batch.shape= (20, 4, 4, 512)\n",
      "inputs_batch.shape= (20, 150, 150, 3)  labels_batch.shape= (20,)  features_batch.shape= (20, 4, 4, 512)\n",
      "inputs_batch.shape= (20, 150, 150, 3)  labels_batch.shape= (20,)  features_batch.shape= (20, 4, 4, 512)\n",
      "inputs_batch.shape= (20, 150, 150, 3)  labels_batch.shape= (20,)  features_batch.shape= (20, 4, 4, 512)\n",
      "inputs_batch.shape= (20, 150, 150, 3)  labels_batch.shape= (20,)  features_batch.shape= (20, 4, 4, 512)\n",
      "inputs_batch.shape= (20, 150, 150, 3)  labels_batch.shape= (20,)  features_batch.shape= (20, 4, 4, 512)\n",
      "inputs_batch.shape= (20, 150, 150, 3)  labels_batch.shape= (20,)  features_batch.shape= (20, 4, 4, 512)\n",
      "inputs_batch.shape= (20, 150, 150, 3)  labels_batch.shape= (20,)  features_batch.shape= (20, 4, 4, 512)\n",
      "inputs_batch.shape= (20, 150, 150, 3)  labels_batch.shape= (20,)  features_batch.shape= (20, 4, 4, 512)\n",
      "inputs_batch.shape= (20, 150, 150, 3)  labels_batch.shape= (20,)  features_batch.shape= (20, 4, 4, 512)\n",
      "inputs_batch.shape= (20, 150, 150, 3)  labels_batch.shape= (20,)  features_batch.shape= (20, 4, 4, 512)\n",
      "inputs_batch.shape= (20, 150, 150, 3)  labels_batch.shape= (20,)  features_batch.shape= (20, 4, 4, 512)\n",
      "inputs_batch.shape= (20, 150, 150, 3)  labels_batch.shape= (20,)  features_batch.shape= (20, 4, 4, 512)\n",
      "inputs_batch.shape= (20, 150, 150, 3)  labels_batch.shape= (20,)  features_batch.shape= (20, 4, 4, 512)\n",
      "inputs_batch.shape= (20, 150, 150, 3)  labels_batch.shape= (20,)  features_batch.shape= (20, 4, 4, 512)\n",
      "inputs_batch.shape= (20, 150, 150, 3)  labels_batch.shape= (20,)  features_batch.shape= (20, 4, 4, 512)\n",
      "inputs_batch.shape= (20, 150, 150, 3)  labels_batch.shape= (20,)  features_batch.shape= (20, 4, 4, 512)\n",
      "inputs_batch.shape= (20, 150, 150, 3)  labels_batch.shape= (20,)  features_batch.shape= (20, 4, 4, 512)\n",
      "inputs_batch.shape= (20, 150, 150, 3)  labels_batch.shape= (20,)  features_batch.shape= (20, 4, 4, 512)\n",
      "inputs_batch.shape= (20, 150, 150, 3)  labels_batch.shape= (20,)  features_batch.shape= (20, 4, 4, 512)\n",
      "inputs_batch.shape= (20, 150, 150, 3)  labels_batch.shape= (20,)  features_batch.shape= (20, 4, 4, 512)\n",
      "inputs_batch.shape= (20, 150, 150, 3)  labels_batch.shape= (20,)  features_batch.shape= (20, 4, 4, 512)\n",
      "inputs_batch.shape= (20, 150, 150, 3)  labels_batch.shape= (20,)  features_batch.shape= (20, 4, 4, 512)\n"
     ]
    },
    {
     "name": "stdout",
     "output_type": "stream",
     "text": [
      "inputs_batch.shape= (20, 150, 150, 3)  labels_batch.shape= (20,)  features_batch.shape= (20, 4, 4, 512)\n",
      "inputs_batch.shape= (20, 150, 150, 3)  labels_batch.shape= (20,)  features_batch.shape= (20, 4, 4, 512)\n",
      "inputs_batch.shape= (20, 150, 150, 3)  labels_batch.shape= (20,)  features_batch.shape= (20, 4, 4, 512)\n",
      "inputs_batch.shape= (20, 150, 150, 3)  labels_batch.shape= (20,)  features_batch.shape= (20, 4, 4, 512)\n",
      "inputs_batch.shape= (20, 150, 150, 3)  labels_batch.shape= (20,)  features_batch.shape= (20, 4, 4, 512)\n",
      "inputs_batch.shape= (20, 150, 150, 3)  labels_batch.shape= (20,)  features_batch.shape= (20, 4, 4, 512)\n",
      "inputs_batch.shape= (20, 150, 150, 3)  labels_batch.shape= (20,)  features_batch.shape= (20, 4, 4, 512)\n",
      "inputs_batch.shape= (20, 150, 150, 3)  labels_batch.shape= (20,)  features_batch.shape= (20, 4, 4, 512)\n",
      "inputs_batch.shape= (20, 150, 150, 3)  labels_batch.shape= (20,)  features_batch.shape= (20, 4, 4, 512)\n",
      "inputs_batch.shape= (20, 150, 150, 3)  labels_batch.shape= (20,)  features_batch.shape= (20, 4, 4, 512)\n",
      "inputs_batch.shape= (20, 150, 150, 3)  labels_batch.shape= (20,)  features_batch.shape= (20, 4, 4, 512)\n",
      "inputs_batch.shape= (20, 150, 150, 3)  labels_batch.shape= (20,)  features_batch.shape= (20, 4, 4, 512)\n",
      "inputs_batch.shape= (20, 150, 150, 3)  labels_batch.shape= (20,)  features_batch.shape= (20, 4, 4, 512)\n",
      "inputs_batch.shape= (20, 150, 150, 3)  labels_batch.shape= (20,)  features_batch.shape= (20, 4, 4, 512)\n",
      "inputs_batch.shape= (20, 150, 150, 3)  labels_batch.shape= (20,)  features_batch.shape= (20, 4, 4, 512)\n",
      "inputs_batch.shape= (20, 150, 150, 3)  labels_batch.shape= (20,)  features_batch.shape= (20, 4, 4, 512)\n",
      "inputs_batch.shape= (20, 150, 150, 3)  labels_batch.shape= (20,)  features_batch.shape= (20, 4, 4, 512)\n",
      "inputs_batch.shape= (20, 150, 150, 3)  labels_batch.shape= (20,)  features_batch.shape= (20, 4, 4, 512)\n",
      "inputs_batch.shape= (20, 150, 150, 3)  labels_batch.shape= (20,)  features_batch.shape= (20, 4, 4, 512)\n",
      "inputs_batch.shape= (20, 150, 150, 3)  labels_batch.shape= (20,)  features_batch.shape= (20, 4, 4, 512)\n",
      "i= 100\n",
      "Found 1000 images belonging to 2 classes.\n",
      "inputs_batch.shape= (20, 150, 150, 3)  labels_batch.shape= (20,)  features_batch.shape= (20, 4, 4, 512)\n",
      "inputs_batch.shape= (20, 150, 150, 3)  labels_batch.shape= (20,)  features_batch.shape= (20, 4, 4, 512)\n",
      "inputs_batch.shape= (20, 150, 150, 3)  labels_batch.shape= (20,)  features_batch.shape= (20, 4, 4, 512)\n",
      "inputs_batch.shape= (20, 150, 150, 3)  labels_batch.shape= (20,)  features_batch.shape= (20, 4, 4, 512)\n",
      "inputs_batch.shape= (20, 150, 150, 3)  labels_batch.shape= (20,)  features_batch.shape= (20, 4, 4, 512)\n",
      "inputs_batch.shape= (20, 150, 150, 3)  labels_batch.shape= (20,)  features_batch.shape= (20, 4, 4, 512)\n",
      "inputs_batch.shape= (20, 150, 150, 3)  labels_batch.shape= (20,)  features_batch.shape= (20, 4, 4, 512)\n",
      "inputs_batch.shape= (20, 150, 150, 3)  labels_batch.shape= (20,)  features_batch.shape= (20, 4, 4, 512)\n",
      "inputs_batch.shape= (20, 150, 150, 3)  labels_batch.shape= (20,)  features_batch.shape= (20, 4, 4, 512)\n",
      "inputs_batch.shape= (20, 150, 150, 3)  labels_batch.shape= (20,)  features_batch.shape= (20, 4, 4, 512)\n",
      "inputs_batch.shape= (20, 150, 150, 3)  labels_batch.shape= (20,)  features_batch.shape= (20, 4, 4, 512)\n",
      "inputs_batch.shape= (20, 150, 150, 3)  labels_batch.shape= (20,)  features_batch.shape= (20, 4, 4, 512)\n",
      "inputs_batch.shape= (20, 150, 150, 3)  labels_batch.shape= (20,)  features_batch.shape= (20, 4, 4, 512)\n",
      "inputs_batch.shape= (20, 150, 150, 3)  labels_batch.shape= (20,)  features_batch.shape= (20, 4, 4, 512)\n",
      "inputs_batch.shape= (20, 150, 150, 3)  labels_batch.shape= (20,)  features_batch.shape= (20, 4, 4, 512)\n",
      "inputs_batch.shape= (20, 150, 150, 3)  labels_batch.shape= (20,)  features_batch.shape= (20, 4, 4, 512)\n",
      "inputs_batch.shape= (20, 150, 150, 3)  labels_batch.shape= (20,)  features_batch.shape= (20, 4, 4, 512)\n",
      "inputs_batch.shape= (20, 150, 150, 3)  labels_batch.shape= (20,)  features_batch.shape= (20, 4, 4, 512)\n",
      "inputs_batch.shape= (20, 150, 150, 3)  labels_batch.shape= (20,)  features_batch.shape= (20, 4, 4, 512)\n",
      "inputs_batch.shape= (20, 150, 150, 3)  labels_batch.shape= (20,)  features_batch.shape= (20, 4, 4, 512)\n",
      "inputs_batch.shape= (20, 150, 150, 3)  labels_batch.shape= (20,)  features_batch.shape= (20, 4, 4, 512)\n",
      "inputs_batch.shape= (20, 150, 150, 3)  labels_batch.shape= (20,)  features_batch.shape= (20, 4, 4, 512)\n",
      "inputs_batch.shape= (20, 150, 150, 3)  labels_batch.shape= (20,)  features_batch.shape= (20, 4, 4, 512)\n",
      "inputs_batch.shape= (20, 150, 150, 3)  labels_batch.shape= (20,)  features_batch.shape= (20, 4, 4, 512)\n",
      "inputs_batch.shape= (20, 150, 150, 3)  labels_batch.shape= (20,)  features_batch.shape= (20, 4, 4, 512)\n",
      "inputs_batch.shape= (20, 150, 150, 3)  labels_batch.shape= (20,)  features_batch.shape= (20, 4, 4, 512)\n",
      "inputs_batch.shape= (20, 150, 150, 3)  labels_batch.shape= (20,)  features_batch.shape= (20, 4, 4, 512)\n",
      "inputs_batch.shape= (20, 150, 150, 3)  labels_batch.shape= (20,)  features_batch.shape= (20, 4, 4, 512)\n",
      "inputs_batch.shape= (20, 150, 150, 3)  labels_batch.shape= (20,)  features_batch.shape= (20, 4, 4, 512)\n",
      "inputs_batch.shape= (20, 150, 150, 3)  labels_batch.shape= (20,)  features_batch.shape= (20, 4, 4, 512)\n",
      "inputs_batch.shape= (20, 150, 150, 3)  labels_batch.shape= (20,)  features_batch.shape= (20, 4, 4, 512)\n",
      "inputs_batch.shape= (20, 150, 150, 3)  labels_batch.shape= (20,)  features_batch.shape= (20, 4, 4, 512)\n",
      "inputs_batch.shape= (20, 150, 150, 3)  labels_batch.shape= (20,)  features_batch.shape= (20, 4, 4, 512)\n",
      "inputs_batch.shape= (20, 150, 150, 3)  labels_batch.shape= (20,)  features_batch.shape= (20, 4, 4, 512)\n",
      "inputs_batch.shape= (20, 150, 150, 3)  labels_batch.shape= (20,)  features_batch.shape= (20, 4, 4, 512)\n",
      "inputs_batch.shape= (20, 150, 150, 3)  labels_batch.shape= (20,)  features_batch.shape= (20, 4, 4, 512)\n",
      "inputs_batch.shape= (20, 150, 150, 3)  labels_batch.shape= (20,)  features_batch.shape= (20, 4, 4, 512)\n",
      "inputs_batch.shape= (20, 150, 150, 3)  labels_batch.shape= (20,)  features_batch.shape= (20, 4, 4, 512)\n",
      "inputs_batch.shape= (20, 150, 150, 3)  labels_batch.shape= (20,)  features_batch.shape= (20, 4, 4, 512)\n",
      "inputs_batch.shape= (20, 150, 150, 3)  labels_batch.shape= (20,)  features_batch.shape= (20, 4, 4, 512)\n",
      "inputs_batch.shape= (20, 150, 150, 3)  labels_batch.shape= (20,)  features_batch.shape= (20, 4, 4, 512)\n",
      "inputs_batch.shape= (20, 150, 150, 3)  labels_batch.shape= (20,)  features_batch.shape= (20, 4, 4, 512)\n",
      "inputs_batch.shape= (20, 150, 150, 3)  labels_batch.shape= (20,)  features_batch.shape= (20, 4, 4, 512)\n",
      "inputs_batch.shape= (20, 150, 150, 3)  labels_batch.shape= (20,)  features_batch.shape= (20, 4, 4, 512)\n",
      "inputs_batch.shape= (20, 150, 150, 3)  labels_batch.shape= (20,)  features_batch.shape= (20, 4, 4, 512)\n",
      "inputs_batch.shape= (20, 150, 150, 3)  labels_batch.shape= (20,)  features_batch.shape= (20, 4, 4, 512)\n",
      "inputs_batch.shape= (20, 150, 150, 3)  labels_batch.shape= (20,)  features_batch.shape= (20, 4, 4, 512)\n",
      "inputs_batch.shape= (20, 150, 150, 3)  labels_batch.shape= (20,)  features_batch.shape= (20, 4, 4, 512)\n",
      "inputs_batch.shape= (20, 150, 150, 3)  labels_batch.shape= (20,)  features_batch.shape= (20, 4, 4, 512)\n",
      "inputs_batch.shape= (20, 150, 150, 3)  labels_batch.shape= (20,)  features_batch.shape= (20, 4, 4, 512)\n",
      "i= 50\n",
      "Found 1000 images belonging to 2 classes.\n",
      "inputs_batch.shape= (20, 150, 150, 3)  labels_batch.shape= (20,)  features_batch.shape= (20, 4, 4, 512)\n",
      "inputs_batch.shape= (20, 150, 150, 3)  labels_batch.shape= (20,)  features_batch.shape= (20, 4, 4, 512)\n",
      "inputs_batch.shape= (20, 150, 150, 3)  labels_batch.shape= (20,)  features_batch.shape= (20, 4, 4, 512)\n",
      "inputs_batch.shape= (20, 150, 150, 3)  labels_batch.shape= (20,)  features_batch.shape= (20, 4, 4, 512)\n",
      "inputs_batch.shape= (20, 150, 150, 3)  labels_batch.shape= (20,)  features_batch.shape= (20, 4, 4, 512)\n",
      "inputs_batch.shape= (20, 150, 150, 3)  labels_batch.shape= (20,)  features_batch.shape= (20, 4, 4, 512)\n",
      "inputs_batch.shape= (20, 150, 150, 3)  labels_batch.shape= (20,)  features_batch.shape= (20, 4, 4, 512)\n",
      "inputs_batch.shape= (20, 150, 150, 3)  labels_batch.shape= (20,)  features_batch.shape= (20, 4, 4, 512)\n"
     ]
    },
    {
     "name": "stdout",
     "output_type": "stream",
     "text": [
      "inputs_batch.shape= (20, 150, 150, 3)  labels_batch.shape= (20,)  features_batch.shape= (20, 4, 4, 512)\n",
      "inputs_batch.shape= (20, 150, 150, 3)  labels_batch.shape= (20,)  features_batch.shape= (20, 4, 4, 512)\n",
      "inputs_batch.shape= (20, 150, 150, 3)  labels_batch.shape= (20,)  features_batch.shape= (20, 4, 4, 512)\n",
      "inputs_batch.shape= (20, 150, 150, 3)  labels_batch.shape= (20,)  features_batch.shape= (20, 4, 4, 512)\n",
      "inputs_batch.shape= (20, 150, 150, 3)  labels_batch.shape= (20,)  features_batch.shape= (20, 4, 4, 512)\n",
      "inputs_batch.shape= (20, 150, 150, 3)  labels_batch.shape= (20,)  features_batch.shape= (20, 4, 4, 512)\n",
      "inputs_batch.shape= (20, 150, 150, 3)  labels_batch.shape= (20,)  features_batch.shape= (20, 4, 4, 512)\n",
      "inputs_batch.shape= (20, 150, 150, 3)  labels_batch.shape= (20,)  features_batch.shape= (20, 4, 4, 512)\n",
      "inputs_batch.shape= (20, 150, 150, 3)  labels_batch.shape= (20,)  features_batch.shape= (20, 4, 4, 512)\n",
      "inputs_batch.shape= (20, 150, 150, 3)  labels_batch.shape= (20,)  features_batch.shape= (20, 4, 4, 512)\n",
      "inputs_batch.shape= (20, 150, 150, 3)  labels_batch.shape= (20,)  features_batch.shape= (20, 4, 4, 512)\n",
      "inputs_batch.shape= (20, 150, 150, 3)  labels_batch.shape= (20,)  features_batch.shape= (20, 4, 4, 512)\n",
      "inputs_batch.shape= (20, 150, 150, 3)  labels_batch.shape= (20,)  features_batch.shape= (20, 4, 4, 512)\n",
      "inputs_batch.shape= (20, 150, 150, 3)  labels_batch.shape= (20,)  features_batch.shape= (20, 4, 4, 512)\n",
      "inputs_batch.shape= (20, 150, 150, 3)  labels_batch.shape= (20,)  features_batch.shape= (20, 4, 4, 512)\n",
      "inputs_batch.shape= (20, 150, 150, 3)  labels_batch.shape= (20,)  features_batch.shape= (20, 4, 4, 512)\n",
      "inputs_batch.shape= (20, 150, 150, 3)  labels_batch.shape= (20,)  features_batch.shape= (20, 4, 4, 512)\n",
      "inputs_batch.shape= (20, 150, 150, 3)  labels_batch.shape= (20,)  features_batch.shape= (20, 4, 4, 512)\n",
      "inputs_batch.shape= (20, 150, 150, 3)  labels_batch.shape= (20,)  features_batch.shape= (20, 4, 4, 512)\n",
      "inputs_batch.shape= (20, 150, 150, 3)  labels_batch.shape= (20,)  features_batch.shape= (20, 4, 4, 512)\n",
      "inputs_batch.shape= (20, 150, 150, 3)  labels_batch.shape= (20,)  features_batch.shape= (20, 4, 4, 512)\n",
      "inputs_batch.shape= (20, 150, 150, 3)  labels_batch.shape= (20,)  features_batch.shape= (20, 4, 4, 512)\n",
      "inputs_batch.shape= (20, 150, 150, 3)  labels_batch.shape= (20,)  features_batch.shape= (20, 4, 4, 512)\n",
      "inputs_batch.shape= (20, 150, 150, 3)  labels_batch.shape= (20,)  features_batch.shape= (20, 4, 4, 512)\n",
      "inputs_batch.shape= (20, 150, 150, 3)  labels_batch.shape= (20,)  features_batch.shape= (20, 4, 4, 512)\n",
      "inputs_batch.shape= (20, 150, 150, 3)  labels_batch.shape= (20,)  features_batch.shape= (20, 4, 4, 512)\n",
      "inputs_batch.shape= (20, 150, 150, 3)  labels_batch.shape= (20,)  features_batch.shape= (20, 4, 4, 512)\n",
      "inputs_batch.shape= (20, 150, 150, 3)  labels_batch.shape= (20,)  features_batch.shape= (20, 4, 4, 512)\n",
      "inputs_batch.shape= (20, 150, 150, 3)  labels_batch.shape= (20,)  features_batch.shape= (20, 4, 4, 512)\n",
      "inputs_batch.shape= (20, 150, 150, 3)  labels_batch.shape= (20,)  features_batch.shape= (20, 4, 4, 512)\n",
      "inputs_batch.shape= (20, 150, 150, 3)  labels_batch.shape= (20,)  features_batch.shape= (20, 4, 4, 512)\n",
      "inputs_batch.shape= (20, 150, 150, 3)  labels_batch.shape= (20,)  features_batch.shape= (20, 4, 4, 512)\n",
      "inputs_batch.shape= (20, 150, 150, 3)  labels_batch.shape= (20,)  features_batch.shape= (20, 4, 4, 512)\n",
      "inputs_batch.shape= (20, 150, 150, 3)  labels_batch.shape= (20,)  features_batch.shape= (20, 4, 4, 512)\n",
      "inputs_batch.shape= (20, 150, 150, 3)  labels_batch.shape= (20,)  features_batch.shape= (20, 4, 4, 512)\n",
      "inputs_batch.shape= (20, 150, 150, 3)  labels_batch.shape= (20,)  features_batch.shape= (20, 4, 4, 512)\n",
      "inputs_batch.shape= (20, 150, 150, 3)  labels_batch.shape= (20,)  features_batch.shape= (20, 4, 4, 512)\n",
      "inputs_batch.shape= (20, 150, 150, 3)  labels_batch.shape= (20,)  features_batch.shape= (20, 4, 4, 512)\n",
      "inputs_batch.shape= (20, 150, 150, 3)  labels_batch.shape= (20,)  features_batch.shape= (20, 4, 4, 512)\n",
      "inputs_batch.shape= (20, 150, 150, 3)  labels_batch.shape= (20,)  features_batch.shape= (20, 4, 4, 512)\n",
      "inputs_batch.shape= (20, 150, 150, 3)  labels_batch.shape= (20,)  features_batch.shape= (20, 4, 4, 512)\n",
      "inputs_batch.shape= (20, 150, 150, 3)  labels_batch.shape= (20,)  features_batch.shape= (20, 4, 4, 512)\n",
      "i= 50\n"
     ]
    }
   ],
   "source": [
    "import os\n",
    "import numpy as np\n",
    "from tensorflow.python.keras.preprocessing.image import ImageDataGenerator\n",
    "\n",
    "base_dir='/home/yfs/jupyter-dir/notebook/python深度学习/Chapter5/cats_and_dogs_small'\n",
    "train_dir=os.path.join(base_dir,'train')\n",
    "validation_dir=os.path.join(base_dir,'validation')\n",
    "test_dir=os.path.join(base_dir,'test')\n",
    "\n",
    "datagen=ImageDataGenerator(rescale=1./255)\n",
    "batch_size=20\n",
    "\n",
    "def extract_features(directory,sample_count):\n",
    "    features=np.zeros(shape=(sample_count,4,4,512))\n",
    "    labels=np.zeros(shape=(sample_count))\n",
    "    generator=datagen.flow_from_directory(\n",
    "        directory,\n",
    "        target_size=(150,150),\n",
    "        batch_size=batch_size,\n",
    "        class_mode='binary'\n",
    "    )\n",
    "    i=0\n",
    "    for inputs_batch,labels_batch in generator:\n",
    "        features_batch=conv_base.predict(inputs_batch)\n",
    "        print('inputs_batch.shape=',inputs_batch.shape, \n",
    "              ' labels_batch.shape=', labels_batch.shape,\n",
    "              ' features_batch.shape=',features_batch.shape)\n",
    "        features[i*batch_size:(i+1)*batch_size]=features_batch\n",
    "        labels[i*batch_size:(i+1)*batch_size]=labels_batch\n",
    "        \n",
    "        i+=1\n",
    "        if i*batch_size >= sample_count:\n",
    "            break\n",
    "    print('i=',i)\n",
    "    return features,labels\n",
    "\n",
    "train_features,train_labels=extract_features(train_dir,2000)\n",
    "validation_features,validation_labels=extract_features(validation_dir,1000)\n",
    "test_features,test_labels=extract_features(test_dir,1000)"
   ]
  },
  {
   "cell_type": "code",
   "execution_count": 3,
   "metadata": {
    "ExecuteTime": {
     "end_time": "2019-08-21T03:53:31.732301Z",
     "start_time": "2019-08-21T03:53:31.727880Z"
    }
   },
   "outputs": [],
   "source": [
    "# 将特征由(samples,4,4,512)展平为(samples,8192)\n",
    "train_features=np.reshape(train_features,(2000,4*4*512))\n",
    "validation_features=np.reshape(validation_features,(1000,4*4*512))\n",
    "test_features=np.reshape(test_features,(1000,4*4*512))"
   ]
  },
  {
   "cell_type": "code",
   "execution_count": 5,
   "metadata": {
    "ExecuteTime": {
     "end_time": "2019-08-21T03:54:14.027817Z",
     "start_time": "2019-08-21T03:53:56.627370Z"
    }
   },
   "outputs": [
    {
     "name": "stdout",
     "output_type": "stream",
     "text": [
      "Train on 2000 samples, validate on 1000 samples\n",
      "Epoch 1/30\n",
      "2000/2000 [==============================] - 1s 342us/sample - loss: 0.5961 - acc: 0.6690 - val_loss: 0.4445 - val_acc: 0.8270\n",
      "Epoch 2/30\n",
      "2000/2000 [==============================] - 1s 273us/sample - loss: 0.4288 - acc: 0.7975 - val_loss: 0.3621 - val_acc: 0.8690\n",
      "Epoch 3/30\n",
      "2000/2000 [==============================] - 1s 274us/sample - loss: 0.3627 - acc: 0.8420 - val_loss: 0.3240 - val_acc: 0.8760\n",
      "Epoch 4/30\n",
      "2000/2000 [==============================] - 1s 314us/sample - loss: 0.3202 - acc: 0.8710 - val_loss: 0.2979 - val_acc: 0.8880\n",
      "Epoch 5/30\n",
      "2000/2000 [==============================] - 1s 281us/sample - loss: 0.2924 - acc: 0.8850 - val_loss: 0.2824 - val_acc: 0.8970\n",
      "Epoch 6/30\n",
      "2000/2000 [==============================] - 1s 283us/sample - loss: 0.2604 - acc: 0.8960 - val_loss: 0.2694 - val_acc: 0.8990\n",
      "Epoch 7/30\n",
      "2000/2000 [==============================] - 1s 282us/sample - loss: 0.2472 - acc: 0.9060 - val_loss: 0.2670 - val_acc: 0.8920\n",
      "Epoch 8/30\n",
      "2000/2000 [==============================] - 1s 283us/sample - loss: 0.2324 - acc: 0.9115 - val_loss: 0.2557 - val_acc: 0.8980\n",
      "Epoch 9/30\n",
      "2000/2000 [==============================] - 1s 265us/sample - loss: 0.2124 - acc: 0.9205 - val_loss: 0.2533 - val_acc: 0.8950\n",
      "Epoch 10/30\n",
      "2000/2000 [==============================] - 1s 268us/sample - loss: 0.2129 - acc: 0.9160 - val_loss: 0.2517 - val_acc: 0.8970\n",
      "Epoch 11/30\n",
      "2000/2000 [==============================] - 1s 265us/sample - loss: 0.1962 - acc: 0.9275 - val_loss: 0.2504 - val_acc: 0.8980\n",
      "Epoch 12/30\n",
      "2000/2000 [==============================] - 1s 270us/sample - loss: 0.1889 - acc: 0.9270 - val_loss: 0.2437 - val_acc: 0.9040\n",
      "Epoch 13/30\n",
      "2000/2000 [==============================] - 1s 297us/sample - loss: 0.1790 - acc: 0.9370 - val_loss: 0.2479 - val_acc: 0.9020\n",
      "Epoch 14/30\n",
      "2000/2000 [==============================] - 1s 267us/sample - loss: 0.1709 - acc: 0.9370 - val_loss: 0.2367 - val_acc: 0.9070\n",
      "Epoch 15/30\n",
      "2000/2000 [==============================] - 1s 286us/sample - loss: 0.1644 - acc: 0.9365 - val_loss: 0.2406 - val_acc: 0.9050\n",
      "Epoch 16/30\n",
      "2000/2000 [==============================] - 1s 285us/sample - loss: 0.1560 - acc: 0.9445 - val_loss: 0.2332 - val_acc: 0.9080\n",
      "Epoch 17/30\n",
      "2000/2000 [==============================] - 1s 294us/sample - loss: 0.1468 - acc: 0.9505 - val_loss: 0.2339 - val_acc: 0.9110\n",
      "Epoch 18/30\n",
      "2000/2000 [==============================] - 1s 274us/sample - loss: 0.1399 - acc: 0.9485 - val_loss: 0.2337 - val_acc: 0.9070\n",
      "Epoch 19/30\n",
      "2000/2000 [==============================] - 1s 282us/sample - loss: 0.1379 - acc: 0.9535 - val_loss: 0.2327 - val_acc: 0.9080\n",
      "Epoch 20/30\n",
      "2000/2000 [==============================] - 1s 271us/sample - loss: 0.1261 - acc: 0.9640 - val_loss: 0.2339 - val_acc: 0.9050\n",
      "Epoch 21/30\n",
      "2000/2000 [==============================] - 1s 271us/sample - loss: 0.1249 - acc: 0.9535 - val_loss: 0.2359 - val_acc: 0.9070\n",
      "Epoch 22/30\n",
      "2000/2000 [==============================] - 1s 267us/sample - loss: 0.1180 - acc: 0.9640 - val_loss: 0.2405 - val_acc: 0.9040\n",
      "Epoch 23/30\n",
      "2000/2000 [==============================] - 1s 276us/sample - loss: 0.1158 - acc: 0.9640 - val_loss: 0.2332 - val_acc: 0.9060\n",
      "Epoch 24/30\n",
      "2000/2000 [==============================] - 1s 280us/sample - loss: 0.1089 - acc: 0.9655 - val_loss: 0.2343 - val_acc: 0.9030\n",
      "Epoch 25/30\n",
      "2000/2000 [==============================] - 1s 283us/sample - loss: 0.1013 - acc: 0.9730 - val_loss: 0.2338 - val_acc: 0.9040\n",
      "Epoch 26/30\n",
      "2000/2000 [==============================] - 1s 284us/sample - loss: 0.0993 - acc: 0.9690 - val_loss: 0.2408 - val_acc: 0.9060\n",
      "Epoch 27/30\n",
      "2000/2000 [==============================] - 1s 289us/sample - loss: 0.0989 - acc: 0.9675 - val_loss: 0.2402 - val_acc: 0.9060\n",
      "Epoch 28/30\n",
      "2000/2000 [==============================] - 1s 287us/sample - loss: 0.0932 - acc: 0.9730 - val_loss: 0.2355 - val_acc: 0.9040\n",
      "Epoch 29/30\n",
      "2000/2000 [==============================] - 1s 277us/sample - loss: 0.0929 - acc: 0.9690 - val_loss: 0.2444 - val_acc: 0.9020\n",
      "Epoch 30/30\n",
      "2000/2000 [==============================] - 1s 287us/sample - loss: 0.0880 - acc: 0.9745 - val_loss: 0.2449 - val_acc: 0.9030\n"
     ]
    }
   ],
   "source": [
    "# 定义并训练密集连接分类器\n",
    "from tensorflow.python.keras import models\n",
    "from tensorflow.python.keras import layers\n",
    "from tensorflow.python.keras import optimizers\n",
    "\n",
    "model=models.Sequential()\n",
    "model.add(layers.Dense(256,activation='relu',input_dim=4*4*512))\n",
    "model.add(layers.Dropout(0.5))\n",
    "model.add(layers.Dense(1,activation='sigmoid'))\n",
    "\n",
    "model.compile(optimizer=optimizers.RMSprop(lr=2e-5),\n",
    "             loss='binary_crossentropy',\n",
    "             metrics=['acc'])\n",
    "history=model.fit(train_features,train_labels,epochs=30,batch_size=20,\n",
    "                 validation_data=(validation_features, validation_labels))"
   ]
  },
  {
   "cell_type": "code",
   "execution_count": 7,
   "metadata": {
    "ExecuteTime": {
     "end_time": "2019-08-21T03:54:32.653790Z",
     "start_time": "2019-08-21T03:54:32.388644Z"
    }
   },
   "outputs": [
    {
     "data": {
      "image/png": "[encoded data removed]",
      "text/plain": [
       "<Figure size 432x288 with 1 Axes>"
      ]
     },
     "metadata": {
      "needs_background": "light"
     },
     "output_type": "display_data"
    },
    {
     "data": {
      "image/png": "[encoded data removed]",
      "text/plain": [
       "<Figure size 432x288 with 1 Axes>"
      ]
     },
     "metadata": {
      "needs_background": "light"
     },
     "output_type": "display_data"
    }
   ],
   "source": [
    "# 绘制损失曲线和精度曲线\n",
    "import matplotlib.pyplot as plt\n",
    "\n",
    "acc=history.history['acc']\n",
    "loss=history.history['loss']\n",
    "val_acc=history.history['val_acc']\n",
    "val_loss=history.history['val_loss']\n",
    "\n",
    "epochs=range(1,len(acc)+1)\n",
    "\n",
    "plt.plot(epochs,acc,'bo',label='Training acc')\n",
    "plt.plot(epochs,val_acc,'b',label='Validation acc')\n",
    "plt.title(\"Training and validation accuracy\")\n",
    "plt.legend()\n",
    "\n",
    "plt.figure()\n",
    "plt.plot(epochs,loss,'bo',label='Training loss')\n",
    "plt.plot(epochs,val_loss,'b',label='Validation loss')\n",
    "plt.title('Training and Validation Loss')\n",
    "plt.legend()\n",
    "\n",
    "plt.show()"
   ]
  },
  {
   "cell_type": "markdown",
   "metadata": {},
   "source": [
    "## 使用数据增强的特征提取"
   ]
  },
  {
   "cell_type": "markdown",
   "metadata": {},
   "source": [
    ">扩展conv_base模型，然后在输入数据上端到端的运行模型"
   ]
  },
  {
   "cell_type": "code",
   "execution_count": 8,
   "metadata": {
    "ExecuteTime": {
     "end_time": "2019-08-21T03:54:38.401865Z",
     "start_time": "2019-08-21T03:54:38.287537Z"
    }
   },
   "outputs": [],
   "source": [
    "# 在卷积基上添加一个密集连接分类器\n",
    "model=models.Sequential()\n",
    "model.add(conv_base)\n",
    "model.add(layers.Flatten())\n",
    "model.add(layers.Dense(256,activation='relu'))\n",
    "model.add(layers.Dense(1,activation='sigmoid'))"
   ]
  },
  {
   "cell_type": "code",
   "execution_count": 30,
   "metadata": {
    "ExecuteTime": {
     "end_time": "2019-08-21T01:57:42.935280Z",
     "start_time": "2019-08-21T01:57:42.930617Z"
    }
   },
   "outputs": [
    {
     "name": "stdout",
     "output_type": "stream",
     "text": [
      "Model: \"sequential_2\"\n",
      "_________________________________________________________________\n",
      "Layer (type)                 Output Shape              Param #   \n",
      "=================================================================\n",
      "vgg16 (Model)                (None, 4, 4, 512)         14714688  \n",
      "_________________________________________________________________\n",
      "flatten (Flatten)            (None, 8192)              0         \n",
      "_________________________________________________________________\n",
      "dense_4 (Dense)              (None, 256)               2097408   \n",
      "_________________________________________________________________\n",
      "dense_5 (Dense)              (None, 1)                 257       \n",
      "=================================================================\n",
      "Total params: 16,812,353\n",
      "Trainable params: 16,812,353\n",
      "Non-trainable params: 0\n",
      "_________________________________________________________________\n"
     ]
    }
   ],
   "source": [
    "model.summary()"
   ]
  },
  {
   "cell_type": "markdown",
   "metadata": {},
   "source": [
    "在编译和训练模型之前要“冻结(freeze)”卷积基。冻结一个或多个层是指在训练过程中保持其权重不变。这是为了防止卷积基之前学到的表示在训练过程中被修改。因为在其上添加的Dense层是随机初始化的，所以非常大的权重更新将会在网络中传播，对之前学到的表示造成很大的破坏。"
   ]
  },
  {
   "cell_type": "code",
   "execution_count": 33,
   "metadata": {
    "ExecuteTime": {
     "end_time": "2019-08-21T02:08:05.636095Z",
     "start_time": "2019-08-21T02:08:05.631436Z"
    }
   },
   "outputs": [
    {
     "name": "stdout",
     "output_type": "stream",
     "text": [
      "冻结前的权重张量个数： 30\n",
      "冻结后的权重张量个数： 4\n"
     ]
    }
   ],
   "source": [
    "# 冻结卷积基\n",
    "print('冻结前的权重张量个数：',len(model.trainable_weights))\n",
    "conv_base.trainable=False\n",
    "print('冻结后的权重张量个数：',len(model.trainable_weights))"
   ]
  },
  {
   "cell_type": "markdown",
   "metadata": {},
   "source": [
    "权重张量个数的解释：冻结后只有后添加的Dense层的权重会被训练，总共4个权重张量，每层两个(包括主权重矩阵和偏置向量)"
   ]
  },
  {
   "cell_type": "code",
   "execution_count": 9,
   "metadata": {
    "ExecuteTime": {
     "end_time": "2019-08-21T04:19:40.941724Z",
     "start_time": "2019-08-21T03:54:47.927217Z"
    }
   },
   "outputs": [
    {
     "name": "stdout",
     "output_type": "stream",
     "text": [
      "Found 2000 images belonging to 2 classes.\n",
      "Found 1000 images belonging to 2 classes.\n",
      "Epoch 1/30\n",
      "100/100 [==============================] - 52s 518ms/step - loss: 0.4847 - acc: 0.7570 - val_loss: 0.2192 - val_acc: 0.9120\n",
      "Epoch 2/30\n",
      "100/100 [==============================] - 48s 484ms/step - loss: 0.2682 - acc: 0.8830 - val_loss: 0.1579 - val_acc: 0.9340\n",
      "Epoch 3/30\n",
      "100/100 [==============================] - 48s 484ms/step - loss: 0.2349 - acc: 0.9045 - val_loss: 0.4076 - val_acc: 0.8320\n",
      "Epoch 4/30\n",
      "100/100 [==============================] - 48s 484ms/step - loss: 0.1762 - acc: 0.9280 - val_loss: 0.1575 - val_acc: 0.9390\n",
      "Epoch 5/30\n",
      "100/100 [==============================] - 49s 494ms/step - loss: 0.1459 - acc: 0.9365 - val_loss: 0.1745 - val_acc: 0.9430\n",
      "Epoch 6/30\n",
      "100/100 [==============================] - 50s 495ms/step - loss: 0.1344 - acc: 0.9475 - val_loss: 0.2227 - val_acc: 0.8990\n",
      "Epoch 7/30\n",
      "100/100 [==============================] - 49s 491ms/step - loss: 0.1312 - acc: 0.9530 - val_loss: 0.0964 - val_acc: 0.9630\n",
      "Epoch 8/30\n",
      "100/100 [==============================] - 48s 485ms/step - loss: 0.1125 - acc: 0.9575 - val_loss: 0.1258 - val_acc: 0.9540\n",
      "Epoch 9/30\n",
      "100/100 [==============================] - 49s 492ms/step - loss: 0.1039 - acc: 0.9605 - val_loss: 0.1142 - val_acc: 0.9680\n",
      "Epoch 10/30\n",
      "100/100 [==============================] - 49s 494ms/step - loss: 0.0923 - acc: 0.9650 - val_loss: 0.0825 - val_acc: 0.9740\n",
      "Epoch 11/30\n",
      "100/100 [==============================] - 50s 498ms/step - loss: 0.0926 - acc: 0.9645 - val_loss: 0.0846 - val_acc: 0.9690\n",
      "Epoch 12/30\n",
      "100/100 [==============================] - 50s 495ms/step - loss: 0.0746 - acc: 0.9680 - val_loss: 0.0780 - val_acc: 0.9710\n",
      "Epoch 13/30\n",
      "100/100 [==============================] - 49s 494ms/step - loss: 0.0605 - acc: 0.9795 - val_loss: 0.1904 - val_acc: 0.9570\n",
      "Epoch 14/30\n",
      "100/100 [==============================] - 50s 497ms/step - loss: 0.0851 - acc: 0.9710 - val_loss: 0.0991 - val_acc: 0.9590\n",
      "Epoch 15/30\n",
      "100/100 [==============================] - 50s 502ms/step - loss: 0.0718 - acc: 0.9750 - val_loss: 0.0962 - val_acc: 0.9710\n",
      "Epoch 16/30\n",
      "100/100 [==============================] - 50s 496ms/step - loss: 0.0584 - acc: 0.9825 - val_loss: 0.1009 - val_acc: 0.9700\n",
      "Epoch 17/30\n",
      "100/100 [==============================] - 50s 500ms/step - loss: 0.0534 - acc: 0.9790 - val_loss: 0.0910 - val_acc: 0.9690\n",
      "Epoch 18/30\n",
      "100/100 [==============================] - 50s 499ms/step - loss: 0.0489 - acc: 0.9830 - val_loss: 0.0827 - val_acc: 0.9780\n",
      "Epoch 19/30\n",
      "100/100 [==============================] - 50s 495ms/step - loss: 0.0501 - acc: 0.9810 - val_loss: 0.0940 - val_acc: 0.9720\n",
      "Epoch 20/30\n",
      "100/100 [==============================] - 51s 510ms/step - loss: 0.0535 - acc: 0.9825 - val_loss: 0.0955 - val_acc: 0.9720\n",
      "Epoch 21/30\n",
      "100/100 [==============================] - 50s 503ms/step - loss: 0.0488 - acc: 0.9845 - val_loss: 0.1686 - val_acc: 0.9640\n",
      "Epoch 22/30\n",
      "100/100 [==============================] - 50s 504ms/step - loss: 0.0410 - acc: 0.9850 - val_loss: 0.1078 - val_acc: 0.9700\n",
      "Epoch 23/30\n",
      "100/100 [==============================] - 50s 502ms/step - loss: 0.0389 - acc: 0.9885 - val_loss: 0.1046 - val_acc: 0.9680\n",
      "Epoch 24/30\n",
      "100/100 [==============================] - 50s 501ms/step - loss: 0.0362 - acc: 0.9895 - val_loss: 0.1431 - val_acc: 0.9670\n",
      "Epoch 25/30\n",
      "100/100 [==============================] - 50s 495ms/step - loss: 0.0370 - acc: 0.9830 - val_loss: 0.1164 - val_acc: 0.9710\n",
      "Epoch 26/30\n",
      "100/100 [==============================] - 51s 509ms/step - loss: 0.0393 - acc: 0.9840 - val_loss: 0.1385 - val_acc: 0.9630\n",
      "Epoch 27/30\n",
      "100/100 [==============================] - 50s 505ms/step - loss: 0.0450 - acc: 0.9845 - val_loss: 0.1312 - val_acc: 0.9710\n",
      "Epoch 28/30\n",
      "100/100 [==============================] - 50s 499ms/step - loss: 0.0475 - acc: 0.9845 - val_loss: 0.1023 - val_acc: 0.9720\n",
      "Epoch 29/30\n",
      "100/100 [==============================] - 50s 505ms/step - loss: 0.0456 - acc: 0.9840 - val_loss: 0.0801 - val_acc: 0.9730\n",
      "Epoch 30/30\n",
      "100/100 [==============================] - 50s 497ms/step - loss: 0.0323 - acc: 0.9880 - val_loss: 0.1393 - val_acc: 0.9650\n"
     ]
    }
   ],
   "source": [
    "# 利用冻结的卷积基端到端地训练模型，外加数据增强\n",
    "train_datagen=ImageDataGenerator(\n",
    "    rescale=1./255,\n",
    "    rotation_range=40,\n",
    "    width_shift_range=0.2,\n",
    "    height_shift_range=0.2,\n",
    "    shear_range=0.2,\n",
    "    zoom_range=0.2,\n",
    "    horizontal_flip=True,\n",
    "    fill_mode='nearest'\n",
    ")\n",
    "\n",
    "test_datagen=ImageDataGenerator(rescale=1./255)\n",
    "\n",
    "train_generator=train_datagen.flow_from_directory(\n",
    "    train_dir,\n",
    "    target_size=(150,150),\n",
    "    batch_size=20,\n",
    "    class_mode='binary'\n",
    ")\n",
    "\n",
    "validation_generator=test_datagen.flow_from_directory(\n",
    "    validation_dir,\n",
    "    target_size=(150,150),\n",
    "    batch_size=20,\n",
    "    class_mode='binary'\n",
    ")\n",
    "\n",
    "model.compile(loss='binary_crossentropy',optimizer=optimizers.RMSprop(lr=2e-5),metrics=['acc'])\n",
    "\n",
    "history=model.fit_generator(\n",
    "    train_generator,\n",
    "    steps_per_epoch=100,\n",
    "    epochs=30,\n",
    "    validation_data=validation_generator,\n",
    "    validation_steps=50\n",
    ")"
   ]
  },
  {
   "cell_type": "code",
   "execution_count": 15,
   "metadata": {
    "ExecuteTime": {
     "end_time": "2019-08-21T04:40:39.846682Z",
     "start_time": "2019-08-21T04:40:39.590897Z"
    }
   },
   "outputs": [
    {
     "data": {
      "image/png": "[encoded data removed]",
      "text/plain": [
       "<Figure size 432x288 with 1 Axes>"
      ]
     },
     "metadata": {
      "needs_background": "light"
     },
     "output_type": "display_data"
    },
    {
     "data": {
      "image/png": "[encoded data removed]",
      "text/plain": [
       "<Figure size 432x288 with 1 Axes>"
      ]
     },
     "metadata": {
      "needs_background": "light"
     },
     "output_type": "display_data"
    }
   ],
   "source": [
    "# 绘制训练精度及损失\n",
    "import matplotlib.pyplot as plt\n",
    "\n",
    "acc=history.history['acc']\n",
    "loss=history.history['loss']\n",
    "val_acc=history.history['val_acc']\n",
    "val_loss=history.history['val_loss']\n",
    "\n",
    "epochs=range(1,len(acc)+1)\n",
    "\n",
    "plt.plot(epochs, acc, 'bo', label='Training acc')\n",
    "plt.plot(epochs, val_acc,'b', label='Validation acc')\n",
    "plt.legend()\n",
    "\n",
    "plt.figure()\n",
    "plt.plot(epochs, loss,'bo',label='Trainging loss')\n",
    "plt.plot(epochs, val_loss, 'b',label='Validation loss')\n",
    "plt.legend()\n",
    "\n",
    "plt.show()"
   ]
  },
  {
   "cell_type": "markdown",
   "metadata": {},
   "source": [
    "# 微调模型"
   ]
  },
  {
   "cell_type": "markdown",
   "metadata": {},
   "source": [
    "&emsp;&emsp;模型微调(fine-tuning)：就是将卷积基顶部的几层冻结，并将这解冻的几层与新增加的部分(如全连接分类器)联合训练。微调是指它略微调整了所服用模型中更加抽象的表示，以便让这些表示与手头的问题更加相关。<br>\n",
    "**&emsp;&emsp;卷积基中更靠底部的层编码的是更加通用的可复用特征，而更靠顶部的层编码的是更专业化的特征。<br>\n",
    "&emsp;&emsp;训练的参数越多，过拟合的风险就越大。所以只是也只能是“微调”而已。**"
   ]
  },
  {
   "cell_type": "markdown",
   "metadata": {},
   "source": [
    "<font color='#f40c7a' size=3>微调时分类器必须是已经训练好的，否则随机化的分类器会破坏微调的几层已经学到的表示。</font>"
   ]
  },
  {
   "cell_type": "markdown",
   "metadata": {},
   "source": [
    "<img src='images/3.png'/>\n"
   ]
  },
  {
   "cell_type": "code",
   "execution_count": 16,
   "metadata": {
    "ExecuteTime": {
     "end_time": "2019-08-21T05:16:23.175677Z",
     "start_time": "2019-08-21T05:16:23.147150Z"
    }
   },
   "outputs": [
    {
     "name": "stdout",
     "output_type": "stream",
     "text": [
      "Model: \"vgg16\"\n",
      "_________________________________________________________________\n",
      "Layer (type)                 Output Shape              Param #   \n",
      "=================================================================\n",
      "input_1 (InputLayer)         [(None, 150, 150, 3)]     0         \n",
      "_________________________________________________________________\n",
      "block1_conv1 (Conv2D)        (None, 150, 150, 64)      1792      \n",
      "_________________________________________________________________\n",
      "block1_conv2 (Conv2D)        (None, 150, 150, 64)      36928     \n",
      "_________________________________________________________________\n",
      "block1_pool (MaxPooling2D)   (None, 75, 75, 64)        0         \n",
      "_________________________________________________________________\n",
      "block2_conv1 (Conv2D)        (None, 75, 75, 128)       73856     \n",
      "_________________________________________________________________\n",
      "block2_conv2 (Conv2D)        (None, 75, 75, 128)       147584    \n",
      "_________________________________________________________________\n",
      "block2_pool (MaxPooling2D)   (None, 37, 37, 128)       0         \n",
      "_________________________________________________________________\n",
      "block3_conv1 (Conv2D)        (None, 37, 37, 256)       295168    \n",
      "_________________________________________________________________\n",
      "block3_conv2 (Conv2D)        (None, 37, 37, 256)       590080    \n",
      "_________________________________________________________________\n",
      "block3_conv3 (Conv2D)        (None, 37, 37, 256)       590080    \n",
      "_________________________________________________________________\n",
      "block3_pool (MaxPooling2D)   (None, 18, 18, 256)       0         \n",
      "_________________________________________________________________\n",
      "block4_conv1 (Conv2D)        (None, 18, 18, 512)       1180160   \n",
      "_________________________________________________________________\n",
      "block4_conv2 (Conv2D)        (None, 18, 18, 512)       2359808   \n",
      "_________________________________________________________________\n",
      "block4_conv3 (Conv2D)        (None, 18, 18, 512)       2359808   \n",
      "_________________________________________________________________\n",
      "block4_pool (MaxPooling2D)   (None, 9, 9, 512)         0         \n",
      "_________________________________________________________________\n",
      "block5_conv1 (Conv2D)        (None, 9, 9, 512)         2359808   \n",
      "_________________________________________________________________\n",
      "block5_conv2 (Conv2D)        (None, 9, 9, 512)         2359808   \n",
      "_________________________________________________________________\n",
      "block5_conv3 (Conv2D)        (None, 9, 9, 512)         2359808   \n",
      "_________________________________________________________________\n",
      "block5_pool (MaxPooling2D)   (None, 4, 4, 512)         0         \n",
      "=================================================================\n",
      "Total params: 14,714,688\n",
      "Trainable params: 14,714,688\n",
      "Non-trainable params: 0\n",
      "_________________________________________________________________\n"
     ]
    }
   ],
   "source": [
    "conv_base.summary()"
   ]
  },
  {
   "cell_type": "code",
   "execution_count": 18,
   "metadata": {
    "ExecuteTime": {
     "end_time": "2019-08-21T05:19:27.440160Z",
     "start_time": "2019-08-21T05:19:27.437075Z"
    }
   },
   "outputs": [],
   "source": [
    "# 冻结最后一个卷基层\n",
    "conv_base.trainabel=True\n",
    "\n",
    "set_trainable=False\n",
    "for layer in conv_base.layers:\n",
    "    if layer.name=='block5_conv1':\n",
    "        set_trainable=True\n",
    "    if set_trainable:\n",
    "        layer.trainable=True\n",
    "    else:\n",
    "        layer.trainable-False"
   ]
  },
  {
   "cell_type": "code",
   "execution_count": null,
   "metadata": {
    "ExecuteTime": {
     "start_time": "2019-08-21T05:22:11.176Z"
    }
   },
   "outputs": [],
   "source": [
    "model.compile(loss='binary_crossentropy',optimizer=optimizers.RMSprop(lr=1e-5),metrics=['acc'])\n",
    "history=model.fit_generator(\n",
    "    train_generator,\n",
    "    steps_per_epoch=100,\n",
    "    epochs=100,\n",
    "    validation_data=validation_generator,\n",
    "    validation_steps=50\n",
    ")"
   ]
  },
  {
   "cell_type": "markdown",
   "metadata": {},
   "source": [
    "太慢，直接将结果截图显示：\n",
    "<img src='images/4.png'/>\n"
   ]
  },
  {
   "cell_type": "code",
   "execution_count": null,
   "metadata": {},
   "outputs": [],
   "source": [
    "# 使曲线变得平滑\n",
    "def smooth_curve(points,factor=0.8):\n",
    "    smoothed_points=[]\n",
    "    for point in points:\n",
    "        if smoothed_points:\n",
    "            previous=smoothed_points[-1]\n",
    "            smoothed_points.append(previous*factor+point*(1-factor))\n",
    "        else:\n",
    "            smoothed_points.append(point)\n",
    "    return smoothed_points\n",
    "\n",
    "plt.plot(epochs, smoothed_curve(acc),'bo',label='Smoothed training acc')\n",
    "plt.plot(epochs, smoothed_curve(val_acc),'b',label='Smoothed validation acc')\n",
    "plt.title('Training and validaiton accuracy')\n",
    "plt.legend()\n",
    "\n",
    "plt.figure()\n",
    "plt.plot(epochs,smoothed_curve(loss),'bo',label='Smoothed training loss')\n",
    "plt.plot(epochs,smoothed_curve(val_loss),'b',label='Smoothed validation loss')\n",
    "plt.title('Training and validation loss')\n",
    "plt.legend()\n",
    "\n",
    "plt.show()"
   ]
  },
  {
   "cell_type": "markdown",
   "metadata": {},
   "source": [
    "<img src='images/5.png'/>\n"
   ]
  },
  {
   "cell_type": "code",
   "execution_count": null,
   "metadata": {},
   "outputs": [],
   "source": [
    "# 在测试集上评估模型\n",
    "test_generator=test_datagen.flow_from_directory(\n",
    "    test_dir,\n",
    "    target_size=(150,150),\n",
    "    batch_size=20,\n",
    "    class_mode='binary'\n",
    ")\n",
    "test_loss,test_acc=model.evaluate_generator(test_generator,steps=50)\n",
    "print('test acc:',test_acc)"
   ]
  }
 ],
 "metadata": {
  "kernelspec": {
   "display_name": "Python 3",
   "language": "python",
   "name": "python3"
  },
  "language_info": {
   "codemirror_mode": {
    "name": "ipython",
    "version": 3
   },
   "file_extension": ".py",
   "mimetype": "text/x-python",
   "name": "python",
   "nbconvert_exporter": "python",
   "pygments_lexer": "ipython3",
   "version": "3.6.8"
  },
  "toc": {
   "base_numbering": 1,
   "nav_menu": {},
   "number_sections": true,
   "sideBar": true,
   "skip_h1_title": false,
   "title_cell": "Table of Contents",
   "title_sidebar": "Contents",
   "toc_cell": false,
   "toc_position": {},
   "toc_section_display": true,
   "toc_window_display": false
  }
 },
 "nbformat": 4,
 "nbformat_minor": 2
}
