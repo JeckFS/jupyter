{
 "cells": [
  {
   "cell_type": "markdown",
   "metadata": {},
   "source": [
    "# 本地仓库\n",
    "1. git init: 创建repository<br>\n",
    "2. git add file1 file2: 添加文件到仓库<br>\n",
    "3. git commit -m \"说明文字\": 提交文件到仓库<br>\n",
    "4. git status: 查看是否有文件更改过\n",
    "<img src='images/1.png'>\n",
    "\n"
   ]
  },
  {
   "cell_type": "markdown",
   "metadata": {},
   "source": [
    "# 版本回退\n",
    "1. git log<br>\n",
    "   显示从最近到最远的提交日志\n",
    "2. git reset --hard HEAD^   \n",
    "   回退到上一版本\n",
    "3. git reset --hard \\[commit id\\]<br>\n",
    "   回退到指定版本\n",
    "4. git reflog   \n",
    "   显示已经执行的命令\n",
    "<img src='images/2.png'>\n",
    "<img src='images/3.png'>\n",
    "<img src='images/4.png'>"
   ]
  },
  {
   "cell_type": "markdown",
   "metadata": {},
   "source": [
    "# 工作区和暂存区\n",
    "<img src='images/5.png' width='600px'>\n",
    "<font color='red' size='5' style='background:#ffaaff'>git commit提交的时暂存区的文件</font>\n"
   ]
  },
  {
   "cell_type": "markdown",
   "metadata": {},
   "source": [
    "# 撤销修改\n",
    "git checkout -- filename:\n",
    "用暂存区文件覆盖相应工作区文件。<br>\n",
    "【注意】当暂存区文件和工作区文件相同时，并不能撤销。\n",
    "git reset不仅可以修改工作区，同时还可以修改暂存区。\n",
    "<img src='images/6.png'/>\n"
   ]
  },
  {
   "cell_type": "markdown",
   "metadata": {},
   "source": [
    "# 删除文件\n",
    "**工作区删除了某个文件可以通过git checkout -- deletedfile一键还原。若暂存区通过git rm deletedfile删除了该文件，则不能一键还原。**<br>\n",
    "<img src='images/7.png'/>\n"
   ]
  },
  {
   "cell_type": "markdown",
   "metadata": {},
   "source": [
    "# 推送到远程数据库(github)\n",
    "1. git init：创建本地仓库\n",
    "2. git remote add origin https://github.ocm/github账户名/\\*.git\n",
    "   关联远程仓库\n",
    "3. git push -u origin master：将本地仓库内容推送到远程（把当前分支master推送到远程）<br>\n",
    "由于远程库是空的，我们第一次推送master分支时，**加上了-u参数**，Git不但会**把本地的master分支内容推送的远程新的master分支**，还会**把本地的master分支和远程的master分支关联起来**，在以后的推送或者拉取时就可以简化命令。此后再次提交只需：git push origin master\n",
    "----\n",
    "**git push是把本地库推送到远程**"
   ]
  },
  {
   "cell_type": "markdown",
   "metadata": {},
   "source": [
    "# 从远程克隆\n",
    "\n",
    "\n",
    ">实质是下载远程仓库文件\n",
    "\n",
    "两种方式：<br>\n",
    "1. git clone git\\@github.com:\\[github账号\\]/\\*.git\n",
    "2. git clone https:\\//github.com/\\[github账号\\]\\*.git\n"
   ]
  },
  {
   "cell_type": "markdown",
   "metadata": {},
   "source": []
  }
 ],
 "metadata": {
  "kernelspec": {
   "display_name": "Python 3",
   "language": "python",
   "name": "python3"
  },
  "language_info": {
   "codemirror_mode": {
    "name": "ipython",
    "version": 3
   },
   "file_extension": ".py",
   "mimetype": "text/x-python",
   "name": "python",
   "nbconvert_exporter": "python",
   "pygments_lexer": "ipython3",
   "version": "3.6.8"
  },
  "toc": {
   "base_numbering": 1,
   "nav_menu": {},
   "number_sections": true,
   "sideBar": true,
   "skip_h1_title": false,
   "title_cell": "Table of Contents",
   "title_sidebar": "Contents",
   "toc_cell": false,
   "toc_position": {},
   "toc_section_display": true,
   "toc_window_display": false
  }
 },
 "nbformat": 4,
 "nbformat_minor": 2
}
