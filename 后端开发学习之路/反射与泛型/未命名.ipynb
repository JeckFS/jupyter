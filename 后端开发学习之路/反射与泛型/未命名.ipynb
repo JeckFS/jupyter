{
 "cells": [
  {
   "cell_type": "markdown",
   "metadata": {},
   "source": [
    "# 访问字段"
   ]
  },
  {
   "cell_type": "markdown",
   "metadata": {},
   "source": [
    "* 字段的获取\n",
    "    * 只获取当前类的字段\n",
    "    * 获取当前类以及其父类的字段\n",
    "* 获取字段的名称，类型及修饰符\n",
    "* 获取及设置成员变量的值\n",
    "    * setAccessable(true)获取private字段的权限\n",
    "    * setAccessable(true)失败的条件\n",
    "    * 特殊的情况：静态成员变量"
   ]
  },
  {
   "cell_type": "markdown",
   "metadata": {},
   "source": [
    "<img src='images/1.png'/>\n",
    "<img src='images/2.png'/>\n"
   ]
  },
  {
   "cell_type": "markdown",
   "metadata": {},
   "source": [
    "<img src='images/3.png'/>"
   ]
  },
  {
   "cell_type": "markdown",
   "metadata": {},
   "source": [
    "<img src='images/4.png'/>\n",
    "<img src='images/5.png'/>\n"
   ]
  },
  {
   "cell_type": "markdown",
   "metadata": {},
   "source": [
    "获取和设置静态成员变量的值：\n",
    "<img src='images/6.png'/>\n"
   ]
  },
  {
   "cell_type": "markdown",
   "metadata": {},
   "source": [
    "通常自己编写的类和第三方的类无此限制。\n",
    "<img src='images/7.png'/>\n"
   ]
  },
  {
   "cell_type": "markdown",
   "metadata": {},
   "source": [
    "<img src='images/8.png'/>\n"
   ]
  },
  {
   "cell_type": "markdown",
   "metadata": {},
   "source": [
    "# 调用方法"
   ]
  },
  {
   "cell_type": "markdown",
   "metadata": {},
   "source": [
    "* 获取私有方法同样需要setAccessable(true)\n",
    "* 获取方法同样分为包不包含父类方法\n",
    "* 获取方法的所有信息：名称，返回值类型，参数类型，修饰符\n",
    "* 方法调用method.invoke(Object, Class...); Class...是method的参数\n",
    "* 能够维持多态"
   ]
  },
  {
   "cell_type": "markdown",
   "metadata": {},
   "source": [
    "<img src='images/9.png'/>\n",
    "<img src='images/10.png'/>\n"
   ]
  },
  {
   "cell_type": "markdown",
   "metadata": {},
   "source": [
    "<img src='images/11.png'/>\n"
   ]
  },
  {
   "cell_type": "markdown",
   "metadata": {},
   "source": [
    "<img src='images/13.png'/>\n",
    "\n",
    "<img src='images/12.png'/>\n"
   ]
  },
  {
   "cell_type": "markdown",
   "metadata": {},
   "source": [
    "<img src='images/14.png'/>\n"
   ]
  },
  {
   "cell_type": "markdown",
   "metadata": {},
   "source": [
    "# 调用构造方法"
   ]
  },
  {
   "cell_type": "markdown",
   "metadata": {},
   "source": [
    "调用无参构造方法\n",
    "<img src='images/15.png'/>\n",
    "调用有参构造方法\n",
    "<img src='images/16.png'/>\n"
   ]
  },
  {
   "cell_type": "markdown",
   "metadata": {},
   "source": [
    "<img src='images/17.png'/>\n"
   ]
  },
  {
   "cell_type": "markdown",
   "metadata": {},
   "source": [
    "> Constructor不能获取父类的构造函数"
   ]
  },
  {
   "cell_type": "markdown",
   "metadata": {},
   "source": [
    "<img src='images/18.png'/>\n"
   ]
  },
  {
   "cell_type": "markdown",
   "metadata": {},
   "source": [
    "<img src='images/19.png'/>\n"
   ]
  },
  {
   "cell_type": "markdown",
   "metadata": {},
   "source": [
    "# 通过反射获取继承关系"
   ]
  },
  {
   "cell_type": "markdown",
   "metadata": {},
   "source": [
    "<img src='images/20.png'/>\n",
    "getInterfaces()不能获取父类实现的接口。只有递归调用，才能获取所有的接口信息。\n",
    "<img src='images/21.png'/>\n",
    "<img src='images/22.png'/>\n"
   ]
  },
  {
   "cell_type": "markdown",
   "metadata": {},
   "source": [
    "<img src='images/23.png'/>\n"
   ]
  },
  {
   "cell_type": "markdown",
   "metadata": {},
   "source": [
    "# 使用注解"
   ]
  },
  {
   "cell_type": "markdown",
   "metadata": {},
   "source": [
    "<img src='images/24.png'/>\n",
    "<img src='images/25.png'/>\n",
    "<img src='images/26.png'/>\n",
    "注解不会影响代码逻辑，但会让编译器帮助检查问题。\n",
    "<img src='images/27.png'/>\n",
    "<img src='images/28.png'/>\n",
    "注解的默认值是在定义注解时定义好的。"
   ]
  },
  {
   "cell_type": "markdown",
   "metadata": {},
   "source": [
    "<img src='images/29.png'/>\n"
   ]
  },
  {
   "cell_type": "markdown",
   "metadata": {},
   "source": [
    "# 定义注解"
   ]
  },
  {
   "cell_type": "markdown",
   "metadata": {},
   "source": [
    "<img src='images/30.png'/>\n",
    "元注解可以修饰其他注解，通常不需要自己定义元注解\n",
    "<img src='images/31.png'/>\n",
    "<img src='images/32.png'/>\n",
    "<img src='images/33.png'/>\n",
    "<img src='images/34.png'/>\n",
    "<img src='images/35.png'/>\n",
    "<img src='images/35.png'/>\n"
   ]
  },
  {
   "cell_type": "markdown",
   "metadata": {},
   "source": [
    "<img src='images/36.png'/>\n",
    "<img src='images/37.png'/>\n"
   ]
  },
  {
   "cell_type": "markdown",
   "metadata": {},
   "source": [
    "<img src='images/38.png'/>\n"
   ]
  },
  {
   "cell_type": "markdown",
   "metadata": {},
   "source": [
    "# 处理注解"
   ]
  },
  {
   "cell_type": "markdown",
   "metadata": {},
   "source": [
    "<img src='images/39.png'/>\n",
    "<img src='images/40.png'/>\n",
    "<img src='images/41.png'/>\n",
    "<img src='images/42.png'/>\n",
    "<img src='images/43.png'/>\n",
    "<img src='images/44.png'/>\n",
    "<img src='images/45.png'/>\n"
   ]
  },
  {
   "cell_type": "code",
   "execution_count": null,
   "metadata": {},
   "outputs": [],
   "source": [
    "// NotNull.java\n",
    "@Retention(RetentionPolicy.RUNTIME)\n",
    "@Target(ElementType.FIELD)\n",
    "public @interface NotNull{\n",
    "    // 空\n",
    "}\n",
    "\n",
    "// Range.java\n",
    "@Retention(RetentionPolicy.RUNTIME)\n",
    "@Target(ElementType.FILED)\n",
    "public @interface Range{\n",
    "    int min() default 1;\n",
    "    int max() default 100;\n",
    "}\n",
    "\n",
    "// Person.java\n",
    "public class Person{\n",
    "    @NotNull\n",
    "    public String name;\n",
    "    \n",
    "    @Range(max = 20)\n",
    "    public int age;\n",
    "    \n",
    "    public Person(String name, int age){\n",
    "        this.name = name;\n",
    "        this.age = age;\n",
    "    }\n",
    "}\n",
    "\n",
    "// main.java\n",
    "public class Main{\n",
    "    public static void main(String[] args) throws Exception{\n",
    "        Person s1 = new Person(\"Xiao Ming\", 25);\n",
    "        Person s2 = new Person(null, 15);\n",
    "        checkPerson(s1);\n",
    "        checkPerson(s2);\n",
    "    }\n",
    "    \n",
    "    static void checkPerson(Person s) throws Exception{\n",
    "        System.out.println(\"check \"+p+\"...\");\n",
    "        Class c = Person.class;\n",
    "        for(Field f : c.getFileds()){\n",
    "            checkField(f, p);\n",
    "        }\n",
    "    }\n",
    "    \n",
    "    static void checkField(Field f, Person p) throws Exception{\n",
    "        if(f.isAnnotationPresent(NotNull.class)){\n",
    "            Object r = f.get(p);\n",
    "            if (r == null)\n",
    "                System.out.println(\"Error: field \"+f.getName()+\" is null\");;\n",
    "        }\n",
    "        if(f.isAnnotationPresent(Range.class)) {\n",
    "            Range range = f.getAnnotation(Range.class);\n",
    "            int n = (Integer) f.get(p);\n",
    "            if(n < range.min() || n > range.max()){\n",
    "                System.out.println(\"Error: field \"+f.getName()+\" is null\");\n",
    "            }\n",
    "        }\n",
    "    }\n",
    "}"
   ]
  },
  {
   "cell_type": "markdown",
   "metadata": {},
   "source": [
    "<font color='#f65302' size=3>注解的逻辑让然需要自己实现</font>"
   ]
  },
  {
   "cell_type": "markdown",
   "metadata": {},
   "source": [
    "# 什么是泛型"
   ]
  },
  {
   "cell_type": "markdown",
   "metadata": {},
   "source": [
    "<img src='images/46.png'/>\n",
    "<img src='images/47.png'/>\n"
   ]
  },
  {
   "cell_type": "markdown",
   "metadata": {},
   "source": [
    "<img src='images/48.png'/>\n"
   ]
  },
  {
   "cell_type": "markdown",
   "metadata": {},
   "source": [
    "<img src='images/49.png'/>\n"
   ]
  },
  {
   "cell_type": "markdown",
   "metadata": {},
   "source": [
    "<img src='images/50.png'/>\n"
   ]
  },
  {
   "cell_type": "markdown",
   "metadata": {},
   "source": [
    "<img src='images/51.png'/>\n",
    "<img src='images/52.png'/>\n",
    "<img src='images/53.png'/>\n",
    "<img src='images/54.png'/>\n"
   ]
  },
  {
   "cell_type": "markdown",
   "metadata": {},
   "source": [
    "# 使用泛型"
   ]
  },
  {
   "cell_type": "markdown",
   "metadata": {},
   "source": [
    "<img src='images/55.png'/>\n"
   ]
  },
  {
   "cell_type": "markdown",
   "metadata": {},
   "source": [
    "<img src='images/56.png'/>\n"
   ]
  },
  {
   "cell_type": "markdown",
   "metadata": {},
   "source": [
    "<img src='images/57.png'/>\n",
    "<img src='images/58.png'/>\n"
   ]
  },
  {
   "cell_type": "markdown",
   "metadata": {},
   "source": [
    "# 编写泛型"
   ]
  },
  {
   "cell_type": "markdown",
   "metadata": {},
   "source": [
    "<img src='images/59.png'/>\n",
    "<img src='images/60.png'/>\n"
   ]
  },
  {
   "cell_type": "markdown",
   "metadata": {},
   "source": [
    "<img src='images/61.png'/>\n"
   ]
  },
  {
   "cell_type": "markdown",
   "metadata": {},
   "source": [
    "<img src='images/62.png'/>\n",
    "<img src='images/63.png'/>\n"
   ]
  },
  {
   "cell_type": "markdown",
   "metadata": {},
   "source": [
    "<img src='images/64.png'/>\n"
   ]
  },
  {
   "cell_type": "markdown",
   "metadata": {},
   "source": [
    "<img src='images/65.png'/>\n"
   ]
  },
  {
   "cell_type": "markdown",
   "metadata": {},
   "source": [
    "# 擦拭法"
   ]
  },
  {
   "cell_type": "markdown",
   "metadata": {},
   "source": [
    "<img src='images/66.png'/>\n",
    "泛型代码编译时统一将泛型类型视为Object类型：\n",
    "<img src='images/67.png'/>\n"
   ]
  },
  {
   "cell_type": "markdown",
   "metadata": {},
   "source": [
    "<img src='images/68.png'/>\n"
   ]
  },
  {
   "cell_type": "markdown",
   "metadata": {},
   "source": [
    "<img src='images/69.png'/>\n"
   ]
  },
  {
   "cell_type": "markdown",
   "metadata": {},
   "source": [
    "<img src='images/70.png'/>\n"
   ]
  },
  {
   "cell_type": "markdown",
   "metadata": {},
   "source": [
    "<img src='images/71.png'/>\n",
    "<img src='images/72.png'/>\n",
    "<img src='images/73.png'/>\n"
   ]
  },
  {
   "cell_type": "markdown",
   "metadata": {},
   "source": [
    "<img src='images/74.png'/>\n"
   ]
  },
  {
   "cell_type": "markdown",
   "metadata": {},
   "source": [
    "<img src='images/75.png'/>\n"
   ]
  },
  {
   "cell_type": "markdown",
   "metadata": {},
   "source": [
    "<img src='images/76.png'/>\n"
   ]
  },
  {
   "cell_type": "markdown",
   "metadata": {},
   "source": [
    "# extends通配符"
   ]
  },
  {
   "cell_type": "markdown",
   "metadata": {},
   "source": [
    "<img src='images/77.png'/>\n",
    "<img src='images/78.png'/>\n",
    "<img src='images/79.png'/>\n"
   ]
  },
  {
   "cell_type": "markdown",
   "metadata": {},
   "source": [
    "<img src='images/80.png'/>\n"
   ]
  },
  {
   "cell_type": "markdown",
   "metadata": {},
   "source": [
    "<img src='images/81.png'/>\n",
    "<img src='images/82.png'/>\n",
    "<img src='images/83.png'/>\n"
   ]
  },
  {
   "cell_type": "markdown",
   "metadata": {},
   "source": [
    "<img src='images/84.png'/>\n"
   ]
  },
  {
   "cell_type": "markdown",
   "metadata": {},
   "source": [
    "<img src='images/85.png'/>\n"
   ]
  },
  {
   "cell_type": "code",
   "execution_count": null,
   "metadata": {},
   "outputs": [],
   "source": [
    "// Pair.java\n",
    "public class Pair<T> {\n",
    "    private T first;\n",
    "    private T last;\n",
    "\n",
    "    public Pair(T first, T last) {\n",
    "        this.first = first;\n",
    "        this.last = last;\n",
    "    }\n",
    "\n",
    "    public T getFirst() {\n",
    "        return first;\n",
    "    }\n",
    "\n",
    "    public T getLast() {\n",
    "        return last;\n",
    "    }\n",
    "\n",
    "    public void setLast(T last) {\n",
    "        this.last = last;\n",
    "    }\n",
    "\n",
    "    public String toString() {\n",
    "        return \"Pair(\" + first + \", \" + last + \")\";\n",
    "    }\n",
    "}\n",
    "\n",
    "// Main.java\n",
    "public class Main {\n",
    "    public static void main(String[] args) {\n",
    "        Pair<Number> p = new Pair<>(123, 45.67);\n",
    "        int sum = add(p);\n",
    "        System.out.println(sum);\n",
    "        System.out.println(add(new Pair<Integer>(123,456)));\n",
    "        System.out.println(add(new Pair<Double>(12.3, 45.6)));\n",
    "    }\n",
    "    \n",
    "    // 参数类型只接受Number及其子类类型\n",
    "    static int add(Pair<? extends Number> p){\n",
    "        Number first = p.getFirst();// 不能知道first是Integer还是Double\n",
    "        Number last = p.getLast();\n",
    "        //p.setLast(first); Error由于不知道first是何种类型，他是不允许传递? extends Number这种引用的\n",
    "        return first.intValue()+last.intValue();\n",
    "    }\n",
    "}"
   ]
  },
  {
   "cell_type": "markdown",
   "metadata": {},
   "source": [
    "# Super通配符"
   ]
  },
  {
   "cell_type": "markdown",
   "metadata": {},
   "source": [
    "<img src='images/87.png'/>\n",
    "<img src='images/88.png'/>\n",
    "<img src='images/89.png'/>\n",
    "<img src='images/90.png'/>\n",
    "<img src='images/91.png'/>\n"
   ]
  },
  {
   "cell_type": "markdown",
   "metadata": {},
   "source": [
    "<img src='images/92.png'/>\n",
    "<img src='images/93.png'/>\n",
    "<img src='images/94.png'/>\n",
    "<img src='images/95.png'/>\n",
    "这样做的好处：\n",
    "<img src='images/96.png'/>\n"
   ]
  },
  {
   "cell_type": "markdown",
   "metadata": {},
   "source": [
    "无限定通配符包含了super和extends的限制。"
   ]
  },
  {
   "cell_type": "markdown",
   "metadata": {},
   "source": [
    "<img src='images/97.png'/>\n"
   ]
  },
  {
   "cell_type": "markdown",
   "metadata": {},
   "source": [
    "<img src='images/98.png'/>\n"
   ]
  },
  {
   "cell_type": "markdown",
   "metadata": {},
   "source": [
    "<img src='images/99.png'/>\n"
   ]
  },
  {
   "cell_type": "markdown",
   "metadata": {},
   "source": [
    "<img src='images/100.png'/>\n",
    "<img src='images/101.png'/>\n"
   ]
  },
  {
   "cell_type": "markdown",
   "metadata": {},
   "source": [
    "# 泛型和反射"
   ]
  },
  {
   "cell_type": "markdown",
   "metadata": {},
   "source": [
    "<img src='images/102.png'/>\n",
    "<img src='images/103.png'/>\n",
    "<img src='images/104.png'/>\n"
   ]
  },
  {
   "cell_type": "markdown",
   "metadata": {},
   "source": [
    "arr与ps指向的是同一个数组。当arr存入的不是String类型的元素，那么在ps这个泛型数组中引用该元素就会出现转型错误。\n",
    "<img src='images/105.png'/>\n"
   ]
  },
  {
   "cell_type": "markdown",
   "metadata": {},
   "source": [
    "<img src='images/106.png'/>\n"
   ]
  },
  {
   "cell_type": "markdown",
   "metadata": {},
   "source": [
    "<img src='images/107.png'/>\n"
   ]
  },
  {
   "cell_type": "markdown",
   "metadata": {},
   "source": [
    "<img src='images/108.png'/>\n"
   ]
  },
  {
   "cell_type": "markdown",
   "metadata": {},
   "source": [
    "<img src='images/109.png'/>\n"
   ]
  },
  {
   "cell_type": "markdown",
   "metadata": {},
   "source": [
    "<img src='images/110.png'/>\n"
   ]
  },
  {
   "cell_type": "markdown",
   "metadata": {},
   "source": [
    "<img src='images/111.png'/>\n",
    "<img src='images/112.png'/>\n"
   ]
  },
  {
   "cell_type": "markdown",
   "metadata": {},
   "source": []
  },
  {
   "cell_type": "markdown",
   "metadata": {},
   "source": []
  },
  {
   "cell_type": "markdown",
   "metadata": {},
   "source": []
  },
  {
   "cell_type": "markdown",
   "metadata": {},
   "source": []
  }
 ],
 "metadata": {
  "kernelspec": {
   "display_name": "Java",
   "language": "java",
   "name": "java"
  },
  "language_info": {
   "codemirror_mode": "java",
   "file_extension": ".java",
   "mimetype": "text/x-java-source",
   "name": "Java",
   "pygments_lexer": "java",
   "version": "11.0.4+11-post-Ubuntu-1ubuntu218.04.3"
  },
  "toc": {
   "base_numbering": 1,
   "nav_menu": {},
   "number_sections": true,
   "sideBar": true,
   "skip_h1_title": false,
   "title_cell": "Table of Contents",
   "title_sidebar": "Contents",
   "toc_cell": false,
   "toc_position": {},
   "toc_section_display": true,
   "toc_window_display": false
  }
 },
 "nbformat": 4,
 "nbformat_minor": 2
}
