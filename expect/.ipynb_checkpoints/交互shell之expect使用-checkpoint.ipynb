{
 "cells": [
  {
   "cell_type": "markdown",
   "metadata": {},
   "source": [
    ">[组合键的阿斯克码表](https://blog.csdn.net/iodoo/article/details/49175749)<br>\n",
    ">[expect教程](http://xstarcd.github.io/wiki/shell/expect.html)\n",
    "\n",
    "## expect脚本的执行\n",
    "脚本必须具有可执行权限，使用./\\script_name.sh执行 或者 expect script_name.sh\n",
    "\n",
    "## expect简单用法\n",
    "### 基本语句\n",
    "* #!/usr/bin/expect<br>\n",
    "    告诉操作系统使用哪个shell来执行本代码。expect与bash是一样的。\n",
    "    \n",
    "* set timeout 30<br>\n",
    "    设置超时时间，单位：s\n",
    "    \n",
    "* spawn ssh -l username 192.168.1.1<br>\n",
    "    spawn ./t.sh<br>\n",
    "    expect的内部命令，用于启动一个进程。\n",
    "    \n",
    "* expect \"strings\"<br>\n",
    "    expect的内部命令。判断上次输出结果是否包含字符串“strings”，如果有则立即返回，否则等待一段时间后返回(该时间是set timeout设定的)。\n",
    "    \n",
    "* interact<br>\n",
    "    执行完成后保持交互状态，把控制权交给控制台，进行手工操作。没有这句的话，spawn启动的程序将会立即停止。\n",
    "    \n",
    "        1 # ex.sh\n",
    "        2 #!/usr/bin/expect\n",
    "        3 set timeout 1\n",
    "        4 spawn ./t.sh\n",
    "        5 expect \"start\"\n",
    "        6 send \"yfs\\n\"\n",
    "        7 expect \"asdfasdf\"\n",
    "        8 send \"男\\n\"\n",
    "        9 #interact\n",
    "    \n",
    "      1 # t.sh\n",
    "      2 #!/bin/bash\n",
    "      3 echo \"这是shell程序：start\"\n",
    "      4 \n",
    "      5 read name\n",
    "      6 read sex\n",
    "      7 \n",
    "      8 echo $name, $sex\n",
    "      9 echo \"这是shell程序：end\"\n",
    "      10 \n",
    "      11 read var\n",
    "      12 echo $var\n",
    "\n",
    "\n",
    "* send:\n",
    "    向spawn启动的进程p发送其待输入的东西。\n",
    "    \n",
    "* send_user:\n",
    "    回显用户发出的消息。类似shell中的echo。\n",
    "    \n",
    "* 获取命令行参数： <br>\n",
    "    $argc: 参数个数<br>\n",
    "    [lindex $argv 0]: 第一个参数 <br>\n",
    "    [lindex $argv 2]: 第三个参数<br>\n",
    "    [lrange $argv 0 2]: 第1个到第3个参数<br>"
   ]
  },
  {
   "cell_type": "markdown",
   "metadata": {},
   "source": [
    "* 读取用户输入<br>\n",
    "expect_user -re \"(.\\*)\\n\"<br>表示正则表达式匹配用户按下回车前输入的所有字符<br><br>\n",
    "send_user \"$expect_out(1, string)\\n\" <br>表示第一个匹配的内容，即回车前所有字符<br><br>\n",
    "exp_continue:<br>\n",
    "表示循环"
   ]
  },
  {
   "cell_type": "code",
   "execution_count": 7,
   "metadata": {
    "ExecuteTime": {
     "end_time": "2019-08-04T06:10:29.713691Z",
     "start_time": "2019-08-04T06:10:29.601979Z"
    }
   },
   "outputs": [
    {
     "name": "stdout",
     "output_type": "stream",
     "text": [
      "     1\t#!/usr/bin/expect\r\n",
      "     2\t\r\n",
      "     3\tset timeout 3\r\n",
      "     4\texpect_user {\r\n",
      "     5\t    -re hello {\r\n",
      "     6\t        puts 'Ihello'\r\n",
      "     7\t        exp_continue\r\n",
      "     8\t    }\r\n",
      "     9\t    -re world {\r\n",
      "    10\t        puts 'Iworld'\r\n",
      "    11\t    }\r\n",
      "    12\t    default {\r\n",
      "    13\t        puts 'default'\r\n",
      "    14\t    }\r\n",
      "    15\t}\r\n",
      "    16\texpect eof"
     ]
    }
   ],
   "source": [
    "# 例1\n",
    "!cat -n shell_prog/read.sh"
   ]
  },
  {
   "cell_type": "markdown",
   "metadata": {},
   "source": [
    "<font color='ff0000' size=5>未解之谜：</font>程序第9行并不能正确匹配"
   ]
  },
  {
   "cell_type": "code",
   "execution_count": 9,
   "metadata": {
    "ExecuteTime": {
     "end_time": "2019-08-04T06:35:52.546124Z",
     "start_time": "2019-08-04T06:35:52.434769Z"
    },
    "scrolled": false
   },
   "outputs": [
    {
     "name": "stdout",
     "output_type": "stream",
     "text": [
      "     1\t#!/usr/bin/expect\r\n",
      "     2\tset timeout 3\r\n",
      "     3\texpect_user {\r\n",
      "     4\t    -re ^abc.* {\r\n",
      "     5\t        puts 'Ihello'\r\n",
      "     6\t        exp_continue\r\n",
      "     7\t    }\r\n",
      "     8\t\r\n",
      "     9\t    -re ^a.*b$ {\r\n",
      "    10\t        puts 'Iworld'\r\n",
      "    11\t    }\r\n",
      "    12\t\r\n",
      "    13\t    default {\r\n",
      "    14\t        puts 'default'\r\n",
      "    15\t    }\r\n",
      "    16\t}\r\n",
      "    17\t\r\n",
      "    18\texpect eof"
     ]
    }
   ],
   "source": [
    "# 例2\n",
    "!cat -n shell_prog/read2.sh"
   ]
  },
  {
   "cell_type": "markdown",
   "metadata": {},
   "source": [
    "`expect_user -re '^a.*' {puts \"Input:a\"}`是错误的<br>\n",
    "应改为：\n",
    "`#!/usr/bin/expect\n",
    "set timeout 3\n",
    "expect_user {\n",
    "\t-re hello { \n",
    "\t\tputs \"Input:a\" \n",
    "\t}\n",
    "}\n",
    "`<br>\n",
    "<font color='#aa55ff' size=5>注意：-re hello，中hello不能加引号</font>"
   ]
  },
  {
   "cell_type": "markdown",
   "metadata": {},
   "source": [
    "### 变量赋值，if判断句：\n",
    "    set 变量名 值或变量：后面的赋值给前面的<br>\n",
    "puts：打印字符串类似echo<br>\n",
    "**if判断句：**<br>\n",
    "    ‘{’的左边要有空格<br>\n",
    "注意：puts参数中不能有空格，除非用引号引起来，否则报错。"
   ]
  },
  {
   "cell_type": "code",
   "execution_count": 23,
   "metadata": {
    "ExecuteTime": {
     "end_time": "2019-08-04T02:12:46.547563Z",
     "start_time": "2019-08-04T02:12:46.436309Z"
    }
   },
   "outputs": [
    {
     "name": "stdout",
     "output_type": "stream",
     "text": [
      "#!/usr/bin/expect\r\n",
      "\r\n",
      "set timeout 1\r\n",
      "set arg [lindex $argv 0]\r\n",
      "#set t 9\r\n",
      "#set arg $t\r\n",
      "\r\n",
      "if { $arg>0 } {\r\n",
      "    puts '参数是正数',$arg\r\n",
      "} elseif { $arg == 0 } {\r\n",
      "    puts '参数为0',$arg\r\n",
      "} else {\r\n",
      "    puts '参数是负数',$arg\r\n",
      "}\r\n",
      "expect eof\r\n"
     ]
    }
   ],
   "source": [
    "cat shell_prog/a.sh"
   ]
  },
  {
   "cell_type": "code",
   "execution_count": 22,
   "metadata": {
    "ExecuteTime": {
     "end_time": "2019-08-04T02:12:30.416081Z",
     "start_time": "2019-08-04T02:12:29.299869Z"
    }
   },
   "outputs": [
    {
     "name": "stdout",
     "output_type": "stream",
     "text": [
      "'参数是负数',-1\r",
      "\r\n"
     ]
    }
   ],
   "source": [
    "!expect shell_prog/a.sh 9"
   ]
  },
  {
   "cell_type": "code",
   "execution_count": 24,
   "metadata": {
    "ExecuteTime": {
     "end_time": "2019-08-04T02:13:14.513821Z",
     "start_time": "2019-08-04T02:13:13.395842Z"
    }
   },
   "outputs": [
    {
     "name": "stdout",
     "output_type": "stream",
     "text": [
      "'参数为0',0\r",
      "\r\n"
     ]
    }
   ],
   "source": [
    "!expect shell_prog/a.sh 0"
   ]
  },
  {
   "cell_type": "code",
   "execution_count": 25,
   "metadata": {
    "ExecuteTime": {
     "end_time": "2019-08-04T02:13:27.651681Z",
     "start_time": "2019-08-04T02:13:26.535010Z"
    }
   },
   "outputs": [
    {
     "name": "stdout",
     "output_type": "stream",
     "text": [
      "'参数是负数',-9\r",
      "\r\n"
     ]
    }
   ],
   "source": [
    "!expect shell_prog/a.sh -9"
   ]
  },
  {
   "cell_type": "markdown",
   "metadata": {
    "ExecuteTime": {
     "end_time": "2019-08-04T02:16:20.179428Z",
     "start_time": "2019-08-04T02:16:20.177366Z"
    }
   },
   "source": [
    "### 字符串的比较："
   ]
  },
  {
   "cell_type": "code",
   "execution_count": 36,
   "metadata": {
    "ExecuteTime": {
     "end_time": "2019-08-04T02:27:01.771815Z",
     "start_time": "2019-08-04T02:27:01.658578Z"
    }
   },
   "outputs": [
    {
     "name": "stdout",
     "output_type": "stream",
     "text": [
      "#!/usr/bin/expect\r\n",
      "\r\n",
      "set timeout 1\r\n",
      "set arg [lindex $argv 0]\r\n",
      "\r\n",
      "if { $arg == \"apple\" } {\r\n",
      "    puts '这是一个苹果'\r\n",
      "} elseif { $arg == \"banana\" } {\r\n",
      "    puts '这是一个香蕉'\r\n",
      "} else {\r\n",
      "    puts '不知道这是什么东西'\r\n",
      "}\r\n",
      "    "
     ]
    }
   ],
   "source": [
    "cat shell_prog/b.sh"
   ]
  },
  {
   "cell_type": "code",
   "execution_count": 33,
   "metadata": {
    "ExecuteTime": {
     "end_time": "2019-08-04T02:21:58.345117Z",
     "start_time": "2019-08-04T02:21:58.228733Z"
    }
   },
   "outputs": [
    {
     "name": "stdout",
     "output_type": "stream",
     "text": [
      "'这是一个苹果'\r",
      "\r\n"
     ]
    }
   ],
   "source": [
    "!expect shell_prog/b.sh 'apple'"
   ]
  },
  {
   "cell_type": "code",
   "execution_count": 34,
   "metadata": {
    "ExecuteTime": {
     "end_time": "2019-08-04T02:22:20.820639Z",
     "start_time": "2019-08-04T02:22:20.705272Z"
    }
   },
   "outputs": [
    {
     "name": "stdout",
     "output_type": "stream",
     "text": [
      "'不知道这是什么东西'\r",
      "\r\n"
     ]
    }
   ],
   "source": [
    "!expect shell_prog/b.sh "
   ]
  },
  {
   "cell_type": "code",
   "execution_count": 35,
   "metadata": {
    "ExecuteTime": {
     "end_time": "2019-08-04T02:22:38.780904Z",
     "start_time": "2019-08-04T02:22:38.665540Z"
    }
   },
   "outputs": [
    {
     "name": "stdout",
     "output_type": "stream",
     "text": [
      "'这是一个香蕉'\r",
      "\r\n"
     ]
    }
   ],
   "source": [
    "!expect shell_prog/b.sh 'banana'"
   ]
  },
  {
   "cell_type": "markdown",
   "metadata": {},
   "source": [
    "### switch语句"
   ]
  },
  {
   "cell_type": "markdown",
   "metadata": {},
   "source": [
    "<font color='#ff00cc' size=5>注意{左边要有空格</font>"
   ]
  },
  {
   "cell_type": "code",
   "execution_count": 39,
   "metadata": {
    "ExecuteTime": {
     "end_time": "2019-08-04T02:30:55.108956Z",
     "start_time": "2019-08-04T02:30:54.995381Z"
    }
   },
   "outputs": [
    {
     "name": "stdout",
     "output_type": "stream",
     "text": [
      "#!/usr/bin/expect\r\n",
      "\r\n",
      "set timeout 1\r\n",
      "set arg [lindex $argv 0]\r\n",
      "\r\n",
      "switch $arg {\r\n",
      "    \"apple\" { puts \"this is an apple!\"}\r\n",
      "    \"banana\" { pust \"this is a banana\"}\r\n",
      "    default { puts \"other\"}\r\n",
      "}"
     ]
    }
   ],
   "source": [
    "cat shell_prog/switch.sh"
   ]
  },
  {
   "cell_type": "code",
   "execution_count": 38,
   "metadata": {
    "ExecuteTime": {
     "end_time": "2019-08-04T02:30:35.605624Z",
     "start_time": "2019-08-04T02:30:35.482691Z"
    }
   },
   "outputs": [
    {
     "name": "stdout",
     "output_type": "stream",
     "text": [
      "this is an apple!\r",
      "\r\n"
     ]
    }
   ],
   "source": [
    "!expect shell_prog/switch.sh 'apple'"
   ]
  },
  {
   "cell_type": "markdown",
   "metadata": {},
   "source": [
    "## 其他"
   ]
  },
  {
   "cell_type": "markdown",
   "metadata": {},
   "source": [
    "#### {}大括号"
   ]
  },
  {
   "cell_type": "markdown",
   "metadata": {},
   "source": [
    "1. 保留原有字符串，如`set ver {a$b[set c 3]\\tddd}`将{}中的一坨东西赋值给var\n",
    "\n",
    "2. 续行\n",
    "    \n",
    "    if { $count < 0} { # 正确\n",
    "        break;\n",
    "    }\n",
    "    \n",
    "    \n",
    "    if { $count < 0} # 错误 \n",
    "    { \n",
    "        break;\n",
    "    }"
   ]
  },
  {
   "cell_type": "markdown",
   "metadata": {},
   "source": [
    "#### []：执行命令"
   ]
  },
  {
   "cell_type": "code",
   "execution_count": 2,
   "metadata": {
    "ExecuteTime": {
     "end_time": "2019-08-05T02:35:32.704878Z",
     "start_time": "2019-08-05T02:35:32.593378Z"
    }
   },
   "outputs": [
    {
     "name": "stdout",
     "output_type": "stream",
     "text": [
      "     1\t#!/usr/bin/expect\r\n",
      "     2\t\r\n",
      "     3\tset timeout 3\r\n",
      "     4\tset a [set b 6]\r\n",
      "     5\tputs a=$a\r\n",
      "     6\tputs b=$b"
     ]
    }
   ],
   "source": [
    "cat -n shell_prog/c.sh"
   ]
  },
  {
   "cell_type": "code",
   "execution_count": 3,
   "metadata": {
    "ExecuteTime": {
     "end_time": "2019-08-05T02:35:37.151966Z",
     "start_time": "2019-08-05T02:35:37.037552Z"
    }
   },
   "outputs": [
    {
     "name": "stdout",
     "output_type": "stream",
     "text": [
      "a=6\r",
      "\r\n",
      "b=6\r",
      "\r\n"
     ]
    }
   ],
   "source": [
    "!expect shell_prog/c.sh"
   ]
  },
  {
   "cell_type": "markdown",
   "metadata": {},
   "source": [
    "# expect_out(buffer)与expect_out(0,string)"
   ]
  },
  {
   "cell_type": "markdown",
   "metadata": {},
   "source": [
    "<font color='#ff5600' size=3>\n",
    "    \\$expect_out(buffer):存储了所有对expect的输入<br>\n",
    "    \\$expecct_out(0,string): 存储匹配到expect参数的输入\n",
    "</font>"
   ]
  },
  {
   "cell_type": "code",
   "execution_count": 19,
   "metadata": {
    "ExecuteTime": {
     "end_time": "2019-08-05T03:01:20.007863Z",
     "start_time": "2019-08-05T03:01:19.894382Z"
    }
   },
   "outputs": [
    {
     "name": "stdout",
     "output_type": "stream",
     "text": [
      "     1\t#!/usr/bin/expect\r\n",
      "     2\texpect \"hi\\n\"\r\n",
      "     3\tsend \"you typed <$expect_out(buffer)>\"\r\n",
      "     4\tsend \"but I only expected <$expect_out(0,string)>\"\r\n"
     ]
    }
   ],
   "source": [
    "!bash shell_prog/launch.sh \"1.sh\" \"no\""
   ]
  },
  {
   "cell_type": "markdown",
   "metadata": {},
   "source": [
    "<img src='images/1.png'/>"
   ]
  },
  {
   "cell_type": "code",
   "execution_count": 22,
   "metadata": {
    "ExecuteTime": {
     "end_time": "2019-08-05T04:41:59.464401Z",
     "start_time": "2019-08-05T04:41:59.350345Z"
    }
   },
   "outputs": [
    {
     "name": "stdout",
     "output_type": "stream",
     "text": [
      "     1\t#!/usr/bin/expect\r\n",
      "     2\tset timeout 6\r\n",
      "     3\texpect {\r\n",
      "     4\t    \"hi\" {puts \"input hi\"; exp_continue}\r\n",
      "     5\t    \"hello\" {puts \"input hello\"; exp_continue}\r\n",
      "     6\t    default {puts default}\r\n",
      "     7\t}"
     ]
    }
   ],
   "source": [
    "# 多分支模式\n",
    "!bash shell_prog/launch.sh \"2.sh\" \"no\""
   ]
  },
  {
   "cell_type": "markdown",
   "metadata": {},
   "source": [
    "<img src='images/3.png'/>"
   ]
  },
  {
   "cell_type": "code",
   "execution_count": 23,
   "metadata": {
    "ExecuteTime": {
     "end_time": "2019-08-05T04:43:31.269263Z",
     "start_time": "2019-08-05T04:43:31.155911Z"
    }
   },
   "outputs": [
    {
     "name": "stdout",
     "output_type": "stream",
     "text": [
      "     1\t#!/usr/bin/expect\r\n",
      "     2\tset timeout 5\r\n",
      "     3\texpect \"hi\" {puts \"input hi\"}"
     ]
    }
   ],
   "source": [
    "# 单分支模式\n",
    "!bash shell_prog/launch.sh \"3.sh\" \"no\""
   ]
  },
  {
   "cell_type": "markdown",
   "metadata": {},
   "source": [
    "<img src='images/4.png'/>\n"
   ]
  },
  {
   "cell_type": "markdown",
   "metadata": {},
   "source": [
    "[tk](https://www.ibm.com/developerworks/cn/education/linux/l-tcl/l-tcl-blt.html)"
   ]
  }
 ],
 "metadata": {
  "kernelspec": {
   "display_name": "Python 3",
   "language": "python",
   "name": "python3"
  },
  "language_info": {
   "codemirror_mode": {
    "name": "ipython",
    "version": 3
   },
   "file_extension": ".py",
   "mimetype": "text/x-python",
   "name": "python",
   "nbconvert_exporter": "python",
   "pygments_lexer": "ipython3",
   "version": "3.6.8"
  },
  "toc": {
   "base_numbering": 1,
   "nav_menu": {},
   "number_sections": true,
   "sideBar": true,
   "skip_h1_title": false,
   "title_cell": "Table of Contents",
   "title_sidebar": "Contents",
   "toc_cell": false,
   "toc_position": {},
   "toc_section_display": true,
   "toc_window_display": false
  }
 },
 "nbformat": 4,
 "nbformat_minor": 2
}
