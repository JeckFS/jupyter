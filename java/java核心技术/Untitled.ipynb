{
 "cells": [
  {
   "cell_type": "markdown",
   "metadata": {},
   "source": [
    "# 第3章 数据类型"
   ]
  },
  {
   "cell_type": "markdown",
   "metadata": {
    "solution2": "hidden",
    "solution2_first": true
   },
   "source": [
    "* Double.POSITIVE_INFINITY\n",
    "* Double.NEGATIVE_INFINITY\n",
    "* Double.NaN 表示非数值，不能比较大小"
   ]
  },
  {
   "cell_type": "code",
   "execution_count": 10,
   "metadata": {
    "ExecuteTime": {
     "end_time": "2019-09-12T07:25+0000",
     "start_time": "2019-09-12T07:25:00.967Z"
    },
    "scrolled": false,
    "solution2": "hidden"
   },
   "outputs": [
    {
     "name": "stdout",
     "output_type": "stream",
     "text": [
      "Infinity\n",
      "-Infinity\n",
      "NaN\n"
     ]
    }
   ],
   "source": [
    "System.out.println(Double.POSITIVE_INFINITY);\n",
    "System.out.println(Double.NEGATIVE_INFINITY);\n",
    "System.out.println(Double.NaN);"
   ]
  },
  {
   "cell_type": "code",
   "execution_count": 9,
   "metadata": {
    "ExecuteTime": {
     "end_time": "2019-09-12T07:23+0000",
     "start_time": "2019-09-12T07:23:46.082Z"
    },
    "solution2": "hidden"
   },
   "outputs": [
    {
     "name": "stdout",
     "output_type": "stream",
     "text": [
      "yes\n"
     ]
    }
   ],
   "source": [
    "// 检测一个数字是否是NaN\n",
    "Double x = Double.NaN;\n",
    "if(Double.isNaN(x)){\n",
    "    System.out.println(\"yes\");\n",
    "}"
   ]
  },
  {
   "cell_type": "code",
   "execution_count": 37,
   "metadata": {
    "ExecuteTime": {
     "end_time": "2019-09-12T07:59+0000",
     "start_time": "2019-09-12T07:59:53.413Z"
    },
    "solution2": "hidden"
   },
   "outputs": [
    {
     "name": "stdout",
     "output_type": "stream",
     "text": [
      "false\n"
     ]
    }
   ],
   "source": [
    "Double x = 10.0;\n",
    "Double y = Double.POSITIVE_INFINITY;\n",
    "System.out.println(x > y);"
   ]
  },
  {
   "cell_type": "markdown",
   "metadata": {
    "ExecuteTime": {
     "end_time": "2019-09-12T07:32+0000",
     "start_time": "2019-09-12T07:32:29.061Z"
    }
   },
   "source": [
    "## char类型"
   ]
  },
  {
   "cell_type": "markdown",
   "metadata": {
    "solution2": "hidden",
    "solution2_first": true
   },
   "source": [
    "\\u+十六进制 \n",
    "* 表示Unicode字符; \n",
    "* 表示特殊的转义字符 <br>\n",
    "    \\n \\u000a <br>\n",
    "    \\' \\u0027<br>"
   ]
  },
  {
   "cell_type": "code",
   "execution_count": 28,
   "metadata": {
    "ExecuteTime": {
     "end_time": "2019-09-12T07:38+0000",
     "start_time": "2019-09-12T07:38:15.230Z"
    },
    "solution2": "hidden"
   },
   "outputs": [
    {
     "name": "stdout",
     "output_type": "stream",
     "text": [
      "™\n",
      "'\n"
     ]
    }
   ],
   "source": [
    "System.out.println(\"\\u2122\");\n",
    "System.out.println(\"\\u0027\");"
   ]
  },
  {
   "cell_type": "markdown",
   "metadata": {
    "ExecuteTime": {
     "end_time": "2019-09-12T07:50+0000",
     "start_time": "2019-09-12T07:50:58.156Z"
    }
   },
   "source": [
    "\n",
    "## final类常量"
   ]
  },
  {
   "cell_type": "markdown",
   "metadata": {},
   "source": [
    "能够在一个类中的多个方法中使用。使用static final设置一个类常量。"
   ]
  },
  {
   "cell_type": "markdown",
   "metadata": {},
   "source": [
    "## 位运算符"
   ]
  },
  {
   "cell_type": "markdown",
   "metadata": {},
   "source": [
    "&，|，^(异或)，~(非)，>>，<<"
   ]
  },
  {
   "cell_type": "code",
   "execution_count": 42,
   "metadata": {
    "ExecuteTime": {
     "end_time": "2019-09-12T08:16+0000",
     "start_time": "2019-09-12T08:16:14.202Z"
    }
   },
   "outputs": [
    {
     "name": "stdout",
     "output_type": "stream",
     "text": [
      "1\n",
      "0\n"
     ]
    }
   ],
   "source": [
    "// 判断整形变量n如果用二进制表示，其倒数第4位是否为1\n",
    "int n = 0b101000;\n",
    "System.out.println((n & 0b1000) / 0b1000);\n",
    "n = 0b10001;\n",
    "System.out.println((n & 0b1000) / 0b1000);"
   ]
  },
  {
   "cell_type": "markdown",
   "metadata": {},
   "source": [
    "<font color='#f0110c' size=3>由于int占4字节，long占8字节，所以在使用右移左移运算符时，其右侧参数需要进行模32(int)，模64(long)的运算。如1<<35与1<<3, 8是相同的。</font>"
   ]
  },
  {
   "cell_type": "markdown",
   "metadata": {},
   "source": [
    "【补充】在Math类中，为了达到最快的性能，所有的方法都使用计算机浮点单元中的例程。如果要求结果在所有平台上都得到相同的结果，应使用StrictMath."
   ]
  },
  {
   "cell_type": "markdown",
   "metadata": {},
   "source": [
    "## 数据类型的转化"
   ]
  },
  {
   "attachments": {
    "image.png": {
     "image/png": "[encoded data removed]"
    }
   },
   "cell_type": "markdown",
   "metadata": {},
   "source": [
    "![image.png](attachment:image.png)"
   ]
  },
  {
   "cell_type": "markdown",
   "metadata": {},
   "source": [
    "实箭头不会丢失精度，虚箭头会。"
   ]
  },
  {
   "cell_type": "markdown",
   "metadata": {},
   "source": [
    "## 枚举类型"
   ]
  },
  {
   "cell_type": "markdown",
   "metadata": {
    "solution2": "hidden",
    "solution2_first": true
   },
   "source": [
    "变量的取值只限于某个集合内或者为null。"
   ]
  },
  {
   "cell_type": "code",
   "execution_count": 46,
   "metadata": {
    "ExecuteTime": {
     "end_time": "2019-09-12T08:42+0000",
     "start_time": "2019-09-12T08:42:49.818Z"
    },
    "solution2": "hidden"
   },
   "outputs": [
    {
     "name": "stdout",
     "output_type": "stream",
     "text": [
      "SMALL\n"
     ]
    }
   ],
   "source": [
    "enum Size {SMALL, MEDIUM, LARGE, EXTRA_LARGE}\n",
    "Size s = Size.SMALL;\n",
    "System.out.println(s);"
   ]
  },
  {
   "cell_type": "markdown",
   "metadata": {},
   "source": [
    "## 不可变字符串"
   ]
  },
  {
   "cell_type": "markdown",
   "metadata": {},
   "source": [
    "String类对象称为不可变字符串，它不提供修改字符串的方法。这种字符串可以共享。换言之，可以想象这种字符串存放在公共的存储池中，字符串变量指向存储池中相应的位置。如果复制一个字符串，原始字符串与复制的字符串共享相同的字符。"
   ]
  },
  {
   "cell_type": "markdown",
   "metadata": {},
   "source": [
    "1. 检查字符串相等：\n",
    "    * s.eqauls(t)\n",
    "    * == <br>\n",
    "    如果两者存放的位置相同，返回true，否则false。\n",
    "    \n",
    "【注意】只有字符串常量是共享的，而+或substring等操作产生的结果不是共享的。"
   ]
  },
  {
   "cell_type": "markdown",
   "metadata": {},
   "source": [
    "2. char序列的代码点与代码单元\n",
    "\n",
    "\n",
    "* Java字符串由char序列组成。\n",
    "* char数据类型是一个采用UTF-16编码表示Unicode代码点的代码单元。大多数常用Unicode字符使用一个代码单元，补充字符需要一对代码单元表示。\n",
    "* String.length返回字符串所需的代码单元数量。\n",
    "* 获取代码点的数量(字符串实际长度)：s.codePointCount(0, s.length());\n",
    "* s.charAt(n)：返回位置n的代码单元。\n",
    "* 获取第i个代码点：<br>\n",
    "    `int index = s.offsetByCodePoints(0, i); \n",
    "    int cp = s.codePointAt(index)`"
   ]
  },
  {
   "cell_type": "code",
   "execution_count": 7,
   "metadata": {
    "ExecuteTime": {
     "end_time": "2019-09-12T12:27+0000",
     "start_time": "2019-09-12T12:27:19.241Z"
    }
   },
   "outputs": [
    {
     "name": "stdout",
     "output_type": "stream",
     "text": [
      "6\n",
      "好\n",
      "1 22909\n"
     ]
    }
   ],
   "source": [
    "String s = \"你好，世界！\";\n",
    "System.out.println(s.length());\n",
    "\n",
    "System.out.println(s.charAt(1));\n",
    "\n",
    "int index = s.offsetByCodePoints(0, 1);\n",
    "int cp = s.codePointAt(index);\n",
    "System.out.println(index+\" \"+cp);"
   ]
  },
  {
   "cell_type": "markdown",
   "metadata": {
    "ExecuteTime": {
     "end_time": "2019-09-12T12:28+0000",
     "start_time": "2019-09-12T12:28:03.033Z"
    }
   },
   "source": [
    "3. StringBuilder与StringBuffer\n",
    "    * StringBuilder的前身是StringBuffer\n",
    "    * StringBuffer效率稍低，但允许多线程的方式添加或删除字符\n",
    "    * 若在单线程中应使用StringBuilder替代它。"
   ]
  },
  {
   "cell_type": "code",
   "execution_count": 17,
   "metadata": {
    "ExecuteTime": {
     "end_time": "2019-09-12T12:37+0000",
     "start_time": "2019-09-12T12:37:26.045Z"
    }
   },
   "outputs": [
    {
     "name": "stdout",
     "output_type": "stream",
     "text": [
      "好\n"
     ]
    }
   ],
   "source": [
    "StringBuilder sb = new StringBuilder();\n",
    "sb.appendCodePoint(22909);\n",
    "System.out.println(sb);"
   ]
  },
  {
   "cell_type": "markdown",
   "metadata": {},
   "source": [
    "## 字符串的读取"
   ]
  },
  {
   "cell_type": "markdown",
   "metadata": {},
   "source": [
    "* nextLine()：读取一行，行中可以包含空格。\n",
    "* next()：读取一个单词"
   ]
  },
  {
   "cell_type": "markdown",
   "metadata": {
    "ExecuteTime": {
     "end_time": "2019-09-12T12:44+0000",
     "start_time": "2019-09-12T12:44:16.869Z"
    },
    "solution2": "hidden",
    "solution2_first": true
   },
   "source": [
    "* 创建格式化的字符串：String.format()"
   ]
  },
  {
   "cell_type": "code",
   "execution_count": 20,
   "metadata": {
    "ExecuteTime": {
     "end_time": "2019-09-12T12:50+0000",
     "start_time": "2019-09-12T12:50:04.895Z"
    },
    "solution2": "hidden"
   },
   "outputs": [
    {
     "name": "stdout",
     "output_type": "stream",
     "text": [
      "Hello, 小明. Next year, you will be 23\n"
     ]
    }
   ],
   "source": [
    "String s = String.format(\"Hello, %s. Next year, you will be %d\",\"小明\", 23);\n",
    "System.out.println(s);"
   ]
  },
  {
   "cell_type": "markdown",
   "metadata": {},
   "source": [
    "## 文件输入与输出"
   ]
  },
  {
   "cell_type": "markdown",
   "metadata": {
    "solution2": "hidden",
    "solution2_first": true
   },
   "source": [
    "* 从文件中读取：<br>\n",
    "    Scanner in = new Scanner(Paths.get(\"Myfile.txt\"));\n",
    "* 输出到文件：<br>\n",
    "    PrintWriter out = new PrintWriter(\"Myfile.txt\")"
   ]
  },
  {
   "cell_type": "code",
   "execution_count": 23,
   "metadata": {
    "ExecuteTime": {
     "end_time": "2019-09-12T12:55+0000",
     "start_time": "2019-09-12T12:55:26.349Z"
    },
    "solution2": "hidden"
   },
   "outputs": [
    {
     "name": "stdout",
     "output_type": "stream",
     "text": [
      "Myfile.txt\n"
     ]
    }
   ],
   "source": [
    "// 这种只会读入参数作为数据\n",
    "Scanner in = new Scanner(\"Myfile.txt\");\n",
    "System.out.println(in.next());"
   ]
  },
  {
   "cell_type": "markdown",
   "metadata": {},
   "source": [
    "## 大数运算"
   ]
  },
  {
   "cell_type": "markdown",
   "metadata": {},
   "source": [
    "* BigInteger：实现了任意精度的整数运算\n",
    "* BigDecimal：实现了任意精度的浮点运算\n",
    "\n",
    "【注意】加减乘除运算需要使用相应的函数。"
   ]
  },
  {
   "cell_type": "markdown",
   "metadata": {},
   "source": [
    "## 数组拷贝"
   ]
  },
  {
   "cell_type": "code",
   "execution_count": 33,
   "metadata": {
    "ExecuteTime": {
     "end_time": "2019-09-12T14:12+0000",
     "start_time": "2019-09-12T14:12:15.022Z"
    }
   },
   "outputs": [
    {
     "name": "stdout",
     "output_type": "stream",
     "text": [
      "[I@336527c4 [I@2cbe8a44\n",
      "1 2 3 4 5 6 7 8 9 \n",
      "1 2 3 4 5 6 7 8 9 0 0 0 0 0 0 0 0 0 "
     ]
    }
   ],
   "source": [
    "// 通常用于增大数组大小\n",
    "int[] a = {1,2,3,4,5,6,7,8,9};\n",
    "int[] copyA = Arrays.copyOf(a, 2 * a.length);\n",
    "System.out.println(copyA+\" \"+a);\n",
    "for (int e : a){\n",
    "    System.out.print(e+\" \");\n",
    "}\n",
    "System.out.println();\n",
    "for (int e : copyA){\n",
    "    System.out.print(e+\" \");\n",
    "}"
   ]
  },
  {
   "cell_type": "markdown",
   "metadata": {},
   "source": []
  },
  {
   "cell_type": "markdown",
   "metadata": {},
   "source": []
  },
  {
   "cell_type": "markdown",
   "metadata": {},
   "source": []
  },
  {
   "cell_type": "markdown",
   "metadata": {},
   "source": []
  },
  {
   "cell_type": "markdown",
   "metadata": {},
   "source": []
  },
  {
   "cell_type": "markdown",
   "metadata": {},
   "source": []
  },
  {
   "cell_type": "markdown",
   "metadata": {},
   "source": []
  },
  {
   "cell_type": "markdown",
   "metadata": {},
   "source": []
  },
  {
   "cell_type": "markdown",
   "metadata": {},
   "source": []
  },
  {
   "cell_type": "markdown",
   "metadata": {},
   "source": []
  },
  {
   "cell_type": "markdown",
   "metadata": {},
   "source": []
  },
  {
   "cell_type": "markdown",
   "metadata": {},
   "source": []
  },
  {
   "cell_type": "markdown",
   "metadata": {},
   "source": []
  },
  {
   "cell_type": "markdown",
   "metadata": {},
   "source": []
  },
  {
   "cell_type": "markdown",
   "metadata": {},
   "source": []
  },
  {
   "cell_type": "markdown",
   "metadata": {},
   "source": []
  },
  {
   "cell_type": "markdown",
   "metadata": {},
   "source": []
  }
 ],
 "metadata": {
  "kernelspec": {
   "display_name": "Java",
   "language": "java",
   "name": "java"
  },
  "language_info": {
   "codemirror_mode": "java",
   "file_extension": ".java",
   "mimetype": "text/x-java-source",
   "name": "Java",
   "pygments_lexer": "java",
   "version": "11.0.4+11-post-Ubuntu-1ubuntu218.04.3"
  },
  "toc": {
   "base_numbering": 1,
   "nav_menu": {},
   "number_sections": true,
   "sideBar": true,
   "skip_h1_title": false,
   "title_cell": "Table of Contents",
   "title_sidebar": "Contents",
   "toc_cell": false,
   "toc_position": {},
   "toc_section_display": true,
   "toc_window_display": false
  }
 },
 "nbformat": 4,
 "nbformat_minor": 2
}
