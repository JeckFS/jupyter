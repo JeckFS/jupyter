{
 "cells": [
  {
   "cell_type": "markdown",
   "metadata": {},
   "source": [
    "# 第3章 数据类型"
   ]
  },
  {
   "cell_type": "markdown",
   "metadata": {
    "solution2": "hidden",
    "solution2_first": true
   },
   "source": [
    "* Double.POSITIVE_INFINITY\n",
    "* Double.NEGATIVE_INFINITY\n",
    "* Double.NaN 表示非数值，不能比较大小"
   ]
  },
  {
   "cell_type": "code",
   "execution_count": 10,
   "metadata": {
    "ExecuteTime": {
     "end_time": "2019-09-12T07:25+0000",
     "start_time": "2019-09-12T07:25:00.967Z"
    },
    "scrolled": false,
    "solution2": "hidden"
   },
   "outputs": [
    {
     "name": "stdout",
     "output_type": "stream",
     "text": [
      "Infinity\n",
      "-Infinity\n",
      "NaN\n"
     ]
    }
   ],
   "source": [
    "System.out.println(Double.POSITIVE_INFINITY);\n",
    "System.out.println(Double.NEGATIVE_INFINITY);\n",
    "System.out.println(Double.NaN);"
   ]
  },
  {
   "cell_type": "code",
   "execution_count": 9,
   "metadata": {
    "ExecuteTime": {
     "end_time": "2019-09-12T07:23+0000",
     "start_time": "2019-09-12T07:23:46.082Z"
    },
    "solution2": "hidden"
   },
   "outputs": [
    {
     "name": "stdout",
     "output_type": "stream",
     "text": [
      "yes\n"
     ]
    }
   ],
   "source": [
    "// 检测一个数字是否是NaN\n",
    "Double x = Double.NaN;\n",
    "if(Double.isNaN(x)){\n",
    "    System.out.println(\"yes\");\n",
    "}"
   ]
  },
  {
   "cell_type": "code",
   "execution_count": 37,
   "metadata": {
    "ExecuteTime": {
     "end_time": "2019-09-12T07:59+0000",
     "start_time": "2019-09-12T07:59:53.413Z"
    },
    "solution2": "hidden"
   },
   "outputs": [
    {
     "name": "stdout",
     "output_type": "stream",
     "text": [
      "false\n"
     ]
    }
   ],
   "source": [
    "Double x = 10.0;\n",
    "Double y = Double.POSITIVE_INFINITY;\n",
    "System.out.println(x > y);"
   ]
  },
  {
   "cell_type": "markdown",
   "metadata": {
    "ExecuteTime": {
     "end_time": "2019-09-12T07:32+0000",
     "start_time": "2019-09-12T07:32:29.061Z"
    }
   },
   "source": [
    "## char类型"
   ]
  },
  {
   "cell_type": "markdown",
   "metadata": {
    "solution2": "hidden",
    "solution2_first": true
   },
   "source": [
    "\\u+十六进制 \n",
    "* 表示Unicode字符; \n",
    "* 表示特殊的转义字符 <br>\n",
    "    \\n \\u000a <br>\n",
    "    \\' \\u0027<br>"
   ]
  },
  {
   "cell_type": "code",
   "execution_count": 28,
   "metadata": {
    "ExecuteTime": {
     "end_time": "2019-09-12T07:38+0000",
     "start_time": "2019-09-12T07:38:15.230Z"
    },
    "solution2": "hidden"
   },
   "outputs": [
    {
     "name": "stdout",
     "output_type": "stream",
     "text": [
      "™\n",
      "'\n"
     ]
    }
   ],
   "source": [
    "System.out.println(\"\\u2122\");\n",
    "System.out.println(\"\\u0027\");"
   ]
  },
  {
   "cell_type": "markdown",
   "metadata": {
    "ExecuteTime": {
     "end_time": "2019-09-12T07:50+0000",
     "start_time": "2019-09-12T07:50:58.156Z"
    }
   },
   "source": [
    "\n",
    "## final类常量"
   ]
  },
  {
   "cell_type": "markdown",
   "metadata": {},
   "source": [
    "能够在一个类中的多个方法中使用。使用static final设置一个类常量。"
   ]
  },
  {
   "cell_type": "markdown",
   "metadata": {},
   "source": [
    "## 位运算符"
   ]
  },
  {
   "cell_type": "markdown",
   "metadata": {},
   "source": [
    "&，|，^(异或)，~(非)，>>，<<"
   ]
  },
  {
   "cell_type": "code",
   "execution_count": 42,
   "metadata": {
    "ExecuteTime": {
     "end_time": "2019-09-12T08:16+0000",
     "start_time": "2019-09-12T08:16:14.202Z"
    }
   },
   "outputs": [
    {
     "name": "stdout",
     "output_type": "stream",
     "text": [
      "1\n",
      "0\n"
     ]
    }
   ],
   "source": [
    "// 判断整形变量n如果用二进制表示，其倒数第4位是否为1\n",
    "int n = 0b101000;\n",
    "System.out.println((n & 0b1000) / 0b1000);\n",
    "n = 0b10001;\n",
    "System.out.println((n & 0b1000) / 0b1000);"
   ]
  },
  {
   "cell_type": "markdown",
   "metadata": {},
   "source": [
    "<font color='#f0110c' size=3>由于int占4字节，long占8字节，所以在使用右移左移运算符时，其右侧参数需要进行模32(int)，模64(long)的运算。如1<<35与1<<3, 8是相同的。</font>"
   ]
  },
  {
   "cell_type": "markdown",
   "metadata": {},
   "source": [
    "【补充】在Math类中，为了达到最快的性能，所有的方法都使用计算机浮点单元中的例程。如果要求结果在所有平台上都得到相同的结果，应使用StrictMath."
   ]
  },
  {
   "cell_type": "markdown",
   "metadata": {},
   "source": [
    "## 数据类型的转化"
   ]
  },
  {
   "attachments": {
    "image.png": {
     "image/png": "[encoded data removed]"
    }
   },
   "cell_type": "markdown",
   "metadata": {},
   "source": [
    "![image.png](attachment:image.png)"
   ]
  },
  {
   "cell_type": "markdown",
   "metadata": {},
   "source": [
    "实箭头不会丢失精度，虚箭头会。"
   ]
  },
  {
   "cell_type": "markdown",
   "metadata": {},
   "source": [
    "## 枚举类型"
   ]
  },
  {
   "cell_type": "markdown",
   "metadata": {
    "solution2": "hidden",
    "solution2_first": true
   },
   "source": [
    "变量的取值只限于某个集合内或者为null。"
   ]
  },
  {
   "cell_type": "code",
   "execution_count": 46,
   "metadata": {
    "ExecuteTime": {
     "end_time": "2019-09-12T08:42+0000",
     "start_time": "2019-09-12T08:42:49.818Z"
    },
    "solution2": "hidden"
   },
   "outputs": [
    {
     "name": "stdout",
     "output_type": "stream",
     "text": [
      "SMALL\n"
     ]
    }
   ],
   "source": [
    "enum Size {SMALL, MEDIUM, LARGE, EXTRA_LARGE}\n",
    "Size s = Size.SMALL;\n",
    "System.out.println(s);"
   ]
  },
  {
   "cell_type": "markdown",
   "metadata": {},
   "source": [
    "## 不可变字符串"
   ]
  },
  {
   "cell_type": "markdown",
   "metadata": {},
   "source": [
    "String类对象称为不可变字符串，它不提供修改字符串的方法。这种字符串可以共享。换言之，可以想象这种字符串存放在公共的存储池中，字符串变量指向存储池中相应的位置。如果复制一个字符串，原始字符串与复制的字符串共享相同的字符。"
   ]
  },
  {
   "cell_type": "markdown",
   "metadata": {},
   "source": [
    "1. 检查字符串相等：\n",
    "    * s.eqauls(t)\n",
    "    * == <br>\n",
    "    如果两者存放的位置相同，返回true，否则false。\n",
    "    \n",
    "【注意】只有字符串常量是共享的，而+或substring等操作产生的结果不是共享的。"
   ]
  },
  {
   "cell_type": "markdown",
   "metadata": {},
   "source": [
    "2. char序列的代码点与代码单元\n",
    "\n",
    "\n",
    "* Java字符串由char序列组成。\n",
    "* char数据类型是一个采用UTF-16编码表示Unicode代码点的代码单元。大多数常用Unicode字符使用一个代码单元，补充字符需要一对代码单元表示。\n",
    "* String.length返回字符串所需的代码单元数量。\n",
    "* 获取代码点的数量(字符串实际长度)：s.codePointCount(0, s.length());\n",
    "* s.charAt(n)：返回位置n的代码单元。\n",
    "* 获取第i个代码点：<br>\n",
    "    `int index = s.offsetByCodePoints(0, i); \n",
    "    int cp = s.codePointAt(index)`"
   ]
  },
  {
   "cell_type": "code",
   "execution_count": 7,
   "metadata": {
    "ExecuteTime": {
     "end_time": "2019-09-12T12:27+0000",
     "start_time": "2019-09-12T12:27:19.241Z"
    }
   },
   "outputs": [
    {
     "name": "stdout",
     "output_type": "stream",
     "text": [
      "6\n",
      "好\n",
      "1 22909\n"
     ]
    }
   ],
   "source": [
    "String s = \"你好，世界！\";\n",
    "System.out.println(s.length());\n",
    "\n",
    "System.out.println(s.charAt(1));\n",
    "\n",
    "int index = s.offsetByCodePoints(0, 1);\n",
    "int cp = s.codePointAt(index);\n",
    "System.out.println(index+\" \"+cp);"
   ]
  },
  {
   "cell_type": "markdown",
   "metadata": {
    "ExecuteTime": {
     "end_time": "2019-09-12T12:28+0000",
     "start_time": "2019-09-12T12:28:03.033Z"
    }
   },
   "source": [
    "3. StringBuilder与StringBuffer\n",
    "    * StringBuilder的前身是StringBuffer\n",
    "    * StringBuffer效率稍低，但允许多线程的方式添加或删除字符\n",
    "    * 若在单线程中应使用StringBuilder替代它。"
   ]
  },
  {
   "cell_type": "code",
   "execution_count": 17,
   "metadata": {
    "ExecuteTime": {
     "end_time": "2019-09-12T12:37+0000",
     "start_time": "2019-09-12T12:37:26.045Z"
    }
   },
   "outputs": [
    {
     "name": "stdout",
     "output_type": "stream",
     "text": [
      "好\n"
     ]
    }
   ],
   "source": [
    "StringBuilder sb = new StringBuilder();\n",
    "sb.appendCodePoint(22909);\n",
    "System.out.println(sb);"
   ]
  },
  {
   "cell_type": "markdown",
   "metadata": {},
   "source": [
    "## 字符串的读取"
   ]
  },
  {
   "cell_type": "markdown",
   "metadata": {},
   "source": [
    "* nextLine()：读取一行，行中可以包含空格。\n",
    "* next()：读取一个单词"
   ]
  },
  {
   "cell_type": "markdown",
   "metadata": {
    "ExecuteTime": {
     "end_time": "2019-09-12T12:44+0000",
     "start_time": "2019-09-12T12:44:16.869Z"
    },
    "solution2": "hidden",
    "solution2_first": true
   },
   "source": [
    "* 创建格式化的字符串：String.format()"
   ]
  },
  {
   "cell_type": "code",
   "execution_count": 20,
   "metadata": {
    "ExecuteTime": {
     "end_time": "2019-09-12T12:50+0000",
     "start_time": "2019-09-12T12:50:04.895Z"
    },
    "solution2": "hidden"
   },
   "outputs": [
    {
     "name": "stdout",
     "output_type": "stream",
     "text": [
      "Hello, 小明. Next year, you will be 23\n"
     ]
    }
   ],
   "source": [
    "String s = String.format(\"Hello, %s. Next year, you will be %d\",\"小明\", 23);\n",
    "System.out.println(s);"
   ]
  },
  {
   "cell_type": "markdown",
   "metadata": {},
   "source": [
    "## 文件输入与输出"
   ]
  },
  {
   "cell_type": "markdown",
   "metadata": {
    "solution2": "hidden",
    "solution2_first": true
   },
   "source": [
    "* 从文件中读取：<br>\n",
    "    Scanner in = new Scanner(Paths.get(\"Myfile.txt\"));\n",
    "* 输出到文件：<br>\n",
    "    PrintWriter out = new PrintWriter(\"Myfile.txt\")"
   ]
  },
  {
   "cell_type": "code",
   "execution_count": 23,
   "metadata": {
    "ExecuteTime": {
     "end_time": "2019-09-12T12:55+0000",
     "start_time": "2019-09-12T12:55:26.349Z"
    },
    "solution2": "hidden"
   },
   "outputs": [
    {
     "name": "stdout",
     "output_type": "stream",
     "text": [
      "Myfile.txt\n"
     ]
    }
   ],
   "source": [
    "// 这种只会读入参数作为数据\n",
    "Scanner in = new Scanner(\"Myfile.txt\");\n",
    "System.out.println(in.next());"
   ]
  },
  {
   "cell_type": "markdown",
   "metadata": {},
   "source": [
    "## 大数运算"
   ]
  },
  {
   "cell_type": "markdown",
   "metadata": {},
   "source": [
    "* BigInteger：实现了任意精度的整数运算\n",
    "* BigDecimal：实现了任意精度的浮点运算\n",
    "\n",
    "【注意】加减乘除运算需要使用相应的函数。"
   ]
  },
  {
   "cell_type": "markdown",
   "metadata": {},
   "source": [
    "## 数组拷贝"
   ]
  },
  {
   "cell_type": "code",
   "execution_count": 33,
   "metadata": {
    "ExecuteTime": {
     "end_time": "2019-09-12T14:12+0000",
     "start_time": "2019-09-12T14:12:15.022Z"
    }
   },
   "outputs": [
    {
     "name": "stdout",
     "output_type": "stream",
     "text": [
      "[I@336527c4 [I@2cbe8a44\n",
      "1 2 3 4 5 6 7 8 9 \n",
      "1 2 3 4 5 6 7 8 9 0 0 0 0 0 0 0 0 0 "
     ]
    }
   ],
   "source": [
    "// 通常用于增大数组大小\n",
    "int[] a = {1,2,3,4,5,6,7,8,9};\n",
    "int[] copyA = Arrays.copyOf(a, 2 * a.length);\n",
    "System.out.println(copyA+\" \"+a);\n",
    "for (int e : a){\n",
    "    System.out.print(e+\" \");\n",
    "}\n",
    "System.out.println();\n",
    "for (int e : copyA){\n",
    "    System.out.print(e+\" \");\n",
    "}"
   ]
  },
  {
   "cell_type": "markdown",
   "metadata": {},
   "source": [
    "# 对象与类"
   ]
  },
  {
   "cell_type": "markdown",
   "metadata": {},
   "source": [
    "1. 只有类成员变量会被赋初值，局部变量不会。\n",
    "2. final修饰对象引用，是说该引用的指向不可变，其内容仍可改变。\n",
    "3. 静态方法不能操作对象，但可以访问自身类中的静态域。\n",
    "4. 类定义中的初始化块：<br>\n",
    "    只要实例化对象，该初始化块就会被调用。初始化块先于构造器调用。<br>\n",
    "   静态初始化块可以初始化静态域。<br>\n",
    "5. 包<br>\n",
    "    一个类可以使用所属包中的所有类，以及其他包中的共有类。<br>\n",
    "    当代码中使用多个同名但不同包的类时，需要使用包路径来具体指定是哪个类。<br>\n",
    "6. 导入静态方法和静态域\n",
    "7. 包的作用域：<br>\n",
    "    public：可被任何类使用<br>\n",
    "    provate：只能被定义它的类使用<br>\n",
    "    默认：可被同一个包中所有方法访问 <br>"
   ]
  },
  {
   "cell_type": "code",
   "execution_count": null,
   "metadata": {
    "ExecuteTime": {
     "end_time": "2019-09-13T08:24+0000",
     "start_time": "2019-09-13T08:24:19.624Z"
    }
   },
   "outputs": [],
   "source": [
    "8. 类路径\n",
    "    所有的类文件都存放在/home/user/classdir中，所有的jar包放在/home/user/archives中。\n",
    "    则类路径设置为：/home/user/classdir:.:/home/user/archives/archive.jar\n",
    "    javac编译器总是在当前目录中查找文件，而Java虚拟机仅在类路径中有“.”目录时才会查看当前目录。\n",
    "    虚拟机搜寻某个类文件的查找顺序：\n",
    "        系统类文件jre/lib和jre/lib/ext\n",
    "        /home/user/classdir/com/horstmann/corejava/Employee.class\n",
    "        com/horstmann/corejava/Employee.class 从当前目录开始\n",
    "        com/horstmann/corejava/Employee.class inside /home/user/archives/archive.jar\n",
    "    类路径包含三部分：基目录 /home/user/classdir；当前目录(.)；jar文件/home/user/archives/archive.jar\n",
    "    类路径的设置：\n",
    "        java -classpath /home/user/classdir:.:/home/user/archives/archive.jar"
   ]
  },
  {
   "cell_type": "markdown",
   "metadata": {},
   "source": [
    "# 继承"
   ]
  },
  {
   "cell_type": "markdown",
   "metadata": {},
   "source": [
    "## ArrayList"
   ]
  },
  {
   "cell_type": "markdown",
   "metadata": {},
   "source": [
    "ArrayList的容量会按需增大，当存储空间不够，系统会将所有元素复制到一个更大的数组中。在定义ArrayList对象时可以指定容量，当可以预判元素的个数时，可以在添加元素之前调用ensureCapasity()固定数组的容量。当出现ArrayList出现多余空间，可以使用trimToSize()将存储空间调整为当前元素数量所需的存储空间数目。"
   ]
  },
  {
   "cell_type": "markdown",
   "metadata": {},
   "source": [
    "## 枚举类"
   ]
  },
  {
   "cell_type": "code",
   "execution_count": null,
   "metadata": {},
   "outputs": [],
   "source": [
    "enum Size{\n",
    "    // 必须在首行\n",
    "    SMALL(\"S\"), MEDIUM(\"M\"), LARGE(\"L\"),EXTRA_LARGE(\"XL\");\n",
    "\n",
    "    private String abbreviation;\n",
    "    private Size(String abbreviation){this.abbreviation = abbreviation;}\n",
    "    public String getAbbreviation(){ return abbreviation;}\n",
    "}\n",
    "\n",
    "public class No1 {\n",
    "    public static void main(String[] args) {\n",
    "        Scanner in = new Scanner(System.in);\n",
    "        String input=in.next().toUpperCase();\n",
    "        Size size = Enum.valueOf(Size.class, input); // input是全称如small不是S\n",
    "        System.out.println(\"size = \"+size);\n",
    "        System.out.println(\"abbreviation=\"+size.getAbbreviation());\n",
    "        // Size.values()返回包含全部枚举值的数组\n",
    "        for (Size value : Size.values()){\n",
    "            System.out.print(value+\" \");\n",
    "        }\n",
    "        System.out.println();\n",
    "        // 返回枚举常量的位置\n",
    "        System.out.println(Size.MEDIUM.ordinal());\n",
    "    }\n",
    "}"
   ]
  },
  {
   "attachments": {
    "image.png": {
     "image/png": "[encoded data removed]"
    }
   },
   "cell_type": "markdown",
   "metadata": {},
   "source": [
    "![image.png](attachment:image.png)"
   ]
  },
  {
   "cell_type": "markdown",
   "metadata": {},
   "source": [
    "## 反射"
   ]
  },
  {
   "cell_type": "code",
   "execution_count": null,
   "metadata": {},
   "outputs": [],
   "source": [
    "class User{\n",
    "    private int age;\n",
    "    private String uname;\n",
    "    public User(){}\n",
    "}\n",
    "\n",
    "public class No1 {\n",
    "    public static void main(String[] args) {\n",
    "        try {\n",
    "            Class<?> user = Class.forName(\"java_tech.User\");\n",
    "            System.out.println(\"user1 = \" + user.hashCode());\n",
    "\n",
    "            Class<?> user1 = Class.forName(\"java_tech.User\");\n",
    "            System.out.println(\"user2 = \" + user1.hashCode());\n",
    "        } catch (Exception e) {\n",
    "            e.printStackTrace();\n",
    "        }\n",
    "    }\n",
    "}"
   ]
  },
  {
   "attachments": {
    "image.png": {
     "image/png": "[encoded data removed]"
    }
   },
   "cell_type": "markdown",
   "metadata": {},
   "source": [
    "![image.png](attachment:image.png)"
   ]
  },
  {
   "cell_type": "markdown",
   "metadata": {},
   "source": [
    "同一个对象只会被加载一次。"
   ]
  },
  {
   "cell_type": "markdown",
   "metadata": {},
   "source": [
    "Class对象的获取方式：\n",
    "* 对象.getClass()\n",
    "* 对象类型.class\n",
    "* Class.forName()\n",
    "\n",
    "通过这三种方式获取同一个类型的class对象将会是同一个。"
   ]
  },
  {
   "cell_type": "markdown",
   "metadata": {},
   "source": [
    "class, interface, enum, anotation, 8种基本数据，void都可以通过反射获取。"
   ]
  },
  {
   "cell_type": "markdown",
   "metadata": {},
   "source": [
    "可以获取有参的构造函数进行对象的初始化。有参构造器.newInstance();<br>\n",
    "获取有参的成员函数，通过method.invoke()来使用。"
   ]
  },
  {
   "cell_type": "code",
   "execution_count": null,
   "metadata": {
    "ExecuteTime": {
     "end_time": "2019-09-16T00:56+0000",
     "start_time": "2019-09-16T00:56:25.873Z"
    }
   },
   "outputs": [],
   "source": [
    "--> java.lang.Class\n",
    "    static Class forName(String className); // 返回className的Class对象。\n",
    "    Object newInstance(); //返回这个类的实例\n",
    "    \n",
    "--> java.lang.reflect.Constructor\n",
    "    Object newInstance(Object[] args); // 通过带参构造器构造类的实例"
   ]
  },
  {
   "cell_type": "code",
   "execution_count": null,
   "metadata": {},
   "outputs": [],
   "source": [
    "--> java.lang.Class\n",
    "    Field[] getField() // 返回本类及超类的公有域\n",
    "    Field[] getDeclaredFields() // 返回本类的全部域\n",
    "    【注意】域中不包括基本类型和数组类型。\n",
    "    \n",
    "    Method[] getMethod() // 返回本类及超类的共有方法\n",
    "    Method[] getDeclareMethods() // 返回本类或接口的全部方法\n",
    "    \n",
    "    Constructor[] getConstructors() // 返回本类所有的共有构造器\n",
    "    Constructor[] getDeclaredConstructors() //返回所有构造器\n",
    "    \n",
    "----------------------------------------------------------------\n",
    "--> java.lang.reflect.Field, java.lang.reflect.Method, java.lang.reflect.Construcotr\n",
    "    Class getDeclaringClass() // \n",
    "    Class[] getExceptionTypes() (在Constructor和Method类中)\n",
    "    int getModifiers() \n",
    "    String getName() // 返回构造器名，方法名，域名的字符串\n",
    "    Class[] getParameterTypes() (在Constructor和Method类中) // 获取参数类型\n",
    "    Class getReturnType() (在Method类中) // 返回方法的返回值类型\n",
    "    Class getType() (在Field类中) // 返回Field定义时的数据类型。\n",
    "    \n",
    "\n",
    "--> java.lang.reflect.Modifier\n",
    "    static String toString(int modifiers)\n",
    "    static boolean isAbstract(int modifiers)\n",
    "    static boolean isFinal(int modifiers)\n",
    "    static boolean isInterface(int modifiers)\n",
    "    static boolean isNative(int modifiers)\n",
    "    static boolean isPrivate(int modifiers)\n",
    "    static boolean isProtected(int modifiers)\n",
    "    static boolean isPublic(int modifiers)\n",
    "    static boolean isStatic(int modifiers)\n",
    "    static boolean isStrict(int modifiers)\n",
    "    static boolean isSynchronized(int modifiers)\n",
    "    static boolean isVolatile(int modifiers)\n",
    "    "
   ]
  },
  {
   "cell_type": "code",
   "execution_count": null,
   "metadata": {},
   "outputs": [],
   "source": [
    "public class No1 {\n",
    "    public static void main(String[] args) {\n",
    "        String name;\n",
    "        Scanner in = new Scanner(System.in);\n",
    "        System.out.println(\"Enter class name (e.g. java.util.Date)\");\n",
    "        name = in.next();\n",
    "\n",
    "        try {\n",
    "            Class<?> cl = Class.forName(name);\n",
    "            Class<?> supercl = cl.getSuperclass();\n",
    "            String modifiers = Modifier.toString(cl.getModifiers());\n",
    "            if (modifiers.length() > 0)\n",
    "                System.out.print(modifiers+\" \");\n",
    "            System.out.print(\"class \"+name);\n",
    "            if (supercl != null && supercl != Object.class)\n",
    "                System.out.print(\" extends \"+supercl.getName());\n",
    "\n",
    "            System.out.print(\"\\n{\\n\");\n",
    "            printConstructors(cl);\n",
    "            System.out.println();\n",
    "            printMethods(cl);\n",
    "            System.out.println();\n",
    "            printFields(cl);\n",
    "            System.out.println(\"}\");\n",
    "        } catch (ClassNotFoundException e ){\n",
    "            e.printStackTrace();\n",
    "        }\n",
    "    }\n",
    "\n",
    "    public static void printConstructors(Class cl){\n",
    "        Constructor[] constructors = cl.getDeclaredConstructors();\n",
    "        for (Constructor c : constructors){\n",
    "            String name = c.getName();\n",
    "            System.out.print(\"   \");\n",
    "            String modifiers = Modifier.toString(c.getModifiers());\n",
    "            if (modifiers.length() > 0)\n",
    "                System.out.print(modifiers+\" \");\n",
    "            System.out.print(name+\"(\");\n",
    "\n",
    "            // 打印参数类型\n",
    "            Class[] paramTypes = c.getParameterTypes();\n",
    "            for (int j = 0; j < paramTypes.length; j++){\n",
    "                if (j > 0)\n",
    "                    System.out.print(\", \");\n",
    "                System.out.print(paramTypes[j].getName());\n",
    "            }\n",
    "            System.out.println(\");\");\n",
    "        }\n",
    "    }\n",
    "\n",
    "    public static void printMethods(Class cl){\n",
    "        Method[] methods = cl.getDeclaredMethods();\n",
    "        for (Method m : methods){\n",
    "            Class<?> returnType = m.getReturnType();\n",
    "            String name = m.getName();\n",
    "\n",
    "            System.out.print(\"   \");\n",
    "            // 打印modifiers，return type，method name\n",
    "            String modifiers = Modifier.toString(m.getModifiers());\n",
    "            if (modifiers.length() > 0)\n",
    "                System.out.print(modifiers+\" \");\n",
    "            System.out.print(returnType.getName()+\" \"+name+\"(\");\n",
    "\n",
    "            // 打印参数类型\n",
    "            Class<?>[] paramTypes = m.getParameterTypes();\n",
    "            for (int j = 0; j < paramTypes.length;  j++){\n",
    "                if (j > 0)\n",
    "                    System.out.print(\", \");\n",
    "                System.out.print(paramTypes[j].getName());\n",
    "            }\n",
    "            System.out.println(\");\");\n",
    "        }\n",
    "    }\n",
    "\n",
    "    public static void printFields(Class cl){\n",
    "        Field[] fields = cl.getDeclaredFields();\n",
    "        for (Field f : fields){\n",
    "            Class<?> type = f.getType();\n",
    "            String name = f.getName();\n",
    "            System.out.print(\"   \");\n",
    "\n",
    "            String modifiers = Modifier.toString(f.getModifiers());\n",
    "            if (modifiers.length() > 0)\n",
    "                System.out.print(modifiers+\" \");\n",
    "            System.out.println(type.getName()+\" \"+name+\";\");\n",
    "        }\n",
    "    }\n",
    "}"
   ]
  },
  {
   "cell_type": "code",
   "execution_count": null,
   "metadata": {},
   "outputs": [],
   "source": [
    "// 运行结果\n",
    "public class java.util.Date\n",
    "{\n",
    "   public java.util.Date(int, int, int, int, int, int);\n",
    "   public java.util.Date();\n",
    "   public java.util.Date(int, int, int, int, int);\n",
    "   public java.util.Date(java.lang.String);\n",
    "   public java.util.Date(long);\n",
    "   public java.util.Date(int, int, int);\n",
    "\n",
    "   public void setYear(int);\n",
    "   public int getMonth();\n",
    "   public void setMonth(int);\n",
    "   public void setDate(int);\n",
    "   public int getDay();\n",
    "   public int getHours();\n",
    "   public void setHours(int);\n",
    "   public int getMinutes();\n",
    "   public void setMinutes(int);\n",
    "   public void setSeconds(int);\n",
    "   private final long getTimeImpl();\n",
    "   static final long getMillisOf(java.util.Date);\n",
    "   private static final java.lang.StringBuilder convertToAbbr(java.lang.StringBuilder, java.lang.String);\n",
    "   public java.lang.String toLocaleString();\n",
    "   public java.lang.String toGMTString();\n",
    "   public int getTimezoneOffset();\n",
    "   private final sun.util.calendar.BaseCalendar$Date getCalendarDate();\n",
    "   private static final sun.util.calendar.BaseCalendar getCalendarSystem(long);\n",
    "   private static final sun.util.calendar.BaseCalendar getCalendarSystem(int);\n",
    "   private static final sun.util.calendar.BaseCalendar getCalendarSystem(sun.util.calendar.BaseCalendar$Date);\n",
    "   private static final synchronized sun.util.calendar.BaseCalendar getJulianCalendar();\n",
    "   public void setTime(long);\n",
    "   public int getDate();\n",
    "   public int getSeconds();\n",
    "   public java.time.Instant toInstant();\n",
    "   public static long UTC(int, int, int, int, int, int);\n",
    "   public int getYear();\n",
    "   public long getTime();\n",
    "   public boolean before(java.util.Date);\n",
    "   public boolean after(java.util.Date);\n",
    "   public boolean equals(java.lang.Object);\n",
    "   public java.lang.String toString();\n",
    "   public int hashCode();\n",
    "   public java.lang.Object clone();\n",
    "   public int compareTo(java.util.Date);\n",
    "   public volatile int compareTo(java.lang.Object);\n",
    "   public static java.util.Date from(java.time.Instant);\n",
    "   private void readObject(java.io.ObjectInputStream);\n",
    "   private void writeObject(java.io.ObjectOutputStream);\n",
    "   private final sun.util.calendar.BaseCalendar$Date normalize();\n",
    "   private final sun.util.calendar.BaseCalendar$Date normalize(sun.util.calendar.BaseCalendar$Date);\n",
    "   public static long parse(java.lang.String);\n",
    "\n",
    "   private static final sun.util.calendar.BaseCalendar gcal;\n",
    "   private static sun.util.calendar.BaseCalendar jcal;\n",
    "   private transient long fastTime;\n",
    "   private transient sun.util.calendar.BaseCalendar$Date cdate;\n",
    "   private static int defaultCenturyStart;\n",
    "   private static final long serialVersionUID;\n",
    "   private static final [Ljava.lang.String; wtb;\n",
    "   private static final [I ttb;\n",
    "}"
   ]
  },
  {
   "cell_type": "code",
   "execution_count": null,
   "metadata": {},
   "outputs": [],
   "source": [
    "读取域中的值：\n",
    "Employee harry = new Employee(\"Harry Hacker\",35000,10,1,1989);\n",
    "Class cl = harry.getClass();\n",
    "Field f = cl.getDeclaredField(\"name\");\n",
    "f.setAccessible(true); // 覆盖访问控制，使得值可被读取\n",
    "Object v = f.get(harry); // 对于基本类型要使用像f.getDouble()等，它完成自动装箱，返回一个Object\n",
    "\n",
    "f.set(obj, value); // 将obj对象的f域设置为新值"
   ]
  },
  {
   "cell_type": "code",
   "execution_count": null,
   "metadata": {},
   "outputs": [],
   "source": [
    "--> java.lang.reflect.AccessibleObject\n",
    "    void setAccessible(boolean flag);\n",
    "    boolean isAccessible();\n",
    "    static void setAccessible(AccessibleObject[] array, boolean flag); //设置数组可访问标志的方法"
   ]
  },
  {
   "cell_type": "markdown",
   "metadata": {},
   "source": []
  },
  {
   "cell_type": "markdown",
   "metadata": {},
   "source": []
  },
  {
   "cell_type": "markdown",
   "metadata": {},
   "source": []
  },
  {
   "cell_type": "markdown",
   "metadata": {},
   "source": []
  }
 ],
 "metadata": {
  "kernelspec": {
   "display_name": "Java",
   "language": "java",
   "name": "java"
  },
  "language_info": {
   "codemirror_mode": "java",
   "file_extension": ".java",
   "mimetype": "text/x-java-source",
   "name": "Java",
   "pygments_lexer": "java",
   "version": "11.0.4+11-post-Ubuntu-1ubuntu218.04.3"
  },
  "toc": {
   "base_numbering": 1,
   "nav_menu": {},
   "number_sections": true,
   "sideBar": true,
   "skip_h1_title": false,
   "title_cell": "Table of Contents",
   "title_sidebar": "Contents",
   "toc_cell": false,
   "toc_position": {},
   "toc_section_display": true,
   "toc_window_display": false
  }
 },
 "nbformat": 4,
 "nbformat_minor": 2
}
