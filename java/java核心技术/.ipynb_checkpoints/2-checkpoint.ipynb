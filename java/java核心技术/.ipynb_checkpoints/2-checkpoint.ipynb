{
 "cells": [
  {
   "cell_type": "markdown",
   "metadata": {},
   "source": [
    "# 泛型"
   ]
  },
  {
   "cell_type": "markdown",
   "metadata": {},
   "source": [
    "## 定义简单泛型类"
   ]
  },
  {
   "cell_type": "code",
   "execution_count": null,
   "metadata": {},
   "outputs": [],
   "source": [
    "public class Pair<T>{\n",
    "    private T first;\n",
    "    private T second;\n",
    "    \n",
    "    public Pair(){first = null; second = null;}\n",
    "    public Pair(T first, T second){this.first = first; this.second = second;}\n",
    "    \n",
    "    public T getFirst(){return first;}\n",
    "    public T getSecond(){return second;}\n",
    "    \n",
    "    public void setFirst(T newValue){first = newValue;}\n",
    "    public void setSecond(T newValue){second = newValue;}\n",
    "}"
   ]
  },
  {
   "cell_type": "markdown",
   "metadata": {},
   "source": [
    "泛型类可以指定多种类型：public class Pair<T, U>{...}"
   ]
  },
  {
   "cell_type": "markdown",
   "metadata": {},
   "source": [
    "## 泛型方法"
   ]
  },
  {
   "cell_type": "markdown",
   "metadata": {},
   "source": [
    "* 泛型方法可以定义在普通类中，也可以定义在泛型类中<br>\n",
    "    class ArrayAlg{\n",
    "        public static <T> T getMiddle(T... a){\n",
    "            return a[a.length / 2];\n",
    "        }\n",
    "    }\n",
    "* 调用泛型方法时，要在方法名前的尖括号中放入具体类型<br>\n",
    "    String middle = ArrayAlg.<String>getMiddle(\"John\",\"Q.\",\"Public\");<br>\n",
    "    当泛型方法的参数是同类型的时候，可以省略在方法名前加具体类型：<br>\n",
    "    String middel = ArrayAlg.getMiddle(\"John\",\"Q.\",\"Public\");"
   ]
  },
  {
   "cell_type": "markdown",
   "metadata": {},
   "source": [
    "## 类型变量的限定"
   ]
  },
  {
   "cell_type": "markdown",
   "metadata": {},
   "source": [
    "* 这种限定是对泛型传入的类型所做的限定。<br>如 public static <T extends Comparable> T min(T[] a) ...，传入的类型T必须是实现了Comparable接口的。\n",
    "* 可以使用多个限定：用‘&’来分隔<br>\n",
    "    T extends Comparable & Serializable\n",
    "* Java可以继承一个类和多个接口。如果用一个类作为限定，那它必须是限定列表的第一个。"
   ]
  },
  {
   "cell_type": "markdown",
   "metadata": {},
   "source": [
    "## 泛型代码与虚拟机"
   ]
  },
  {
   "cell_type": "markdown",
   "metadata": {},
   "source": [
    "* 虚拟机没有泛型类型的对象，所有对象都属于普通类。\n",
    "* 在虚拟机中所有的泛型都会被擦除(erased)\n",
    "* 无限定的变量擦除后用Object代替：<br>\n",
    "    如Pair\\\\<T\\>的原始类型为：<br>\n",
    "    public class Pair{\n",
    "        private Object first;\n",
    "        private Object second;\n",
    "        \n",
    "        public Pair(Object first, Object second){\n",
    "            this.first = first;\n",
    "            this.second = second;\n",
    "        }\n",
    "        \n",
    "        public Object getFirst(){return first;}\n",
    "        public Object getSecond(){return second;}\n",
    "        \n",
    "        public void setFirst(Object newValue) {first = newValue;}\n",
    "        public void setSecond(Object newValue) {second = newValue;}\n",
    "    }\n",
    "* 对于有限定的类型变量来说：（原始类型用第一个限定变量来替换）<br>\n",
    "    public class Interval<T extends Comparable & Serializable> implements Serializable{\n",
    "        private T lower;\n",
    "        private T upper;\n",
    "        \n",
    "        public Interval(T first, T second){\n",
    "            if(first.compareTo(second) < 0) {lower = first; upper = second;}\n",
    "            else {lower = second; upper = first;}\n",
    "        }\n",
    "    }\n",
    "    \n",
    "    其原始类型Interval:<br>\n",
    "    public class Interval implements Serializable{\n",
    "        private Comparable lower;\n",
    "        private Comparable upper;\n",
    "        public Interval(Comparable first, Comparable second){...}\n",
    "    }"
   ]
  },
  {
   "cell_type": "markdown",
   "metadata": {},
   "source": [
    "### 翻译泛型表达式"
   ]
  },
  {
   "cell_type": "code",
   "execution_count": null,
   "metadata": {
    "ExecuteTime": {
     "end_time": "2019-09-18T06:28+0000",
     "start_time": "2019-09-18T06:28:11.701Z"
    }
   },
   "outputs": [],
   "source": [
    "当程序调用泛型方法时，如：\n",
    "    Pair<Employee> buddies = ...;\n",
    "    Employee buddy = buddies.getFirst();\n",
    "    编译器的行为：\n",
    "        对原始方法Pair.getFirst()的调用；\n",
    "        将返回的Object类型强制转换为Employee类型；\n",
    "        \n",
    "当存取一个泛型域时也要插入强制类型转换：(假设first域和second域是共有的)\n",
    "    Employee buddy = buddies.first;"
   ]
  },
  {
   "cell_type": "markdown",
   "metadata": {},
   "source": [
    "### 翻译泛型方法"
   ]
  },
  {
   "cell_type": "code",
   "execution_count": null,
   "metadata": {},
   "outputs": [],
   "source": [
    "泛型方法中的类型擦除：\n",
    "     如：\n",
    "     public static <T extends Comparable> T min(T[] a) \n",
    "  -->public static Comparable min(Comparable[] a)"
   ]
  },
  {
   "cell_type": "code",
   "execution_count": null,
   "metadata": {
    "ExecuteTime": {
     "end_time": "2019-09-18T06:54+0000",
     "start_time": "2019-09-18T06:54:31.023Z"
    }
   },
   "outputs": [],
   "source": [
    "类型擦除带来的问题：\n",
    "1. 与多态发生冲突\n",
    "    class DateInterval extends Pair<Date>{\n",
    "        public void getSecond(Date second){...}\n",
    "    }\n",
    "擦除后：\n",
    "    class DateInterval extends Pair{\n",
    "        public void getSecond(Date second){...}\n",
    "    }\n",
    "因为Pair中有public void setSecond(Object second)方法，参数类型都不一样，显然这是两个不同的方法。\n",
    "对于下面代码：\n",
    "    DateInterval interval = new DateInterval(...);\n",
    "    Pair<Date> pair = interval;\n",
    "    pair.setSecond(aDate);\n",
    "    \n",
    "    我们希望pair.setSecond(aDate)具有多态性，然事实并非如此，它会调用public void setSecond(Object second)方法，\n",
    "    而不是DateInterval.setSecond(Date second)。\n",
    "    \n",
    "    问题的解决：\n",
    "        编译器在类DateInterval中生成一个桥方法：\n",
    "        public void setSecond(Object second){setSecond((Date)second);}\n",
    "        \n",
    "2. 假设DateInterval也覆盖了getSecond()，在擦除的类型中就会有两个getSecond()，如\n",
    "    class DateInterval extends Pair<Date>{\n",
    "        public Date getSecond(){return (Date)super.getSecond().clone();}\n",
    "    }\n",
    "    \n",
    "    擦除后的类型中有两个方法：\n",
    "    Date getSecond()\n",
    "    Object getSecond()\n",
    "    具有相同参数类型的两个方法是不合法的，但Java虚拟机用参数类型和返回类型确定一个方法，故虚拟机可以正确处理这一情况。"
   ]
  },
  {
   "cell_type": "markdown",
   "metadata": {},
   "source": []
  },
  {
   "cell_type": "markdown",
   "metadata": {},
   "source": []
  },
  {
   "cell_type": "markdown",
   "metadata": {},
   "source": []
  },
  {
   "cell_type": "markdown",
   "metadata": {},
   "source": []
  },
  {
   "cell_type": "markdown",
   "metadata": {},
   "source": []
  },
  {
   "cell_type": "markdown",
   "metadata": {},
   "source": []
  },
  {
   "cell_type": "markdown",
   "metadata": {},
   "source": []
  },
  {
   "cell_type": "markdown",
   "metadata": {},
   "source": []
  },
  {
   "cell_type": "markdown",
   "metadata": {},
   "source": []
  },
  {
   "cell_type": "markdown",
   "metadata": {},
   "source": []
  },
  {
   "cell_type": "markdown",
   "metadata": {},
   "source": []
  },
  {
   "cell_type": "markdown",
   "metadata": {},
   "source": []
  },
  {
   "cell_type": "markdown",
   "metadata": {},
   "source": []
  },
  {
   "cell_type": "markdown",
   "metadata": {},
   "source": []
  },
  {
   "cell_type": "markdown",
   "metadata": {},
   "source": []
  },
  {
   "cell_type": "markdown",
   "metadata": {},
   "source": []
  },
  {
   "cell_type": "markdown",
   "metadata": {},
   "source": []
  },
  {
   "cell_type": "markdown",
   "metadata": {},
   "source": []
  },
  {
   "cell_type": "markdown",
   "metadata": {},
   "source": []
  },
  {
   "cell_type": "markdown",
   "metadata": {},
   "source": []
  },
  {
   "cell_type": "markdown",
   "metadata": {},
   "source": []
  },
  {
   "cell_type": "markdown",
   "metadata": {},
   "source": []
  },
  {
   "cell_type": "markdown",
   "metadata": {},
   "source": []
  },
  {
   "cell_type": "markdown",
   "metadata": {},
   "source": []
  },
  {
   "cell_type": "markdown",
   "metadata": {},
   "source": []
  },
  {
   "cell_type": "markdown",
   "metadata": {},
   "source": []
  },
  {
   "cell_type": "markdown",
   "metadata": {},
   "source": []
  },
  {
   "cell_type": "markdown",
   "metadata": {},
   "source": []
  },
  {
   "cell_type": "markdown",
   "metadata": {},
   "source": []
  },
  {
   "cell_type": "markdown",
   "metadata": {},
   "source": []
  },
  {
   "cell_type": "markdown",
   "metadata": {},
   "source": []
  },
  {
   "cell_type": "markdown",
   "metadata": {},
   "source": []
  },
  {
   "cell_type": "markdown",
   "metadata": {},
   "source": []
  }
 ],
 "metadata": {
  "kernelspec": {
   "display_name": "Java",
   "language": "java",
   "name": "java"
  },
  "language_info": {
   "codemirror_mode": "java",
   "file_extension": ".java",
   "mimetype": "text/x-java-source",
   "name": "Java",
   "pygments_lexer": "java",
   "version": "11.0.4+11-post-Ubuntu-1ubuntu218.04.3"
  },
  "toc": {
   "base_numbering": 1,
   "nav_menu": {},
   "number_sections": true,
   "sideBar": true,
   "skip_h1_title": false,
   "title_cell": "Table of Contents",
   "title_sidebar": "Contents",
   "toc_cell": false,
   "toc_position": {},
   "toc_section_display": true,
   "toc_window_display": false
  }
 },
 "nbformat": 4,
 "nbformat_minor": 2
}
