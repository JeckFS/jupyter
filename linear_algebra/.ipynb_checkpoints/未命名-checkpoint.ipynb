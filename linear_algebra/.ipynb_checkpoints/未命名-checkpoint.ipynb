{
 "cells": [
  {
   "cell_type": "markdown",
   "metadata": {},
   "source": [
    "<img src='images/1.png'/>\n"
   ]
  },
  {
   "cell_type": "markdown",
   "metadata": {},
   "source": [
    "<img src='images/2.png'/>\n"
   ]
  },
  {
   "cell_type": "markdown",
   "metadata": {},
   "source": [
    "<img src='images/3.png'/>\n"
   ]
  },
  {
   "cell_type": "markdown",
   "metadata": {},
   "source": [
    "积分和求导都是线性的。\n",
    "<img src='images/4.png'/>\n"
   ]
  },
  {
   "cell_type": "markdown",
   "metadata": {},
   "source": [
    "矩阵相乘的另一种方法："
   ]
  },
  {
   "cell_type": "markdown",
   "metadata": {},
   "source": [
    "<img src='images/5.png'/>\n"
   ]
  },
  {
   "cell_type": "markdown",
   "metadata": {},
   "source": [
    "矩阵相乘可以看做一堆rank=1的矩阵相加：\n",
    "<img src='images/6.png'/>\n"
   ]
  },
  {
   "cell_type": "markdown",
   "metadata": {},
   "source": [
    "<img src='images/7.png'/>\n"
   ]
  },
  {
   "cell_type": "markdown",
   "metadata": {},
   "source": [
    "<img src='images/8.png'/>\n"
   ]
  },
  {
   "cell_type": "markdown",
   "metadata": {},
   "source": [
    "<img src='images/9.png'/>\n"
   ]
  },
  {
   "cell_type": "markdown",
   "metadata": {},
   "source": [
    "<img src='images/10.png'/>\n"
   ]
  },
  {
   "cell_type": "markdown",
   "metadata": {},
   "source": [
    "<img src='images/11.png'/>\n"
   ]
  },
  {
   "cell_type": "markdown",
   "metadata": {},
   "source": [
    "<img src='images/12.png'/>\n"
   ]
  },
  {
   "cell_type": "markdown",
   "metadata": {},
   "source": [
    "行列式就是多维空间的体积："
   ]
  },
  {
   "cell_type": "markdown",
   "metadata": {},
   "source": [
    "<img src='images/13.png'/>\n"
   ]
  },
  {
   "cell_type": "markdown",
   "metadata": {},
   "source": [
    "<img src='images/15.png'/>\n"
   ]
  },
  {
   "cell_type": "markdown",
   "metadata": {},
   "source": [
    "----"
   ]
  },
  {
   "cell_type": "markdown",
   "metadata": {},
   "source": [
    "特征值特征向量：\n",
    "下图$\n",
    "\\left (\n",
    "\\begin{matrix}\n",
    "x\\\\\n",
    "0\n",
    "\\end{matrix}\n",
    "\\right )\n",
    "$是变换矩阵$T$的一个特征向量，其特征值为1，表现为该向量上的坐标点不变，其他位置的x坐标相应拉长。"
   ]
  },
  {
   "cell_type": "markdown",
   "metadata": {},
   "source": [
    "<img src='images/16.png'/>\n"
   ]
  },
  {
   "cell_type": "markdown",
   "metadata": {},
   "source": [
    "图像的放大与缩小：变换矩阵是一个对角矩阵。"
   ]
  },
  {
   "cell_type": "markdown",
   "metadata": {},
   "source": [
    "<img src='images/17.png'/>\n"
   ]
  },
  {
   "cell_type": "markdown",
   "metadata": {},
   "source": [
    "旋转操作对应的变换矩阵是没有特征值和特征向量的。"
   ]
  },
  {
   "cell_type": "markdown",
   "metadata": {},
   "source": [
    "<img src='images/18.png'/>\n"
   ]
  },
  {
   "cell_type": "markdown",
   "metadata": {},
   "source": [
    "特征值用于因式分解："
   ]
  },
  {
   "cell_type": "markdown",
   "metadata": {},
   "source": [
    "<img src='images/19.png'/>\n"
   ]
  },
  {
   "cell_type": "markdown",
   "metadata": {},
   "source": [
    "相似对角化的解释："
   ]
  },
  {
   "cell_type": "markdown",
   "metadata": {},
   "source": [
    "<img src='images/20.png'/>\n"
   ]
  },
  {
   "cell_type": "markdown",
   "metadata": {},
   "source": [
    "<img src='images/22.png'/>\n"
   ]
  },
  {
   "cell_type": "markdown",
   "metadata": {},
   "source": [
    "<img src='images/23.png'/>\n"
   ]
  },
  {
   "cell_type": "markdown",
   "metadata": {},
   "source": [
    "<img src='images/24.png'/>\n"
   ]
  },
  {
   "cell_type": "markdown",
   "metadata": {},
   "source": [
    "在任何坐标系下，变换前后的坐标不会变，只是基向量在变。根据变换后的基向量(这个基向量是相对于原来坐标系而言的)就可以知道变换后的向量在原坐标系中的坐标。"
   ]
  },
  {
   "cell_type": "markdown",
   "metadata": {},
   "source": [
    "# 矩阵与线性变换"
   ]
  },
  {
   "cell_type": "markdown",
   "metadata": {},
   "source": [
    "<img src='images/25.png'/>\n"
   ]
  },
  {
   "cell_type": "markdown",
   "metadata": {},
   "source": [
    "变换前后只是所乘的基向量不同。"
   ]
  },
  {
   "cell_type": "markdown",
   "metadata": {},
   "source": [
    "<img src='images/26.png'/>\n"
   ]
  },
  {
   "cell_type": "markdown",
   "metadata": {},
   "source": [
    "<img src='images/27.png'/>\n"
   ]
  },
  {
   "cell_type": "markdown",
   "metadata": {},
   "source": [
    "<img src='images/28.png'/>\n"
   ]
  },
  {
   "cell_type": "markdown",
   "metadata": {},
   "source": [
    "$\n",
    "\\begin{pmatrix}\n",
    "a\\\\\n",
    "c\n",
    "\\end{pmatrix}$与$\n",
    "\\begin{pmatrix}\n",
    "b\\\\\n",
    "d\n",
    "\\end{pmatrix}$其实是变换后的坐标系的基向量。下面解释的是矩阵乘法。原坐标系中的向量$\n",
    "\\begin{pmatrix}\n",
    "x\\\\\n",
    "y\n",
    "\\end{pmatrix}经过基变换，在变换后的坐标系上的坐标。\n",
    "$\n",
    "我们将\n",
    "<font color='#f0110c' size=4>矩阵的乘法看做是基向量的一个线性变换</font>。"
   ]
  },
  {
   "cell_type": "markdown",
   "metadata": {},
   "source": [
    "<img src='images/29.png'/>\n"
   ]
  },
  {
   "cell_type": "markdown",
   "metadata": {},
   "source": [
    "逆时针旋转$90^。$的变换矩阵(变换后的基向量)，可见这个变换后的基向量是相对与原来坐标系而言的。"
   ]
  },
  {
   "cell_type": "markdown",
   "metadata": {},
   "source": [
    "<img src='images/30.png'/>\n"
   ]
  },
  {
   "cell_type": "markdown",
   "metadata": {},
   "source": [
    "<img src='images/31.png'/>\n"
   ]
  },
  {
   "cell_type": "markdown",
   "metadata": {},
   "source": [
    "对<font color='#f0110c' size=4>矩阵的乘法看做是基向量的一个线性变换</font>的一个理解："
   ]
  },
  {
   "cell_type": "markdown",
   "metadata": {},
   "source": [
    "假设存在一个矩阵\n",
    "$\n",
    "\\begin{pmatrix}\n",
    "1 & 3\\\\\n",
    "2 & 1\n",
    "\\end{pmatrix}\n",
    "$\n",
    "。首先将第一个基向量移动到(1,2),再将另一个基向量移动到(3,1)"
   ]
  },
  {
   "cell_type": "markdown",
   "metadata": {},
   "source": [
    "<img src='images/33.png'/>\n",
    "<img src='images/32.png'/>\n"
   ]
  },
  {
   "cell_type": "markdown",
   "metadata": {},
   "source": [
    "如果连个基向量是线性相关的，变换后的坐标系将会变成一个直线。"
   ]
  },
  {
   "cell_type": "markdown",
   "metadata": {},
   "source": [
    "<img src='images/34.png'/>\n"
   ]
  },
  {
   "cell_type": "markdown",
   "metadata": {},
   "source": [
    ">线性变换是操纵空间的一种手段。它保持网格线(坐标系变换前后的坐标)平行且等距分布，并且保持原点不动。<br>\n",
    "矩阵与向量的乘法就是计算线性变换作用于给定向量的一种途径。"
   ]
  },
  {
   "cell_type": "markdown",
   "metadata": {},
   "source": [
    "# 矩阵乘法与线性变换"
   ]
  },
  {
   "cell_type": "markdown",
   "metadata": {},
   "source": [
    ">线性变换是将向量作为输入和输出的一类函数。形象地说，线性变换可以看做对空间的挤压与伸展，它保持网格线平行且等距分布，且原点不变。"
   ]
  },
  {
   "cell_type": "markdown",
   "metadata": {},
   "source": [
    "矩阵乘法可以想成多个变换的复合。比如先做rotation然后做shear，这两个变换可以复合成一个矩阵，复合的运算就是矩阵乘法。"
   ]
  },
  {
   "cell_type": "markdown",
   "metadata": {},
   "source": [
    "<img src='images/35.png'/>\n"
   ]
  },
  {
   "cell_type": "markdown",
   "metadata": {},
   "source": [
    "<img src='images/37.png'/>\n"
   ]
  },
  {
   "cell_type": "markdown",
   "metadata": {},
   "source": [
    "# 三维空间中的线性变换"
   ]
  },
  {
   "cell_type": "markdown",
   "metadata": {},
   "source": [
    "三维空间中的线性变换：以三维向量作为输入输出的变换。"
   ]
  },
  {
   "cell_type": "markdown",
   "metadata": {},
   "source": [
    "<img src='images/38.png'/>\n"
   ]
  },
  {
   "cell_type": "markdown",
   "metadata": {},
   "source": [
    "# 行列式"
   ]
  },
  {
   "cell_type": "markdown",
   "metadata": {},
   "source": [
    "行列式可以看做是经过这种变换(某个矩阵)后，面积缩小或增大的比例。<br>\n",
    "行列式为负的解释：可以想象一个连续的变换过程，图像面积被压缩，此时正面积不断减小，一直到0，继续变化，图像又被拉伸，出现负面积，绝对值加大。<br>\n",
    "三维行列式对应的是体积。"
   ]
  },
  {
   "cell_type": "markdown",
   "metadata": {},
   "source": [
    "# 逆矩阵，列空间，零空间"
   ]
  },
  {
   "cell_type": "markdown",
   "metadata": {},
   "source": [
    "**逆矩阵**就是变回原来坐标系的变换矩阵。**秩**可以理解为经过某个空间变换(乘以某个矩阵)得到的空间的维度。比如秩为2的三阶方阵$A$就是将空间压缩为2维。变换后落在原点的向量的集合被称为矩阵的**零空间**或**核**。"
   ]
  },
  {
   "cell_type": "markdown",
   "metadata": {},
   "source": [
    "# 非方阵"
   ]
  },
  {
   "cell_type": "markdown",
   "metadata": {},
   "source": [
    "对于一个\n",
    "$\n",
    "\\begin{pmatrix}\n",
    "3 & 1 \\\\\n",
    "4 & 1 \\\\ \n",
    "5 & 9 \\\\\n",
    "\\end{pmatrix}\n",
    "$\n",
    "矩阵而言，它的几何意义是：将二维空间映射到三维空间上。矩阵有两列表明输入空间有连个基向量；有三行表明每一个基向量在变换后都用三个独立的坐标来描述。<br>\n",
    "对于\n",
    "$\n",
    "\\begin{pmatrix}\n",
    "3 & 1 & 4 \\\\\n",
    "1 & 5 & 9\n",
    "\\end{pmatrix}\n",
    "$\n",
    "矩阵有三列表明原始空间有三个基向量(原始空间是三维的)，有两行表明这三个基向量在变换后都仅用两个坐标来描述。"
   ]
  },
  {
   "cell_type": "markdown",
   "metadata": {},
   "source": [
    "<img src='images/39.png'/>\n"
   ]
  },
  {
   "cell_type": "markdown",
   "metadata": {},
   "source": [
    "<img src='images/42.png'/>\n"
   ]
  },
  {
   "cell_type": "markdown",
   "metadata": {},
   "source": [
    "<img src='images/44.png'/>\n",
    "变换后：\n",
    "<img src='images/45.png'/>\n"
   ]
  },
  {
   "cell_type": "markdown",
   "metadata": {},
   "source": [
    "其变换矩阵为："
   ]
  },
  {
   "cell_type": "markdown",
   "metadata": {},
   "source": [
    "<img src='images/41.png'/>"
   ]
  },
  {
   "cell_type": "markdown",
   "metadata": {},
   "source": [
    "# 点积与对偶性"
   ]
  },
  {
   "cell_type": "markdown",
   "metadata": {},
   "source": [
    "点积的几何意义：向量w在向量v上的投影长度$\\times$向量v的长度=$\\vec v \\centerdot \\vec w$"
   ]
  },
  {
   "cell_type": "markdown",
   "metadata": {},
   "source": [
    "<img src='images/46.png'/>\n"
   ]
  },
  {
   "cell_type": "markdown",
   "metadata": {},
   "source": [
    "<img src='images/48.png'/>\n"
   ]
  },
  {
   "cell_type": "markdown",
   "metadata": {},
   "source": [
    "<img src='images/50.png'/>\n",
    "<img src='images/51.png'/>\n",
    "<img src='images/52.png'/>\n"
   ]
  },
  {
   "attachments": {
    "image.png": {
     "image/png": "[encoded data removed]"
    }
   },
   "cell_type": "markdown",
   "metadata": {},
   "source": [
    "点积运算可以交换顺序，很神奇，从途中不能之间看出两组红色弧线所指的线段长度乘积是相等的。\n",
    "![image.png](attachment:image.png)"
   ]
  },
  {
   "cell_type": "markdown",
   "metadata": {},
   "source": [
    "下面给出解释：<br>\n",
    "从下图中可以看到长度相等的两个向量的点积与其顺序是无关的。即$\\vec w \\centerdot \\vec v=\\vec v \\centerdot \\vec w$如果将一个缩放或扩大若干倍，该向量的投影也会变化相同的倍数，所以$(2\\vec v)\\centerdot \\vec w=2(\\vec v \\centerdot \\vec w)$，同样地，$\\vec w\\centerdot (\\vec{2v})=2(\\vec w \\centerdot \\vec v)$故$(2\\vec v)\\centerdot \\vec w=\\vec w\\centerdot (\\vec{2v})$，即点积与元素顺序无关。"
   ]
  },
  {
   "cell_type": "markdown",
   "metadata": {},
   "source": [
    "<img src='images/53.png'/>\n"
   ]
  },
  {
   "cell_type": "markdown",
   "metadata": {},
   "source": [
    "为什么对应坐标想成并将结果相加 与 投影有关系？"
   ]
  },
  {
   "cell_type": "markdown",
   "metadata": {},
   "source": [
    "<img src='images/54.png'/>\n"
   ]
  },
  {
   "cell_type": "markdown",
   "metadata": {},
   "source": [
    "假设$\\hat{u}$是一个二维空间中的单位向量，且恰巧落在数轴上。假设存在一个投影矩阵，它可以将二维中的向量投影到某个一维数轴上。这个投影矩阵的确定方法包含对称性的思想。"
   ]
  },
  {
   "cell_type": "markdown",
   "metadata": {},
   "source": [
    "<img src='images/55.png'/>\n",
    "<img src='images/56.png'/>\n"
   ]
  },
  {
   "cell_type": "markdown",
   "metadata": {},
   "source": [
    "我们将原始空间中的两个基向量投影到数轴上。投影的值就是该变换矩阵。"
   ]
  },
  {
   "cell_type": "markdown",
   "metadata": {},
   "source": [
    "<img src='images/57.png'/>\n"
   ]
  },
  {
   "cell_type": "markdown",
   "metadata": {},
   "source": [
    "$\\hat{i},\\hat{u}$都是单位向量，所以$\\hat u$在$\\hat i$上的投影与$\\hat i$在$\\hat u$上的投影长度是相等的。"
   ]
  },
  {
   "cell_type": "markdown",
   "metadata": {},
   "source": [
    "<img src='images/59.png'/>\n",
    "<img src='images/60.png'/>\n",
    "$\n",
    "\\begin{pmatrix}\n",
    "x\\\\\n",
    "y\n",
    "\\end{pmatrix}\n",
    "$是二维空间中的任意一个向量。它在该数轴上的位置由变换矩阵完成。\n",
    "下面这个矩阵乘法可以理解为二维空间向量在$\\hat u$方向上的投影长度。"
   ]
  },
  {
   "cell_type": "markdown",
   "metadata": {},
   "source": [
    "<img src='images/61.png'/>"
   ]
  },
  {
   "cell_type": "markdown",
   "metadata": {},
   "source": [
    "对于非单位向量\n",
    "$\n",
    "\\begin{pmatrix}\n",
    "3u_x\\\\\n",
    "3u_y\n",
    "\\end{pmatrix}\n",
    "$\n",
    "它相当与将单位向量扩大3倍(这个非单位向量的长度)而已。"
   ]
  },
  {
   "cell_type": "markdown",
   "metadata": {},
   "source": [
    "<img src='images/62.png'/>\n"
   ]
  },
  {
   "cell_type": "markdown",
   "metadata": {},
   "source": [
    "<img src='images/63.png'/>\n"
   ]
  },
  {
   "cell_type": "markdown",
   "metadata": {},
   "source": [
    "为什么是两者长度之积呢？\n",
    "$\n",
    "\\begin{pmatrix}\n",
    "3u_x\\\\\n",
    "3u_y\n",
    "\\end{pmatrix}\n",
    "\\centerdot\n",
    "\\begin{pmatrix}\n",
    "x\\\\\n",
    "y\n",
    "\\end{pmatrix}=\n",
    "3\n",
    "\\begin{pmatrix}\n",
    "u_x\\\\\n",
    "u_y\n",
    "\\end{pmatrix}\n",
    "\\centerdot\n",
    "\\begin{pmatrix}\n",
    "x\\\\\n",
    "y\n",
    "\\end{pmatrix}\n",
    "$\n",
    "而\n",
    "$\n",
    "\\begin{pmatrix}\n",
    "u_x\\\\\n",
    "u_y\n",
    "\\end{pmatrix}\n",
    "\\centerdot\n",
    "\\begin{pmatrix}\n",
    "x\\\\\n",
    "y\n",
    "\\end{pmatrix}\n",
    "$可以解释为二维向量在向量\n",
    "$\n",
    "\\begin{pmatrix}\n",
    "x\\\\y\n",
    "\\end{pmatrix}\n",
    "$方向上的投影长度。3就是矩阵\n",
    "$\n",
    "\\begin{pmatrix}\n",
    "3u_x\\\\3u_y\n",
    "\\end{pmatrix}\n",
    "$的长度。<br>\n",
    "$\n",
    "\\begin{pmatrix}\n",
    "u_x\\\\y_x\n",
    "\\end{pmatrix}\n",
    "$\n",
    "其实是数轴上的单位向量。而任何数轴上的向量都可由单位向量和有个数的乘积来表示。"
   ]
  },
  {
   "cell_type": "markdown",
   "metadata": {},
   "source": [
    "<img src='images/64.png'/>\n"
   ]
  },
  {
   "cell_type": "markdown",
   "metadata": {},
   "source": [
    "<img src='images/65.png'/>\n"
   ]
  },
  {
   "cell_type": "markdown",
   "metadata": {},
   "source": [
    "# 叉积的标准介绍"
   ]
  },
  {
   "cell_type": "markdown",
   "metadata": {},
   "source": [
    "<img src='images/66.png'/>\n",
    "<img src='images/67.png'/>\n",
    "<img src='images/68.png'/>\n"
   ]
  },
  {
   "cell_type": "markdown",
   "metadata": {},
   "source": [
    "叉积的这种顺序性也是由基向量来定义的。\n",
    "<img src='images/280.png'/>\n"
   ]
  },
  {
   "cell_type": "markdown",
   "metadata": {},
   "source": [
    "叉积就是行列式\n",
    "<img src='images/282.png'/>\n"
   ]
  },
  {
   "cell_type": "markdown",
   "metadata": {},
   "source": [
    "当两个向量互相垂直时，叉积最大。"
   ]
  },
  {
   "cell_type": "markdown",
   "metadata": {},
   "source": [
    "<img src='images/283.png'/>\n"
   ]
  },
  {
   "cell_type": "markdown",
   "metadata": {},
   "source": [
    "严格意义上，真正的叉积是通过两个三维向量生成一个新的三维向量$\\vec p$。下图中棕色向量和粉色向量的图像面积就是，生成的三维向量的长度且$\\vec p$垂直与另外两个向量。与这两个向量垂直的向量有两个，它们反向，具体哪一个可以根据右手准则来判断。"
   ]
  },
  {
   "cell_type": "markdown",
   "metadata": {},
   "source": [
    "<img src='images/284.png'/>\n"
   ]
  },
  {
   "cell_type": "markdown",
   "metadata": {},
   "source": [
    "假设\n",
    "$\\vec v =\n",
    "\\begin{pmatrix}\n",
    "0\\\\0\\\\2\n",
    "\\end{pmatrix}\n",
    "\\vec w =\n",
    "\\begin{pmatrix}\n",
    "0\\\\2\\\\0\n",
    "\\end{pmatrix}\n",
    "$其生成的面积为4，红色向量就是其叉积。因此$\\vec v \\times \\vec w=\n",
    "\\begin{pmatrix}\n",
    "-4\\\\0\\\\0\n",
    "\\end{pmatrix}\n",
    "$"
   ]
  },
  {
   "cell_type": "markdown",
   "metadata": {},
   "source": [
    "<img src='images/285.png'/>\n"
   ]
  },
  {
   "cell_type": "markdown",
   "metadata": {},
   "source": [
    "<img src='images/287.png'/>\n"
   ]
  },
  {
   "cell_type": "markdown",
   "metadata": {},
   "source": [
    "两个三维向量的计算方法："
   ]
  },
  {
   "cell_type": "markdown",
   "metadata": {},
   "source": [
    "<img src='images/288.png'/>\n"
   ]
  },
  {
   "cell_type": "markdown",
   "metadata": {},
   "source": [
    "# 以线性变换的眼光看叉积"
   ]
  },
  {
   "cell_type": "markdown",
   "metadata": {},
   "source": [
    "<img src='images/289.png'/>\n"
   ]
  },
  {
   "cell_type": "markdown",
   "metadata": {},
   "source": [
    "每一个多维空间到数轴的线性变换都与这个多维空间中的唯一一个向量对应，这个向量称为这个变换的对偶向量。"
   ]
  },
  {
   "cell_type": "markdown",
   "metadata": {},
   "source": [
    "定义一个从三维空间到数轴的特定线性变换，并且它是根据向量$\\vec v, \\vec w$来定义的，然后当将这个变换与三维空间中的对偶向量关联时，这个对偶向量就是$\\vec v与\\vec w$的叉积。"
   ]
  },
  {
   "cell_type": "markdown",
   "metadata": {},
   "source": [
    "真正的三维向量的叉积接收两个向量并输出一个向量，并不是接收三个向量输出一个数。下面的这个式子并不是真正的叉积。"
   ]
  },
  {
   "cell_type": "markdown",
   "metadata": {},
   "source": [
    "$$\n",
    "\\vec u \\times \\vec v \\times w =\n",
    "det\n",
    "\\left (\n",
    "\\begin{bmatrix}\n",
    "u_1 & v_1 & w_1\\\\\n",
    "u_2 & v_2 & w_2\\\\\n",
    "u_3 & v_3 & w_3\n",
    "\\end{bmatrix}\n",
    "\\right )\n",
    "$$"
   ]
  },
  {
   "cell_type": "markdown",
   "metadata": {},
   "source": [
    "将第一个向量$\\vec u$看做可变向量，而$\\vec v, \\vec w$保持不变，那么这个f函数就是一个从三维空间到数轴的函数了。输入一个三维向量，通过行列式运算得到一个数。该函数实际上是在计算以向量$\\vec v, \\vec w$与输入向量所组成平行6面体的体积。"
   ]
  },
  {
   "cell_type": "markdown",
   "metadata": {},
   "source": [
    "$$\n",
    "f\n",
    "\\left (\n",
    "\\begin{bmatrix}\n",
    "x\\\\\n",
    "y\\\\\n",
    "z\n",
    "\\end{bmatrix}\n",
    "\\right )=\n",
    "det\n",
    "\\left (\n",
    "\\begin{bmatrix}\n",
    "x & v_1 & w_1\\\\\n",
    "y & v_2 & w_2\\\\\n",
    "z & v_3 & w_3\n",
    "\\end{bmatrix}\n",
    "\\right )  \n",
    "\\tag{1}\n",
    "$$"
   ]
  },
  {
   "cell_type": "markdown",
   "metadata": {},
   "source": [
    "<img src='images/290.png'/>\n"
   ]
  },
  {
   "cell_type": "markdown",
   "metadata": {},
   "source": [
    "由于函数f是线性的，故(1)可以通过矩阵乘法来描述："
   ]
  },
  {
   "cell_type": "markdown",
   "metadata": {},
   "source": [
    "<img src='images/291.png'/>\n"
   ]
  },
  {
   "cell_type": "markdown",
   "metadata": {},
   "source": [
    "它与下面这个公式是等价的：向量乘积转化为向量点积"
   ]
  },
  {
   "cell_type": "markdown",
   "metadata": {},
   "source": [
    "<img src='images/292.png'/>\n"
   ]
  },
  {
   "cell_type": "markdown",
   "metadata": {},
   "source": [
    "<img src='images/294.png'/>\n",
    "<img src='images/295.png'/>\n"
   ]
  },
  {
   "cell_type": "markdown",
   "metadata": {},
   "source": [
    "即向量$\\vec p=\\vec v \\times \\vec w$。这种变换不是任意的，因为向量$\\vec p$是由$\\vec v, \\vec w$确定的。"
   ]
  },
  {
   "cell_type": "markdown",
   "metadata": {},
   "source": [
    "---"
   ]
  },
  {
   "cell_type": "markdown",
   "metadata": {},
   "source": [
    "当$\\vec p与\n",
    "\\begin{bmatrix}\n",
    "x\\\\y\\\\z\n",
    "\\end{bmatrix}\n",
    "$做点积时，所得结果等于一个由(x,y,z)和v，w确定的平行六面体的有向体积。"
   ]
  },
  {
   "cell_type": "markdown",
   "metadata": {},
   "source": [
    "记住一点$\\vec p \\centerdot \n",
    "\\begin{bmatrix}\n",
    "x\\\\y\\\\z\n",
    "\\end{bmatrix}=\\vec p$的长度乘以$\\vec p$在\n",
    "$\n",
    "\\begin{bmatrix}\n",
    "x\\\\y\\\\z\n",
    "\\end{bmatrix}\n",
    "$上的投影长度。而$\\vec p=\\vec v \\times \\vec w$，而$\\vec p$的长度就是$\\vec v与\\vec w构成的平行四边形的面积$。这也就解释了为什么三阶行列式是体积。"
   ]
  },
  {
   "cell_type": "markdown",
   "metadata": {},
   "source": [
    "<img src='images/296.png'/>\n"
   ]
  },
  {
   "cell_type": "markdown",
   "metadata": {},
   "source": [
    "红色的向量是由底面两个向量确定的，且垂直与底面。红色向量上的灰色向量是向量$\\vec p$在红色向量上的投影。"
   ]
  },
  {
   "cell_type": "markdown",
   "metadata": {},
   "source": [
    "<img src='images/297.png'/>\n"
   ]
  },
  {
   "cell_type": "markdown",
   "metadata": {},
   "source": [
    "$\\vec p$是由$\\vec v与\\vec w$的叉积得到的，这就是叉积的几何解释。"
   ]
  },
  {
   "cell_type": "markdown",
   "metadata": {},
   "source": []
  },
  {
   "cell_type": "markdown",
   "metadata": {},
   "source": []
  },
  {
   "cell_type": "markdown",
   "metadata": {},
   "source": []
  },
  {
   "cell_type": "markdown",
   "metadata": {},
   "source": []
  }
 ],
 "metadata": {
  "kernelspec": {
   "display_name": "Python 3",
   "language": "python",
   "name": "python3"
  },
  "language_info": {
   "codemirror_mode": {
    "name": "ipython",
    "version": 3
   },
   "file_extension": ".py",
   "mimetype": "text/x-python",
   "name": "python",
   "nbconvert_exporter": "python",
   "pygments_lexer": "ipython3",
   "version": "3.6.8"
  },
  "toc": {
   "base_numbering": 1,
   "nav_menu": {},
   "number_sections": true,
   "sideBar": true,
   "skip_h1_title": false,
   "title_cell": "Table of Contents",
   "title_sidebar": "Contents",
   "toc_cell": false,
   "toc_position": {},
   "toc_section_display": true,
   "toc_window_display": false
  }
 },
 "nbformat": 4,
 "nbformat_minor": 2
}
